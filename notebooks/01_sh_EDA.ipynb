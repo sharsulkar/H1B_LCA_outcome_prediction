{
  "nbformat": 4,
  "nbformat_minor": 0,
  "metadata": {
    "language_info": {
      "codemirror_mode": {
        "name": "ipython",
        "version": 3
      },
      "file_extension": ".py",
      "mimetype": "text/x-python",
      "name": "python",
      "nbconvert_exporter": "python",
      "pygments_lexer": "ipython3",
      "version": "3.8.6-final"
    },
    "orig_nbformat": 2,
    "kernelspec": {
      "name": "python38664bit386pyenvc0ddc9e4a00a47318b3ba5383417003e",
      "display_name": "Python 3.8.6 64-bit ('3.8.6': pyenv)"
    },
    "colab": {
      "name": "01_sh_EDA.ipynb",
      "provenance": [],
      "toc_visible": true,
      "include_colab_link": true
    }
  },
  "cells": [
    {
      "cell_type": "markdown",
      "metadata": {
        "id": "view-in-github",
        "colab_type": "text"
      },
      "source": [
        "<a href=\"https://colab.research.google.com/github/sharsulkar/H1B_LCA_outcome_prediction/blob/main/notebooks/01_sh_EDA.ipynb\" target=\"_parent\"><img src=\"https://colab.research.google.com/assets/colab-badge.svg\" alt=\"Open In Colab\"/></a>"
      ]
    },
    {
      "cell_type": "code",
      "metadata": {
        "id": "uFSxtNJh7_sU"
      },
      "source": [
        "import numpy as np\n",
        "import pandas as pd\n",
        "import matplotlib.pyplot as plt"
      ],
      "execution_count": null,
      "outputs": []
    },
    {
      "cell_type": "markdown",
      "metadata": {
        "id": "XVcLpEoVjzwv"
      },
      "source": [
        "## Data Import, backup copy and memory usage"
      ]
    },
    {
      "cell_type": "code",
      "metadata": {
        "colab": {
          "base_uri": "https://localhost:8080/"
        },
        "id": "xDFT05_v7_sl",
        "outputId": "926eb2a6-c20d-468d-c0b4-fe4744589c9d"
      },
      "source": [
        "#metadata - \n",
        "data=pd.read_excel('https://www.dol.gov/sites/dolgov/files/ETA/oflc/pdfs/LCA_Disclosure_Data_FY2020_Q2.xlsx')\n",
        "#data=pd.read_excel('https://www.dol.gov/sites/dolgov/files/ETA/oflc/pdfs/PERM_Disclosure_Data_FY2019.xlsx')"
      ],
      "execution_count": null,
      "outputs": [
        {
          "output_type": "stream",
          "text": [
            "CPU times: user 3 µs, sys: 0 ns, total: 3 µs\n",
            "Wall time: 6.91 µs\n"
          ],
          "name": "stdout"
        }
      ]
    },
    {
      "cell_type": "code",
      "metadata": {
        "id": "GNjDv-xbX3JF",
        "colab": {
          "base_uri": "https://localhost:8080/"
        },
        "outputId": "4605df75-7b1e-43bf-fbde-1202c1fbb29a"
      },
      "source": [
        "data.info(verbose=False,memory_usage='deep')"
      ],
      "execution_count": null,
      "outputs": [
        {
          "output_type": "stream",
          "text": [
            "<class 'pandas.core.frame.DataFrame'>\n",
            "RangeIndex: 157173 entries, 0 to 157172\n",
            "Columns: 96 entries, CASE_NUMBER to PREPARER_EMAIL\n",
            "dtypes: datetime64[ns](5), float64(10), int64(10), object(71)\n",
            "memory usage: 634.9 MB\n"
          ],
          "name": "stdout"
        }
      ]
    },
    {
      "cell_type": "code",
      "metadata": {
        "colab": {
          "base_uri": "https://localhost:8080/",
          "height": 516
        },
        "id": "zk7BD65x7_so",
        "outputId": "d0d84d12-3207-4ee9-eeb3-802da5b08577"
      },
      "source": [
        "data.head()"
      ],
      "execution_count": null,
      "outputs": [
        {
          "output_type": "execute_result",
          "data": {
            "text/html": [
              "<div>\n",
              "<style scoped>\n",
              "    .dataframe tbody tr th:only-of-type {\n",
              "        vertical-align: middle;\n",
              "    }\n",
              "\n",
              "    .dataframe tbody tr th {\n",
              "        vertical-align: top;\n",
              "    }\n",
              "\n",
              "    .dataframe thead th {\n",
              "        text-align: right;\n",
              "    }\n",
              "</style>\n",
              "<table border=\"1\" class=\"dataframe\">\n",
              "  <thead>\n",
              "    <tr style=\"text-align: right;\">\n",
              "      <th></th>\n",
              "      <th>CASE_NUMBER</th>\n",
              "      <th>CASE_STATUS</th>\n",
              "      <th>RECEIVED_DATE</th>\n",
              "      <th>DECISION_DATE</th>\n",
              "      <th>ORIGINAL_CERT_DATE</th>\n",
              "      <th>VISA_CLASS</th>\n",
              "      <th>JOB_TITLE</th>\n",
              "      <th>SOC_CODE</th>\n",
              "      <th>SOC_TITLE</th>\n",
              "      <th>FULL_TIME_POSITION</th>\n",
              "      <th>BEGIN_DATE</th>\n",
              "      <th>END_DATE</th>\n",
              "      <th>TOTAL_WORKER_POSITIONS</th>\n",
              "      <th>NEW_EMPLOYMENT</th>\n",
              "      <th>CONTINUED_EMPLOYMENT</th>\n",
              "      <th>CHANGE_PREVIOUS_EMPLOYMENT</th>\n",
              "      <th>NEW_CONCURRENT_EMPLOYMENT</th>\n",
              "      <th>CHANGE_EMPLOYER</th>\n",
              "      <th>AMENDED_PETITION</th>\n",
              "      <th>EMPLOYER_NAME</th>\n",
              "      <th>TRADE_NAME_DBA</th>\n",
              "      <th>EMPLOYER_ADDRESS1</th>\n",
              "      <th>EMPLOYER_ADDRESS2</th>\n",
              "      <th>EMPLOYER_CITY</th>\n",
              "      <th>EMPLOYER_STATE</th>\n",
              "      <th>EMPLOYER_POSTAL_CODE</th>\n",
              "      <th>EMPLOYER_COUNTRY</th>\n",
              "      <th>EMPLOYER_PROVINCE</th>\n",
              "      <th>EMPLOYER_PHONE</th>\n",
              "      <th>EMPLOYER_PHONE_EXT</th>\n",
              "      <th>NAICS_CODE</th>\n",
              "      <th>EMPLOYER_POC_LAST_NAME</th>\n",
              "      <th>EMPLOYER_POC_FIRST_NAME</th>\n",
              "      <th>EMPLOYER_POC_MIDDLE_NAME</th>\n",
              "      <th>EMPLOYER_POC_JOB_TITLE</th>\n",
              "      <th>EMPLOYER_POC_ADDRESS1</th>\n",
              "      <th>EMPLOYER_POC_ADDRESS2</th>\n",
              "      <th>EMPLOYER_POC_CITY</th>\n",
              "      <th>EMPLOYER_POC_STATE</th>\n",
              "      <th>EMPLOYER_POC_POSTAL_CODE</th>\n",
              "      <th>...</th>\n",
              "      <th>AGENT_ATTORNEY_PHONE</th>\n",
              "      <th>AGENT_ATTORNEY_PHONE_EXT</th>\n",
              "      <th>AGENT_ATTORNEY_EMAIL_ADDRESS</th>\n",
              "      <th>LAWFIRM_NAME_BUSINESS_NAME</th>\n",
              "      <th>STATE_OF_HIGHEST_COURT</th>\n",
              "      <th>NAME_OF_HIGHEST_STATE_COURT</th>\n",
              "      <th>WORKSITE_WORKERS</th>\n",
              "      <th>SECONDARY_ENTITY</th>\n",
              "      <th>SECONDARY_ENTITY_BUSINESS_NAME</th>\n",
              "      <th>WORKSITE_ADDRESS1</th>\n",
              "      <th>WORKSITE_ADDRESS2</th>\n",
              "      <th>WORKSITE_CITY</th>\n",
              "      <th>WORKSITE_COUNTY</th>\n",
              "      <th>WORKSITE_STATE</th>\n",
              "      <th>WORKSITE_POSTAL_CODE</th>\n",
              "      <th>WAGE_RATE_OF_PAY_FROM</th>\n",
              "      <th>WAGE_RATE_OF_PAY_TO</th>\n",
              "      <th>WAGE_UNIT_OF_PAY</th>\n",
              "      <th>PREVAILING_WAGE</th>\n",
              "      <th>PW_UNIT_OF_PAY</th>\n",
              "      <th>PW_TRACKING_NUMBER</th>\n",
              "      <th>PW_WAGE_LEVEL</th>\n",
              "      <th>PW_OES_YEAR</th>\n",
              "      <th>PW_OTHER_SOURCE</th>\n",
              "      <th>PW_OTHER_YEAR</th>\n",
              "      <th>PW_SURVEY_PUBLISHER</th>\n",
              "      <th>PW_SURVEY_NAME</th>\n",
              "      <th>TOTAL_WORKSITE_LOCATIONS</th>\n",
              "      <th>AGREE_TO_LC_STATEMENT</th>\n",
              "      <th>H-1B_DEPENDENT</th>\n",
              "      <th>WILLFUL_VIOLATOR</th>\n",
              "      <th>SUPPORT_H1B</th>\n",
              "      <th>STATUTORY_BASIS</th>\n",
              "      <th>APPENDIX_A_ATTACHED</th>\n",
              "      <th>PUBLIC_DISCLOSURE</th>\n",
              "      <th>PREPARER_LAST_NAME</th>\n",
              "      <th>PREPARER_FIRST_NAME</th>\n",
              "      <th>PREPARER_MIDDLE_INITIAL</th>\n",
              "      <th>PREPARER_BUSINESS_NAME</th>\n",
              "      <th>PREPARER_EMAIL</th>\n",
              "    </tr>\n",
              "  </thead>\n",
              "  <tbody>\n",
              "    <tr>\n",
              "      <th>0</th>\n",
              "      <td>I-200-19357-214767</td>\n",
              "      <td>Certified</td>\n",
              "      <td>2019-12-23</td>\n",
              "      <td>2020-01-01</td>\n",
              "      <td>NaT</td>\n",
              "      <td>H-1B</td>\n",
              "      <td>Senior Systems Analyst JC60</td>\n",
              "      <td>15-1121.00</td>\n",
              "      <td>Computer Systems Analysts</td>\n",
              "      <td>Y</td>\n",
              "      <td>2020-01-01</td>\n",
              "      <td>2022-12-31</td>\n",
              "      <td>1</td>\n",
              "      <td>0</td>\n",
              "      <td>1</td>\n",
              "      <td>0</td>\n",
              "      <td>0</td>\n",
              "      <td>0</td>\n",
              "      <td>0</td>\n",
              "      <td>COGNIZANT TECHNOLOGY SOLUTIONS US CORP</td>\n",
              "      <td>CTSUS</td>\n",
              "      <td>211 QUALITY CIRCLE</td>\n",
              "      <td>NaN</td>\n",
              "      <td>COLLEGE STATION</td>\n",
              "      <td>TX</td>\n",
              "      <td>77845</td>\n",
              "      <td>UNITED STATES OF AMERICA</td>\n",
              "      <td>NaN</td>\n",
              "      <td>19793296682</td>\n",
              "      <td>NaN</td>\n",
              "      <td>541512</td>\n",
              "      <td>CHANDRASEKARAN</td>\n",
              "      <td>SABARISH</td>\n",
              "      <td>NaN</td>\n",
              "      <td>ASSOCIATE DIRECTOR</td>\n",
              "      <td>211 QUALITY CIRCLE</td>\n",
              "      <td>NaN</td>\n",
              "      <td>COLLEGE STATION</td>\n",
              "      <td>TX</td>\n",
              "      <td>77845</td>\n",
              "      <td>...</td>\n",
              "      <td>NaN</td>\n",
              "      <td>NaN</td>\n",
              "      <td>NaN</td>\n",
              "      <td>NaN</td>\n",
              "      <td>NaN</td>\n",
              "      <td>NaN</td>\n",
              "      <td>1.0</td>\n",
              "      <td>Y</td>\n",
              "      <td>Computershare Inc</td>\n",
              "      <td>480, Washington Boulevard, Floor 26</td>\n",
              "      <td>NaN</td>\n",
              "      <td>Jersey City</td>\n",
              "      <td>HUDSON</td>\n",
              "      <td>NJ</td>\n",
              "      <td>7310</td>\n",
              "      <td>92435.00</td>\n",
              "      <td>NaN</td>\n",
              "      <td>Year</td>\n",
              "      <td>92435.00</td>\n",
              "      <td>Year</td>\n",
              "      <td>NaN</td>\n",
              "      <td>II</td>\n",
              "      <td>7/1/2019 - 6/30/2020</td>\n",
              "      <td>NaN</td>\n",
              "      <td>NaN</td>\n",
              "      <td>NaN</td>\n",
              "      <td>NaN</td>\n",
              "      <td>1.0</td>\n",
              "      <td>Y</td>\n",
              "      <td>Y</td>\n",
              "      <td>N</td>\n",
              "      <td>Y</td>\n",
              "      <td>WAGE</td>\n",
              "      <td>NaN</td>\n",
              "      <td>Disclose Business</td>\n",
              "      <td>NaN</td>\n",
              "      <td>NaN</td>\n",
              "      <td>NaN</td>\n",
              "      <td>NaN</td>\n",
              "      <td>lca.immigration@cognizant.com</td>\n",
              "    </tr>\n",
              "    <tr>\n",
              "      <th>1</th>\n",
              "      <td>I-200-19357-214772</td>\n",
              "      <td>Certified</td>\n",
              "      <td>2019-12-23</td>\n",
              "      <td>2020-01-01</td>\n",
              "      <td>NaT</td>\n",
              "      <td>H-1B</td>\n",
              "      <td>Hardware Engineer</td>\n",
              "      <td>17-2072.00</td>\n",
              "      <td>Electronics Engineers, Except Computer</td>\n",
              "      <td>Y</td>\n",
              "      <td>2020-06-16</td>\n",
              "      <td>2023-06-15</td>\n",
              "      <td>30</td>\n",
              "      <td>5</td>\n",
              "      <td>5</td>\n",
              "      <td>5</td>\n",
              "      <td>5</td>\n",
              "      <td>5</td>\n",
              "      <td>5</td>\n",
              "      <td>SYNOPSYS, INC.</td>\n",
              "      <td>NaN</td>\n",
              "      <td>690 E. Middlefield Rd</td>\n",
              "      <td>NaN</td>\n",
              "      <td>Mountain View</td>\n",
              "      <td>CA</td>\n",
              "      <td>94043</td>\n",
              "      <td>UNITED STATES OF AMERICA</td>\n",
              "      <td>NaN</td>\n",
              "      <td>16505845000</td>\n",
              "      <td>NaN</td>\n",
              "      <td>541512</td>\n",
              "      <td>Nguyen</td>\n",
              "      <td>Beth</td>\n",
              "      <td>NaN</td>\n",
              "      <td>HUMAN RESOURCES MANAGER</td>\n",
              "      <td>690 EAST MIDDLEFIELD RD.</td>\n",
              "      <td>NaN</td>\n",
              "      <td>Mountain View</td>\n",
              "      <td>CA</td>\n",
              "      <td>94043</td>\n",
              "      <td>...</td>\n",
              "      <td>1.213625e+10</td>\n",
              "      <td>NaN</td>\n",
              "      <td>FLAG-LA@tsmimmigration.com</td>\n",
              "      <td>Tafapolsky Smith Mehlman LLP</td>\n",
              "      <td>CA</td>\n",
              "      <td>Supreme Court</td>\n",
              "      <td>30.0</td>\n",
              "      <td>N</td>\n",
              "      <td>NaN</td>\n",
              "      <td>690 East Middlefield Road</td>\n",
              "      <td>NaN</td>\n",
              "      <td>Mountain View</td>\n",
              "      <td>SANTA CLARA</td>\n",
              "      <td>CA</td>\n",
              "      <td>94043</td>\n",
              "      <td>113684.00</td>\n",
              "      <td>188684.0</td>\n",
              "      <td>Year</td>\n",
              "      <td>113684.00</td>\n",
              "      <td>Year</td>\n",
              "      <td>NaN</td>\n",
              "      <td>NaN</td>\n",
              "      <td>NaN</td>\n",
              "      <td>Survey</td>\n",
              "      <td>2019.0</td>\n",
              "      <td>Radford</td>\n",
              "      <td>Global Technology Survey (Hardware Development...</td>\n",
              "      <td>1.0</td>\n",
              "      <td>Y</td>\n",
              "      <td>N</td>\n",
              "      <td>N</td>\n",
              "      <td>NaN</td>\n",
              "      <td>NaN</td>\n",
              "      <td>NaN</td>\n",
              "      <td>Disclose Business</td>\n",
              "      <td>Zanetti</td>\n",
              "      <td>Lauren</td>\n",
              "      <td>B</td>\n",
              "      <td>Tafapolsky Smith Mehlman LLP</td>\n",
              "      <td>lauren.zanetti@tsmimmigration.com</td>\n",
              "    </tr>\n",
              "    <tr>\n",
              "      <th>2</th>\n",
              "      <td>I-200-19357-214781</td>\n",
              "      <td>Certified</td>\n",
              "      <td>2019-12-23</td>\n",
              "      <td>2020-01-01</td>\n",
              "      <td>NaT</td>\n",
              "      <td>H-1B</td>\n",
              "      <td>Senior Systems Analyst JC60</td>\n",
              "      <td>15-1121.00</td>\n",
              "      <td>Computer Systems Analysts</td>\n",
              "      <td>Y</td>\n",
              "      <td>2020-01-01</td>\n",
              "      <td>2022-12-31</td>\n",
              "      <td>1</td>\n",
              "      <td>0</td>\n",
              "      <td>1</td>\n",
              "      <td>0</td>\n",
              "      <td>0</td>\n",
              "      <td>0</td>\n",
              "      <td>0</td>\n",
              "      <td>COGNIZANT TECHNOLOGY SOLUTIONS US CORP</td>\n",
              "      <td>CTSUS</td>\n",
              "      <td>211 QUALITY CIRCLE</td>\n",
              "      <td>NaN</td>\n",
              "      <td>COLLEGE STATION</td>\n",
              "      <td>TX</td>\n",
              "      <td>77845</td>\n",
              "      <td>UNITED STATES OF AMERICA</td>\n",
              "      <td>NaN</td>\n",
              "      <td>19793296682</td>\n",
              "      <td>NaN</td>\n",
              "      <td>541512</td>\n",
              "      <td>CHANDRASEKARAN</td>\n",
              "      <td>SABARISH</td>\n",
              "      <td>NaN</td>\n",
              "      <td>ASSOCIATE DIRECTOR</td>\n",
              "      <td>211 QUALITY CIRCLE</td>\n",
              "      <td>NaN</td>\n",
              "      <td>COLLEGE STATION</td>\n",
              "      <td>TX</td>\n",
              "      <td>77845</td>\n",
              "      <td>...</td>\n",
              "      <td>NaN</td>\n",
              "      <td>NaN</td>\n",
              "      <td>NaN</td>\n",
              "      <td>NaN</td>\n",
              "      <td>NaN</td>\n",
              "      <td>NaN</td>\n",
              "      <td>1.0</td>\n",
              "      <td>Y</td>\n",
              "      <td>Fiserv, Inc.</td>\n",
              "      <td>5565 Glenridge Connector NE</td>\n",
              "      <td>NaN</td>\n",
              "      <td>Atlanta</td>\n",
              "      <td>FULTON</td>\n",
              "      <td>GA</td>\n",
              "      <td>30342</td>\n",
              "      <td>77771.00</td>\n",
              "      <td>NaN</td>\n",
              "      <td>Year</td>\n",
              "      <td>77771.00</td>\n",
              "      <td>Year</td>\n",
              "      <td>NaN</td>\n",
              "      <td>II</td>\n",
              "      <td>7/1/2019 - 6/30/2020</td>\n",
              "      <td>NaN</td>\n",
              "      <td>NaN</td>\n",
              "      <td>NaN</td>\n",
              "      <td>NaN</td>\n",
              "      <td>1.0</td>\n",
              "      <td>Y</td>\n",
              "      <td>Y</td>\n",
              "      <td>N</td>\n",
              "      <td>Y</td>\n",
              "      <td>BOTH</td>\n",
              "      <td>NaN</td>\n",
              "      <td>Disclose Business</td>\n",
              "      <td>NaN</td>\n",
              "      <td>NaN</td>\n",
              "      <td>NaN</td>\n",
              "      <td>NaN</td>\n",
              "      <td>lca.immigration@cognizant.com</td>\n",
              "    </tr>\n",
              "    <tr>\n",
              "      <th>3</th>\n",
              "      <td>I-200-19357-214799</td>\n",
              "      <td>Certified</td>\n",
              "      <td>2019-12-23</td>\n",
              "      <td>2020-01-01</td>\n",
              "      <td>NaT</td>\n",
              "      <td>H-1B</td>\n",
              "      <td>Senior Systems Analyst JC60</td>\n",
              "      <td>15-1121.00</td>\n",
              "      <td>Computer Systems Analysts</td>\n",
              "      <td>Y</td>\n",
              "      <td>2020-01-01</td>\n",
              "      <td>2022-12-31</td>\n",
              "      <td>1</td>\n",
              "      <td>0</td>\n",
              "      <td>1</td>\n",
              "      <td>0</td>\n",
              "      <td>0</td>\n",
              "      <td>0</td>\n",
              "      <td>0</td>\n",
              "      <td>COGNIZANT TECHNOLOGY SOLUTIONS US CORP</td>\n",
              "      <td>CTSUS</td>\n",
              "      <td>211 QUALITY CIRCLE</td>\n",
              "      <td>NaN</td>\n",
              "      <td>COLLEGE STATION</td>\n",
              "      <td>TX</td>\n",
              "      <td>77845</td>\n",
              "      <td>UNITED STATES OF AMERICA</td>\n",
              "      <td>NaN</td>\n",
              "      <td>19793296682</td>\n",
              "      <td>NaN</td>\n",
              "      <td>541512</td>\n",
              "      <td>CHANDRASEKARAN</td>\n",
              "      <td>SABARISH</td>\n",
              "      <td>NaN</td>\n",
              "      <td>ASSOCIATE DIRECTOR</td>\n",
              "      <td>211 QUALITY CIRCLE</td>\n",
              "      <td>NaN</td>\n",
              "      <td>COLLEGE STATION</td>\n",
              "      <td>TX</td>\n",
              "      <td>77845</td>\n",
              "      <td>...</td>\n",
              "      <td>NaN</td>\n",
              "      <td>NaN</td>\n",
              "      <td>NaN</td>\n",
              "      <td>NaN</td>\n",
              "      <td>NaN</td>\n",
              "      <td>NaN</td>\n",
              "      <td>1.0</td>\n",
              "      <td>Y</td>\n",
              "      <td>Fiserv.</td>\n",
              "      <td>6855, Pacific Street</td>\n",
              "      <td>NaN</td>\n",
              "      <td>Omaha</td>\n",
              "      <td>DOUGLAS</td>\n",
              "      <td>NE</td>\n",
              "      <td>68106</td>\n",
              "      <td>65624.00</td>\n",
              "      <td>NaN</td>\n",
              "      <td>Year</td>\n",
              "      <td>65624.00</td>\n",
              "      <td>Year</td>\n",
              "      <td>NaN</td>\n",
              "      <td>II</td>\n",
              "      <td>7/1/2019 - 6/30/2020</td>\n",
              "      <td>NaN</td>\n",
              "      <td>NaN</td>\n",
              "      <td>NaN</td>\n",
              "      <td>NaN</td>\n",
              "      <td>1.0</td>\n",
              "      <td>Y</td>\n",
              "      <td>Y</td>\n",
              "      <td>N</td>\n",
              "      <td>Y</td>\n",
              "      <td>WAGE</td>\n",
              "      <td>NaN</td>\n",
              "      <td>Disclose Business</td>\n",
              "      <td>NaN</td>\n",
              "      <td>NaN</td>\n",
              "      <td>NaN</td>\n",
              "      <td>NaN</td>\n",
              "      <td>lca.immigration@cognizant.com</td>\n",
              "    </tr>\n",
              "    <tr>\n",
              "      <th>4</th>\n",
              "      <td>I-200-19357-214800</td>\n",
              "      <td>Certified</td>\n",
              "      <td>2019-12-23</td>\n",
              "      <td>2020-01-01</td>\n",
              "      <td>NaT</td>\n",
              "      <td>H-1B</td>\n",
              "      <td>Senior Java Developer</td>\n",
              "      <td>15-1132.00</td>\n",
              "      <td>Software Developers, Applications</td>\n",
              "      <td>Y</td>\n",
              "      <td>2020-01-10</td>\n",
              "      <td>2023-01-09</td>\n",
              "      <td>1</td>\n",
              "      <td>0</td>\n",
              "      <td>0</td>\n",
              "      <td>0</td>\n",
              "      <td>0</td>\n",
              "      <td>1</td>\n",
              "      <td>0</td>\n",
              "      <td>Populus Group LLC</td>\n",
              "      <td>NaN</td>\n",
              "      <td>3001 West Big Beaver Rd.</td>\n",
              "      <td>Suite 400</td>\n",
              "      <td>Troy</td>\n",
              "      <td>MI</td>\n",
              "      <td>48084</td>\n",
              "      <td>UNITED STATES OF AMERICA</td>\n",
              "      <td>NaN</td>\n",
              "      <td>12487127900</td>\n",
              "      <td>NaN</td>\n",
              "      <td>561320</td>\n",
              "      <td>Cast</td>\n",
              "      <td>Dorian</td>\n",
              "      <td>E</td>\n",
              "      <td>Director of Immigration Partnerships</td>\n",
              "      <td>3001 West Big Beaver Rd.</td>\n",
              "      <td>Suite 400</td>\n",
              "      <td>Troy</td>\n",
              "      <td>MI</td>\n",
              "      <td>48084</td>\n",
              "      <td>...</td>\n",
              "      <td>1.248713e+10</td>\n",
              "      <td>NaN</td>\n",
              "      <td>jwisniew@populusgroup.com</td>\n",
              "      <td>Populus Group LLC</td>\n",
              "      <td>MI</td>\n",
              "      <td>Supreme Court</td>\n",
              "      <td>1.0</td>\n",
              "      <td>Y</td>\n",
              "      <td>Yahoo Small Business</td>\n",
              "      <td>701 1st Ave.</td>\n",
              "      <td>NaN</td>\n",
              "      <td>Sunnyvale</td>\n",
              "      <td>SANTA CLARA</td>\n",
              "      <td>CA</td>\n",
              "      <td>94089</td>\n",
              "      <td>86.54</td>\n",
              "      <td>NaN</td>\n",
              "      <td>Hour</td>\n",
              "      <td>74.36</td>\n",
              "      <td>Hour</td>\n",
              "      <td>NaN</td>\n",
              "      <td>IV</td>\n",
              "      <td>7/1/2019 - 6/30/2020</td>\n",
              "      <td>NaN</td>\n",
              "      <td>NaN</td>\n",
              "      <td>NaN</td>\n",
              "      <td>NaN</td>\n",
              "      <td>1.0</td>\n",
              "      <td>Y</td>\n",
              "      <td>N</td>\n",
              "      <td>N</td>\n",
              "      <td>NaN</td>\n",
              "      <td>NaN</td>\n",
              "      <td>NaN</td>\n",
              "      <td>Disclose Business</td>\n",
              "      <td>NaN</td>\n",
              "      <td>NaN</td>\n",
              "      <td>NaN</td>\n",
              "      <td>NaN</td>\n",
              "      <td>NaN</td>\n",
              "    </tr>\n",
              "  </tbody>\n",
              "</table>\n",
              "<p>5 rows × 96 columns</p>\n",
              "</div>"
            ],
            "text/plain": [
              "          CASE_NUMBER  ...                     PREPARER_EMAIL\n",
              "0  I-200-19357-214767  ...      lca.immigration@cognizant.com\n",
              "1  I-200-19357-214772  ...  lauren.zanetti@tsmimmigration.com\n",
              "2  I-200-19357-214781  ...      lca.immigration@cognizant.com\n",
              "3  I-200-19357-214799  ...      lca.immigration@cognizant.com\n",
              "4  I-200-19357-214800  ...                                NaN\n",
              "\n",
              "[5 rows x 96 columns]"
            ]
          },
          "metadata": {
            "tags": []
          },
          "execution_count": 3
        }
      ]
    },
    {
      "cell_type": "code",
      "metadata": {
        "id": "xj2neW6p7_su"
      },
      "source": [
        "#create a copy of input data to avoid reimporting it in case the working copy gets corrupted. \n",
        "data_copy=data.copy()"
      ],
      "execution_count": null,
      "outputs": []
    },
    {
      "cell_type": "markdown",
      "metadata": {
        "id": "lQ-54AjJkESP"
      },
      "source": [
        "## Feature statistics and Observations"
      ]
    },
    {
      "cell_type": "code",
      "metadata": {
        "id": "j4NmotT3_isO"
      },
      "source": [
        "#store feature statictics in a dataframe\n",
        "df_data_statistics=pd.DataFrame(data=None,\n",
        "                                index=data.columns,\n",
        "                                columns=['Dtype','percent_missing','cardinality','preprocess_action','preprocess_comment','new_feature_name','new_feature_logic','Categorical class','embedding']\n",
        "                                )"
      ],
      "execution_count": null,
      "outputs": []
    },
    {
      "cell_type": "markdown",
      "metadata": {
        "id": "-5xuoYAokZHP"
      },
      "source": [
        "### Target value statistics"
      ]
    },
    {
      "cell_type": "code",
      "metadata": {
        "colab": {
          "base_uri": "https://localhost:8080/"
        },
        "id": "9I7W3SH27_sy",
        "outputId": "9a52e3be-d22e-4fbc-a80a-4348e2fd6527"
      },
      "source": [
        "#write reusable function to display\n",
        "#record count per class\n",
        "print('Count per class:',data.groupby(['CASE_STATUS']).size())\n",
        "#df shape - records and features\n",
        "print('Feature shape:', data.shape)"
      ],
      "execution_count": null,
      "outputs": [
        {
          "output_type": "stream",
          "text": [
            "Count per class: CASE_STATUS\n",
            "Certified                150011\n",
            "Certified - Withdrawn      2884\n",
            "Denied                     1186\n",
            "Withdrawn                  3092\n",
            "dtype: int64\n",
            "Feature shape: (157173, 96)\n"
          ],
          "name": "stdout"
        }
      ]
    },
    {
      "cell_type": "markdown",
      "metadata": {
        "id": "5B_P6EpqlzAv"
      },
      "source": [
        "### Missing values and feature cardinality"
      ]
    },
    {
      "cell_type": "code",
      "metadata": {
        "id": "XxEi6iFv7_s2"
      },
      "source": [
        "#dataframe statistics\n",
        "for column in data.columns:\n",
        "  #identify numeric, non-numeric and date columns\n",
        "  df_data_statistics.Dtype.loc[column]=data[column].dtype\n",
        "  #% missing data for each column\n",
        "  df_data_statistics.percent_missing.loc[column]=(data.shape[0]-data[column].count())*100/data.shape[0]\n",
        "  #Cardinality of each column\n",
        "  df_data_statistics.cardinality.loc[column]=(data.shape[0]-len(data[column].unique()))*100/data.shape[0]"
      ],
      "execution_count": null,
      "outputs": []
    },
    {
      "cell_type": "code",
      "metadata": {
        "id": "n5oEZFQ1E6je"
      },
      "source": [
        "#drop features with missing values >50%\n",
        "missing_threshold=40.0\n",
        "for idx in df_data_statistics[df_data_statistics.percent_missing>=missing_threshold].index:\n",
        "  df_data_statistics.loc[[idx],['preprocess_action','preprocess_comment']]=['Drop column','missing values>='+str(missing_threshold)+'% of total']"
      ],
      "execution_count": null,
      "outputs": []
    },
    {
      "cell_type": "code",
      "metadata": {
        "id": "Cd-88mnV_yMz"
      },
      "source": [
        "#drop features with high cardinality\n",
        "cardinality_threshold=80.0\n",
        "for idx in df_data_statistics[df_data_statistics.cardinality<80.0].index:\n",
        "  df_data_statistics.loc[[idx],['preprocess_action','preprocess_comment']]=['Drop column','High Cardinality, threshold '+str(cardinality_threshold)+'% of total']"
      ],
      "execution_count": null,
      "outputs": []
    },
    {
      "cell_type": "code",
      "metadata": {
        "id": "AptxE9xPlPrY"
      },
      "source": [
        "#Separate target column\n",
        "df_data_statistics.loc[['CASE_STATUS'],['preprocess_action','preprocess_comment']]=['Pop column into a separate list','Target feature']"
      ],
      "execution_count": null,
      "outputs": []
    },
    {
      "cell_type": "markdown",
      "metadata": {
        "id": "Kh6qExaTl9Ib"
      },
      "source": [
        "### Feature engineering"
      ]
    },
    {
      "cell_type": "code",
      "metadata": {
        "id": "c25VKHOWl6JS"
      },
      "source": [
        "#FEATURE Engineering - date columns\n",
        "#Create a new feature - PROCESSING_DAYS from 'RECEIVED_DATE', 'DECISION_DATE'\n",
        "df_data_statistics.loc[['RECEIVED_DATE', 'DECISION_DATE'],['preprocess_action','preprocess_comment','new_feature_name','new_feature_logic']]=['Drop column','Feature engineering','PROCESSING_DAYS','days(DECISION_DATE-RECEIVED_DATE)']\n",
        "#Create a new feature - VALIDITY_DAYS from 'BEGIN_DATE', 'END_DATE'\n",
        "df_data_statistics.loc[['BEGIN_DATE', 'END_DATE'],['preprocess_action','preprocess_comment','new_feature_name','new_feature_logic']]=['Drop column','Feature engineering','VALIDITY_DAYS','days(END_DATE-BEGIN_DATE)']"
      ],
      "execution_count": null,
      "outputs": []
    },
    {
      "cell_type": "code",
      "metadata": {
        "id": "3Z7C6e3DndBF"
      },
      "source": [
        "#Feature engineering - split SOC_CODE into 2 new features - SOC_CODE_2, SOC_CODE_4\n",
        "df_data_statistics.loc[['SOC_CODE'],['preprocess_action','preprocess_comment','new_feature_name','new_feature_logic']]=['Drop column','Feature engineering','SOC_CODE_2,SOC_CODE_4','SOC_CODE.split(\\'-\\')']"
      ],
      "execution_count": null,
      "outputs": []
    },
    {
      "cell_type": "code",
      "metadata": {
        "id": "W15xYIkPo4pD"
      },
      "source": [
        "#Feature engineering - EMPLOYER_COUNTRY - US or NOT\n",
        "df_data_statistics.loc[['EMPLOYER_COUNTRY'],['preprocess_action','preprocess_comment','new_feature_name','new_feature_logic']]=['Drop column','Feature engineering','USA_YN','IF EMPLOYER_COUNTRY==USA THEN Y ELSE N END']"
      ],
      "execution_count": null,
      "outputs": []
    },
    {
      "cell_type": "code",
      "metadata": {
        "id": "zTj9-5p0kcKt"
      },
      "source": [
        "#Drop columns - EMPLOYER_* except 'EMPLOYER_NAME',EMPLOYER_POSTAL_CODE\n",
        "emp_cols=['TRADE_NAME_DBA','EMPLOYER_ADDRESS1','EMPLOYER_ADDRESS2','EMPLOYER_CITY','EMPLOYER_STATE',\n",
        "          'EMPLOYER_COUNTRY','EMPLOYER_PROVINCE','EMPLOYER_PHONE','EMPLOYER_PHONE_EXT','EMPLOYER_POC_LAST_NAME',\n",
        "          'EMPLOYER_POC_FIRST_NAME','EMPLOYER_POC_MIDDLE_NAME','EMPLOYER_POC_JOB_TITLE','EMPLOYER_POC_ADDRESS1',\n",
        "          'EMPLOYER_POC_ADDRESS2','EMPLOYER_POC_CITY','EMPLOYER_POC_STATE','EMPLOYER_POC_POSTAL_CODE',\n",
        "          'EMPLOYER_POC_COUNTRY','EMPLOYER_POC_PROVINCE','EMPLOYER_POC_PHONE','EMPLOYER_POC_PHONE_EXT','EMPLOYER_POC_EMAIL']\n",
        "df_data_statistics.loc[emp_cols,['preprocess_action','preprocess_comment']]=['Drop column','Not Useful']\n"
      ],
      "execution_count": null,
      "outputs": []
    },
    {
      "cell_type": "code",
      "metadata": {
        "id": "punYsDAIr6Lm"
      },
      "source": [
        "#Drop columns - AGENT_* AGENT_REPRESENTING_EMPLOYER\n",
        "agt_cols=['AGENT_ATTORNEY_LAST_NAME','AGENT_ATTORNEY_FIRST_NAME','AGENT_ATTORNEY_MIDDLE_NAME','AGENT_ATTORNEY_ADDRESS1',\n",
        "          'AGENT_ATTORNEY_ADDRESS2','AGENT_ATTORNEY_CITY','AGENT_ATTORNEY_STATE','AGENT_ATTORNEY_POSTAL_CODE',\n",
        "          'AGENT_ATTORNEY_COUNTRY','AGENT_ATTORNEY_PROVINCE','AGENT_ATTORNEY_PHONE','AGENT_ATTORNEY_PHONE_EXT',\n",
        "          'AGENT_ATTORNEY_EMAIL_ADDRESS','LAWFIRM_NAME_BUSINESS_NAME','STATE_OF_HIGHEST_COURT','NAME_OF_HIGHEST_STATE_COURT'      \n",
        "]\n",
        "df_data_statistics.loc[agt_cols,['preprocess_action','preprocess_comment']]=['Drop column','Not Useful']\n"
      ],
      "execution_count": null,
      "outputs": []
    },
    {
      "cell_type": "code",
      "metadata": {
        "id": "GgsxdS1yt4ZV"
      },
      "source": [
        "#Drop columns -SECONDARY_ENTITY_BUSINESS_NAME\n",
        "df_data_statistics.loc['SECONDARY_ENTITY_BUSINESS_NAME',['preprocess_action','preprocess_comment']]=['Drop column','Not Useful']"
      ],
      "execution_count": null,
      "outputs": []
    },
    {
      "cell_type": "code",
      "metadata": {
        "id": "swdj3nPEuBTn"
      },
      "source": [
        "#Drop columns - WORKSITE_* except WORKSITE_POSTAL_CODE\n",
        "wkst_cols=['WORKSITE_ADDRESS1','WORKSITE_ADDRESS2','WORKSITE_CITY','WORKSITE_COUNTY','WORKSITE_STATE']\n",
        "df_data_statistics.loc[wkst_cols,['preprocess_action','preprocess_comment']]=['Drop column','Not Useful']\n",
        "#Feature engineering - Worksite same as employer address \n",
        "df_data_statistics.loc[['WORKSITE_POSTAL_CODE'],['preprocess_action','preprocess_comment','new_feature_name','new_feature_logic']]=['Drop column','Feature engineering','EMPLOYER_WORKSITE_YN','IF EMPLOYER_POSTAL_CODE==WORKSITE_POSTAL_CODE THEN Y ELSE N END']"
      ],
      "execution_count": null,
      "outputs": []
    },
    {
      "cell_type": "code",
      "metadata": {
        "id": "ZLNsvoJCwJbb"
      },
      "source": [
        "#Feature engineering - convert PREVAILING_WAGE and WAGE_RATE_OF_PAY_FROM to hourly wage - if PW_UNIT_OF_PAY=Hour ignore, if Month then WAGE/172, if Year then WAGE/2067\n",
        "#Feature engineering - WAGE_ABOVE_PREVAILING_HR = WAGE_RATE_OF_PAY_FROM_HR-PREVAILING_WAGE_HR\n",
        "df_data_statistics.loc[['PREVAILING_WAGE'],['preprocess_action','preprocess_comment','new_feature_name','new_feature_logic']]=['Drop column','Feature engineering','PREVAILING_WAGE_HR;WAGE_ABOVE_PREVAILING_HR','if PW_UNIT_OF_PAY=Hour ignore, if Month then WAGE/172, if Year then WAGE/2067;WAGE_RATE_OF_PAY_FROM_HR-PREVAILING_WAGE_HR']\n",
        "df_data_statistics.loc[['WAGE_RATE_OF_PAY_FROM'],['preprocess_action','preprocess_comment','new_feature_name','new_feature_logic']]=['Drop column','Feature engineering','WAGE_RATE_OF_PAY_FROM_HR;WAGE_ABOVE_PREVAILING_HR','if WAGE_UNIT_OF_PAY=Hour ignore, if Month then WAGE/172, if Year then WAGE/2067;WAGE_RATE_OF_PAY_FROM_HR-PREVAILING_WAGE_HR']\n",
        "\n",
        "#Drop columns - Wage related\n",
        "wage_cols=[ 'WAGE_UNIT_OF_PAY','PW_UNIT_OF_PAY']\n",
        "df_data_statistics.loc[wage_cols,['preprocess_action','preprocess_comment']]=['Drop column','Not Useful']\n"
      ],
      "execution_count": null,
      "outputs": []
    },
    {
      "cell_type": "code",
      "metadata": {
        "id": "FZbjihgQ0tnx"
      },
      "source": [
        "#Feature engineering - OES_YN - if 'PW_OTHER_SOURCE' is not NaN then N else Y\n",
        "df_data_statistics.loc[['PW_OTHER_SOURCE'],['preprocess_action','preprocess_comment','new_feature_name','new_feature_logic']]=['Drop column','Feature engineering','OES_YN ','if PW_OTHER_SOURCE is not NaN then N else Y']\n",
        "#Feature engineering - SURVEY_YEAR - if OES_YN ==Y then extract year from first date of PW_OES_YEAR' else 'PW_OTHER_YEAR'\n",
        "df_data_statistics.loc[['PW_OES_YEAR','PW_OTHER_YEAR'],['preprocess_action','preprocess_comment','new_feature_name','new_feature_logic']]=['Drop column','Feature engineering','SURVEY_YEAR ','if OES_YN ==Y then extract year from first date of PW_OES_YEAR else PW_OTHER_YEAR']"
      ],
      "execution_count": null,
      "outputs": []
    },
    {
      "cell_type": "markdown",
      "metadata": {
        "id": "YC0RvUqZmHEn"
      },
      "source": [
        "### Classify non-numeric features into Binary, ordinal and categorical and decide embeding scheme"
      ]
    },
    {
      "cell_type": "code",
      "metadata": {
        "colab": {
          "base_uri": "https://localhost:8080/",
          "height": 756
        },
        "id": "QYbMk6rgrGF4",
        "outputId": "71665777-1ebc-46d6-b2f9-701d42a59097"
      },
      "source": [
        "#features tagged for feature engineering or those not going to be dropped and are non-numeric\n",
        "df_data_statistics[((df_data_statistics['preprocess_comment']=='Feature engineering') | (df_data_statistics['preprocess_action']!='Drop column')) & (df_data_statistics['Dtype']=='O')]"
      ],
      "execution_count": null,
      "outputs": [
        {
          "output_type": "execute_result",
          "data": {
            "text/html": [
              "<div>\n",
              "<style scoped>\n",
              "    .dataframe tbody tr th:only-of-type {\n",
              "        vertical-align: middle;\n",
              "    }\n",
              "\n",
              "    .dataframe tbody tr th {\n",
              "        vertical-align: top;\n",
              "    }\n",
              "\n",
              "    .dataframe thead th {\n",
              "        text-align: right;\n",
              "    }\n",
              "</style>\n",
              "<table border=\"1\" class=\"dataframe\">\n",
              "  <thead>\n",
              "    <tr style=\"text-align: right;\">\n",
              "      <th></th>\n",
              "      <th>Dtype</th>\n",
              "      <th>percent_missing</th>\n",
              "      <th>cardinality</th>\n",
              "      <th>preprocess_action</th>\n",
              "      <th>preprocess_comment</th>\n",
              "      <th>new_feature_name</th>\n",
              "      <th>new_feature_logic</th>\n",
              "      <th>Categorical class</th>\n",
              "      <th>embedding</th>\n",
              "    </tr>\n",
              "  </thead>\n",
              "  <tbody>\n",
              "    <tr>\n",
              "      <th>CASE_STATUS</th>\n",
              "      <td>object</td>\n",
              "      <td>0</td>\n",
              "      <td>99.9975</td>\n",
              "      <td>Pop column into a separate list</td>\n",
              "      <td>Target feature</td>\n",
              "      <td>NaN</td>\n",
              "      <td>NaN</td>\n",
              "      <td>Categorical</td>\n",
              "      <td>Standardized random</td>\n",
              "    </tr>\n",
              "    <tr>\n",
              "      <th>VISA_CLASS</th>\n",
              "      <td>object</td>\n",
              "      <td>0</td>\n",
              "      <td>99.9975</td>\n",
              "      <td>NaN</td>\n",
              "      <td>NaN</td>\n",
              "      <td>NaN</td>\n",
              "      <td>NaN</td>\n",
              "      <td>Categorical</td>\n",
              "      <td>Standardized random</td>\n",
              "    </tr>\n",
              "    <tr>\n",
              "      <th>SOC_CODE</th>\n",
              "      <td>object</td>\n",
              "      <td>0</td>\n",
              "      <td>99.5616</td>\n",
              "      <td>Drop column</td>\n",
              "      <td>Feature engineering</td>\n",
              "      <td>SOC_CODE_2,SOC_CODE_4</td>\n",
              "      <td>SOC_CODE.split('-')</td>\n",
              "      <td>Categorical</td>\n",
              "      <td>Standardized random</td>\n",
              "    </tr>\n",
              "    <tr>\n",
              "      <th>SOC_TITLE</th>\n",
              "      <td>object</td>\n",
              "      <td>0</td>\n",
              "      <td>99.5966</td>\n",
              "      <td>NaN</td>\n",
              "      <td>NaN</td>\n",
              "      <td>NaN</td>\n",
              "      <td>NaN</td>\n",
              "      <td>Categorical</td>\n",
              "      <td>Standardized random</td>\n",
              "    </tr>\n",
              "    <tr>\n",
              "      <th>FULL_TIME_POSITION</th>\n",
              "      <td>object</td>\n",
              "      <td>0</td>\n",
              "      <td>99.9987</td>\n",
              "      <td>NaN</td>\n",
              "      <td>NaN</td>\n",
              "      <td>NaN</td>\n",
              "      <td>NaN</td>\n",
              "      <td>Binary</td>\n",
              "      <td>Standardized random</td>\n",
              "    </tr>\n",
              "    <tr>\n",
              "      <th>EMPLOYER_NAME</th>\n",
              "      <td>object</td>\n",
              "      <td>0.000636242</td>\n",
              "      <td>83.2541</td>\n",
              "      <td>NaN</td>\n",
              "      <td>NaN</td>\n",
              "      <td>NaN</td>\n",
              "      <td>NaN</td>\n",
              "      <td>Categorical</td>\n",
              "      <td>Standardized random for CONCAT(EMPLOYER_NAME,E...</td>\n",
              "    </tr>\n",
              "    <tr>\n",
              "      <th>EMPLOYER_POSTAL_CODE</th>\n",
              "      <td>object</td>\n",
              "      <td>0</td>\n",
              "      <td>96.2742</td>\n",
              "      <td>NaN</td>\n",
              "      <td>NaN</td>\n",
              "      <td>NaN</td>\n",
              "      <td>NaN</td>\n",
              "      <td>Categorical</td>\n",
              "      <td>Standardized random</td>\n",
              "    </tr>\n",
              "    <tr>\n",
              "      <th>EMPLOYER_COUNTRY</th>\n",
              "      <td>object</td>\n",
              "      <td>0</td>\n",
              "      <td>99.9987</td>\n",
              "      <td>Drop column</td>\n",
              "      <td>Feature engineering</td>\n",
              "      <td>USA_YN</td>\n",
              "      <td>IF EMPLOYER_COUNTRY==USA THEN Y ELSE N END</td>\n",
              "      <td>Binary</td>\n",
              "      <td>Standardized random</td>\n",
              "    </tr>\n",
              "    <tr>\n",
              "      <th>AGENT_REPRESENTING_EMPLOYER</th>\n",
              "      <td>object</td>\n",
              "      <td>0</td>\n",
              "      <td>99.9987</td>\n",
              "      <td>NaN</td>\n",
              "      <td>NaN</td>\n",
              "      <td>NaN</td>\n",
              "      <td>NaN</td>\n",
              "      <td>Binary</td>\n",
              "      <td>Standardized random</td>\n",
              "    </tr>\n",
              "    <tr>\n",
              "      <th>SECONDARY_ENTITY</th>\n",
              "      <td>object</td>\n",
              "      <td>0</td>\n",
              "      <td>99.9987</td>\n",
              "      <td>NaN</td>\n",
              "      <td>NaN</td>\n",
              "      <td>NaN</td>\n",
              "      <td>NaN</td>\n",
              "      <td>Binary</td>\n",
              "      <td>Standardized random</td>\n",
              "    </tr>\n",
              "    <tr>\n",
              "      <th>WORKSITE_POSTAL_CODE</th>\n",
              "      <td>object</td>\n",
              "      <td>0</td>\n",
              "      <td>94.8204</td>\n",
              "      <td>Drop column</td>\n",
              "      <td>Feature engineering</td>\n",
              "      <td>EMPLOYER_WORKSITE_YN</td>\n",
              "      <td>IF EMPLOYER_POSTAL_CODE==WORKSITE_POSTAL_CODE ...</td>\n",
              "      <td>Categorical</td>\n",
              "      <td>Standardized random</td>\n",
              "    </tr>\n",
              "    <tr>\n",
              "      <th>PW_WAGE_LEVEL</th>\n",
              "      <td>object</td>\n",
              "      <td>5.48631</td>\n",
              "      <td>99.9968</td>\n",
              "      <td>NaN</td>\n",
              "      <td>NaN</td>\n",
              "      <td>NaN</td>\n",
              "      <td>NaN</td>\n",
              "      <td>Ordinal</td>\n",
              "      <td>Standardized random in increasing order</td>\n",
              "    </tr>\n",
              "    <tr>\n",
              "      <th>PW_OES_YEAR</th>\n",
              "      <td>object</td>\n",
              "      <td>5.02567</td>\n",
              "      <td>99.9975</td>\n",
              "      <td>Drop column</td>\n",
              "      <td>Feature engineering</td>\n",
              "      <td>SURVEY_YEAR</td>\n",
              "      <td>if OES_YN ==Y then extract year from first dat...</td>\n",
              "      <td>Ordinal</td>\n",
              "      <td>Standardized random in increasing order</td>\n",
              "    </tr>\n",
              "    <tr>\n",
              "      <th>PW_OTHER_SOURCE</th>\n",
              "      <td>object</td>\n",
              "      <td>95.1856</td>\n",
              "      <td>99.9962</td>\n",
              "      <td>Drop column</td>\n",
              "      <td>Feature engineering</td>\n",
              "      <td>OES_YN</td>\n",
              "      <td>if PW_OTHER_SOURCE is not NaN then N else Y</td>\n",
              "      <td>Categorical</td>\n",
              "      <td>Standardized random</td>\n",
              "    </tr>\n",
              "    <tr>\n",
              "      <th>AGREE_TO_LC_STATEMENT</th>\n",
              "      <td>object</td>\n",
              "      <td>0</td>\n",
              "      <td>99.9994</td>\n",
              "      <td>NaN</td>\n",
              "      <td>NaN</td>\n",
              "      <td>NaN</td>\n",
              "      <td>NaN</td>\n",
              "      <td>Binary</td>\n",
              "      <td>Standardized random</td>\n",
              "    </tr>\n",
              "    <tr>\n",
              "      <th>H-1B_DEPENDENT</th>\n",
              "      <td>object</td>\n",
              "      <td>2.14477</td>\n",
              "      <td>99.9981</td>\n",
              "      <td>NaN</td>\n",
              "      <td>NaN</td>\n",
              "      <td>NaN</td>\n",
              "      <td>NaN</td>\n",
              "      <td>Binary</td>\n",
              "      <td>Standardized random</td>\n",
              "    </tr>\n",
              "    <tr>\n",
              "      <th>WILLFUL_VIOLATOR</th>\n",
              "      <td>object</td>\n",
              "      <td>2.14604</td>\n",
              "      <td>99.9981</td>\n",
              "      <td>NaN</td>\n",
              "      <td>NaN</td>\n",
              "      <td>NaN</td>\n",
              "      <td>NaN</td>\n",
              "      <td>Binary</td>\n",
              "      <td>Standardized random</td>\n",
              "    </tr>\n",
              "    <tr>\n",
              "      <th>PUBLIC_DISCLOSURE</th>\n",
              "      <td>object</td>\n",
              "      <td>0.0286309</td>\n",
              "      <td>99.9975</td>\n",
              "      <td>NaN</td>\n",
              "      <td>NaN</td>\n",
              "      <td>NaN</td>\n",
              "      <td>NaN</td>\n",
              "      <td>Categorical</td>\n",
              "      <td>Standardized random</td>\n",
              "    </tr>\n",
              "  </tbody>\n",
              "</table>\n",
              "</div>"
            ],
            "text/plain": [
              "                              Dtype  ...                                          embedding\n",
              "CASE_STATUS                  object  ...                                Standardized random\n",
              "VISA_CLASS                   object  ...                                Standardized random\n",
              "SOC_CODE                     object  ...                                Standardized random\n",
              "SOC_TITLE                    object  ...                                Standardized random\n",
              "FULL_TIME_POSITION           object  ...                                Standardized random\n",
              "EMPLOYER_NAME                object  ...  Standardized random for CONCAT(EMPLOYER_NAME,E...\n",
              "EMPLOYER_POSTAL_CODE         object  ...                                Standardized random\n",
              "EMPLOYER_COUNTRY             object  ...                                Standardized random\n",
              "AGENT_REPRESENTING_EMPLOYER  object  ...                                Standardized random\n",
              "SECONDARY_ENTITY             object  ...                                Standardized random\n",
              "WORKSITE_POSTAL_CODE         object  ...                                Standardized random\n",
              "PW_WAGE_LEVEL                object  ...            Standardized random in increasing order\n",
              "PW_OES_YEAR                  object  ...            Standardized random in increasing order\n",
              "PW_OTHER_SOURCE              object  ...                                Standardized random\n",
              "AGREE_TO_LC_STATEMENT        object  ...                                Standardized random\n",
              "H-1B_DEPENDENT               object  ...                                Standardized random\n",
              "WILLFUL_VIOLATOR             object  ...                                Standardized random\n",
              "PUBLIC_DISCLOSURE            object  ...                                Standardized random\n",
              "\n",
              "[18 rows x 9 columns]"
            ]
          },
          "metadata": {
            "tags": []
          },
          "execution_count": 239
        }
      ]
    },
    {
      "cell_type": "code",
      "metadata": {
        "id": "PEwQTFMqmdZ3"
      },
      "source": [
        "#Categorical columns \n",
        "cat_cols=['CASE_STATUS','VISA_CLASS','SOC_CODE','SOC_TITLE','EMPLOYER_NAME','EMPLOYER_POSTAL_CODE','WORKSITE_POSTAL_CODE','PW_OTHER_SOURCE','PUBLIC_DISCLOSURE','NAICS_CODE']\n",
        "df_data_statistics.loc[cat_cols,['Categorical class', 'embedding']]=['Categorical','Standardized random']\n",
        "#for employer name - append employer state and encode the combination\n",
        "df_data_statistics.loc[['EMPLOYER_NAME'],['Categorical class', 'embedding']]=['Categorical','Standardized random for CONCAT(EMPLOYER_NAME,EMPLOYER_STATE)']"
      ],
      "execution_count": null,
      "outputs": []
    },
    {
      "cell_type": "code",
      "metadata": {
        "id": "0qyvhlfmpc8b"
      },
      "source": [
        "#Ordinal columns\n",
        "ord_cols=['PW_WAGE_LEVEL','PW_OES_YEAR']\n",
        "df_data_statistics.loc[ord_cols,['Categorical class', 'embedding']]=['Ordinal','Standardized random in increasing order']"
      ],
      "execution_count": null,
      "outputs": []
    },
    {
      "cell_type": "code",
      "metadata": {
        "id": "ccoc-z1-pfrS"
      },
      "source": [
        "#binary columns\n",
        "binary_cols=['FULL_TIME_POSITION','AGENT_REPRESENTING_EMPLOYER','SECONDARY_ENTITY','AGREE_TO_LC_STATEMENT','H-1B_DEPENDENT','WILLFUL_VIOLATOR','EMPLOYER_COUNTRY']\n",
        "df_data_statistics.loc[binary_cols,['Categorical class', 'embedding']]=['Binary','Standardized random']"
      ],
      "execution_count": null,
      "outputs": []
    },
    {
      "cell_type": "code",
      "metadata": {
        "id": "jhuKSzTvSjGx"
      },
      "source": [
        "#are there employers belonging to more than one state? - Yes\n",
        "#employer_count=0\n",
        "#for employer in np.unique(data.EMPLOYER_NAME.values.astype(str)):\n",
        "#  if len(np.unique(data[data.EMPLOYER_NAME==employer]['EMPLOYER_STATE']))>1:\n",
        "#    employer_count+=1\n",
        "#print(employer_count)"
      ],
      "execution_count": null,
      "outputs": []
    },
    {
      "cell_type": "code",
      "metadata": {
        "id": "qSyXFV2VumAi"
      },
      "source": [
        "df_data_statistics[((df_data_statistics['preprocess_comment']=='Feature engineering') | (df_data_statistics['preprocess_action']!='Drop column'))]"
      ],
      "execution_count": null,
      "outputs": []
    },
    {
      "cell_type": "markdown",
      "metadata": {
        "id": "4s1eazwNysoT"
      },
      "source": [
        "## Save file and observations for reference. This will be input to the preprocessing code"
      ]
    },
    {
      "cell_type": "code",
      "metadata": {
        "id": "qoBJ3Bggw8Hz"
      },
      "source": [
        "#save file as csv, html to repository for recording all preprocessing steps and observations\n",
        "#df_data_statistics.to_csv('./reports/preprocessing_steps_observations.csv')\n",
        "#df_data_statistics.to_html('./reports/preprocessing_steps_observations.html')"
      ],
      "execution_count": null,
      "outputs": []
    },
    {
      "cell_type": "code",
      "metadata": {
        "id": "_LYbqFt_xvXw"
      },
      "source": [
        "df_data_statistics.to_html('/content/drive/MyDrive/preprocessing_steps_observations.html')"
      ],
      "execution_count": null,
      "outputs": []
    }
  ]
}