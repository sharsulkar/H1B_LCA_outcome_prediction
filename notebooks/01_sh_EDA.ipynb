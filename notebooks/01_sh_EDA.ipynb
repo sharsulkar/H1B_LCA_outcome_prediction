{
 "metadata": {
  "language_info": {
   "codemirror_mode": {
    "name": "ipython",
    "version": 3
   },
   "file_extension": ".py",
   "mimetype": "text/x-python",
   "name": "python",
   "nbconvert_exporter": "python",
   "pygments_lexer": "ipython3",
   "version": "3.8.6-final"
  },
  "orig_nbformat": 2,
  "kernelspec": {
   "name": "python38664bit386pyenvc0ddc9e4a00a47318b3ba5383417003e",
   "display_name": "Python 3.8.6 64-bit ('3.8.6': pyenv)"
  }
 },
 "nbformat": 4,
 "nbformat_minor": 2,
 "cells": [
  {
   "cell_type": "code",
   "execution_count": 1,
   "metadata": {},
   "outputs": [],
   "source": [
    "import numpy as np\n",
    "import pandas as pd\n",
    "import matplotlib.pyplot as plt"
   ]
  },
  {
   "cell_type": "code",
   "execution_count": 3,
   "metadata": {},
   "outputs": [],
   "source": [
    "data=pd.read_excel('https://www.dol.gov/sites/dolgov/files/ETA/oflc/pdfs/LCA_Disclosure_Data_FY2020_Q1.xlsx')"
   ]
  },
  {
   "cell_type": "code",
   "execution_count": 4,
   "metadata": {},
   "outputs": [
    {
     "output_type": "execute_result",
     "data": {
      "text/plain": "          CASE_NUMBER CASE_STATUS RECEIVED_DATE DECISION_DATE  \\\n0  I-200-19268-393467   Certified    2019-09-25    2019-10-01   \n1  I-200-19268-638983   Certified    2019-09-25    2019-10-01   \n2  I-200-19268-177184   Certified    2019-09-25    2019-10-01   \n3  I-200-19268-936403   Certified    2019-09-25    2019-10-01   \n4  I-200-19268-394079   Certified    2019-09-25    2019-10-01   \n\n  ORIGINAL_CERT_DATE VISA_CLASS                               JOB_TITLE  \\\n0                NaT       H-1B  APPLICATION ENGINEER, OMS [15-1199.02]   \n1                NaT       H-1B                         BI DEVELOPER II   \n2                NaT       H-1B                        QUALITY ENGINEER   \n3                NaT       H-1B        SOFTWARE DEVELOPER, APPLICATIONS   \n4                NaT       H-1B               QUALITY ENGINEER LEVEL II   \n\n  SOC_CODE                          SOC_TITLE FULL_TIME_POSITION  ...  \\\n0  15-1199    COMPUTER OCCUPATIONS, ALL OTHER                  Y  ...   \n1  15-1132  SOFTWARE DEVELOPERS, APPLICATIONS                  Y  ...   \n2  17-2141               MECHANICAL ENGINEERS                  Y  ...   \n3  15-1132  SOFTWARE DEVELOPERS, APPLICATIONS                  Y  ...   \n4  15-1199    COMPUTER OCCUPATIONS, ALL OTHER                  Y  ...   \n\n  WILLFUL_VIOLATOR SUPPORT_H1B  STATUTORY_BASIS  APPENDIX_A_ATTACHED  \\\n0                N         NaN              NaN                  NaN   \n1                N           Y             BOTH                  NaN   \n2                N           Y             BOTH                  NaN   \n3                N           Y             BOTH                  NaN   \n4                N           Y             BOTH                  NaN   \n\n   PUBLIC_DISCLOSURE  PREPARER_LAST_NAME  PREPARER_FIRST_NAME  \\\n0  Disclose Business                 NaN                  NaN   \n1  Disclose Business                 NaN                  NaN   \n2  Disclose Business                 NaN                  NaN   \n3  Disclose Business                 NaN                  NaN   \n4  Disclose Business                 NaN                  NaN   \n\n   PREPARER_MIDDLE_INITIAL  PREPARER_BUSINESS_NAME        PREPARER_EMAIL  \n0                      NaN                     NaN                   NaN  \n1                      NaN                     NaN                   NaN  \n2                      NaN                     NaN                   NaN  \n3                      NaN                     NaN                   NaN  \n4                      NaN                     NaN  LEGAL@THEEGIANTS.COM  \n\n[5 rows x 96 columns]",
      "text/html": "<div>\n<style scoped>\n    .dataframe tbody tr th:only-of-type {\n        vertical-align: middle;\n    }\n\n    .dataframe tbody tr th {\n        vertical-align: top;\n    }\n\n    .dataframe thead th {\n        text-align: right;\n    }\n</style>\n<table border=\"1\" class=\"dataframe\">\n  <thead>\n    <tr style=\"text-align: right;\">\n      <th></th>\n      <th>CASE_NUMBER</th>\n      <th>CASE_STATUS</th>\n      <th>RECEIVED_DATE</th>\n      <th>DECISION_DATE</th>\n      <th>ORIGINAL_CERT_DATE</th>\n      <th>VISA_CLASS</th>\n      <th>JOB_TITLE</th>\n      <th>SOC_CODE</th>\n      <th>SOC_TITLE</th>\n      <th>FULL_TIME_POSITION</th>\n      <th>...</th>\n      <th>WILLFUL_VIOLATOR</th>\n      <th>SUPPORT_H1B</th>\n      <th>STATUTORY_BASIS</th>\n      <th>APPENDIX_A_ATTACHED</th>\n      <th>PUBLIC_DISCLOSURE</th>\n      <th>PREPARER_LAST_NAME</th>\n      <th>PREPARER_FIRST_NAME</th>\n      <th>PREPARER_MIDDLE_INITIAL</th>\n      <th>PREPARER_BUSINESS_NAME</th>\n      <th>PREPARER_EMAIL</th>\n    </tr>\n  </thead>\n  <tbody>\n    <tr>\n      <th>0</th>\n      <td>I-200-19268-393467</td>\n      <td>Certified</td>\n      <td>2019-09-25</td>\n      <td>2019-10-01</td>\n      <td>NaT</td>\n      <td>H-1B</td>\n      <td>APPLICATION ENGINEER, OMS [15-1199.02]</td>\n      <td>15-1199</td>\n      <td>COMPUTER OCCUPATIONS, ALL OTHER</td>\n      <td>Y</td>\n      <td>...</td>\n      <td>N</td>\n      <td>NaN</td>\n      <td>NaN</td>\n      <td>NaN</td>\n      <td>Disclose Business</td>\n      <td>NaN</td>\n      <td>NaN</td>\n      <td>NaN</td>\n      <td>NaN</td>\n      <td>NaN</td>\n    </tr>\n    <tr>\n      <th>1</th>\n      <td>I-200-19268-638983</td>\n      <td>Certified</td>\n      <td>2019-09-25</td>\n      <td>2019-10-01</td>\n      <td>NaT</td>\n      <td>H-1B</td>\n      <td>BI DEVELOPER II</td>\n      <td>15-1132</td>\n      <td>SOFTWARE DEVELOPERS, APPLICATIONS</td>\n      <td>Y</td>\n      <td>...</td>\n      <td>N</td>\n      <td>Y</td>\n      <td>BOTH</td>\n      <td>NaN</td>\n      <td>Disclose Business</td>\n      <td>NaN</td>\n      <td>NaN</td>\n      <td>NaN</td>\n      <td>NaN</td>\n      <td>NaN</td>\n    </tr>\n    <tr>\n      <th>2</th>\n      <td>I-200-19268-177184</td>\n      <td>Certified</td>\n      <td>2019-09-25</td>\n      <td>2019-10-01</td>\n      <td>NaT</td>\n      <td>H-1B</td>\n      <td>QUALITY ENGINEER</td>\n      <td>17-2141</td>\n      <td>MECHANICAL ENGINEERS</td>\n      <td>Y</td>\n      <td>...</td>\n      <td>N</td>\n      <td>Y</td>\n      <td>BOTH</td>\n      <td>NaN</td>\n      <td>Disclose Business</td>\n      <td>NaN</td>\n      <td>NaN</td>\n      <td>NaN</td>\n      <td>NaN</td>\n      <td>NaN</td>\n    </tr>\n    <tr>\n      <th>3</th>\n      <td>I-200-19268-936403</td>\n      <td>Certified</td>\n      <td>2019-09-25</td>\n      <td>2019-10-01</td>\n      <td>NaT</td>\n      <td>H-1B</td>\n      <td>SOFTWARE DEVELOPER, APPLICATIONS</td>\n      <td>15-1132</td>\n      <td>SOFTWARE DEVELOPERS, APPLICATIONS</td>\n      <td>Y</td>\n      <td>...</td>\n      <td>N</td>\n      <td>Y</td>\n      <td>BOTH</td>\n      <td>NaN</td>\n      <td>Disclose Business</td>\n      <td>NaN</td>\n      <td>NaN</td>\n      <td>NaN</td>\n      <td>NaN</td>\n      <td>NaN</td>\n    </tr>\n    <tr>\n      <th>4</th>\n      <td>I-200-19268-394079</td>\n      <td>Certified</td>\n      <td>2019-09-25</td>\n      <td>2019-10-01</td>\n      <td>NaT</td>\n      <td>H-1B</td>\n      <td>QUALITY ENGINEER LEVEL II</td>\n      <td>15-1199</td>\n      <td>COMPUTER OCCUPATIONS, ALL OTHER</td>\n      <td>Y</td>\n      <td>...</td>\n      <td>N</td>\n      <td>Y</td>\n      <td>BOTH</td>\n      <td>NaN</td>\n      <td>Disclose Business</td>\n      <td>NaN</td>\n      <td>NaN</td>\n      <td>NaN</td>\n      <td>NaN</td>\n      <td>LEGAL@THEEGIANTS.COM</td>\n    </tr>\n  </tbody>\n</table>\n<p>5 rows × 96 columns</p>\n</div>"
     },
     "metadata": {},
     "execution_count": 4
    }
   ],
   "source": [
    "data.head()"
   ]
  },
  {
   "cell_type": "code",
   "execution_count": 5,
   "metadata": {},
   "outputs": [],
   "source": [
    "data_copy=data.copy()"
   ]
  },
  {
   "cell_type": "code",
   "execution_count": 21,
   "metadata": {},
   "outputs": [
    {
     "output_type": "execute_result",
     "data": {
      "text/plain": "112017"
     },
     "metadata": {},
     "execution_count": 21
    }
   ],
   "source": [
    "#Check for Target value's distribution over the data\n",
    "data['CASE_STATUS'].count()"
   ]
  },
  {
   "cell_type": "code",
   "execution_count": null,
   "metadata": {},
   "outputs": [],
   "source": [
    "#write reusable function\n",
    "#identify numeric and non-numeric columns\n",
    "#% missing data for each column\n",
    "#Cardinality of each column"
   ]
  },
  {
   "cell_type": "code",
   "execution_count": 24,
   "metadata": {},
   "outputs": [
    {
     "output_type": "error",
     "ename": "TypeError",
     "evalue": "unsupported operand type(s) for /: 'str' and 'int'",
     "traceback": [
      "\u001b[0;31m---------------------------------------------------------------------------\u001b[0m",
      "\u001b[0;31mTypeError\u001b[0m                                 Traceback (most recent call last)",
      "\u001b[0;32m<ipython-input-24-34dcb746e27b>\u001b[0m in \u001b[0;36m<module>\u001b[0;34m\u001b[0m\n\u001b[1;32m      1\u001b[0m \u001b[0;31m#correlation between Target value and columns\u001b[0m\u001b[0;34m\u001b[0m\u001b[0;34m\u001b[0m\u001b[0;34m\u001b[0m\u001b[0m\n\u001b[0;32m----> 2\u001b[0;31m \u001b[0mnp\u001b[0m\u001b[0;34m.\u001b[0m\u001b[0mcov\u001b[0m\u001b[0;34m(\u001b[0m\u001b[0mdata\u001b[0m\u001b[0;34m[\u001b[0m\u001b[0;34m[\u001b[0m\u001b[0;34m'CASE_STATUS'\u001b[0m\u001b[0;34m,\u001b[0m\u001b[0;34m'ORIGINAL_CERT_DATE'\u001b[0m\u001b[0;34m]\u001b[0m\u001b[0;34m]\u001b[0m\u001b[0;34m,\u001b[0m\u001b[0mrowvar\u001b[0m\u001b[0;34m=\u001b[0m\u001b[0;32mFalse\u001b[0m\u001b[0;34m)\u001b[0m\u001b[0;34m\u001b[0m\u001b[0;34m\u001b[0m\u001b[0m\n\u001b[0m",
      "\u001b[0;32m<__array_function__ internals>\u001b[0m in \u001b[0;36mcov\u001b[0;34m(*args, **kwargs)\u001b[0m\n",
      "\u001b[0;32m/workspace/.pip-modules/lib/python3.8/site-packages/numpy/lib/function_base.py\u001b[0m in \u001b[0;36mcov\u001b[0;34m(m, y, rowvar, bias, ddof, fweights, aweights)\u001b[0m\n\u001b[1;32m   2454\u001b[0m             \u001b[0mw\u001b[0m \u001b[0;34m*=\u001b[0m \u001b[0maweights\u001b[0m\u001b[0;34m\u001b[0m\u001b[0;34m\u001b[0m\u001b[0m\n\u001b[1;32m   2455\u001b[0m \u001b[0;34m\u001b[0m\u001b[0m\n\u001b[0;32m-> 2456\u001b[0;31m     \u001b[0mavg\u001b[0m\u001b[0;34m,\u001b[0m \u001b[0mw_sum\u001b[0m \u001b[0;34m=\u001b[0m \u001b[0maverage\u001b[0m\u001b[0;34m(\u001b[0m\u001b[0mX\u001b[0m\u001b[0;34m,\u001b[0m \u001b[0maxis\u001b[0m\u001b[0;34m=\u001b[0m\u001b[0;36m1\u001b[0m\u001b[0;34m,\u001b[0m \u001b[0mweights\u001b[0m\u001b[0;34m=\u001b[0m\u001b[0mw\u001b[0m\u001b[0;34m,\u001b[0m \u001b[0mreturned\u001b[0m\u001b[0;34m=\u001b[0m\u001b[0;32mTrue\u001b[0m\u001b[0;34m)\u001b[0m\u001b[0;34m\u001b[0m\u001b[0;34m\u001b[0m\u001b[0m\n\u001b[0m\u001b[1;32m   2457\u001b[0m     \u001b[0mw_sum\u001b[0m \u001b[0;34m=\u001b[0m \u001b[0mw_sum\u001b[0m\u001b[0;34m[\u001b[0m\u001b[0;36m0\u001b[0m\u001b[0;34m]\u001b[0m\u001b[0;34m\u001b[0m\u001b[0;34m\u001b[0m\u001b[0m\n\u001b[1;32m   2458\u001b[0m \u001b[0;34m\u001b[0m\u001b[0m\n",
      "\u001b[0;32m<__array_function__ internals>\u001b[0m in \u001b[0;36maverage\u001b[0;34m(*args, **kwargs)\u001b[0m\n",
      "\u001b[0;32m/workspace/.pip-modules/lib/python3.8/site-packages/numpy/lib/function_base.py\u001b[0m in \u001b[0;36maverage\u001b[0;34m(a, axis, weights, returned)\u001b[0m\n\u001b[1;32m    378\u001b[0m \u001b[0;34m\u001b[0m\u001b[0m\n\u001b[1;32m    379\u001b[0m     \u001b[0;32mif\u001b[0m \u001b[0mweights\u001b[0m \u001b[0;32mis\u001b[0m \u001b[0;32mNone\u001b[0m\u001b[0;34m:\u001b[0m\u001b[0;34m\u001b[0m\u001b[0;34m\u001b[0m\u001b[0m\n\u001b[0;32m--> 380\u001b[0;31m         \u001b[0mavg\u001b[0m \u001b[0;34m=\u001b[0m \u001b[0ma\u001b[0m\u001b[0;34m.\u001b[0m\u001b[0mmean\u001b[0m\u001b[0;34m(\u001b[0m\u001b[0maxis\u001b[0m\u001b[0;34m)\u001b[0m\u001b[0;34m\u001b[0m\u001b[0;34m\u001b[0m\u001b[0m\n\u001b[0m\u001b[1;32m    381\u001b[0m         \u001b[0mscl\u001b[0m \u001b[0;34m=\u001b[0m \u001b[0mavg\u001b[0m\u001b[0;34m.\u001b[0m\u001b[0mdtype\u001b[0m\u001b[0;34m.\u001b[0m\u001b[0mtype\u001b[0m\u001b[0;34m(\u001b[0m\u001b[0ma\u001b[0m\u001b[0;34m.\u001b[0m\u001b[0msize\u001b[0m\u001b[0;34m/\u001b[0m\u001b[0mavg\u001b[0m\u001b[0;34m.\u001b[0m\u001b[0msize\u001b[0m\u001b[0;34m)\u001b[0m\u001b[0;34m\u001b[0m\u001b[0;34m\u001b[0m\u001b[0m\n\u001b[1;32m    382\u001b[0m     \u001b[0;32melse\u001b[0m\u001b[0;34m:\u001b[0m\u001b[0;34m\u001b[0m\u001b[0;34m\u001b[0m\u001b[0m\n",
      "\u001b[0;32m/workspace/.pip-modules/lib/python3.8/site-packages/numpy/core/_methods.py\u001b[0m in \u001b[0;36m_mean\u001b[0;34m(a, axis, dtype, out, keepdims)\u001b[0m\n\u001b[1;32m    160\u001b[0m     \u001b[0mret\u001b[0m \u001b[0;34m=\u001b[0m \u001b[0mumr_sum\u001b[0m\u001b[0;34m(\u001b[0m\u001b[0marr\u001b[0m\u001b[0;34m,\u001b[0m \u001b[0maxis\u001b[0m\u001b[0;34m,\u001b[0m \u001b[0mdtype\u001b[0m\u001b[0;34m,\u001b[0m \u001b[0mout\u001b[0m\u001b[0;34m,\u001b[0m \u001b[0mkeepdims\u001b[0m\u001b[0;34m)\u001b[0m\u001b[0;34m\u001b[0m\u001b[0;34m\u001b[0m\u001b[0m\n\u001b[1;32m    161\u001b[0m     \u001b[0;32mif\u001b[0m \u001b[0misinstance\u001b[0m\u001b[0;34m(\u001b[0m\u001b[0mret\u001b[0m\u001b[0;34m,\u001b[0m \u001b[0mmu\u001b[0m\u001b[0;34m.\u001b[0m\u001b[0mndarray\u001b[0m\u001b[0;34m)\u001b[0m\u001b[0;34m:\u001b[0m\u001b[0;34m\u001b[0m\u001b[0;34m\u001b[0m\u001b[0m\n\u001b[0;32m--> 162\u001b[0;31m         ret = um.true_divide(\n\u001b[0m\u001b[1;32m    163\u001b[0m                 ret, rcount, out=ret, casting='unsafe', subok=False)\n\u001b[1;32m    164\u001b[0m         \u001b[0;32mif\u001b[0m \u001b[0mis_float16_result\u001b[0m \u001b[0;32mand\u001b[0m \u001b[0mout\u001b[0m \u001b[0;32mis\u001b[0m \u001b[0;32mNone\u001b[0m\u001b[0;34m:\u001b[0m\u001b[0;34m\u001b[0m\u001b[0;34m\u001b[0m\u001b[0m\n",
      "\u001b[0;31mTypeError\u001b[0m: unsupported operand type(s) for /: 'str' and 'int'"
     ]
    }
   ],
   "source": [
    "#correlation between Target value and columns\n",
    "np.cov(data[['CASE_STATUS','ORIGINAL_CERT_DATE']],rowvar=False)"
   ]
  },
  {
   "cell_type": "code",
   "execution_count": null,
   "metadata": {},
   "outputs": [],
   "source": []
  }
 ]
}