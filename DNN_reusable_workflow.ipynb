{
  "nbformat": 4,
  "nbformat_minor": 0,
  "metadata": {
    "colab": {
      "name": "DNN reusable workflow.ipynb",
      "provenance": [],
      "collapsed_sections": [],
      "mount_file_id": "1DUiAMdeXLCv4zaJPKLhcTuKXZQT-LzyY",
      "authorship_tag": "ABX9TyPuWMMv4Mf+P5Zbsoo0TckO",
      "include_colab_link": true
    },
    "kernelspec": {
      "name": "python3",
      "display_name": "Python 3"
    }
  },
  "cells": [
    {
      "cell_type": "markdown",
      "metadata": {
        "id": "view-in-github",
        "colab_type": "text"
      },
      "source": [
        "<a href=\"https://colab.research.google.com/github/sharsulkar/H1B_LCA_outcome_prediction/blob/main/DNN_reusable_workflow.ipynb\" target=\"_parent\"><img src=\"https://colab.research.google.com/assets/colab-badge.svg\" alt=\"Open In Colab\"/></a>"
      ]
    },
    {
      "cell_type": "code",
      "metadata": {
        "id": "olwQL3zzqEAr"
      },
      "source": [
        "#1. Import libraries - numpy, pandas, matplotlib.pyplot, tensorflow, keras\n",
        "import numpy as np\n",
        "import pandas as pd\n",
        "import matplotlib.pyplot as plt\n",
        "import tensorflow as tf\n",
        "from tensorflow import keras\n",
        "from tensorflow.keras import layers\n",
        "from tensorflow.keras import optimizers\n",
        "from tensorflow.keras.layers.experimental import preprocessing\n",
        "from tensorflow.keras.initializers import HeUniform\n",
        "from datetime import datetime\n",
        "from keras.callbacks import EarlyStopping"
      ],
      "execution_count": null,
      "outputs": []
    },
    {
      "cell_type": "markdown",
      "metadata": {
        "id": "Tmw7Qzn1Tvjs"
      },
      "source": [
        "Weight initializers -\n",
        "https://www.tensorflow.org/api_docs/python/tf/keras/initializers/HeUniform\n",
        "\n",
        "https://towardsdatascience.com/hyper-parameters-in-action-part-ii-weight-initializers-35aee1a28404\n"
      ]
    },
    {
      "cell_type": "code",
      "metadata": {
        "id": "SEjvyCrKqXBv"
      },
      "source": [
        "#2. Load train and test data from google colab folder /root/contents/sample_data/\n",
        "data_filepath='/content/sample_data/'\n",
        "train_filename='california_housing_train.csv'\n",
        "test_filename='california_housing_test.csv'\n",
        "train_df=pd.read_csv(data_filepath+train_filename,engine='python')\n",
        "test_df=pd.read_csv(data_filepath+test_filename,engine='python')"
      ],
      "execution_count": null,
      "outputs": []
    },
    {
      "cell_type": "code",
      "metadata": {
        "id": "MNM55iKMqcBG"
      },
      "source": [
        "#4. Define preprocessing pipeline\n",
        "#a. Split median_house_value in training and test dataset into output varaible Y\n",
        "Y_train=train_df[['median_house_value']]\n",
        "X_train=train_df.drop(columns=['median_house_value'])\n",
        "Y_test=test_df[['median_house_value']]\n",
        "X_test=test_df.drop(columns=['median_house_value'])"
      ],
      "execution_count": null,
      "outputs": []
    },
    {
      "cell_type": "code",
      "metadata": {
        "id": "dU0V2f8xqmOB"
      },
      "source": [
        "#define function to plot training and validation loss\n",
        "def plot_loss(history,model_name):\n",
        "  plt.plot(history.history['loss'], label='loss_'+model_name)\n",
        "  plt.plot(history.history['val_loss'], label='val_loss_'+model_name)\n",
        "  #plt.ylim([0, 10])\n",
        "  plt.xlabel('Epoch')\n",
        "  plt.ylabel('Error')\n",
        "  plt.legend()\n",
        "  plt.grid(True)"
      ],
      "execution_count": null,
      "outputs": []
    },
    {
      "cell_type": "code",
      "metadata": {
        "id": "QAeGSIN-_GB9"
      },
      "source": [
        "def evaluate_models(models,config,test_results,X_train,Y_train,X_test,Y_test,plot_lossYN=False):\n",
        "  for model in models:\n",
        "  #Train the model\n",
        "    history=model.fit(X_train,Y_train,\n",
        "                    validation_split=config['validation_split'],\n",
        "                    epochs=config['epochs'],\n",
        "                    batch_size=config['batch_size'],\n",
        "                    verbose=0)\n",
        "    \n",
        "    test_results=test_results.append({\n",
        "      'model_name':model.name,\n",
        "      'batch_size':config['batch_size'],\n",
        "      'loss':config['loss'],\n",
        "      'optimizer':config['optimizer'],\n",
        "      'total_epochs':config['epochs'],\n",
        "      'min_train_loss':min(history.history['loss']),\n",
        "      'epoch_at_min_train_loss':np.argmin(history.history['loss']),\n",
        "      'min_val_loss':min(history.history['val_loss']),\n",
        "      'epoch_at_min_val_loss':np.argmin(history.history['val_loss']),\n",
        "      'test_eval_results': model.evaluate(X_test,Y_test),\n",
        "      'timestamp':datetime.now().strftime(\"%D %H:%M:%S\")\n",
        "    },ignore_index=True)\n",
        "\n",
        "    if plot_lossYN:\n",
        "      plot_loss(history,model.name)\n",
        "\n",
        "  return test_results"
      ],
      "execution_count": null,
      "outputs": []
    },
    {
      "cell_type": "code",
      "metadata": {
        "id": "wEfHxxwfC69P"
      },
      "source": [
        "#function to get the best model\n",
        "def get_best_model(test_results):\n",
        "  return test_results[test_results.min_val_loss==test_results.min_val_loss.min()]\n"
      ],
      "execution_count": null,
      "outputs": []
    },
    {
      "cell_type": "code",
      "metadata": {
        "id": "K9VL3drUoEmU"
      },
      "source": [
        "def expand_hlayers(hlayers_arr):\n",
        "  arr=[]\n",
        "  for i in range(len(hlayers_arr)):\n",
        "    arr.append(list(range(hlayers_arr[i][0],hlayers_arr[i][1],hlayers_arr[i][2])))\n",
        "  return arr"
      ],
      "execution_count": null,
      "outputs": []
    },
    {
      "cell_type": "code",
      "metadata": {
        "id": "iyagOJlMNISG"
      },
      "source": [
        "def return_allcombinations(arr):\n",
        "  #calculate dimensions of final array\n",
        "  cum_prod=np.cumprod([len(arr[i]) for i in range(len(arr))])\n",
        "  m=np.prod([len(arr[i]) for i in range(len(arr))])\n",
        "  hlayer_arr=np.array(arr[0],dtype=int).repeat(m/cum_prod[0])\n",
        "  for i in range(1,len(arr)):\n",
        "      cc=np.array(arr[i],dtype=int).repeat(m/cum_prod[i])\n",
        "\n",
        "      for j in range(np.int(cum_prod[i-1])-1):\n",
        "        cc=np.hstack((cc,np.array(arr[i],dtype=int).repeat(m/cum_prod[i])))\n",
        "      hlayer_arr=np.vstack((hlayer_arr,cc))\n",
        "  return hlayer_arr.T"
      ],
      "execution_count": null,
      "outputs": []
    },
    {
      "cell_type": "code",
      "metadata": {
        "id": "AD9U4Gp9zQ7W"
      },
      "source": [
        "#Store evaluate results for comparing between models\n",
        "test_results = pd.DataFrame(columns=['model_name',\n",
        "                                     'batch_size',\n",
        "                                     'loss',\n",
        "                                     'optimizer',\n",
        "                                     'total_epochs',\n",
        "                                     'min_train_loss',\n",
        "                                     'epoch_at_min_train_loss',\n",
        "                                     'min_val_loss',\n",
        "                                     'epoch_at_min_val_loss',\n",
        "                                     'test_eval_results',\n",
        "                                     'timestamp'])"
      ],
      "execution_count": null,
      "outputs": []
    },
    {
      "cell_type": "code",
      "metadata": {
        "id": "OjWjCgLa_Rdn"
      },
      "source": [
        "#Define reusable model params\n",
        "config={\n",
        "  'batch_size':np.int(0.3*len(X_train)),\n",
        "  'feature_size':X_train.shape[1],\n",
        "  'loss':'mean_absolute_error',\n",
        "  'optimizer':optimizers.Adadelta(lr=0.05),\n",
        "  'epochs':1000,\n",
        "  'validation_split':0.25\n",
        "}"
      ],
      "execution_count": null,
      "outputs": []
    },
    {
      "cell_type": "code",
      "metadata": {
        "id": "bO-rCOTkqhGN"
      },
      "source": [
        "#b. Normalize data using keras inbuilt normalizer module\n",
        "#Important note - train the normalizer only on the training dataset, use the trained normalizer directly on the test set. DO NOT RELEARN NORMALIZER ON TEST SET\n",
        "normalizer=preprocessing.Normalization()\n",
        "normalizer.adapt(np.array(X_train))"
      ],
      "execution_count": null,
      "outputs": []
    },
    {
      "cell_type": "code",
      "metadata": {
        "id": "vhwLcJ16J1i3"
      },
      "source": [
        "input=keras.layers.Dense(8,input_shape=(None,8),activation='relu')\n",
        "output=keras.layers.Dense(1)\n",
        "initializer = HeUniform(seed=1760)"
      ],
      "execution_count": null,
      "outputs": []
    },
    {
      "cell_type": "code",
      "metadata": {
        "id": "U7Edmm8_fxub"
      },
      "source": [
        "#path to save trained models\n",
        "project_name='CA_houseprices_regression'\n",
        "model_path='/content/drive/My Drive/saved models/'+project_name"
      ],
      "execution_count": null,
      "outputs": []
    },
    {
      "cell_type": "code",
      "metadata": {
        "id": "iugbAtbyHHoj"
      },
      "source": [
        "#model_config=[(normalizer,[(5,8,1),(2,4,1),(1,4,1)],output)]\n",
        "model_config=[(normalizer,[(5,7,1),(2,3,1),(1,2,1)],output)]"
      ],
      "execution_count": null,
      "outputs": []
    },
    {
      "cell_type": "code",
      "metadata": {
        "id": "XrO_0GT2IMMa",
        "colab": {
          "base_uri": "https://localhost:8080/"
        },
        "outputId": "8cc0aea2-c5c5-4b45-a201-5db711a7f3b8"
      },
      "source": [
        "%%time\n",
        "for i in range(len(model_config)):\n",
        "  arr=expand_hlayers(model_config[i][1])\n",
        "\n",
        "  hlayer_arr=return_allcombinations(arr)\n",
        "  if len(hlayer_arr.shape)==1:\n",
        "    hlayer_arr=hlayer_arr.reshape(hlayer_arr.shape[0],1)\n",
        "\n",
        "  for j in range(hlayer_arr.shape[0]):\n",
        "    tf.keras.backend.clear_session()\n",
        "    model_name='Dense'+['.'.join(str(hlayer_arr[j][l]) for l in range(len(hlayer_arr[j])))][0]\n",
        "    #Define and initialize model\n",
        "    model=keras.Sequential(name=model_name)\n",
        "    #Add input layer\n",
        "    model.add(model_config[i][0])\n",
        "    #add hidden layers\n",
        "    for k in range(hlayer_arr.shape[1]):\n",
        "      model.add(layers.Dense(np.int(hlayer_arr[j,k]),activation='relu',kernel_initializer=initializer))\n",
        "    #Add output layer\n",
        "    model.add(layers.Dense(1))  \n",
        "    model.compile(loss=config['loss'],optimizer=config['optimizer'])    \n",
        "    models=[model]\n",
        "    test_results=evaluate_models(models,config,test_results,X_train,Y_train,X_test,Y_test)\n",
        "    model.save(model_path+'/'+model.name+'/')\n",
        "\n",
        "get_best_model(test_results)"
      ],
      "execution_count": null,
      "outputs": [
        {
          "output_type": "stream",
          "text": [
            "94/94 [==============================] - 0s 765us/step - loss: 51313.4023\n",
            "INFO:tensorflow:Assets written to: /content/drive/My Drive/saved models/CA_houseprices_regression/Dense5.2.1/assets\n",
            "94/94 [==============================] - 0s 844us/step - loss: 44885.4492\n",
            "INFO:tensorflow:Assets written to: /content/drive/My Drive/saved models/CA_houseprices_regression/Dense6.2.1/assets\n",
            "CPU times: user 50.8 s, sys: 2.27 s, total: 53 s\n",
            "Wall time: 44.3 s\n"
          ],
          "name": "stdout"
        }
      ]
    },
    {
      "cell_type": "code",
      "metadata": {
        "id": "4EKX_o3ULioM",
        "colab": {
          "base_uri": "https://localhost:8080/",
          "height": 81
        },
        "outputId": "010cb185-97a6-43cd-a771-54efaf31de9f"
      },
      "source": [
        "get_best_model(test_results)"
      ],
      "execution_count": null,
      "outputs": [
        {
          "output_type": "execute_result",
          "data": {
            "text/html": [
              "<div>\n",
              "<style scoped>\n",
              "    .dataframe tbody tr th:only-of-type {\n",
              "        vertical-align: middle;\n",
              "    }\n",
              "\n",
              "    .dataframe tbody tr th {\n",
              "        vertical-align: top;\n",
              "    }\n",
              "\n",
              "    .dataframe thead th {\n",
              "        text-align: right;\n",
              "    }\n",
              "</style>\n",
              "<table border=\"1\" class=\"dataframe\">\n",
              "  <thead>\n",
              "    <tr style=\"text-align: right;\">\n",
              "      <th></th>\n",
              "      <th>model_name</th>\n",
              "      <th>batch_size</th>\n",
              "      <th>loss</th>\n",
              "      <th>optimizer</th>\n",
              "      <th>total_epochs</th>\n",
              "      <th>min_train_loss</th>\n",
              "      <th>epoch_at_min_train_loss</th>\n",
              "      <th>min_val_loss</th>\n",
              "      <th>epoch_at_min_val_loss</th>\n",
              "      <th>test_eval_results</th>\n",
              "      <th>timestamp</th>\n",
              "    </tr>\n",
              "  </thead>\n",
              "  <tbody>\n",
              "    <tr>\n",
              "      <th>12</th>\n",
              "      <td>Dense6.3.3</td>\n",
              "      <td>3400</td>\n",
              "      <td>mean_absolute_error</td>\n",
              "      <td>&lt;tensorflow.python.keras.optimizer_v2.adadelta...</td>\n",
              "      <td>1000</td>\n",
              "      <td>41736.664062</td>\n",
              "      <td>996</td>\n",
              "      <td>49702.117188</td>\n",
              "      <td>976</td>\n",
              "      <td>44194.230469</td>\n",
              "      <td>11/02/20 02:15:01</td>\n",
              "    </tr>\n",
              "  </tbody>\n",
              "</table>\n",
              "</div>"
            ],
            "text/plain": [
              "    model_name batch_size  ... test_eval_results          timestamp\n",
              "12  Dense6.3.3       3400  ...      44194.230469  11/02/20 02:15:01\n",
              "\n",
              "[1 rows x 11 columns]"
            ]
          },
          "metadata": {
            "tags": []
          },
          "execution_count": 19
        }
      ]
    },
    {
      "cell_type": "code",
      "metadata": {
        "id": "Xp6kX1iheqyo"
      },
      "source": [
        "callback_ES = tf.keras.callbacks.EarlyStopping(monitor='val_loss', patience=100,restore_best_weights=True)"
      ],
      "execution_count": null,
      "outputs": []
    },
    {
      "cell_type": "code",
      "metadata": {
        "id": "FX-SBJWPgnko",
        "colab": {
          "base_uri": "https://localhost:8080/"
        },
        "outputId": "08e80ef8-91e6-4db5-8640-64b4bf126249"
      },
      "source": [
        "m_final = keras.models.load_model(model_path+'/Dense6.2.1')\n",
        "m_final.summary()"
      ],
      "execution_count": null,
      "outputs": [
        {
          "output_type": "stream",
          "text": [
            "Model: \"Dense6.2.1\"\n",
            "_________________________________________________________________\n",
            "Layer (type)                 Output Shape              Param #   \n",
            "=================================================================\n",
            "normalization (Normalization (None, 8)                 17        \n",
            "_________________________________________________________________\n",
            "dense (Dense)                (None, 6)                 54        \n",
            "_________________________________________________________________\n",
            "dense_1 (Dense)              (None, 2)                 14        \n",
            "_________________________________________________________________\n",
            "dense_2 (Dense)              (None, 1)                 3         \n",
            "_________________________________________________________________\n",
            "dense_3 (Dense)              (None, 1)                 2         \n",
            "=================================================================\n",
            "Total params: 90\n",
            "Trainable params: 73\n",
            "Non-trainable params: 17\n",
            "_________________________________________________________________\n"
          ],
          "name": "stdout"
        }
      ]
    },
    {
      "cell_type": "code",
      "metadata": {
        "id": "y6hISY9ZfEYz"
      },
      "source": [
        "tf.keras.backend.clear_session()\n",
        "m_final=keras.Sequential(name='final',\n",
        "  layers=[\n",
        "  normalizer,                            \n",
        "  layers.Dense(5,activation='relu',kernel_initializer=initializer),\n",
        "  layers.Dense(2,activation='relu',kernel_initializer=initializer),\n",
        "  layers.Dense(3,activation='relu',kernel_initializer=initializer),\n",
        "  layers.Dense(1)\n",
        "])\n",
        "m_final.compile(loss=config['loss'],optimizer=config['optimizer'])\n"
      ],
      "execution_count": null,
      "outputs": []
    },
    {
      "cell_type": "code",
      "metadata": {
        "id": "AcaZopMnh0oI",
        "colab": {
          "base_uri": "https://localhost:8080/"
        },
        "outputId": "ed2116fe-0da3-4218-b4cb-8aacc5e1dfa6"
      },
      "source": [
        "models=[m_final]\n",
        "test_results=evaluate_models(models,config,test_results,X_train,Y_train,X_test,Y_test)\n"
      ],
      "execution_count": null,
      "outputs": [
        {
          "output_type": "stream",
          "text": [
            "94/94 [==============================] - 0s 747us/step - loss: 44772.6602\n"
          ],
          "name": "stdout"
        }
      ]
    },
    {
      "cell_type": "code",
      "metadata": {
        "id": "el9_Ja-Mpfsw"
      },
      "source": [
        ""
      ],
      "execution_count": null,
      "outputs": []
    }
  ]
}