{
  "nbformat": 4,
  "nbformat_minor": 0,
  "metadata": {
    "colab": {
      "name": "04_sh_evaluate_model.ipynb",
      "provenance": [],
      "collapsed_sections": [],
      "mount_file_id": "1cCrMUU879Oup4a598VTeu5gOkYye6RBT",
      "authorship_tag": "ABX9TyM2Suz9q8IErzddHpf+zfu7",
      "include_colab_link": true
    },
    "kernelspec": {
      "name": "python3",
      "display_name": "Python 3"
    }
  },
  "cells": [
    {
      "cell_type": "markdown",
      "metadata": {
        "id": "view-in-github",
        "colab_type": "text"
      },
      "source": [
        "<a href=\"https://colab.research.google.com/github/sharsulkar/H1B_LCA_outcome_prediction/blob/main/prototyping/notebooks/04_sh_evaluate_model.ipynb\" target=\"_parent\"><img src=\"https://colab.research.google.com/assets/colab-badge.svg\" alt=\"Open In Colab\"/></a>"
      ]
    },
    {
      "cell_type": "code",
      "metadata": {
        "id": "xx0F9QDqMBDs"
      },
      "source": [
        "import numpy as np\r\n",
        "np.random.seed(42)\r\n",
        "import pandas as pd\r\n",
        "from pickle import dump, load\r\n",
        "from sklearn.metrics import f1_score, confusion_matrix\r\n",
        "from sklearn.base import BaseEstimator, TransformerMixin\r\n",
        "import matplotlib.pyplot as plt"
      ],
      "execution_count": 22,
      "outputs": []
    },
    {
      "cell_type": "code",
      "metadata": {
        "id": "Q2OHXhFZOKaX"
      },
      "source": [
        "#Custom transformer to drop rows based on filter\r\n",
        "class droprows_Transformer(BaseEstimator, TransformerMixin):\r\n",
        "    def __init__(self):\r\n",
        "      self.row_index = None # row index to drop\r\n",
        "      self.inplace=True\r\n",
        "      self.reset_index=True\r\n",
        "\r\n",
        "    def fit( self, X, y=None):\r\n",
        "      return self \r\n",
        "    \r\n",
        "    def transform(self, X, y=None):\r\n",
        "      self.row_index=X[~X.CASE_STATUS.isin(['Certified','Denied'])].index\r\n",
        "      X.drop(index=self.row_index,inplace=self.inplace)\r\n",
        "      if self.reset_index:\r\n",
        "        X.reset_index(inplace=True,drop=True)\r\n",
        "      return X"
      ],
      "execution_count": 7,
      "outputs": []
    },
    {
      "cell_type": "code",
      "metadata": {
        "id": "X7cA4CquOKQF"
      },
      "source": [
        "class buildfeatures_Transformer(BaseEstimator, TransformerMixin):\r\n",
        "  def __init__(self, input_columns):\r\n",
        "    self.input_columns=input_columns\r\n",
        "\r\n",
        "  def date_diff(self,date1,date2):\r\n",
        "    return date1-date2\r\n",
        "\r\n",
        "  def is_USA(self,country):\r\n",
        "    if country=='UNITED STATES OF AMERICA':\r\n",
        "      USA_YN='Y' \r\n",
        "    else:\r\n",
        "      USA_YN='N'\r\n",
        "    return USA_YN\r\n",
        "\r\n",
        "  def fit(self, X, y=None):\r\n",
        "    return self\r\n",
        "\r\n",
        "  def transform(self, X, y=None):\r\n",
        "    # Processing_Days and Validity_days\r\n",
        "    X['PROCESSING_DAYS']=self.date_diff(X.DECISION_DATE, X.RECEIVED_DATE).dt.days\r\n",
        "    X['VALIDITY_DAYS']=self.date_diff(X.END_DATE, X.BEGIN_DATE).dt.days\r\n",
        "\r\n",
        "    # SOC_Codes\r\n",
        "    X['SOC_CD2']=X.SOC_CODE.str.split(pat='-',n=1,expand=True)[0]\r\n",
        "    X['SOC_CD4']=X.SOC_CODE.str.split(pat='-',n=1,expand=True)[1].str.split(pat='.',n=1,expand=True)[0]\r\n",
        "    X['SOC_CD_ONET']=X.SOC_CODE.str.split(pat='-',n=1,expand=True)[1].str.split(pat='.',n=1,expand=True)[1]\r\n",
        "\r\n",
        "    # USA_YN\r\n",
        "    X['USA_YN']=X.EMPLOYER_COUNTRY.apply(self.is_USA)\r\n",
        "\r\n",
        "    # Employer_Worksite_YN\r\n",
        "    X['EMPLOYER_WORKSITE_YN']='Y'\r\n",
        "    X.loc[X.EMPLOYER_POSTAL_CODE.ne(X.WORKSITE_POSTAL_CODE),'EMPLOYER_WORKSITE_YN']='N'\r\n",
        "\r\n",
        "    # OES_YN\r\n",
        "    X['OES_YN']='Y'\r\n",
        "    X.iloc[X[~X.PW_OTHER_SOURCE.isna()].index,X.columns.get_loc('OES_YN')]='N'\r\n",
        "\r\n",
        "    # SURVEY_YEAR\r\n",
        "    X['SURVEY_YEAR']=pd.to_datetime(X.PW_OES_YEAR.str.split(pat='-',n=1,expand=True)[0]).dt.to_period('Y')\r\n",
        "    PW_other_year=X[X.OES_YN=='N'].PW_OTHER_YEAR\r\n",
        "    #Rename the series and update dataframe with series object\r\n",
        "    PW_other_year.rename(\"SURVEY_YEAR\",inplace=True)\r\n",
        "    X.update(PW_other_year)\r\n",
        "\r\n",
        "    # WAGE_ABOVE_PREVAILING_HR\r\n",
        "    X['WAGE_PER_HR']=X.WAGE_RATE_OF_PAY_FROM\r\n",
        "    #compute for Year\r\n",
        "    X.iloc[X[X.WAGE_UNIT_OF_PAY=='Year'].index,X.columns.get_loc('WAGE_PER_HR')]=X[X.WAGE_UNIT_OF_PAY=='Year'].WAGE_RATE_OF_PAY_FROM/2067\r\n",
        "    #compute for Month\r\n",
        "    X.iloc[X[X.WAGE_UNIT_OF_PAY=='Month'].index,X.columns.get_loc('WAGE_PER_HR')]=X[X.WAGE_UNIT_OF_PAY=='Month'].WAGE_RATE_OF_PAY_FROM/172\r\n",
        "\r\n",
        "    #initialize with WAGE_RATE_OF_PAY_FROM\r\n",
        "    X['PW_WAGE_PER_HR']=X.PREVAILING_WAGE\r\n",
        "    #compute for Year\r\n",
        "    X.iloc[X[X.PW_UNIT_OF_PAY=='Year'].index,X.columns.get_loc('PW_WAGE_PER_HR')]=X[X.PW_UNIT_OF_PAY=='Year'].PREVAILING_WAGE/2067\r\n",
        "    #compute for Month\r\n",
        "    X.iloc[X[X.PW_UNIT_OF_PAY=='Month'].index,X.columns.get_loc('PW_WAGE_PER_HR')]=X[X.PW_UNIT_OF_PAY=='Month'].PREVAILING_WAGE/172\r\n",
        "\r\n",
        "    X['WAGE_ABOVE_PW_HR']=X.WAGE_PER_HR-X.PW_WAGE_PER_HR\r\n",
        "\r\n",
        "    return X"
      ],
      "execution_count": 8,
      "outputs": []
    },
    {
      "cell_type": "code",
      "metadata": {
        "id": "ErwBdWIPOAAe"
      },
      "source": [
        "#Custom transformer to drop features for input feature list\r\n",
        "class dropfeatures_Transformer(BaseEstimator, TransformerMixin):\r\n",
        "    def __init__(self, columns, inplace):\r\n",
        "      self.columns = columns # list of categorical columns in input Dataframe\r\n",
        "      self.inplace=True\r\n",
        "\r\n",
        "    def fit( self, X, y=None):\r\n",
        "      return self \r\n",
        "    \r\n",
        "    def transform(self, X, y=None):\r\n",
        "      X.drop(columns=self.columns,inplace=self.inplace)\r\n",
        "      return X"
      ],
      "execution_count": 9,
      "outputs": []
    },
    {
      "cell_type": "code",
      "metadata": {
        "id": "RovSTIjQDH05"
      },
      "source": [
        "#Custom transformer to compute Random Standard encoding for categorical features for incrementaly encoding data\r\n",
        "class RSE_Transformer(BaseEstimator, TransformerMixin):\r\n",
        "    #Class Constructor\r\n",
        "    def __init__( self, cat_cols, categories=None, RSE=None ):\r\n",
        "        self.cat_cols = cat_cols # list of categorical columns in input Dataframe\r\n",
        "        self.categories = None # Array of unique non-numeric values in each categorical column\r\n",
        "        self.RSE = None # Array of Random Standard encoding for each row in categories\r\n",
        "        \r\n",
        "    def fit( self, X, y=None ):\r\n",
        "      #Get a list of all unique categorical values for each column\r\n",
        "      if self.categories is None:\r\n",
        "        self.categories = [X[column].unique() for column in cat_cols]\r\n",
        "\r\n",
        "        #replace missing values and append missing value label to each column to handle missing values in test dataset that might not be empty in train dataset\r\n",
        "        for i in range(len(self.categories)):\r\n",
        "          if np.array(self.categories[i].astype(str)!=str(np.nan)).all():\r\n",
        "            self.categories[i]=np.append(self.categories[i],np.nan)\r\n",
        "\r\n",
        "        #compute RandomStandardEncoding \r\n",
        "        self.RSE=[np.random.normal(0,1,len(self.categories[i])) for i in range(len(self.cat_cols))]\r\n",
        "\r\n",
        "      else:\r\n",
        "        for i in range(len(self.cat_cols)):\r\n",
        "          #append new unique categories to self.categories\r\n",
        "          new_categories=list(set(X[self.cat_cols[i]].unique()).difference(set(self.categories[i])))\r\n",
        "          if new_categories!=[]:\r\n",
        "            #print('not empty') #replace with logging call\r\n",
        "            #print('categories before append',len(categories[i])) #logging call\r\n",
        "            self.categories[i]=np.append(self.categories[i],new_categories) #append new categories to the end\r\n",
        "            new_RSE=np.random.normal(0,1,len(new_categories)) #generate new RSE values\r\n",
        "            #regenrate if overlap found with existing encodings\r\n",
        "            if set(new_RSE).issubset(set(self.RSE[i])): \r\n",
        "              #print('yes') #loggin call\r\n",
        "              new_RSE=np.random.normal(0,1,len(new_categories))\r\n",
        "            \r\n",
        "            self.RSE[i]=np.append(self.RSE[i],new_RSE) #append new RSE values\r\n",
        "          #print('new categories',len(new_categories)) #logging call\r\n",
        "          #print('categories after append',len(categories[i]))\r\n",
        "     \r\n",
        "      return self \r\n",
        "    \r\n",
        "    def transform(self, X, y=None):\r\n",
        "      for i in range(len(self.cat_cols)):\r\n",
        "        #Temporary measure to handle previously unseen values\r\n",
        "        #replace unseen values with NaN\r\n",
        "        X.loc[X[~X[(str(self.cat_cols[i]))].isin(self.categories[i])].index,(str(self.cat_cols[i]))]=np.NaN\r\n",
        "\r\n",
        "        #replace seen values with encoding\r\n",
        "        X.loc[:,(str(self.cat_cols[i]))].replace(dict(zip(self.categories[i], self.RSE[i])),inplace=True)\r\n",
        "      return X    \r\n",
        "\r\n",
        "    def inverse_transform(self,X):\r\n",
        "      for i in range(len(self.cat_cols)):\r\n",
        "        X.loc[:,(str(self.cat_cols[i]))].replace(dict(zip(self.RSE[i], self.categories[i])),inplace=True)\r\n",
        "      return X"
      ],
      "execution_count": 10,
      "outputs": []
    },
    {
      "cell_type": "code",
      "metadata": {
        "id": "Tx7OsDXbDKSZ"
      },
      "source": [
        "#custom transformer for incrementally scaling to standard scale using pooled mean and variance\r\n",
        "class CustomStandardScaler(BaseEstimator, TransformerMixin):\r\n",
        "  def __init__(self,mean=None,var=None,n_samples_seen=None,scale=None):\r\n",
        "    self.mean=None #mean\r\n",
        "    self.var=None\r\n",
        "    self.n_samples_seen=None\r\n",
        "    self.scale=None\r\n",
        "\r\n",
        "  def compute_sample_mean(self,X):\r\n",
        "    return np.mean(X,axis=0)\r\n",
        "\r\n",
        "  def compute_sample_var(self,X):\r\n",
        "    return np.var(X,axis=0)\r\n",
        "\r\n",
        "  def compute_sample_size(self,X):\r\n",
        "    #assuming X is imputed, if there are null values, throw error aksing that X be imputed first\r\n",
        "    return len(X)\r\n",
        "\r\n",
        "  def compute_pooled_mean(self,X):\r\n",
        "    #compute the sample mean and size\r\n",
        "    sample_mean=self.compute_sample_mean(X)\r\n",
        "    sample_count=self.compute_sample_size(X) \r\n",
        "    #compute pool mean\r\n",
        "    pool_mean=(self.mean*self.n_samples_seen + sample_mean*sample_count)/(self.n_samples_seen + sample_count)\r\n",
        "\r\n",
        "    return pool_mean\r\n",
        "\r\n",
        "  def compute_pooled_var(self,X):\r\n",
        "    #compute the sample var and size\r\n",
        "    sample_var=self.compute_sample_var(X)\r\n",
        "    sample_count=self.compute_sample_size(X) \r\n",
        "    #compute pool variance\r\n",
        "    pool_var=(self.var*(self.n_samples_seen - 1) + sample_var*(sample_count - 1))/(self.n_samples_seen + sample_count - 2)\r\n",
        "\r\n",
        "    return pool_var\r\n",
        "\r\n",
        "  def fit(self,X):\r\n",
        "    if self.mean is None:\r\n",
        "      self.mean=self.compute_sample_mean(X)\r\n",
        "    else: \r\n",
        "      self.mean=self.compute_pooled_mean(X)\r\n",
        "    \r\n",
        "    if self.var is None:\r\n",
        "      self.var=self.compute_sample_var(X)\r\n",
        "    else: \r\n",
        "      self.var=self.compute_pooled_var(X)\r\n",
        "\r\n",
        "    if self.n_samples_seen is None:\r\n",
        "      self.n_samples_seen=self.compute_sample_size(X) \r\n",
        "    else: \r\n",
        "      self.n_samples_seen+=self.compute_sample_size(X)\r\n",
        "    return self\r\n",
        "\r\n",
        "  def transform(self,X):\r\n",
        "    return (X-self.mean)/np.sqrt(self.var)\r\n",
        "\r\n",
        "  def inverse_transform(self,X):\r\n",
        "    return X*np.sqrt(self.var) + self.mean\r\n",
        "\r\n"
      ],
      "execution_count": 11,
      "outputs": []
    },
    {
      "cell_type": "code",
      "metadata": {
        "id": "hUjRJf2LOlCm"
      },
      "source": [
        "def read_csv_to_list(filepath,header=None,squeeze=True):\r\n",
        "  return list(pd.read_csv(filepath,header=None,squeeze=True))"
      ],
      "execution_count": 15,
      "outputs": []
    },
    {
      "cell_type": "code",
      "metadata": {
        "id": "VxB-wUjeM0g_"
      },
      "source": [
        "model=load(open('/content/drive/MyDrive/saved_models/H1B_LCA_prediction/adaboost_batch_train.pkl','rb'))\r\n",
        "all_preprocess=load(open('/content/drive/MyDrive/saved_models/H1B_LCA_prediction/pipeline_batch_train.pkl','rb'))\r\n",
        "build_feature_pipe=load(open('/content/drive/MyDrive/saved_models/H1B_LCA_prediction/build_feature_pipe_batch_train.pkl','rb'))"
      ],
      "execution_count": 12,
      "outputs": []
    },
    {
      "cell_type": "code",
      "metadata": {
        "id": "NNQhIeDpOfXv"
      },
      "source": [
        "#Import Q1 and Q2 data into 2 separate dataframes \r\n",
        "required_features=read_csv_to_list('https://raw.githubusercontent.com/sharsulkar/H1B_LCA_outcome_prediction/main/data/processed/required_features.csv',header=None,squeeze=True)\r\n",
        "\r\n",
        "data3_df=pd.read_excel('/content/drive/MyDrive/Datasets/H1B_LCA_prediction/LCA_Disclosure_Data_FY2020_Q3.xlsx',usecols=required_features)\r\n",
        "data3_dfcopy=data3_df.copy()"
      ],
      "execution_count": 16,
      "outputs": []
    },
    {
      "cell_type": "code",
      "metadata": {
        "id": "-OXMJaCGOsSG"
      },
      "source": [
        "#build features + drop rows where CASE_STATUs not in ['Certified','Denied']\r\n",
        "fe_df=build_feature_pipe.transform(data3_df)"
      ],
      "execution_count": 17,
      "outputs": []
    },
    {
      "cell_type": "code",
      "metadata": {
        "id": "OxwKtTeVE4zy"
      },
      "source": [
        "#separate the target variable and encode\r\n",
        "y_test=fe_df.pop('CASE_STATUS')\r\n",
        "y_test.replace(['Certified','Denied'],[0,1],inplace=True)"
      ],
      "execution_count": 18,
      "outputs": []
    },
    {
      "cell_type": "code",
      "metadata": {
        "id": "aRklH-N8FM8i",
        "colab": {
          "base_uri": "https://localhost:8080/"
        },
        "outputId": "83235095-1b6a-4471-f03d-b40ea07688b8"
      },
      "source": [
        "#apply remaining preprocess pipeline to the semi processed dataframe\r\n",
        "X_test=all_preprocess.transform(fe_df)\r\n",
        "print(X_test.shape)"
      ],
      "execution_count": 19,
      "outputs": [
        {
          "output_type": "stream",
          "text": [
            "(182769, 31)\n"
          ],
          "name": "stdout"
        }
      ]
    },
    {
      "cell_type": "code",
      "metadata": {
        "colab": {
          "base_uri": "https://localhost:8080/"
        },
        "id": "MV5p3HMIO3fu",
        "outputId": "5b621289-ebef-4669-e9fb-9efde003fb58"
      },
      "source": [
        "print(f1_score(y_true=y_test,y_pred=model.predict(X_test),average='weighted'))\r\n",
        "print(f1_score(y_true=y_test,y_pred=model.predict(X_test),average=None))\r\n",
        "confusion_matrix(y_true=y_test,y_pred=model.predict(X_test))"
      ],
      "execution_count": 20,
      "outputs": [
        {
          "output_type": "stream",
          "text": [
            "0.9983468947154427\n",
            "[0.99914124 0.90823252]\n"
          ],
          "name": "stdout"
        },
        {
          "output_type": "execute_result",
          "data": {
            "text/plain": [
              "array([[180919,    253],\n",
              "       [    58,   1539]])"
            ]
          },
          "metadata": {
            "tags": []
          },
          "execution_count": 20
        }
      ]
    },
    {
      "cell_type": "code",
      "metadata": {
        "colab": {
          "base_uri": "https://localhost:8080/",
          "height": 367
        },
        "id": "d2FFvPB9QXTu",
        "outputId": "63baff24-57f4-43d4-da9f-54ee52507660"
      },
      "source": [
        "plot_colors = \"br\"\r\n",
        "plot_step = 0.02\r\n",
        "class_names = \"AB\"\r\n",
        "\r\n",
        "plt.figure(figsize=(10, 5))\r\n",
        "twoclass_output = model.decision_function(X_test)\r\n",
        "plot_range = (twoclass_output.min(), twoclass_output.max())\r\n",
        "\r\n",
        "for i, n, c in zip(range(2), class_names, plot_colors):\r\n",
        "    plt.hist(twoclass_output[y_test == i],\r\n",
        "             bins=10,\r\n",
        "             range=plot_range,\r\n",
        "             facecolor=c,\r\n",
        "             label='Class %s' % n,\r\n",
        "             alpha=.5,\r\n",
        "             edgecolor='k')\r\n",
        "x1, x2, y1, y2 = plt.axis()\r\n",
        "plt.axis((x1, x2, y1, y2 * 1.2))\r\n",
        "plt.legend(loc='upper right')\r\n",
        "plt.ylabel('Samples')\r\n",
        "plt.xlabel('Score')\r\n",
        "plt.title('Decision Scores')"
      ],
      "execution_count": 24,
      "outputs": [
        {
          "output_type": "execute_result",
          "data": {
            "text/plain": [
              "Text(0.5, 1.0, 'Decision Scores')"
            ]
          },
          "metadata": {
            "tags": []
          },
          "execution_count": 24
        },
        {
          "output_type": "display_data",
          "data": {
            "image/png": "[encoded data removed]",
            "text/plain": [
              "<Figure size 720x360 with 1 Axes>"
            ]
          },
          "metadata": {
            "tags": [],
            "needs_background": "light"
          }
        }
      ]
    }
  ]
}