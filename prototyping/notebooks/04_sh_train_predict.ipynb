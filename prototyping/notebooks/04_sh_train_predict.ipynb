{
  "nbformat": 4,
  "nbformat_minor": 0,
  "metadata": {
    "colab": {
      "name": "04_sh_train_predict.ipynb",
      "provenance": [],
      "collapsed_sections": [],
      "toc_visible": true,
      "mount_file_id": "1Xfe-WqHhAQMKotkcEVrkedkt0UaRQaTt",
      "authorship_tag": "ABX9TyOuQwsRfZCN9Oy/SgEbCJa/",
      "include_colab_link": true
    },
    "kernelspec": {
      "name": "python3",
      "display_name": "Python 3"
    }
  },
  "cells": [
    {
      "cell_type": "markdown",
      "metadata": {
        "id": "view-in-github",
        "colab_type": "text"
      },
      "source": [
        "<a href=\"https://colab.research.google.com/github/sharsulkar/H1B_LCA_outcome_prediction/blob/main/prototyping/notebooks/04_sh_train_predict.ipynb\" target=\"_parent\"><img src=\"https://colab.research.google.com/assets/colab-badge.svg\" alt=\"Open In Colab\"/></a>"
      ]
    },
    {
      "cell_type": "code",
      "metadata": {
        "id": "0mJ02Fc1dZxp"
      },
      "source": [
        "import pandas as pd\r\n",
        "import numpy as np\r\n",
        "np.random.seed(42)\r\n",
        "import random"
      ],
      "execution_count": 2,
      "outputs": []
    },
    {
      "cell_type": "code",
      "metadata": {
        "id": "pxpWBH30fut5"
      },
      "source": [
        "#source and encode the output variable\r\n",
        "Y=pd.read_excel('https://www.dol.gov/sites/dolgov/files/ETA/oflc/pdfs/LCA_Disclosure_Data_FY2020_Q2.xlsx',usecols=['CASE_STATUS'])\r\n",
        "drop_row_index=Y[~Y.CASE_STATUS.isin(['Certified','Denied'])].index\r\n",
        "Y.drop(index=drop_row_index, inplace=True)\r\n",
        "Y.reset_index(inplace=True,drop=True)\r\n",
        "Y.replace(['Certified','Denied'],[0,1],inplace=True)"
      ],
      "execution_count": 16,
      "outputs": []
    },
    {
      "cell_type": "code",
      "metadata": {
        "colab": {
          "base_uri": "https://localhost:8080/"
        },
        "id": "u9diL2IQiRh4",
        "outputId": "b93608b4-09f6-4d5c-e1ee-24042d467b0a"
      },
      "source": [
        "#check the class distribution \r\n",
        "Y.groupby('CASE_STATUS').size()"
      ],
      "execution_count": 20,
      "outputs": [
        {
          "output_type": "execute_result",
          "data": {
            "text/plain": [
              "CASE_STATUS\n",
              "0    150011\n",
              "1      1186\n",
              "dtype: int64"
            ]
          },
          "metadata": {
            "tags": []
          },
          "execution_count": 20
        }
      ]
    },
    {
      "cell_type": "code",
      "metadata": {
        "id": "o66YjGDbiadf"
      },
      "source": [
        "#Save to drive for future use\r\n",
        "Y.to_csv('/content/drive/MyDrive/Datasets/expected.csv')"
      ],
      "execution_count": 21,
      "outputs": []
    },
    {
      "cell_type": "code",
      "metadata": {
        "colab": {
          "base_uri": "https://localhost:8080/"
        },
        "id": "EFcnfm3JemS_",
        "outputId": "5e0c4f41-2dbb-4c94-ca63-94520ee0f768"
      },
      "source": [
        "#import features from saved file \r\n",
        "processed_df=pd.read_csv('/content/drive/MyDrive/Datasets/processed.csv',index_col=0)\r\n",
        "processed_df.shape"
      ],
      "execution_count": 8,
      "outputs": [
        {
          "output_type": "execute_result",
          "data": {
            "text/plain": [
              "(151197, 31)"
            ]
          },
          "metadata": {
            "tags": []
          },
          "execution_count": 8
        }
      ]
    },
    {
      "cell_type": "code",
      "metadata": {
        "id": "ju5xzKljnb42"
      },
      "source": [
        "processed_df['CASE_STATUS']=Y\r\n",
        "processed_df.to_csv('/content/drive/MyDrive/Datasets/LCA_q2_processed.csv')"
      ],
      "execution_count": 44,
      "outputs": []
    },
    {
      "cell_type": "code",
      "metadata": {
        "id": "TETyTseXno--"
      },
      "source": [
        "processed_df=pd.read_csv('/content/drive/MyDrive/Datasets/LCA_q2_processed.csv',index_col=0)"
      ],
      "execution_count": 128,
      "outputs": []
    },
    {
      "cell_type": "code",
      "metadata": {
        "id": "lCJoFd4jnukv"
      },
      "source": [
        "processed_df.head()"
      ],
      "execution_count": null,
      "outputs": []
    },
    {
      "cell_type": "code",
      "metadata": {
        "id": "dDGTO4eyirIQ"
      },
      "source": [
        "#algorithm to create mini batches where each batch has a equal distribution of both classes\r\n",
        "class_count=2 #number of classes to predict\r\n",
        "batch_size=500 #batch size of train+val dataset\r\n",
        "val_size=0.2 #validation data % within batch\r\n",
        "\r\n",
        "#collection of indexes for both classes from the entire training dataset\r\n",
        "class_0_index=processed_df[processed_df.CASE_STATUS==0].index \r\n",
        "class_1_index=processed_df[processed_df.CASE_STATUS==1].index"
      ],
      "execution_count": 72,
      "outputs": []
    },
    {
      "cell_type": "code",
      "metadata": {
        "id": "rFyORiyHj9WP"
      },
      "source": [
        "def generate_train_val_batches(df,class_0_index,class_1_index,class_count,batch_size,val_size):\r\n",
        "  #Generate batches to output training and val data \r\n",
        "  #randomly select indexes of batch size/class_count from the index collection for the entire dataset\r\n",
        "  idx_0=random.sample(set(class_0_index.values),int(batch_size/class_count)) \r\n",
        "  idx_1=random.sample(set(class_1_index.values),int(batch_size/class_count))\r\n",
        "\r\n",
        "  #split the indexes into train and val datasets within the selected batch\r\n",
        "  split_value=int((batch_size*val_size)/class_count)\r\n",
        "  idx_train=idx_0[split_value:]+idx_1[split_value:]\r\n",
        "  idx_val=idx_0[:split_value]+idx_1[:split_value]\r\n",
        "\r\n",
        "  #Generate the train and val datasets using the indexes selected in previous step\r\n",
        "  X_train=df.loc[idx_train]\r\n",
        "  X_val=df.loc[idx_val].reset_index(drop=True)\r\n",
        "  y_val=X_val.pop('CASE_STATUS')\r\n",
        "  #https://stackoverflow.com/questions/29576430/shuffle-dataframe-rows\r\n",
        "  X_train=X_train.sample(frac=1).reset_index(drop=True)\r\n",
        "  y_train=X_train.pop('CASE_STATUS')\r\n",
        "\r\n",
        "  return X_train, y_train, X_val, y_val"
      ],
      "execution_count": 83,
      "outputs": []
    },
    {
      "cell_type": "code",
      "metadata": {
        "id": "h6Z0wUDo2MNc"
      },
      "source": [
        "from sklearn.linear_model import SGDClassifier\r\n",
        "from sklearn.ensemble import AdaBoostClassifier, RandomForestClassifier\r\n",
        "\r\n",
        "from sklearn.metrics import accuracy_score\r\n"
      ],
      "execution_count": 93,
      "outputs": []
    },
    {
      "cell_type": "code",
      "metadata": {
        "id": "4Deh7S1vAfdx"
      },
      "source": [
        "svc=SGDClassifier(loss='hinge')\r\n",
        "logistic=SGDClassifier(loss='log')\r\n",
        "adaboost=AdaBoostClassifier()\r\n",
        "rfc=RandomForestClassifier()"
      ],
      "execution_count": 94,
      "outputs": []
    },
    {
      "cell_type": "code",
      "metadata": {
        "id": "MKEkqS_Oqsdl"
      },
      "source": [
        "#loop over \r\n",
        "for _ in range(1000):\r\n",
        "  X_train, y_train, X_val, y_val=generate_train_val_batches(processed_df,class_0_index,class_1_index,class_count,batch_size,val_size)\r\n",
        "  #train classifiers on batches\r\n",
        "  for model in [svc,logistic,adaboost,rfc]:\r\n",
        "    model.fit(X_train,y_train)\r\n",
        "    #print(f1_score(y_true=y_val,y_pred=model.predict(X_val)))\r\n"
      ],
      "execution_count": 169,
      "outputs": []
    },
    {
      "cell_type": "code",
      "metadata": {
        "id": "KEYvGsFREvjo"
      },
      "source": [
        "X_test=pd.read_csv('/content/drive/MyDrive/Datasets/LCA_q1_processed.csv',index_col=0)\r\n",
        "y_test=pd.read_csv('/content/drive/MyDrive/Datasets/LCA_q1_expected.csv',index_col=0)"
      ],
      "execution_count": 158,
      "outputs": []
    },
    {
      "cell_type": "code",
      "metadata": {
        "id": "UlGFckdSSZcV"
      },
      "source": [
        "y_test.replace(['Certified','Denied'],[0,1],inplace=True)"
      ],
      "execution_count": 160,
      "outputs": []
    },
    {
      "cell_type": "code",
      "metadata": {
        "id": "2OoFzjMoGUtg"
      },
      "source": [
        "from sklearn.metrics import plot_confusion_matrix\r\n",
        "import matplotlib.pyplot as plt \r\n",
        "from sklearn.metrics import f1_score\r\n",
        "%matplotlib inline"
      ],
      "execution_count": 124,
      "outputs": []
    },
    {
      "cell_type": "code",
      "metadata": {
        "colab": {
          "base_uri": "https://localhost:8080/"
        },
        "id": "-dGEIK-2GNsK",
        "outputId": "3d039d21-6528-4cc5-9967-87fae37115fd"
      },
      "source": [
        "print(f1_score(y_true=y_test,y_pred=svc.predict(X_test),average='weighted'))\r\n",
        "print(f1_score(y_true=y_test,y_pred=svc.predict(X_test),average=None))\r\n",
        "print(f1_score(y_true=y_test,y_pred=adaboost.predict(X_test),average='weighted'))\r\n",
        "print(f1_score(y_true=y_test,y_pred=adaboost.predict(X_test),average=None))\r\n",
        "print(f1_score(y_true=y_test,y_pred=rfc.predict(X_test),average='weighted'))\r\n",
        "print(f1_score(y_true=y_test,y_pred=rfc.predict(X_test),average=None))\r\n",
        "print(f1_score(y_true=y_test,y_pred=logistic.predict(X_test),average='weighted'))\r\n",
        "print(f1_score(y_true=y_test,y_pred=logistic.predict(X_test),average=None))"
      ],
      "execution_count": 170,
      "outputs": [
        {
          "output_type": "stream",
          "text": [
            "0.44328763821778466\n",
            "[0.44626215 0.01747452]\n",
            "0.9244972599618939\n",
            "[0.93037871 0.08254526]\n",
            "0.5226614782163068\n",
            "[0.52617444 0.01976753]\n",
            "0.16888042537669518\n",
            "[0.16996068 0.01423747]\n"
          ],
          "name": "stdout"
        }
      ]
    },
    {
      "cell_type": "code",
      "metadata": {
        "colab": {
          "base_uri": "https://localhost:8080/",
          "height": 296
        },
        "id": "wkRoP7JiHSzP",
        "outputId": "ec45b8aa-ec94-479b-d1d7-cf9d4d18d639"
      },
      "source": [
        "plot_confusion_matrix(rfc,X_test,y_test)"
      ],
      "execution_count": 171,
      "outputs": [
        {
          "output_type": "execute_result",
          "data": {
            "text/plain": [
              "<sklearn.metrics._plot.confusion_matrix.ConfusionMatrixDisplay at 0x7f315cfd5f28>"
            ]
          },
          "metadata": {
            "tags": []
          },
          "execution_count": 171
        },
        {
          "output_type": "display_data",
          "data": {
            "image/png": "[encoded data removed]",
            "text/plain": [
              "<Figure size 432x288 with 2 Axes>"
            ]
          },
          "metadata": {
            "tags": [],
            "needs_background": "light"
          }
        }
      ]
    },
    {
      "cell_type": "code",
      "metadata": {
        "colab": {
          "base_uri": "https://localhost:8080/",
          "height": 296
        },
        "id": "fwhwGK9KIlbv",
        "outputId": "70c2a35f-8785-436a-a783-599b21f91c1a"
      },
      "source": [
        "plot_confusion_matrix(svc,X_test,y_test)"
      ],
      "execution_count": 172,
      "outputs": [
        {
          "output_type": "execute_result",
          "data": {
            "text/plain": [
              "<sklearn.metrics._plot.confusion_matrix.ConfusionMatrixDisplay at 0x7f315d017518>"
            ]
          },
          "metadata": {
            "tags": []
          },
          "execution_count": 172
        },
        {
          "output_type": "display_data",
          "data": {
            "image/png": "[encoded data removed]",
            "text/plain": [
              "<Figure size 432x288 with 2 Axes>"
            ]
          },
          "metadata": {
            "tags": [],
            "needs_background": "light"
          }
        }
      ]
    },
    {
      "cell_type": "code",
      "metadata": {
        "colab": {
          "base_uri": "https://localhost:8080/",
          "height": 296
        },
        "id": "A43tO3kcIoYv",
        "outputId": "38aff981-f5c3-422e-f6da-f515b219330e"
      },
      "source": [
        "plot_confusion_matrix(adaboost,X_test,y_test)"
      ],
      "execution_count": 167,
      "outputs": [
        {
          "output_type": "execute_result",
          "data": {
            "text/plain": [
              "<sklearn.metrics._plot.confusion_matrix.ConfusionMatrixDisplay at 0x7f312f7b4710>"
            ]
          },
          "metadata": {
            "tags": []
          },
          "execution_count": 167
        },
        {
          "output_type": "display_data",
          "data": {
            "image/png": "[encoded data removed]",
            "text/plain": [
              "<Figure size 432x288 with 2 Axes>"
            ]
          },
          "metadata": {
            "tags": [],
            "needs_background": "light"
          }
        }
      ]
    },
    {
      "cell_type": "code",
      "metadata": {
        "colab": {
          "base_uri": "https://localhost:8080/",
          "height": 296
        },
        "id": "TCKV4R5HItsJ",
        "outputId": "4bd47921-4d43-4497-e22b-0cbb303d5a16"
      },
      "source": [
        "plot_confusion_matrix(logistic,X_test,y_test)"
      ],
      "execution_count": 168,
      "outputs": [
        {
          "output_type": "execute_result",
          "data": {
            "text/plain": [
              "<sklearn.metrics._plot.confusion_matrix.ConfusionMatrixDisplay at 0x7f312f7f5240>"
            ]
          },
          "metadata": {
            "tags": []
          },
          "execution_count": 168
        },
        {
          "output_type": "display_data",
          "data": {
            "image/png": "[encoded data removed]",
            "text/plain": [
              "<Figure size 432x288 with 2 Axes>"
            ]
          },
          "metadata": {
            "tags": [],
            "needs_background": "light"
          }
        }
      ]
    }
  ]
}