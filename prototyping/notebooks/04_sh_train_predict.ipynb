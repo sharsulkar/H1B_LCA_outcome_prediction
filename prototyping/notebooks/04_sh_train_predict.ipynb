{
  "nbformat": 4,
  "nbformat_minor": 0,
  "metadata": {
    "colab": {
      "name": "04_sh_train_predict.ipynb",
      "provenance": [],
      "collapsed_sections": [],
      "toc_visible": true,
      "mount_file_id": "https://github.com/sharsulkar/H1B_LCA_outcome_prediction/blob/main/prototyping/notebooks/04_sh_train_predict.ipynb",
      "authorship_tag": "ABX9TyMlSAXW4OuVTXD0vNz6S8+4",
      "include_colab_link": true
    },
    "kernelspec": {
      "name": "python3",
      "display_name": "Python 3"
    }
  },
  "cells": [
    {
      "cell_type": "markdown",
      "metadata": {
        "id": "view-in-github",
        "colab_type": "text"
      },
      "source": [
        "<a href=\"https://colab.research.google.com/github/sharsulkar/H1B_LCA_outcome_prediction/blob/main/prototyping/notebooks/04_sh_train_predict.ipynb\" target=\"_parent\"><img src=\"https://colab.research.google.com/assets/colab-badge.svg\" alt=\"Open In Colab\"/></a>"
      ]
    },
    {
      "cell_type": "code",
      "metadata": {
        "id": "0mJ02Fc1dZxp"
      },
      "source": [
        "import pandas as pd\r\n",
        "import numpy as np\r\n",
        "np.random.seed(42)\r\n",
        "import random\r\n",
        "from sklearn.metrics import plot_confusion_matrix,confusion_matrix\r\n",
        "import matplotlib.pyplot as plt \r\n",
        "from sklearn.metrics import f1_score\r\n",
        "from sklearn.linear_model import SGDClassifier\r\n",
        "from sklearn.ensemble import AdaBoostClassifier, RandomForestClassifier, IsolationForest\r\n",
        "from sklearn.tree import DecisionTreeClassifier\r\n",
        "from sklearn.cluster import KMeans\r\n",
        "from sklearn.svm import OneClassSVM\r\n",
        "%matplotlib inline"
      ],
      "execution_count": 71,
      "outputs": []
    },
    {
      "cell_type": "code",
      "metadata": {
        "id": "pxpWBH30fut5"
      },
      "source": [
        "#source and encode the output variable\r\n",
        "Y=pd.read_excel('https://www.dol.gov/sites/dolgov/files/ETA/oflc/pdfs/LCA_Disclosure_Data_FY2020_Q2.xlsx',usecols=['CASE_STATUS'])\r\n",
        "drop_row_index=Y[~Y.CASE_STATUS.isin(['Certified','Denied'])].index\r\n",
        "Y.drop(index=drop_row_index, inplace=True)\r\n",
        "Y.reset_index(inplace=True,drop=True)\r\n",
        "Y.replace(['Certified','Denied'],[0,1],inplace=True)"
      ],
      "execution_count": null,
      "outputs": []
    },
    {
      "cell_type": "code",
      "metadata": {
        "colab": {
          "base_uri": "https://localhost:8080/"
        },
        "id": "EFcnfm3JemS_",
        "outputId": "a22d70aa-203f-4789-8a41-6adcd3565dd4"
      },
      "source": [
        "#import features from saved file \r\n",
        "processed_df=pd.read_csv('/content/drive/MyDrive/Datasets/LCA_train_q1q2processed.csv',index_col=0)\r\n",
        "Y=pd.read_csv('/content/drive/MyDrive/Datasets/LCA_train_q1q2_expected.csv',index_col=0)\r\n",
        "processed_df.shape"
      ],
      "execution_count": 127,
      "outputs": [
        {
          "output_type": "execute_result",
          "data": {
            "text/plain": [
              "(256141, 31)"
            ]
          },
          "metadata": {
            "tags": []
          },
          "execution_count": 127
        }
      ]
    },
    {
      "cell_type": "code",
      "metadata": {
        "id": "YViKK264vBGu",
        "outputId": "208f1983-dc64-4217-f0af-9dba318bcafa",
        "colab": {
          "base_uri": "https://localhost:8080/"
        }
      },
      "source": [
        "Y.groupby('CASE_STATUS').size()"
      ],
      "execution_count": 130,
      "outputs": [
        {
          "output_type": "execute_result",
          "data": {
            "text/plain": [
              "CASE_STATUS\n",
              "0    254227\n",
              "1      1914\n",
              "dtype: int64"
            ]
          },
          "metadata": {
            "tags": []
          },
          "execution_count": 130
        }
      ]
    },
    {
      "cell_type": "code",
      "metadata": {
        "id": "lCJoFd4jnukv"
      },
      "source": [
        "#Add the target column back to processed_df as it will be used in generate_train_val_batches function\r\n",
        "drop_row_index=Y[~Y.CASE_STATUS.isin(['Certified','Denied'])].index\r\n",
        "Y.drop(index=drop_row_index, inplace=True)\r\n",
        "Y.reset_index(inplace=True,drop=True)\r\n",
        "Y.replace(['Certified','Denied'],[0,1],inplace=True)\r\n",
        "processed_df['CASE_STATUS']=Y"
      ],
      "execution_count": 129,
      "outputs": []
    },
    {
      "cell_type": "code",
      "metadata": {
        "id": "dDGTO4eyirIQ"
      },
      "source": [
        "#algorithm to create mini batches where each batch has a equal distribution of both classes\r\n",
        "class_count=2 #number of classes to predict\r\n",
        "batch_size=250 #batch size of train+val dataset\r\n",
        "val_size=0.2 #validation data % within batch\r\n",
        "\r\n",
        "#collection of indexes for both classes from the entire training dataset\r\n",
        "class_0_index=processed_df[processed_df.CASE_STATUS==0].index \r\n",
        "class_1_index=processed_df[processed_df.CASE_STATUS==1].index"
      ],
      "execution_count": 131,
      "outputs": []
    },
    {
      "cell_type": "code",
      "metadata": {
        "id": "rFyORiyHj9WP"
      },
      "source": [
        "def generate_train_val_batches(df,class_0_index,class_1_index,class_count,batch_size,val_size):\r\n",
        "  #Generate batches to output training and val data \r\n",
        "  #randomly select indexes of batch size/class_count from the index collection for the entire dataset\r\n",
        "  idx_0=random.sample(set(class_0_index.values),int(batch_size/class_count)) \r\n",
        "  idx_1=random.sample(set(class_1_index.values),int(batch_size/class_count))\r\n",
        "\r\n",
        "  #split the indexes into train and val datasets within the selected batch\r\n",
        "  split_value=int((batch_size*val_size)/class_count)\r\n",
        "  idx_train=idx_0[split_value:]+idx_1[split_value:]\r\n",
        "  idx_val=idx_0[:split_value]+idx_1[:split_value]\r\n",
        "\r\n",
        "  #Generate the train and val datasets using the indexes selected in previous step\r\n",
        "  X_train=df.loc[idx_train]\r\n",
        "  X_val=df.loc[idx_val].reset_index(drop=True)\r\n",
        "  y_val=X_val.pop('CASE_STATUS').astype(int)\r\n",
        "  #https://stackoverflow.com/questions/29576430/shuffle-dataframe-rows\r\n",
        "  X_train=X_train.sample(frac=1).reset_index(drop=True)\r\n",
        "  y_train=X_train.pop('CASE_STATUS').astype(int)\r\n",
        "\r\n",
        "  return X_train, y_train, X_val, y_val"
      ],
      "execution_count": 132,
      "outputs": []
    },
    {
      "cell_type": "code",
      "metadata": {
        "colab": {
          "base_uri": "https://localhost:8080/"
        },
        "id": "kwkqoW1cA7Sq",
        "outputId": "96baffdb-d490-4232-9168-4aef870c562f"
      },
      "source": [
        "#skewness between classes - class 1 is only 0.7% of total\r\n",
        "class_1_index.shape[0]*100/(class_0_index.shape[0]+class_1_index.shape[0])"
      ],
      "execution_count": 133,
      "outputs": [
        {
          "output_type": "execute_result",
          "data": {
            "text/plain": [
              "0.7472446816401903"
            ]
          },
          "metadata": {
            "tags": []
          },
          "execution_count": 133
        }
      ]
    },
    {
      "cell_type": "code",
      "metadata": {
        "id": "4Deh7S1vAfdx"
      },
      "source": [
        "svc=SGDClassifier(loss='hinge')\r\n",
        "logistic=SGDClassifier(loss='log')\r\n",
        "adaboost=AdaBoostClassifier()\r\n",
        "rfc=RandomForestClassifier()\r\n",
        "kmeans=KMeans(n_clusters=2)\r\n",
        "iforest=IsolationForest(contamination=0.01)\r\n",
        "ocsvm=OneClassSVM(kernel = 'rbf', gamma = 0.001, nu = 0.001)"
      ],
      "execution_count": 134,
      "outputs": []
    },
    {
      "cell_type": "code",
      "metadata": {
        "id": "MKEkqS_Oqsdl"
      },
      "source": [
        "#loop over \r\n",
        "for _ in range(200):\r\n",
        "  X_train, y_train, X_val, y_val=generate_train_val_batches(processed_df,class_0_index,class_1_index,class_count,batch_size,val_size)\r\n",
        "  #train classifiers on batches\r\n",
        "  for model in [svc,logistic,adaboost,rfc]:\r\n",
        "    model.fit(X_train,y_train)\r\n",
        "    #print(f1_score(y_true=y_val,y_pred=model.predict(X_val)))\r\n"
      ],
      "execution_count": 135,
      "outputs": []
    },
    {
      "cell_type": "code",
      "metadata": {
        "id": "j8d_ifsdVLGf"
      },
      "source": [
        "class_count=2 #number of classes to predict\r\n",
        "batch_size=3400 #batch size of train+val dataset\r\n",
        "val_size=0.2 #validation data % within batch\r\n",
        "for _ in range(10):\r\n",
        "  X_train, y_train, X_val, y_val=generate_train_val_batches(processed_df,class_0_index,class_1_index,class_count,batch_size,val_size)\r\n",
        "  iforest.fit(X_train)\r\n",
        "  y_pred=iforest.predict(X_val)\r\n",
        "  y_pred=np.where(y_pred==1,0,y_pred)\r\n",
        "  y_pred=np.where(y_pred==-1,1,y_pred)\r\n",
        "  print(f1_score(y_true=y_val,y_pred=y_pred,average=None))"
      ],
      "execution_count": null,
      "outputs": []
    },
    {
      "cell_type": "code",
      "metadata": {
        "id": "3TLtJk1-VsAb"
      },
      "source": [
        "class_count=2 #number of classes to predict\r\n",
        "batch_size=3400 #batch size of train+val dataset\r\n",
        "val_size=0.2 #validation data % within batch\r\n",
        "for _ in range(10):\r\n",
        "  X_train, y_train, X_val, y_val=generate_train_val_batches(processed_df,class_0_index,class_1_index,class_count,batch_size,val_size)\r\n",
        "  ocsvm.fit(X_train)\r\n",
        "  y_pred=ocsvm.predict(X_val)\r\n",
        "  y_pred=np.where(y_pred==1,0,y_pred)\r\n",
        "  y_pred=np.where(y_pred==-1,1,y_pred)\r\n",
        "  print(f1_score(y_true=y_val,y_pred=y_pred,average=None))"
      ],
      "execution_count": null,
      "outputs": []
    },
    {
      "cell_type": "code",
      "metadata": {
        "id": "pxhofVRFPCsc"
      },
      "source": [
        "class_count=2 #number of classes to predict\r\n",
        "batch_size=3400 #batch size of train+val dataset\r\n",
        "val_size=0.2 #validation data % within batch\r\n",
        "for _ in range(10):\r\n",
        "  X_train, y_train, X_val, y_val=generate_train_val_batches(processed_df,class_0_index,class_1_index,class_count,batch_size,val_size)\r\n",
        "  kmeans.fit(X_train,y_train)\r\n",
        "  print(f1_score(y_true=y_val,y_pred=kmeans.predict(X_val),average=None))\r\n"
      ],
      "execution_count": null,
      "outputs": []
    },
    {
      "cell_type": "code",
      "metadata": {
        "id": "KEYvGsFREvjo"
      },
      "source": [
        "X_test=pd.read_csv('/content/drive/MyDrive/Datasets/LCA_test_q3processed.csv',index_col=0)\r\n",
        "y_test=pd.read_csv('/content/drive/MyDrive/Datasets/LCA_test_q3_expected.csv',index_col=0)\r\n",
        "y_test.replace(['Certified','Denied'],[0,1],inplace=True)\r\n",
        "y_test=y_test.astype(int)"
      ],
      "execution_count": 12,
      "outputs": []
    },
    {
      "cell_type": "code",
      "metadata": {
        "colab": {
          "base_uri": "https://localhost:8080/"
        },
        "id": "-dGEIK-2GNsK",
        "outputId": "95a63097-821a-480b-839b-cc5463c4d6bf"
      },
      "source": [
        "print(f1_score(y_true=y_test,y_pred=svc.predict(X_test),average='weighted'))\r\n",
        "print(f1_score(y_true=y_test,y_pred=svc.predict(X_test),average=None))\r\n",
        "print(f1_score(y_true=y_test,y_pred=adaboost.predict(X_test),average='weighted'))\r\n",
        "print(f1_score(y_true=y_test,y_pred=adaboost.predict(X_test),average=None))\r\n",
        "print(f1_score(y_true=y_test,y_pred=rfc.predict(X_test),average='weighted'))\r\n",
        "print(f1_score(y_true=y_test,y_pred=rfc.predict(X_test),average=None))\r\n",
        "print(f1_score(y_true=y_test,y_pred=logistic.predict(X_test),average='weighted'))\r\n",
        "print(f1_score(y_true=y_test,y_pred=logistic.predict(X_test),average=None))\r\n",
        "#print(f1_score(y_true=y_test,y_pred=kmeans.predict(X_test),average='weighted'))\r\n",
        "#print(f1_score(y_true=y_test,y_pred=kmeans.predict(X_test),average=None))"
      ],
      "execution_count": 136,
      "outputs": [
        {
          "output_type": "stream",
          "text": [
            "0.9720424115153293\n",
            "[0.97805254 0.29022255]\n",
            "0.9777416084432549\n",
            "[0.98328825 0.34850142]\n",
            "0.9772944613522053\n",
            "[0.9828829  0.34331251]\n",
            "0.9644745702020574\n",
            "[0.97088619 0.2371065 ]\n"
          ],
          "name": "stdout"
        }
      ]
    },
    {
      "cell_type": "code",
      "metadata": {
        "colab": {
          "base_uri": "https://localhost:8080/"
        },
        "id": "zrW1Um49E5b7",
        "outputId": "f8eaa5e1-6d3b-4b13-f588-89ef2d30501b"
      },
      "source": [
        "print(f1_score(y_true=y_train,y_pred=svc.predict(X_train),average=None))\r\n",
        "print(f1_score(y_true=y_train,y_pred=adaboost.predict(X_train),average=None))\r\n",
        "print(f1_score(y_true=y_train,y_pred=rfc.predict(X_train),average=None))\r\n",
        "print(f1_score(y_true=y_train,y_pred=logistic.predict(X_train),average=None))\r\n",
        "#print(f1_score(y_true=y_train,y_pred=kmeans.predict(X_train),average=None))"
      ],
      "execution_count": 137,
      "outputs": [
        {
          "output_type": "stream",
          "text": [
            "[0.98 0.98]\n",
            "[1. 1.]\n",
            "[1. 1.]\n",
            "[0.98522167 0.98477157]\n"
          ],
          "name": "stdout"
        }
      ]
    },
    {
      "cell_type": "code",
      "metadata": {
        "colab": {
          "base_uri": "https://localhost:8080/"
        },
        "id": "wkRoP7JiHSzP",
        "outputId": "37fe5afc-c399-4399-fdc3-cd7a8cb7aa46"
      },
      "source": [
        "#plot_confusion_matrix(rfc,X_test,y_test)\r\n",
        "confusion_matrix(y_true=y_test,y_pred=rfc.predict(X_test))"
      ],
      "execution_count": 138,
      "outputs": [
        {
          "output_type": "execute_result",
          "data": {
            "text/plain": [
              "array([[175077,   6095],\n",
              "       [     3,   1594]])"
            ]
          },
          "metadata": {
            "tags": []
          },
          "execution_count": 138
        }
      ]
    },
    {
      "cell_type": "code",
      "metadata": {
        "colab": {
          "base_uri": "https://localhost:8080/"
        },
        "id": "fwhwGK9KIlbv",
        "outputId": "f3ea9d0b-79d3-4e68-fd54-8f549868e62a"
      },
      "source": [
        "confusion_matrix(y_true=y_test,y_pred=svc.predict(X_test))\r\n",
        "#plot_confusion_matrix(svc,X_test,y_test)"
      ],
      "execution_count": 139,
      "outputs": [
        {
          "output_type": "execute_result",
          "data": {
            "text/plain": [
              "array([[173396,   7776],\n",
              "       [     6,   1591]])"
            ]
          },
          "metadata": {
            "tags": []
          },
          "execution_count": 139
        }
      ]
    },
    {
      "cell_type": "code",
      "metadata": {
        "colab": {
          "base_uri": "https://localhost:8080/"
        },
        "id": "A43tO3kcIoYv",
        "outputId": "e5229314-bade-46ca-a0f1-b6c415193d45"
      },
      "source": [
        "#plot_confusion_matrix(adaboost,X_test,y_test)\r\n",
        "confusion_matrix(y_true=y_test,y_pred=adaboost.predict(X_test))"
      ],
      "execution_count": 140,
      "outputs": [
        {
          "output_type": "execute_result",
          "data": {
            "text/plain": [
              "array([[175220,   5952],\n",
              "       [     4,   1593]])"
            ]
          },
          "metadata": {
            "tags": []
          },
          "execution_count": 140
        }
      ]
    },
    {
      "cell_type": "code",
      "metadata": {
        "colab": {
          "base_uri": "https://localhost:8080/"
        },
        "id": "TCKV4R5HItsJ",
        "outputId": "598f591c-6523-46e5-b64a-5a58c07bd903"
      },
      "source": [
        "#plot_confusion_matrix(logistic,X_test,y_test)\r\n",
        "confusion_matrix(y_true=y_test,y_pred=logistic.predict(X_test))"
      ],
      "execution_count": 141,
      "outputs": [
        {
          "output_type": "execute_result",
          "data": {
            "text/plain": [
              "array([[170925,  10247],\n",
              "       [     4,   1593]])"
            ]
          },
          "metadata": {
            "tags": []
          },
          "execution_count": 141
        }
      ]
    },
    {
      "cell_type": "code",
      "metadata": {
        "colab": {
          "base_uri": "https://localhost:8080/"
        },
        "id": "HPLvmL7LK68U",
        "outputId": "7ecffa6b-0b38-4571-9311-903d43cbdd19"
      },
      "source": [
        "class_count=2 #number of classes to predict\r\n",
        "batch_size=1250 #batch size of train+val dataset\r\n",
        "val_size=0.2 #validation data % within batch\r\n",
        "\r\n",
        "adaboost=AdaBoostClassifier(base_estimator=DecisionTreeClassifier(max_depth=100),n_estimators=200,learning_rate=0.1,random_state=10)\r\n",
        "\r\n",
        "track_training_df=pd.DataFrame(columns=['iteration','training_f1_score','val_f1_score'])\r\n",
        "\r\n",
        "for i in range(10):\r\n",
        "  X_train, y_train, X_val, y_val=generate_train_val_batches(processed_df,class_0_index,class_1_index,class_count,batch_size,val_size)\r\n",
        "  #train classifiers on batches\r\n",
        "  adaboost.fit(X_train,y_train)\r\n",
        "  track_training_df.loc[i]=[i,f1_score(y_true=y_train,y_pred=adaboost.predict(X_train),average='weighted'),f1_score(y_true=y_val,y_pred=adaboost.predict(X_val),average='weighted')]\r\n",
        "print(f1_score(y_true=y_test,y_pred=adaboost.predict(X_test),average='weighted'))\r\n",
        "print(f1_score(y_true=y_test,y_pred=adaboost.predict(X_test),average=None))\r\n",
        "confusion_matrix(y_true=y_test,y_pred=adaboost.predict(X_test))"
      ],
      "execution_count": 104,
      "outputs": [
        {
          "output_type": "stream",
          "text": [
            "0.6415316031222578\n",
            "[0.64702754 0.01804393]\n"
          ],
          "name": "stdout"
        },
        {
          "output_type": "execute_result",
          "data": {
            "text/plain": [
              "array([[86988, 94184],\n",
              "       [  725,   872]])"
            ]
          },
          "metadata": {
            "tags": []
          },
          "execution_count": 104
        }
      ]
    },
    {
      "cell_type": "code",
      "metadata": {
        "id": "_AUUdHquNolM"
      },
      "source": [
        "track_training_df"
      ],
      "execution_count": null,
      "outputs": []
    },
    {
      "cell_type": "code",
      "metadata": {
        "id": "2FmpbQZi02Mh"
      },
      "source": [
        "Y=processed_df.pop('CASE_STATUS')"
      ],
      "execution_count": 143,
      "outputs": []
    },
    {
      "cell_type": "code",
      "metadata": {
        "id": "qZXUQ5FplVg8",
        "outputId": "02e0a1bb-a6af-4689-8167-55cbdf4b7bfd",
        "colab": {
          "base_uri": "https://localhost:8080/"
        }
      },
      "source": [
        "class_count=2 #number of classes to predict\r\n",
        "batch_size=1250 #batch size of train+val dataset\r\n",
        "val_size=0.2 #validation data % within batch\r\n",
        "\r\n",
        "adaboost=AdaBoostClassifier(base_estimator=DecisionTreeClassifier(max_depth=100),n_estimators=200,learning_rate=0.1,random_state=10)\r\n",
        "\r\n",
        "track_training_df=pd.DataFrame(columns=['iteration','training_f1_score','val_f1_score'])\r\n",
        "\r\n",
        "adaboost.fit(processed_df,Y)\r\n",
        "\r\n",
        "print(f1_score(y_true=y_test,y_pred=adaboost.predict(X_test),average='weighted'))\r\n",
        "print(f1_score(y_true=y_test,y_pred=adaboost.predict(X_test),average=None))\r\n",
        "confusion_matrix(y_true=y_test,y_pred=adaboost.predict(X_test))"
      ],
      "execution_count": 144,
      "outputs": [
        {
          "output_type": "stream",
          "text": [
            "0.9985483778498753\n",
            "[0.99926024 0.91779141]\n"
          ],
          "name": "stdout"
        },
        {
          "output_type": "execute_result",
          "data": {
            "text/plain": [
              "array([[181005,    167],\n",
              "       [   101,   1496]])"
            ]
          },
          "metadata": {
            "tags": []
          },
          "execution_count": 144
        }
      ]
    },
    {
      "cell_type": "code",
      "metadata": {
        "colab": {
          "base_uri": "https://localhost:8080/",
          "height": 367
        },
        "id": "WGh1Q2wOObab",
        "outputId": "d51d4a8c-4787-4f0e-c3c9-4e6abd251552"
      },
      "source": [
        "plot_colors = \"br\"\r\n",
        "plot_step = 0.02\r\n",
        "class_names = \"AB\"\r\n",
        "\r\n",
        "plt.figure(figsize=(10, 5))\r\n",
        "twoclass_output = adaboost.decision_function(X_test)\r\n",
        "plot_range = (twoclass_output.min(), twoclass_output.max())\r\n",
        "\r\n",
        "for i, n, c in zip(range(2), class_names, plot_colors):\r\n",
        "    plt.hist(twoclass_output[y_test['CASE_STATUS'] == i],\r\n",
        "             bins=10,\r\n",
        "             range=plot_range,\r\n",
        "             facecolor=c,\r\n",
        "             label='Class %s' % n,\r\n",
        "             alpha=.5,\r\n",
        "             edgecolor='k')\r\n",
        "x1, x2, y1, y2 = plt.axis()\r\n",
        "plt.axis((x1, x2, y1, y2 * 1.2))\r\n",
        "plt.legend(loc='upper right')\r\n",
        "plt.ylabel('Samples')\r\n",
        "plt.xlabel('Score')\r\n",
        "plt.title('Decision Scores')"
      ],
      "execution_count": 145,
      "outputs": [
        {
          "output_type": "execute_result",
          "data": {
            "text/plain": [
              "Text(0.5, 1.0, 'Decision Scores')"
            ]
          },
          "metadata": {
            "tags": []
          },
          "execution_count": 145
        },
        {
          "output_type": "display_data",
          "data": {
            "image/png": "[encoded data removed]",
            "text/plain": [
              "<Figure size 720x360 with 1 Axes>"
            ]
          },
          "metadata": {
            "tags": [],
            "needs_background": "light"
          }
        }
      ]
    },
    {
      "cell_type": "code",
      "metadata": {
        "id": "l4lNSRvN3Cj8"
      },
      "source": [
        "from pickle import dump, load\r\n",
        "dump(adaboost,open('/content/drive/MyDrive/saved_models/H1B_LCA_prediction/adaboost_full_training_data.pkl','wb'))"
      ],
      "execution_count": 146,
      "outputs": []
    },
    {
      "cell_type": "code",
      "metadata": {
        "id": "phOxCegE3rop"
      },
      "source": [
        "model=load(open('/content/drive/MyDrive/saved_models/H1B_LCA_prediction/adaboost_full_training_data.pkl','rb'))"
      ],
      "execution_count": 147,
      "outputs": []
    },
    {
      "cell_type": "code",
      "metadata": {
        "id": "W5wdd2KO32Lh",
        "outputId": "02628137-4be1-499e-b9c9-f71332d3674f",
        "colab": {
          "base_uri": "https://localhost:8080/"
        }
      },
      "source": [
        "confusion_matrix(y_true=y_test,y_pred=model.predict(X_test))"
      ],
      "execution_count": 148,
      "outputs": [
        {
          "output_type": "execute_result",
          "data": {
            "text/plain": [
              "array([[181005,    167],\n",
              "       [   101,   1496]])"
            ]
          },
          "metadata": {
            "tags": []
          },
          "execution_count": 148
        }
      ]
    }
  ]
}