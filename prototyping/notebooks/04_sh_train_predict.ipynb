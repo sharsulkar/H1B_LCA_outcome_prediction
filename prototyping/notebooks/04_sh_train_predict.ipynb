{
  "nbformat": 4,
  "nbformat_minor": 0,
  "metadata": {
    "colab": {
      "name": "04_sh_train_predict.ipynb",
      "provenance": [],
      "collapsed_sections": [],
      "toc_visible": true,
      "mount_file_id": "1Xfe-WqHhAQMKotkcEVrkedkt0UaRQaTt",
      "authorship_tag": "ABX9TyMRnklWdamnMFI5PrTS62fA",
      "include_colab_link": true
    },
    "kernelspec": {
      "name": "python3",
      "display_name": "Python 3"
    }
  },
  "cells": [
    {
      "cell_type": "markdown",
      "metadata": {
        "id": "view-in-github",
        "colab_type": "text"
      },
      "source": [
        "<a href=\"https://colab.research.google.com/github/sharsulkar/H1B_LCA_outcome_prediction/blob/main/prototyping/notebooks/04_sh_train_predict.ipynb\" target=\"_parent\"><img src=\"https://colab.research.google.com/assets/colab-badge.svg\" alt=\"Open In Colab\"/></a>"
      ]
    },
    {
      "cell_type": "code",
      "metadata": {
        "id": "0mJ02Fc1dZxp"
      },
      "source": [
        "import pandas as pd\r\n",
        "import numpy as np\r\n",
        "np.random.seed(42)\r\n",
        "import random\r\n",
        "from sklearn.metrics import plot_confusion_matrix,confusion_matrix\r\n",
        "import matplotlib.pyplot as plt \r\n",
        "from sklearn.metrics import f1_score\r\n",
        "from sklearn.linear_model import SGDClassifier\r\n",
        "from sklearn.ensemble import AdaBoostClassifier, RandomForestClassifier, IsolationForest\r\n",
        "from sklearn.cluster import KMeans\r\n",
        "from sklearn.svm import OneClassSVM\r\n",
        "%matplotlib inline"
      ],
      "execution_count": 158,
      "outputs": []
    },
    {
      "cell_type": "code",
      "metadata": {
        "id": "pxpWBH30fut5"
      },
      "source": [
        "#source and encode the output variable\r\n",
        "Y=pd.read_excel('https://www.dol.gov/sites/dolgov/files/ETA/oflc/pdfs/LCA_Disclosure_Data_FY2020_Q2.xlsx',usecols=['CASE_STATUS'])\r\n",
        "drop_row_index=Y[~Y.CASE_STATUS.isin(['Certified','Denied'])].index\r\n",
        "Y.drop(index=drop_row_index, inplace=True)\r\n",
        "Y.reset_index(inplace=True,drop=True)\r\n",
        "Y.replace(['Certified','Denied'],[0,1],inplace=True)"
      ],
      "execution_count": null,
      "outputs": []
    },
    {
      "cell_type": "code",
      "metadata": {
        "colab": {
          "base_uri": "https://localhost:8080/"
        },
        "id": "EFcnfm3JemS_",
        "outputId": "c4c72024-0e00-4d6b-deb9-348176c9f479"
      },
      "source": [
        "#import features from saved file \r\n",
        "processed_df=pd.read_csv('/content/drive/MyDrive/Datasets/LCA_train_q1q2processed.csv',index_col=0)\r\n",
        "Y=pd.read_csv('/content/drive/MyDrive/Datasets/LCA_train_q1q2_expected.csv',index_col=0)\r\n",
        "processed_df.shape"
      ],
      "execution_count": 4,
      "outputs": [
        {
          "output_type": "execute_result",
          "data": {
            "text/plain": [
              "(256141, 31)"
            ]
          },
          "metadata": {
            "tags": []
          },
          "execution_count": 4
        }
      ]
    },
    {
      "cell_type": "code",
      "metadata": {
        "id": "lCJoFd4jnukv"
      },
      "source": [
        "#Add the target column back to processed_df as it will be used in generate_train_val_batches function\r\n",
        "Y.replace(['Certified','Denied'],[0,1],inplace=True)\r\n",
        "processed_df['CASE_STATUS']=Y"
      ],
      "execution_count": 9,
      "outputs": []
    },
    {
      "cell_type": "code",
      "metadata": {
        "id": "dDGTO4eyirIQ"
      },
      "source": [
        "#algorithm to create mini batches where each batch has a equal distribution of both classes\r\n",
        "class_count=2 #number of classes to predict\r\n",
        "batch_size=500 #batch size of train+val dataset\r\n",
        "val_size=0.2 #validation data % within batch\r\n",
        "\r\n",
        "#collection of indexes for both classes from the entire training dataset\r\n",
        "class_0_index=processed_df[processed_df.CASE_STATUS==0].index \r\n",
        "class_1_index=processed_df[processed_df.CASE_STATUS==1].index"
      ],
      "execution_count": 138,
      "outputs": []
    },
    {
      "cell_type": "code",
      "metadata": {
        "id": "rFyORiyHj9WP"
      },
      "source": [
        "def generate_train_val_batches(df,class_0_index,class_1_index,class_count,batch_size,val_size):\r\n",
        "  #Generate batches to output training and val data \r\n",
        "  #randomly select indexes of batch size/class_count from the index collection for the entire dataset\r\n",
        "  idx_0=random.sample(set(class_0_index.values),int(batch_size/class_count)) \r\n",
        "  idx_1=random.sample(set(class_1_index.values),int(batch_size/class_count))\r\n",
        "\r\n",
        "  #split the indexes into train and val datasets within the selected batch\r\n",
        "  split_value=int((batch_size*val_size)/class_count)\r\n",
        "  idx_train=idx_0[split_value:]+idx_1[split_value:]\r\n",
        "  idx_val=idx_0[:split_value]+idx_1[:split_value]\r\n",
        "\r\n",
        "  #Generate the train and val datasets using the indexes selected in previous step\r\n",
        "  X_train=df.loc[idx_train]\r\n",
        "  X_val=df.loc[idx_val].reset_index(drop=True)\r\n",
        "  y_val=X_val.pop('CASE_STATUS').astype(int)\r\n",
        "  #https://stackoverflow.com/questions/29576430/shuffle-dataframe-rows\r\n",
        "  X_train=X_train.sample(frac=1).reset_index(drop=True)\r\n",
        "  y_train=X_train.pop('CASE_STATUS').astype(int)\r\n",
        "\r\n",
        "  return X_train, y_train, X_val, y_val"
      ],
      "execution_count": 34,
      "outputs": []
    },
    {
      "cell_type": "code",
      "metadata": {
        "colab": {
          "base_uri": "https://localhost:8080/"
        },
        "id": "kwkqoW1cA7Sq",
        "outputId": "6dad4827-4d7e-4127-b905-02269a692574"
      },
      "source": [
        "#skewness between classes - class 1 is only 0.7% of total\r\n",
        "class_1_index.shape[0]*100/(class_0_index.shape[0]+class_1_index.shape[0])"
      ],
      "execution_count": 16,
      "outputs": [
        {
          "output_type": "execute_result",
          "data": {
            "text/plain": [
              "0.7181748749661239"
            ]
          },
          "metadata": {
            "tags": []
          },
          "execution_count": 16
        }
      ]
    },
    {
      "cell_type": "code",
      "metadata": {
        "id": "4Deh7S1vAfdx"
      },
      "source": [
        "svc=SGDClassifier(loss='hinge')\r\n",
        "logistic=SGDClassifier(loss='log')\r\n",
        "adaboost=AdaBoostClassifier()\r\n",
        "rfc=RandomForestClassifier()\r\n",
        "kmeans=KMeans(n_clusters=2)\r\n",
        "iforest=IsolationForest(contamination=0.01)\r\n",
        "ocsvm=OneClassSVM(kernel = 'rbf', gamma = 0.001, nu = 0.001)"
      ],
      "execution_count": 159,
      "outputs": []
    },
    {
      "cell_type": "code",
      "metadata": {
        "id": "MKEkqS_Oqsdl"
      },
      "source": [
        "#loop over \r\n",
        "for _ in range(100):\r\n",
        "  X_train, y_train, X_val, y_val=generate_train_val_batches(processed_df,class_0_index,class_1_index,class_count,batch_size,val_size)\r\n",
        "  #train classifiers on batches\r\n",
        "  for model in [svc,logistic,adaboost,rfc]:\r\n",
        "    model.fit(X_train,y_train)\r\n",
        "    #print(f1_score(y_true=y_val,y_pred=model.predict(X_val)))\r\n"
      ],
      "execution_count": 168,
      "outputs": []
    },
    {
      "cell_type": "code",
      "metadata": {
        "colab": {
          "base_uri": "https://localhost:8080/"
        },
        "id": "j8d_ifsdVLGf",
        "outputId": "76273c55-93ed-49c4-8b35-f0615fc13b07"
      },
      "source": [
        "class_count=2 #number of classes to predict\r\n",
        "batch_size=3400 #batch size of train+val dataset\r\n",
        "val_size=0.2 #validation data % within batch\r\n",
        "for _ in range(10):\r\n",
        "  X_train, y_train, X_val, y_val=generate_train_val_batches(processed_df,class_0_index,class_1_index,class_count,batch_size,val_size)\r\n",
        "  iforest.fit(X_train)\r\n",
        "  y_pred=iforest.predict(X_val)\r\n",
        "  y_pred=np.where(y_pred==1,0,y_pred)\r\n",
        "  y_pred=np.where(y_pred==-1,1,y_pred)\r\n",
        "  print(f1_score(y_true=y_val,y_pred=y_pred,average=None))"
      ],
      "execution_count": 162,
      "outputs": [
        {
          "output_type": "stream",
          "text": [
            "[0.66929134 0.02325581]\n",
            "[0.66666667 0.02312139]\n",
            "[0.66403162 0.02298851]\n",
            "[0.6679803  0.02318841]\n",
            "[0.66468843 0.0286533 ]\n",
            "[0.66666667 0.04545455]\n",
            "[0.66600791 0.02873563]\n",
            "[0.66338583 0.00581395]\n",
            "[0.66732478 0.02881844]\n",
            "[0.66666667 0.01166181]\n"
          ],
          "name": "stdout"
        }
      ]
    },
    {
      "cell_type": "code",
      "metadata": {
        "colab": {
          "base_uri": "https://localhost:8080/"
        },
        "id": "3TLtJk1-VsAb",
        "outputId": "ee7a15e8-d8fb-4cce-911b-b9b85634fee9"
      },
      "source": [
        "class_count=2 #number of classes to predict\r\n",
        "batch_size=3400 #batch size of train+val dataset\r\n",
        "val_size=0.2 #validation data % within batch\r\n",
        "for _ in range(10):\r\n",
        "  X_train, y_train, X_val, y_val=generate_train_val_batches(processed_df,class_0_index,class_1_index,class_count,batch_size,val_size)\r\n",
        "  ocsvm.fit(X_train)\r\n",
        "  y_pred=ocsvm.predict(X_val)\r\n",
        "  y_pred=np.where(y_pred==1,0,y_pred)\r\n",
        "  y_pred=np.where(y_pred==-1,1,y_pred)\r\n",
        "  print(f1_score(y_true=y_val,y_pred=y_pred,average=None))"
      ],
      "execution_count": 163,
      "outputs": [
        {
          "output_type": "stream",
          "text": [
            "[0.66666667 0.01166181]\n",
            "[0.6647001 0.0058309]\n",
            "[0.6647001 0.0058309]\n",
            "[0.66338583 0.00581395]\n",
            "[0.6673209 0.0058651]\n",
            "[0.66666667 0.        ]\n",
            "[0.66141732 0.        ]\n",
            "[0.66601179 0.00584795]\n",
            "[0.66338583 0.00581395]\n",
            "[0.66601179 0.00584795]\n"
          ],
          "name": "stdout"
        }
      ]
    },
    {
      "cell_type": "code",
      "metadata": {
        "colab": {
          "base_uri": "https://localhost:8080/"
        },
        "id": "pxhofVRFPCsc",
        "outputId": "a1fe32dd-1a44-4fb6-de46-0f54eb19d382"
      },
      "source": [
        "class_count=2 #number of classes to predict\r\n",
        "batch_size=3400 #batch size of train+val dataset\r\n",
        "val_size=0.2 #validation data % within batch\r\n",
        "for _ in range(10):\r\n",
        "  X_train, y_train, X_val, y_val=generate_train_val_batches(processed_df,class_0_index,class_1_index,class_count,batch_size,val_size)\r\n",
        "  kmeans.fit(X_train,y_train)\r\n",
        "  print(f1_score(y_true=y_val,y_pred=kmeans.predict(X_val),average=None))\r\n"
      ],
      "execution_count": 166,
      "outputs": [
        {
          "output_type": "stream",
          "text": [
            "[0.02873563 0.66600791]\n",
            "[0.66600595 0.03988604]\n",
            "[0.66403162 0.02298851]\n",
            "[0.66600985 0.0173913 ]\n",
            "[0.66732673 0.04      ]\n",
            "[0.66204163 0.02849003]\n",
            "[0.66005946 0.02279202]\n",
            "[0.03428571 0.66534653]\n",
            "[0.66206897 0.0057971 ]\n",
            "[0.01162791 0.66535433]\n"
          ],
          "name": "stdout"
        }
      ]
    },
    {
      "cell_type": "code",
      "metadata": {
        "id": "KEYvGsFREvjo"
      },
      "source": [
        "X_test=pd.read_csv('/content/drive/MyDrive/Datasets/LCA_test_q3processed.csv',index_col=0)\r\n",
        "y_test=pd.read_csv('/content/drive/MyDrive/Datasets/LCA_test_q3_expected.csv',index_col=0)\r\n",
        "y_test.replace(['Certified','Denied'],[0,1],inplace=True)\r\n",
        "y_test=y_test.astype(int)"
      ],
      "execution_count": 142,
      "outputs": []
    },
    {
      "cell_type": "code",
      "metadata": {
        "colab": {
          "base_uri": "https://localhost:8080/"
        },
        "id": "-dGEIK-2GNsK",
        "outputId": "80bca416-59bb-47a2-970f-f2d0ddb6433d"
      },
      "source": [
        "print(f1_score(y_true=y_test,y_pred=svc.predict(X_test),average='weighted'))\r\n",
        "print(f1_score(y_true=y_test,y_pred=svc.predict(X_test),average=None))\r\n",
        "print(f1_score(y_true=y_test,y_pred=adaboost.predict(X_test),average='weighted'))\r\n",
        "print(f1_score(y_true=y_test,y_pred=adaboost.predict(X_test),average=None))\r\n",
        "print(f1_score(y_true=y_test,y_pred=rfc.predict(X_test),average='weighted'))\r\n",
        "print(f1_score(y_true=y_test,y_pred=rfc.predict(X_test),average=None))\r\n",
        "print(f1_score(y_true=y_test,y_pred=logistic.predict(X_test),average='weighted'))\r\n",
        "print(f1_score(y_true=y_test,y_pred=logistic.predict(X_test),average=None))\r\n",
        "print(f1_score(y_true=y_test,y_pred=kmeans.predict(X_test),average='weighted'))\r\n",
        "print(f1_score(y_true=y_test,y_pred=kmeans.predict(X_test),average=None))"
      ],
      "execution_count": 169,
      "outputs": [
        {
          "output_type": "stream",
          "text": [
            "0.6907902371873986\n",
            "[0.6966426  0.02686773]\n",
            "0.6105738972030541\n",
            "[0.61573491 0.02508128]\n",
            "0.7125822782834473\n",
            "[0.71878545 0.00886237]\n",
            "0.8531958587055237\n",
            "[0.86070796 0.00098368]\n",
            "0.014643267166267368\n",
            "[0.01461862 0.01743967]\n"
          ],
          "name": "stdout"
        }
      ]
    },
    {
      "cell_type": "code",
      "metadata": {
        "colab": {
          "base_uri": "https://localhost:8080/"
        },
        "id": "zrW1Um49E5b7",
        "outputId": "9e2ca026-6028-4b51-edc8-c5147a26b1a4"
      },
      "source": [
        "print(f1_score(y_true=y_train,y_pred=svc.predict(X_train),average=None))\r\n",
        "print(f1_score(y_true=y_train,y_pred=adaboost.predict(X_train),average=None))\r\n",
        "print(f1_score(y_true=y_train,y_pred=rfc.predict(X_train),average=None))\r\n",
        "print(f1_score(y_true=y_train,y_pred=logistic.predict(X_train),average=None))\r\n",
        "print(f1_score(y_true=y_train,y_pred=kmeans.predict(X_train),average=None))"
      ],
      "execution_count": 144,
      "outputs": [
        {
          "output_type": "stream",
          "text": [
            "[0.61365552 0.26900585]\n",
            "[0.50693069 0.5728988 ]\n",
            "[0.65663717 0.75597484]\n",
            "[0.62774534 0.27346717]\n",
            "[0.66320475 0.0243553 ]\n"
          ],
          "name": "stdout"
        }
      ]
    },
    {
      "cell_type": "code",
      "metadata": {
        "colab": {
          "base_uri": "https://localhost:8080/",
          "height": 296
        },
        "id": "wkRoP7JiHSzP",
        "outputId": "210d4ceb-d442-49e5-d933-eda0c3cd45c6"
      },
      "source": [
        "plot_confusion_matrix(rfc,X_test,y_test)"
      ],
      "execution_count": 170,
      "outputs": [
        {
          "output_type": "execute_result",
          "data": {
            "text/plain": [
              "<sklearn.metrics._plot.confusion_matrix.ConfusionMatrixDisplay at 0x7fe9501e7860>"
            ]
          },
          "metadata": {
            "tags": []
          },
          "execution_count": 170
        },
        {
          "output_type": "display_data",
          "data": {
            "image/png": "[encoded data removed]",
            "text/plain": [
              "<Figure size 432x288 with 2 Axes>"
            ]
          },
          "metadata": {
            "tags": [],
            "needs_background": "light"
          }
        }
      ]
    },
    {
      "cell_type": "code",
      "metadata": {
        "colab": {
          "base_uri": "https://localhost:8080/"
        },
        "id": "fwhwGK9KIlbv",
        "outputId": "c9c81d87-8f21-4407-e81d-b893be19ef71"
      },
      "source": [
        "confusion_matrix(y_true=y_test,y_pred=svc.predict(X_test))\r\n",
        "#plot_confusion_matrix(svc,X_test,y_test)"
      ],
      "execution_count": 171,
      "outputs": [
        {
          "output_type": "execute_result",
          "data": {
            "text/plain": [
              "array([[97066, 84106],\n",
              "       [  430,  1167]])"
            ]
          },
          "metadata": {
            "tags": []
          },
          "execution_count": 171
        }
      ]
    },
    {
      "cell_type": "code",
      "metadata": {
        "colab": {
          "base_uri": "https://localhost:8080/",
          "height": 300
        },
        "id": "A43tO3kcIoYv",
        "outputId": "d4633d7f-950b-4e12-97af-d4d858b894f6"
      },
      "source": [
        "plot_confusion_matrix(adaboost,X_test,y_test)"
      ],
      "execution_count": 172,
      "outputs": [
        {
          "output_type": "execute_result",
          "data": {
            "text/plain": [
              "<sklearn.metrics._plot.confusion_matrix.ConfusionMatrixDisplay at 0x7fe9501a7b00>"
            ]
          },
          "metadata": {
            "tags": []
          },
          "execution_count": 172
        },
        {
          "output_type": "display_data",
          "data": {
            "image/png": "[encoded data removed]",
            "text/plain": [
              "<Figure size 432x288 with 2 Axes>"
            ]
          },
          "metadata": {
            "tags": [],
            "needs_background": "light"
          }
        }
      ]
    },
    {
      "cell_type": "code",
      "metadata": {
        "colab": {
          "base_uri": "https://localhost:8080/",
          "height": 296
        },
        "id": "TCKV4R5HItsJ",
        "outputId": "5e874763-cc37-4355-c727-a3345f0cd609"
      },
      "source": [
        "plot_confusion_matrix(logistic,X_test,y_test)"
      ],
      "execution_count": 173,
      "outputs": [
        {
          "output_type": "execute_result",
          "data": {
            "text/plain": [
              "<sklearn.metrics._plot.confusion_matrix.ConfusionMatrixDisplay at 0x7fe9519d4fd0>"
            ]
          },
          "metadata": {
            "tags": []
          },
          "execution_count": 173
        },
        {
          "output_type": "display_data",
          "data": {
            "image/png": "[encoded data removed]",
            "text/plain": [
              "<Figure size 432x288 with 2 Axes>"
            ]
          },
          "metadata": {
            "tags": [],
            "needs_background": "light"
          }
        }
      ]
    }
  ]
}