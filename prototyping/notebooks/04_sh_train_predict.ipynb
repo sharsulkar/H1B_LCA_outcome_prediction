{
  "nbformat": 4,
  "nbformat_minor": 0,
  "metadata": {
    "colab": {
      "name": "04_sh_train_predict.ipynb",
      "provenance": [],
      "collapsed_sections": [],
      "toc_visible": true,
      "mount_file_id": "https://github.com/sharsulkar/H1B_LCA_outcome_prediction/blob/main/prototyping/notebooks/04_sh_train_predict.ipynb",
      "authorship_tag": "ABX9TyMvXiYZLjM9pFkuQllXpu+6",
      "include_colab_link": true
    },
    "kernelspec": {
      "name": "python3",
      "display_name": "Python 3"
    }
  },
  "cells": [
    {
      "cell_type": "markdown",
      "metadata": {
        "id": "view-in-github",
        "colab_type": "text"
      },
      "source": [
        "<a href=\"https://colab.research.google.com/github/sharsulkar/H1B_LCA_outcome_prediction/blob/main/prototyping/notebooks/04_sh_train_predict.ipynb\" target=\"_parent\"><img src=\"https://colab.research.google.com/assets/colab-badge.svg\" alt=\"Open In Colab\"/></a>"
      ]
    },
    {
      "cell_type": "code",
      "metadata": {
        "id": "0mJ02Fc1dZxp"
      },
      "source": [
        "import pandas as pd\r\n",
        "import numpy as np\r\n",
        "np.random.seed(42)\r\n",
        "import random\r\n",
        "from sklearn.metrics import plot_confusion_matrix,confusion_matrix\r\n",
        "import matplotlib.pyplot as plt \r\n",
        "from sklearn.metrics import f1_score\r\n",
        "from sklearn.linear_model import SGDClassifier\r\n",
        "from sklearn.ensemble import AdaBoostClassifier, RandomForestClassifier, IsolationForest\r\n",
        "from sklearn.tree import DecisionTreeClassifier\r\n",
        "from sklearn.cluster import KMeans\r\n",
        "from sklearn.svm import OneClassSVM\r\n",
        "%matplotlib inline"
      ],
      "execution_count": 71,
      "outputs": []
    },
    {
      "cell_type": "code",
      "metadata": {
        "id": "pxpWBH30fut5"
      },
      "source": [
        "#source and encode the output variable\r\n",
        "Y=pd.read_excel('https://www.dol.gov/sites/dolgov/files/ETA/oflc/pdfs/LCA_Disclosure_Data_FY2020_Q2.xlsx',usecols=['CASE_STATUS'])\r\n",
        "drop_row_index=Y[~Y.CASE_STATUS.isin(['Certified','Denied'])].index\r\n",
        "Y.drop(index=drop_row_index, inplace=True)\r\n",
        "Y.reset_index(inplace=True,drop=True)\r\n",
        "Y.replace(['Certified','Denied'],[0,1],inplace=True)"
      ],
      "execution_count": null,
      "outputs": []
    },
    {
      "cell_type": "code",
      "metadata": {
        "colab": {
          "base_uri": "https://localhost:8080/"
        },
        "id": "EFcnfm3JemS_",
        "outputId": "df5d5005-78ec-4c60-fffe-519a72c82ed7"
      },
      "source": [
        "#import features from saved file \r\n",
        "processed_df=pd.read_csv('/content/drive/MyDrive/Datasets/LCA_train_q1q2processed.csv',index_col=0)\r\n",
        "Y=pd.read_csv('/content/drive/MyDrive/Datasets/LCA_train_q1q2_expected.csv',index_col=0)\r\n",
        "processed_df.shape"
      ],
      "execution_count": 2,
      "outputs": [
        {
          "output_type": "execute_result",
          "data": {
            "text/plain": [
              "(256141, 31)"
            ]
          },
          "metadata": {
            "tags": []
          },
          "execution_count": 2
        }
      ]
    },
    {
      "cell_type": "code",
      "metadata": {
        "id": "lCJoFd4jnukv"
      },
      "source": [
        "#Add the target column back to processed_df as it will be used in generate_train_val_batches function\r\n",
        "Y.replace(['Certified','Denied'],[0,1],inplace=True)\r\n",
        "processed_df['CASE_STATUS']=Y"
      ],
      "execution_count": 3,
      "outputs": []
    },
    {
      "cell_type": "code",
      "metadata": {
        "id": "dDGTO4eyirIQ"
      },
      "source": [
        "#algorithm to create mini batches where each batch has a equal distribution of both classes\r\n",
        "class_count=2 #number of classes to predict\r\n",
        "batch_size=250 #batch size of train+val dataset\r\n",
        "val_size=0.2 #validation data % within batch\r\n",
        "\r\n",
        "#collection of indexes for both classes from the entire training dataset\r\n",
        "class_0_index=processed_df[processed_df.CASE_STATUS==0].index \r\n",
        "class_1_index=processed_df[processed_df.CASE_STATUS==1].index"
      ],
      "execution_count": 35,
      "outputs": []
    },
    {
      "cell_type": "code",
      "metadata": {
        "id": "rFyORiyHj9WP"
      },
      "source": [
        "def generate_train_val_batches(df,class_0_index,class_1_index,class_count,batch_size,val_size):\r\n",
        "  #Generate batches to output training and val data \r\n",
        "  #randomly select indexes of batch size/class_count from the index collection for the entire dataset\r\n",
        "  idx_0=random.sample(set(class_0_index.values),int(batch_size/class_count)) \r\n",
        "  idx_1=random.sample(set(class_1_index.values),int(batch_size/class_count))\r\n",
        "\r\n",
        "  #split the indexes into train and val datasets within the selected batch\r\n",
        "  split_value=int((batch_size*val_size)/class_count)\r\n",
        "  idx_train=idx_0[split_value:]+idx_1[split_value:]\r\n",
        "  idx_val=idx_0[:split_value]+idx_1[:split_value]\r\n",
        "\r\n",
        "  #Generate the train and val datasets using the indexes selected in previous step\r\n",
        "  X_train=df.loc[idx_train]\r\n",
        "  X_val=df.loc[idx_val].reset_index(drop=True)\r\n",
        "  y_val=X_val.pop('CASE_STATUS').astype(int)\r\n",
        "  #https://stackoverflow.com/questions/29576430/shuffle-dataframe-rows\r\n",
        "  X_train=X_train.sample(frac=1).reset_index(drop=True)\r\n",
        "  y_train=X_train.pop('CASE_STATUS').astype(int)\r\n",
        "\r\n",
        "  return X_train, y_train, X_val, y_val"
      ],
      "execution_count": 5,
      "outputs": []
    },
    {
      "cell_type": "code",
      "metadata": {
        "colab": {
          "base_uri": "https://localhost:8080/"
        },
        "id": "kwkqoW1cA7Sq",
        "outputId": "1a7467ef-9ee7-4f17-90d6-bec18f72f8ce"
      },
      "source": [
        "#skewness between classes - class 1 is only 0.7% of total\r\n",
        "class_1_index.shape[0]*100/(class_0_index.shape[0]+class_1_index.shape[0])"
      ],
      "execution_count": 16,
      "outputs": [
        {
          "output_type": "execute_result",
          "data": {
            "text/plain": [
              "0.7181748749661239"
            ]
          },
          "metadata": {
            "tags": []
          },
          "execution_count": 16
        }
      ]
    },
    {
      "cell_type": "code",
      "metadata": {
        "id": "4Deh7S1vAfdx"
      },
      "source": [
        "svc=SGDClassifier(loss='hinge')\r\n",
        "logistic=SGDClassifier(loss='log')\r\n",
        "adaboost=AdaBoostClassifier()\r\n",
        "rfc=RandomForestClassifier()\r\n",
        "kmeans=KMeans(n_clusters=2)\r\n",
        "iforest=IsolationForest(contamination=0.01)\r\n",
        "ocsvm=OneClassSVM(kernel = 'rbf', gamma = 0.001, nu = 0.001)"
      ],
      "execution_count": 36,
      "outputs": []
    },
    {
      "cell_type": "code",
      "metadata": {
        "id": "MKEkqS_Oqsdl"
      },
      "source": [
        "#loop over \r\n",
        "for _ in range(200):\r\n",
        "  X_train, y_train, X_val, y_val=generate_train_val_batches(processed_df,class_0_index,class_1_index,class_count,batch_size,val_size)\r\n",
        "  #train classifiers on batches\r\n",
        "  for model in [svc,logistic,adaboost,rfc]:\r\n",
        "    model.fit(X_train,y_train)\r\n",
        "    #print(f1_score(y_true=y_val,y_pred=model.predict(X_val)))\r\n"
      ],
      "execution_count": 37,
      "outputs": []
    },
    {
      "cell_type": "code",
      "metadata": {
        "id": "j8d_ifsdVLGf"
      },
      "source": [
        "class_count=2 #number of classes to predict\r\n",
        "batch_size=3400 #batch size of train+val dataset\r\n",
        "val_size=0.2 #validation data % within batch\r\n",
        "for _ in range(10):\r\n",
        "  X_train, y_train, X_val, y_val=generate_train_val_batches(processed_df,class_0_index,class_1_index,class_count,batch_size,val_size)\r\n",
        "  iforest.fit(X_train)\r\n",
        "  y_pred=iforest.predict(X_val)\r\n",
        "  y_pred=np.where(y_pred==1,0,y_pred)\r\n",
        "  y_pred=np.where(y_pred==-1,1,y_pred)\r\n",
        "  print(f1_score(y_true=y_val,y_pred=y_pred,average=None))"
      ],
      "execution_count": null,
      "outputs": []
    },
    {
      "cell_type": "code",
      "metadata": {
        "id": "3TLtJk1-VsAb"
      },
      "source": [
        "class_count=2 #number of classes to predict\r\n",
        "batch_size=3400 #batch size of train+val dataset\r\n",
        "val_size=0.2 #validation data % within batch\r\n",
        "for _ in range(10):\r\n",
        "  X_train, y_train, X_val, y_val=generate_train_val_batches(processed_df,class_0_index,class_1_index,class_count,batch_size,val_size)\r\n",
        "  ocsvm.fit(X_train)\r\n",
        "  y_pred=ocsvm.predict(X_val)\r\n",
        "  y_pred=np.where(y_pred==1,0,y_pred)\r\n",
        "  y_pred=np.where(y_pred==-1,1,y_pred)\r\n",
        "  print(f1_score(y_true=y_val,y_pred=y_pred,average=None))"
      ],
      "execution_count": null,
      "outputs": []
    },
    {
      "cell_type": "code",
      "metadata": {
        "id": "pxhofVRFPCsc"
      },
      "source": [
        "class_count=2 #number of classes to predict\r\n",
        "batch_size=3400 #batch size of train+val dataset\r\n",
        "val_size=0.2 #validation data % within batch\r\n",
        "for _ in range(10):\r\n",
        "  X_train, y_train, X_val, y_val=generate_train_val_batches(processed_df,class_0_index,class_1_index,class_count,batch_size,val_size)\r\n",
        "  kmeans.fit(X_train,y_train)\r\n",
        "  print(f1_score(y_true=y_val,y_pred=kmeans.predict(X_val),average=None))\r\n"
      ],
      "execution_count": null,
      "outputs": []
    },
    {
      "cell_type": "code",
      "metadata": {
        "id": "KEYvGsFREvjo"
      },
      "source": [
        "X_test=pd.read_csv('/content/drive/MyDrive/Datasets/LCA_test_q3processed.csv',index_col=0)\r\n",
        "y_test=pd.read_csv('/content/drive/MyDrive/Datasets/LCA_test_q3_expected.csv',index_col=0)\r\n",
        "y_test.replace(['Certified','Denied'],[0,1],inplace=True)\r\n",
        "y_test=y_test.astype(int)"
      ],
      "execution_count": 12,
      "outputs": []
    },
    {
      "cell_type": "code",
      "metadata": {
        "colab": {
          "base_uri": "https://localhost:8080/"
        },
        "id": "-dGEIK-2GNsK",
        "outputId": "4835f469-6933-49bb-ed80-9952739c78b8"
      },
      "source": [
        "print(f1_score(y_true=y_test,y_pred=svc.predict(X_test),average='weighted'))\r\n",
        "print(f1_score(y_true=y_test,y_pred=svc.predict(X_test),average=None))\r\n",
        "print(f1_score(y_true=y_test,y_pred=adaboost.predict(X_test),average='weighted'))\r\n",
        "print(f1_score(y_true=y_test,y_pred=adaboost.predict(X_test),average=None))\r\n",
        "print(f1_score(y_true=y_test,y_pred=rfc.predict(X_test),average='weighted'))\r\n",
        "print(f1_score(y_true=y_test,y_pred=rfc.predict(X_test),average=None))\r\n",
        "print(f1_score(y_true=y_test,y_pred=logistic.predict(X_test),average='weighted'))\r\n",
        "print(f1_score(y_true=y_test,y_pred=logistic.predict(X_test),average=None))\r\n",
        "#print(f1_score(y_true=y_test,y_pred=kmeans.predict(X_test),average='weighted'))\r\n",
        "#print(f1_score(y_true=y_test,y_pred=kmeans.predict(X_test),average=None))"
      ],
      "execution_count": 38,
      "outputs": [
        {
          "output_type": "stream",
          "text": [
            "0.5104825429278695\n",
            "[0.51475434 0.0258676 ]\n",
            "0.7381084752673877\n",
            "[0.74433787 0.03141375]\n",
            "0.7096323089813292\n",
            "[0.71575132 0.01545939]\n",
            "0.6316563287777466\n",
            "[0.63704831 0.01996174]\n"
          ],
          "name": "stdout"
        }
      ]
    },
    {
      "cell_type": "code",
      "metadata": {
        "colab": {
          "base_uri": "https://localhost:8080/"
        },
        "id": "zrW1Um49E5b7",
        "outputId": "a2b6a171-758d-4591-fda2-fe14ffbf5359"
      },
      "source": [
        "print(f1_score(y_true=y_train,y_pred=svc.predict(X_train),average=None))\r\n",
        "print(f1_score(y_true=y_train,y_pred=adaboost.predict(X_train),average=None))\r\n",
        "print(f1_score(y_true=y_train,y_pred=rfc.predict(X_train),average=None))\r\n",
        "print(f1_score(y_true=y_train,y_pred=logistic.predict(X_train),average=None))\r\n",
        "#print(f1_score(y_true=y_train,y_pred=kmeans.predict(X_train),average=None))"
      ],
      "execution_count": 39,
      "outputs": [
        {
          "output_type": "stream",
          "text": [
            "[0.56441718 0.70042194]\n",
            "[0.84422111 0.84577114]\n",
            "[1. 1.]\n",
            "[0.52071006 0.64935065]\n"
          ],
          "name": "stdout"
        }
      ]
    },
    {
      "cell_type": "code",
      "metadata": {
        "colab": {
          "base_uri": "https://localhost:8080/"
        },
        "id": "wkRoP7JiHSzP",
        "outputId": "887d0081-9ee2-46ca-ea54-9d0001ae4afb"
      },
      "source": [
        "#plot_confusion_matrix(rfc,X_test,y_test)\r\n",
        "confusion_matrix(y_true=y_test,y_pred=rfc.predict(X_test))"
      ],
      "execution_count": 40,
      "outputs": [
        {
          "output_type": "execute_result",
          "data": {
            "text/plain": [
              "array([[101510,  79662],\n",
              "       [   964,    633]])"
            ]
          },
          "metadata": {
            "tags": []
          },
          "execution_count": 40
        }
      ]
    },
    {
      "cell_type": "code",
      "metadata": {
        "colab": {
          "base_uri": "https://localhost:8080/"
        },
        "id": "fwhwGK9KIlbv",
        "outputId": "e00bec9f-67de-4c7f-87ca-1399c4ef5faa"
      },
      "source": [
        "confusion_matrix(y_true=y_test,y_pred=svc.predict(X_test))\r\n",
        "#plot_confusion_matrix(svc,X_test,y_test)"
      ],
      "execution_count": 41,
      "outputs": [
        {
          "output_type": "execute_result",
          "data": {
            "text/plain": [
              "array([[ 62799, 118373],\n",
              "       [    25,   1572]])"
            ]
          },
          "metadata": {
            "tags": []
          },
          "execution_count": 41
        }
      ]
    },
    {
      "cell_type": "code",
      "metadata": {
        "colab": {
          "base_uri": "https://localhost:8080/"
        },
        "id": "A43tO3kcIoYv",
        "outputId": "64168f1f-f131-4cdc-c1f2-fc43ca905986"
      },
      "source": [
        "#plot_confusion_matrix(adaboost,X_test,y_test)\r\n",
        "confusion_matrix(y_true=y_test,y_pred=adaboost.predict(X_test))"
      ],
      "execution_count": 42,
      "outputs": [
        {
          "output_type": "execute_result",
          "data": {
            "text/plain": [
              "array([[107632,  73540],\n",
              "       [   398,   1199]])"
            ]
          },
          "metadata": {
            "tags": []
          },
          "execution_count": 42
        }
      ]
    },
    {
      "cell_type": "code",
      "metadata": {
        "colab": {
          "base_uri": "https://localhost:8080/"
        },
        "id": "TCKV4R5HItsJ",
        "outputId": "932a88a8-5c32-4fc9-dc29-baa625fdc367"
      },
      "source": [
        "#plot_confusion_matrix(logistic,X_test,y_test)\r\n",
        "confusion_matrix(y_true=y_test,y_pred=logistic.predict(X_test))"
      ],
      "execution_count": 43,
      "outputs": [
        {
          "output_type": "execute_result",
          "data": {
            "text/plain": [
              "array([[84966, 96206],\n",
              "       [  611,   986]])"
            ]
          },
          "metadata": {
            "tags": []
          },
          "execution_count": 43
        }
      ]
    },
    {
      "cell_type": "code",
      "metadata": {
        "id": "HPLvmL7LK68U",
        "outputId": "7ecffa6b-0b38-4571-9311-903d43cbdd19",
        "colab": {
          "base_uri": "https://localhost:8080/"
        }
      },
      "source": [
        "class_count=2 #number of classes to predict\r\n",
        "batch_size=1250 #batch size of train+val dataset\r\n",
        "val_size=0.2 #validation data % within batch\r\n",
        "\r\n",
        "adaboost=AdaBoostClassifier(base_estimator=DecisionTreeClassifier(max_depth=100),n_estimators=100,learning_rate=0.1,random_state=10)\r\n",
        "\r\n",
        "track_training_df=pd.DataFrame(columns=['iteration','training_f1_score','val_f1_score'])\r\n",
        "\r\n",
        "for i in range(10):\r\n",
        "  X_train, y_train, X_val, y_val=generate_train_val_batches(processed_df,class_0_index,class_1_index,class_count,batch_size,val_size)\r\n",
        "  #train classifiers on batches\r\n",
        "  adaboost.fit(X_train,y_train)\r\n",
        "  track_training_df.loc[i]=[i,f1_score(y_true=y_train,y_pred=adaboost.predict(X_train),average='weighted'),f1_score(y_true=y_val,y_pred=adaboost.predict(X_val),average='weighted')]\r\n",
        "print(f1_score(y_true=y_test,y_pred=adaboost.predict(X_test),average='weighted'))\r\n",
        "print(f1_score(y_true=y_test,y_pred=adaboost.predict(X_test),average=None))\r\n",
        "confusion_matrix(y_true=y_test,y_pred=adaboost.predict(X_test))"
      ],
      "execution_count": 104,
      "outputs": [
        {
          "output_type": "stream",
          "text": [
            "0.6415316031222578\n",
            "[0.64702754 0.01804393]\n"
          ],
          "name": "stdout"
        },
        {
          "output_type": "execute_result",
          "data": {
            "text/plain": [
              "array([[86988, 94184],\n",
              "       [  725,   872]])"
            ]
          },
          "metadata": {
            "tags": []
          },
          "execution_count": 104
        }
      ]
    },
    {
      "cell_type": "code",
      "metadata": {
        "id": "_AUUdHquNolM",
        "outputId": "726c3153-3b0e-4b9e-c2b5-1f12be1069b9",
        "colab": {
          "base_uri": "https://localhost:8080/",
          "height": 347
        }
      },
      "source": [
        "track_training_df"
      ],
      "execution_count": 105,
      "outputs": [
        {
          "output_type": "execute_result",
          "data": {
            "text/html": [
              "<div>\n",
              "<style scoped>\n",
              "    .dataframe tbody tr th:only-of-type {\n",
              "        vertical-align: middle;\n",
              "    }\n",
              "\n",
              "    .dataframe tbody tr th {\n",
              "        vertical-align: top;\n",
              "    }\n",
              "\n",
              "    .dataframe thead th {\n",
              "        text-align: right;\n",
              "    }\n",
              "</style>\n",
              "<table border=\"1\" class=\"dataframe\">\n",
              "  <thead>\n",
              "    <tr style=\"text-align: right;\">\n",
              "      <th></th>\n",
              "      <th>iteration</th>\n",
              "      <th>training_f1_score</th>\n",
              "      <th>val_f1_score</th>\n",
              "    </tr>\n",
              "  </thead>\n",
              "  <tbody>\n",
              "    <tr>\n",
              "      <th>0</th>\n",
              "      <td>0.0</td>\n",
              "      <td>0.992000</td>\n",
              "      <td>0.591896</td>\n",
              "    </tr>\n",
              "    <tr>\n",
              "      <th>1</th>\n",
              "      <td>1.0</td>\n",
              "      <td>0.981000</td>\n",
              "      <td>0.491992</td>\n",
              "    </tr>\n",
              "    <tr>\n",
              "      <th>2</th>\n",
              "      <td>2.0</td>\n",
              "      <td>0.986999</td>\n",
              "      <td>0.450937</td>\n",
              "    </tr>\n",
              "    <tr>\n",
              "      <th>3</th>\n",
              "      <td>3.0</td>\n",
              "      <td>0.989000</td>\n",
              "      <td>0.526059</td>\n",
              "    </tr>\n",
              "    <tr>\n",
              "      <th>4</th>\n",
              "      <td>4.0</td>\n",
              "      <td>0.991000</td>\n",
              "      <td>0.475320</td>\n",
              "    </tr>\n",
              "    <tr>\n",
              "      <th>5</th>\n",
              "      <td>5.0</td>\n",
              "      <td>0.988000</td>\n",
              "      <td>0.510873</td>\n",
              "    </tr>\n",
              "    <tr>\n",
              "      <th>6</th>\n",
              "      <td>6.0</td>\n",
              "      <td>0.986999</td>\n",
              "      <td>0.528000</td>\n",
              "    </tr>\n",
              "    <tr>\n",
              "      <th>7</th>\n",
              "      <td>7.0</td>\n",
              "      <td>0.987000</td>\n",
              "      <td>0.445730</td>\n",
              "    </tr>\n",
              "    <tr>\n",
              "      <th>8</th>\n",
              "      <td>8.0</td>\n",
              "      <td>0.990000</td>\n",
              "      <td>0.520000</td>\n",
              "    </tr>\n",
              "    <tr>\n",
              "      <th>9</th>\n",
              "      <td>9.0</td>\n",
              "      <td>0.993000</td>\n",
              "      <td>0.479700</td>\n",
              "    </tr>\n",
              "  </tbody>\n",
              "</table>\n",
              "</div>"
            ],
            "text/plain": [
              "   iteration  training_f1_score  val_f1_score\n",
              "0        0.0           0.992000      0.591896\n",
              "1        1.0           0.981000      0.491992\n",
              "2        2.0           0.986999      0.450937\n",
              "3        3.0           0.989000      0.526059\n",
              "4        4.0           0.991000      0.475320\n",
              "5        5.0           0.988000      0.510873\n",
              "6        6.0           0.986999      0.528000\n",
              "7        7.0           0.987000      0.445730\n",
              "8        8.0           0.990000      0.520000\n",
              "9        9.0           0.993000      0.479700"
            ]
          },
          "metadata": {
            "tags": []
          },
          "execution_count": 105
        }
      ]
    },
    {
      "cell_type": "code",
      "metadata": {
        "id": "WGh1Q2wOObab",
        "outputId": "4ed0181d-baa6-4c87-f0ac-6dd40c4e408f",
        "colab": {
          "base_uri": "https://localhost:8080/",
          "height": 367
        }
      },
      "source": [
        "plot_colors = \"br\"\r\n",
        "plot_step = 0.02\r\n",
        "class_names = \"AB\"\r\n",
        "\r\n",
        "plt.figure(figsize=(10, 5))\r\n",
        "twoclass_output = adaboost.decision_function(X_test)\r\n",
        "plot_range = (twoclass_output.min(), twoclass_output.max())\r\n",
        "\r\n",
        "for i, n, c in zip(range(2), class_names, plot_colors):\r\n",
        "    plt.hist(twoclass_output[y_test['CASE_STATUS'] == i],\r\n",
        "             bins=10,\r\n",
        "             range=plot_range,\r\n",
        "             facecolor=c,\r\n",
        "             label='Class %s' % n,\r\n",
        "             alpha=.5,\r\n",
        "             edgecolor='k')\r\n",
        "x1, x2, y1, y2 = plt.axis()\r\n",
        "plt.axis((x1, x2, y1, y2 * 1.2))\r\n",
        "plt.legend(loc='upper right')\r\n",
        "plt.ylabel('Samples')\r\n",
        "plt.xlabel('Score')\r\n",
        "plt.title('Decision Scores')"
      ],
      "execution_count": 106,
      "outputs": [
        {
          "output_type": "execute_result",
          "data": {
            "text/plain": [
              "Text(0.5, 1.0, 'Decision Scores')"
            ]
          },
          "metadata": {
            "tags": []
          },
          "execution_count": 106
        },
        {
          "output_type": "display_data",
          "data": {
            "image/png": "[encoded data removed]",
            "text/plain": [
              "<Figure size 720x360 with 1 Axes>"
            ]
          },
          "metadata": {
            "tags": [],
            "needs_background": "light"
          }
        }
      ]
    },
    {
      "cell_type": "code",
      "metadata": {
        "id": "rIEp3LInPajb",
        "outputId": "00fc1c75-3e4a-4a98-f3b1-d6a7fda5e25b",
        "colab": {
          "base_uri": "https://localhost:8080/"
        }
      },
      "source": [
        "twoclass_output"
      ],
      "execution_count": 78,
      "outputs": [
        {
          "output_type": "execute_result",
          "data": {
            "text/plain": [
              "array([ 2.43036969, -1.25786435, -3.65420065, -0.60797131, -0.62910747,\n",
              "        3.85741058,  0.59344038,  7.00067908, -2.10092976, -0.1863904 ,\n",
              "        2.74475884,  2.01656799,  1.47751903, -0.19860966,  2.32607795,\n",
              "        0.99257199, -4.05527115,  3.76323044,  4.47272793, -1.38304892,\n",
              "        1.41279338,  0.58706262, -6.04828244, -1.45102315, -1.31222732,\n",
              "        0.80599884, -2.50776658, -1.8368901 , -2.28352512, -2.0326656 ,\n",
              "       -4.76765174, -2.6963373 ,  2.11023727, -0.2646924 ,  1.34985252,\n",
              "        0.2046769 , -2.22971394, -3.93992165, -1.49161893, -3.91537575,\n",
              "       -1.24265172, -2.37863522, -1.37284357,  0.32584523, -1.65820795,\n",
              "       -1.3757921 , -2.00288612, -5.21175206,  2.37576755,  3.1884863 ])"
            ]
          },
          "metadata": {
            "tags": []
          },
          "execution_count": 78
        }
      ]
    }
  ]
}