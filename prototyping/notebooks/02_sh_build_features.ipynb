{
  "nbformat": 4,
  "nbformat_minor": 0,
  "metadata": {
    "colab": {
      "name": "02_sh_build_features.ipynb",
      "provenance": [],
      "collapsed_sections": [],
      "authorship_tag": "ABX9TyPLoRlE7a2ygj4Yj/SR5DrU",
      "include_colab_link": true
    },
    "kernelspec": {
      "name": "python3",
      "display_name": "Python 3"
    }
  },
  "cells": [
    {
      "cell_type": "markdown",
      "metadata": {
        "id": "view-in-github",
        "colab_type": "text"
      },
      "source": [
        "<a href=\"https://colab.research.google.com/github/sharsulkar/H1B_LCA_outcome_prediction/blob/main/prototyping/notebooks/02_sh_build_features.ipynb\" target=\"_parent\"><img src=\"https://colab.research.google.com/assets/colab-badge.svg\" alt=\"Open In Colab\"/></a>"
      ]
    },
    {
      "cell_type": "code",
      "metadata": {
        "id": "2cOZ1xe4_1GR"
      },
      "source": [
        "import numpy as np\n",
        "import pandas as pd"
      ],
      "execution_count": 2,
      "outputs": []
    },
    {
      "cell_type": "code",
      "metadata": {
        "id": "2oc7VwalEeAp"
      },
      "source": [
        "observations_df=pd.read_csv('https://raw.githubusercontent.com/sharsulkar/H1B_LCA_outcome_prediction/main/reports/preprocessing_steps_observations.csv',sep='$',index_col=0,error_bad_lines=False)"
      ],
      "execution_count": 35,
      "outputs": []
    },
    {
      "cell_type": "code",
      "metadata": {
        "id": "r9ZIBsc3QUNL"
      },
      "source": [
        "#only pull columns that are required\n",
        "required_features=list(observations_df[observations_df.preprocess_comment.isin([np.NaN,'Feature engineering','Target feature'])].index)"
      ],
      "execution_count": 36,
      "outputs": []
    },
    {
      "cell_type": "code",
      "metadata": {
        "id": "XXuJaEciDs2E"
      },
      "source": [
        "LCA_df=pd.read_excel('https://www.dol.gov/sites/dolgov/files/ETA/oflc/pdfs/LCA_Disclosure_Data_FY2020_Q2.xlsx',usecols=required_features)"
      ],
      "execution_count": 38,
      "outputs": []
    },
    {
      "cell_type": "code",
      "metadata": {
        "id": "05tKGanwTYCB"
      },
      "source": [
        "#Drop rows where CASE_STATUS not in ('Certified','Denied')\n",
        "LCA_df.drop(index=LCA_df[~LCA_df.CASE_STATUS.isin(['Certified','Denied'])].index,inplace=True)\n",
        "LCA_df.reset_index(inplace=True)"
      ],
      "execution_count": 39,
      "outputs": []
    },
    {
      "cell_type": "markdown",
      "metadata": {
        "id": "JwZ6TJameB6C"
      },
      "source": [
        "### Feature engineering"
      ]
    },
    {
      "cell_type": "code",
      "metadata": {
        "id": "uUwtHjKqZYjc"
      },
      "source": [
        "#feature engineering steps\n",
        "def date_diff(date1,date2):\n",
        "  #error handling - \n",
        "    #validate input datatype is datetime\n",
        "    #handle empty inputs\n",
        "  return date1-date2"
      ],
      "execution_count": 7,
      "outputs": []
    },
    {
      "cell_type": "markdown",
      "metadata": {
        "id": "ldtA-MExdmTj"
      },
      "source": [
        "#### Processing_Days and Validity_days"
      ]
    },
    {
      "cell_type": "code",
      "metadata": {
        "id": "Hms3winQOEqn"
      },
      "source": [
        "LCA_df['PROCESSING_DAYS']=date_diff(LCA_df.DECISION_DATE, LCA_df.RECEIVED_DATE)\n",
        "LCA_df['VALIDITY_DAYS']=date_diff(LCA_df.END_DATE, LCA_df.BEGIN_DATE)"
      ],
      "execution_count": 40,
      "outputs": []
    },
    {
      "cell_type": "markdown",
      "metadata": {
        "id": "cRPNnSc6dtec"
      },
      "source": [
        "#### SOC_Codes"
      ]
    },
    {
      "cell_type": "code",
      "metadata": {
        "id": "6w_sE4wtPvJU"
      },
      "source": [
        "LCA_df['SOC_CD2']=LCA_df.SOC_CODE.str.split(pat='-',n=1,expand=True)[0]"
      ],
      "execution_count": 41,
      "outputs": []
    },
    {
      "cell_type": "code",
      "metadata": {
        "id": "1oBp8IZlc5jF"
      },
      "source": [
        "LCA_df['SOC_CD4']=LCA_df.SOC_CODE.str.split(pat='-',n=1,expand=True)[1].str.split(pat='.',n=1,expand=True)[0]"
      ],
      "execution_count": 42,
      "outputs": []
    },
    {
      "cell_type": "code",
      "metadata": {
        "id": "Zy-tp2gfdYKD"
      },
      "source": [
        "LCA_df['SOC_CD_ONET']=LCA_df.SOC_CODE.str.split(pat='-',n=1,expand=True)[1].str.split(pat='.',n=1,expand=True)[1]"
      ],
      "execution_count": 43,
      "outputs": []
    },
    {
      "cell_type": "markdown",
      "metadata": {
        "id": "X2Y9777Fd-l9"
      },
      "source": [
        "#### USA_YN"
      ]
    },
    {
      "cell_type": "code",
      "metadata": {
        "id": "xTitVFwzigw3"
      },
      "source": [
        "def is_USA(country):\n",
        "  if country=='UNITED STATES OF AMERICA':\n",
        "    USA_YN='Y' \n",
        "  else:\n",
        "    USA_YN='N'\n",
        "  return USA_YN"
      ],
      "execution_count": 51,
      "outputs": []
    },
    {
      "cell_type": "code",
      "metadata": {
        "id": "zSdG-Za6dlmC"
      },
      "source": [
        "LCA_df['USA_YN']=LCA_df.EMPLOYER_COUNTRY.apply(is_USA)"
      ],
      "execution_count": 53,
      "outputs": []
    },
    {
      "cell_type": "markdown",
      "metadata": {
        "id": "bslE7AwUjLSv"
      },
      "source": [
        "#### Employer_Worksite_YN"
      ]
    },
    {
      "cell_type": "code",
      "metadata": {
        "id": "bbmwa0NrmjoI"
      },
      "source": [
        "LCA_df['EMPLOYER_WORKSITE_YN']='Y'\n",
        "LCA_df.loc[LCA_df.EMPLOYER_POSTAL_CODE.ne(LCA_df.WORKSITE_POSTAL_CODE),'EMPLOYER_WORKSITE_YN']='N'"
      ],
      "execution_count": 89,
      "outputs": []
    },
    {
      "cell_type": "markdown",
      "metadata": {
        "id": "CFPN2ujZtxAX"
      },
      "source": [
        "#### OES_YN"
      ]
    },
    {
      "cell_type": "code",
      "metadata": {
        "id": "QMkN48uptzmW"
      },
      "source": [
        "LCA_df['OES_YN']='Y'\n",
        "LCA_df.iloc[LCA_df[~LCA_df.PW_OTHER_SOURCE.isna()].index,LCA_df.columns.get_loc('OES_YN')]='N'"
      ],
      "execution_count": 99,
      "outputs": []
    },
    {
      "cell_type": "markdown",
      "metadata": {
        "id": "W0IS-_wUvjZD"
      },
      "source": [
        "#### SURVEY_YEAR"
      ]
    },
    {
      "cell_type": "code",
      "metadata": {
        "id": "x9iEBeF4uxhX",
        "outputId": "b238f6ed-de3f-4632-a052-e35d6653f114",
        "colab": {
          "base_uri": "https://localhost:8080/"
        }
      },
      "source": [
        "def extract_survey_year(OES_YN,PW_OES_YEAR,PW_OTHER_YEAR):\n",
        "  if OES_YN=='Y':\n",
        "    #extract year from first date of PW_OES_YEAR\n",
        "  else:\n",
        "    #return PW_OTHER_YEAR "
      ],
      "execution_count": 98,
      "outputs": [
        {
          "output_type": "execute_result",
          "data": {
            "text/plain": [
              "43"
            ]
          },
          "metadata": {
            "tags": []
          },
          "execution_count": 98
        }
      ]
    },
    {
      "cell_type": "markdown",
      "metadata": {
        "id": "etAjVhVv0tPM"
      },
      "source": [
        "#### WAGE_ABOVE_PREVAILING_HR"
      ]
    },
    {
      "cell_type": "code",
      "metadata": {
        "id": "OsQqdO8e0x_v"
      },
      "source": [
        "def wage_per_hour(WAGE,UNIT_OF_PAY):\n",
        "  #if UNIT_OF_PAY=='YEAR' then wage_per_hour=WAGE/2067\n",
        "  #if UNIT_OF_PAY=='MONTH' then wage_per_hourWAGE/172\n",
        "  #if UNIT_OF_PAY=='HOUR' then wage_per_hour=WAGE\n",
        "  #return wage_per_hour"
      ],
      "execution_count": null,
      "outputs": []
    },
    {
      "cell_type": "markdown",
      "metadata": {
        "id": "6Up3JcWEd0fo"
      },
      "source": [
        "#### Drop columns after feature engineering"
      ]
    },
    {
      "cell_type": "code",
      "metadata": {
        "id": "VxV4hpTOO5mp"
      },
      "source": [
        "LCA_df.drop(columns=['DECISION_DATE','RECEIVED_DATE','END_DATE','BEGIN_DATE','SOC_CODE','EMPLOYER_POSTAL_CODE','WORKSITE_POSTAL_CODE','PW_OTHER_SOURCE','PW_OES_YEAR','PW_OTHER_YEAR'],inplace=True)"
      ],
      "execution_count": 19,
      "outputs": []
    },
    {
      "cell_type": "code",
      "metadata": {
        "colab": {
          "base_uri": "https://localhost:8080/",
          "height": 469
        },
        "id": "kAQsRNY2Orlx",
        "outputId": "3c194509-5f5e-420a-aa52-a79066b3ecc6"
      },
      "source": [
        "LCA_df.head()"
      ],
      "execution_count": 72,
      "outputs": [
        {
          "output_type": "execute_result",
          "data": {
            "text/html": [
              "<div>\n",
              "<style scoped>\n",
              "    .dataframe tbody tr th:only-of-type {\n",
              "        vertical-align: middle;\n",
              "    }\n",
              "\n",
              "    .dataframe tbody tr th {\n",
              "        vertical-align: top;\n",
              "    }\n",
              "\n",
              "    .dataframe thead th {\n",
              "        text-align: right;\n",
              "    }\n",
              "</style>\n",
              "<table border=\"1\" class=\"dataframe\">\n",
              "  <thead>\n",
              "    <tr style=\"text-align: right;\">\n",
              "      <th></th>\n",
              "      <th>CASE_STATUS</th>\n",
              "      <th>RECEIVED_DATE</th>\n",
              "      <th>DECISION_DATE</th>\n",
              "      <th>VISA_CLASS</th>\n",
              "      <th>SOC_CODE</th>\n",
              "      <th>SOC_TITLE</th>\n",
              "      <th>FULL_TIME_POSITION</th>\n",
              "      <th>BEGIN_DATE</th>\n",
              "      <th>END_DATE</th>\n",
              "      <th>TOTAL_WORKER_POSITIONS</th>\n",
              "      <th>NEW_EMPLOYMENT</th>\n",
              "      <th>CONTINUED_EMPLOYMENT</th>\n",
              "      <th>CHANGE_PREVIOUS_EMPLOYMENT</th>\n",
              "      <th>NEW_CONCURRENT_EMPLOYMENT</th>\n",
              "      <th>CHANGE_EMPLOYER</th>\n",
              "      <th>AMENDED_PETITION</th>\n",
              "      <th>EMPLOYER_NAME</th>\n",
              "      <th>EMPLOYER_POSTAL_CODE</th>\n",
              "      <th>EMPLOYER_COUNTRY</th>\n",
              "      <th>NAICS_CODE</th>\n",
              "      <th>AGENT_REPRESENTING_EMPLOYER</th>\n",
              "      <th>WORKSITE_WORKERS</th>\n",
              "      <th>SECONDARY_ENTITY</th>\n",
              "      <th>WORKSITE_POSTAL_CODE</th>\n",
              "      <th>WAGE_RATE_OF_PAY_FROM</th>\n",
              "      <th>PREVAILING_WAGE</th>\n",
              "      <th>PW_WAGE_LEVEL</th>\n",
              "      <th>PW_OES_YEAR</th>\n",
              "      <th>PW_OTHER_SOURCE</th>\n",
              "      <th>PW_OTHER_YEAR</th>\n",
              "      <th>TOTAL_WORKSITE_LOCATIONS</th>\n",
              "      <th>AGREE_TO_LC_STATEMENT</th>\n",
              "      <th>H-1B_DEPENDENT</th>\n",
              "      <th>WILLFUL_VIOLATOR</th>\n",
              "      <th>PUBLIC_DISCLOSURE</th>\n",
              "      <th>PROCESSING_DAYS</th>\n",
              "      <th>VALIDITY_DAYS</th>\n",
              "      <th>SOC_CD2</th>\n",
              "      <th>SOC_CD4</th>\n",
              "      <th>SOC_CD_ONET</th>\n",
              "      <th>USA_YN</th>\n",
              "      <th>EMPLOYER_WORKSITE_YN</th>\n",
              "    </tr>\n",
              "  </thead>\n",
              "  <tbody>\n",
              "    <tr>\n",
              "      <th>0</th>\n",
              "      <td>Certified</td>\n",
              "      <td>2019-12-23</td>\n",
              "      <td>2020-01-01</td>\n",
              "      <td>H-1B</td>\n",
              "      <td>15-1121.00</td>\n",
              "      <td>Computer Systems Analysts</td>\n",
              "      <td>Y</td>\n",
              "      <td>2020-01-01</td>\n",
              "      <td>2022-12-31</td>\n",
              "      <td>1</td>\n",
              "      <td>0</td>\n",
              "      <td>1</td>\n",
              "      <td>0</td>\n",
              "      <td>0</td>\n",
              "      <td>0</td>\n",
              "      <td>0</td>\n",
              "      <td>COGNIZANT TECHNOLOGY SOLUTIONS US CORP</td>\n",
              "      <td>77845</td>\n",
              "      <td>UNITED STATES OF AMERICA</td>\n",
              "      <td>541512</td>\n",
              "      <td>N</td>\n",
              "      <td>1.0</td>\n",
              "      <td>Y</td>\n",
              "      <td>7310</td>\n",
              "      <td>92435.00</td>\n",
              "      <td>92435.00</td>\n",
              "      <td>II</td>\n",
              "      <td>7/1/2019 - 6/30/2020</td>\n",
              "      <td>NaN</td>\n",
              "      <td>NaN</td>\n",
              "      <td>1.0</td>\n",
              "      <td>Y</td>\n",
              "      <td>Y</td>\n",
              "      <td>N</td>\n",
              "      <td>Disclose Business</td>\n",
              "      <td>9 days</td>\n",
              "      <td>1095 days</td>\n",
              "      <td>15</td>\n",
              "      <td>1121</td>\n",
              "      <td>00</td>\n",
              "      <td>Y</td>\n",
              "      <td>N</td>\n",
              "    </tr>\n",
              "    <tr>\n",
              "      <th>1</th>\n",
              "      <td>Certified</td>\n",
              "      <td>2019-12-23</td>\n",
              "      <td>2020-01-01</td>\n",
              "      <td>H-1B</td>\n",
              "      <td>17-2072.00</td>\n",
              "      <td>Electronics Engineers, Except Computer</td>\n",
              "      <td>Y</td>\n",
              "      <td>2020-06-16</td>\n",
              "      <td>2023-06-15</td>\n",
              "      <td>30</td>\n",
              "      <td>5</td>\n",
              "      <td>5</td>\n",
              "      <td>5</td>\n",
              "      <td>5</td>\n",
              "      <td>5</td>\n",
              "      <td>5</td>\n",
              "      <td>SYNOPSYS, INC.</td>\n",
              "      <td>94043</td>\n",
              "      <td>UNITED STATES OF AMERICA</td>\n",
              "      <td>541512</td>\n",
              "      <td>Y</td>\n",
              "      <td>30.0</td>\n",
              "      <td>N</td>\n",
              "      <td>94043</td>\n",
              "      <td>113684.00</td>\n",
              "      <td>113684.00</td>\n",
              "      <td>NaN</td>\n",
              "      <td>NaN</td>\n",
              "      <td>Survey</td>\n",
              "      <td>2019.0</td>\n",
              "      <td>1.0</td>\n",
              "      <td>Y</td>\n",
              "      <td>N</td>\n",
              "      <td>N</td>\n",
              "      <td>Disclose Business</td>\n",
              "      <td>9 days</td>\n",
              "      <td>1094 days</td>\n",
              "      <td>17</td>\n",
              "      <td>2072</td>\n",
              "      <td>00</td>\n",
              "      <td>Y</td>\n",
              "      <td>Y</td>\n",
              "    </tr>\n",
              "    <tr>\n",
              "      <th>2</th>\n",
              "      <td>Certified</td>\n",
              "      <td>2019-12-23</td>\n",
              "      <td>2020-01-01</td>\n",
              "      <td>H-1B</td>\n",
              "      <td>15-1121.00</td>\n",
              "      <td>Computer Systems Analysts</td>\n",
              "      <td>Y</td>\n",
              "      <td>2020-01-01</td>\n",
              "      <td>2022-12-31</td>\n",
              "      <td>1</td>\n",
              "      <td>0</td>\n",
              "      <td>1</td>\n",
              "      <td>0</td>\n",
              "      <td>0</td>\n",
              "      <td>0</td>\n",
              "      <td>0</td>\n",
              "      <td>COGNIZANT TECHNOLOGY SOLUTIONS US CORP</td>\n",
              "      <td>77845</td>\n",
              "      <td>UNITED STATES OF AMERICA</td>\n",
              "      <td>541512</td>\n",
              "      <td>N</td>\n",
              "      <td>1.0</td>\n",
              "      <td>Y</td>\n",
              "      <td>30342</td>\n",
              "      <td>77771.00</td>\n",
              "      <td>77771.00</td>\n",
              "      <td>II</td>\n",
              "      <td>7/1/2019 - 6/30/2020</td>\n",
              "      <td>NaN</td>\n",
              "      <td>NaN</td>\n",
              "      <td>1.0</td>\n",
              "      <td>Y</td>\n",
              "      <td>Y</td>\n",
              "      <td>N</td>\n",
              "      <td>Disclose Business</td>\n",
              "      <td>9 days</td>\n",
              "      <td>1095 days</td>\n",
              "      <td>15</td>\n",
              "      <td>1121</td>\n",
              "      <td>00</td>\n",
              "      <td>Y</td>\n",
              "      <td>N</td>\n",
              "    </tr>\n",
              "    <tr>\n",
              "      <th>3</th>\n",
              "      <td>Certified</td>\n",
              "      <td>2019-12-23</td>\n",
              "      <td>2020-01-01</td>\n",
              "      <td>H-1B</td>\n",
              "      <td>15-1121.00</td>\n",
              "      <td>Computer Systems Analysts</td>\n",
              "      <td>Y</td>\n",
              "      <td>2020-01-01</td>\n",
              "      <td>2022-12-31</td>\n",
              "      <td>1</td>\n",
              "      <td>0</td>\n",
              "      <td>1</td>\n",
              "      <td>0</td>\n",
              "      <td>0</td>\n",
              "      <td>0</td>\n",
              "      <td>0</td>\n",
              "      <td>COGNIZANT TECHNOLOGY SOLUTIONS US CORP</td>\n",
              "      <td>77845</td>\n",
              "      <td>UNITED STATES OF AMERICA</td>\n",
              "      <td>541512</td>\n",
              "      <td>N</td>\n",
              "      <td>1.0</td>\n",
              "      <td>Y</td>\n",
              "      <td>68106</td>\n",
              "      <td>65624.00</td>\n",
              "      <td>65624.00</td>\n",
              "      <td>II</td>\n",
              "      <td>7/1/2019 - 6/30/2020</td>\n",
              "      <td>NaN</td>\n",
              "      <td>NaN</td>\n",
              "      <td>1.0</td>\n",
              "      <td>Y</td>\n",
              "      <td>Y</td>\n",
              "      <td>N</td>\n",
              "      <td>Disclose Business</td>\n",
              "      <td>9 days</td>\n",
              "      <td>1095 days</td>\n",
              "      <td>15</td>\n",
              "      <td>1121</td>\n",
              "      <td>00</td>\n",
              "      <td>Y</td>\n",
              "      <td>N</td>\n",
              "    </tr>\n",
              "    <tr>\n",
              "      <th>4</th>\n",
              "      <td>Certified</td>\n",
              "      <td>2019-12-23</td>\n",
              "      <td>2020-01-01</td>\n",
              "      <td>H-1B</td>\n",
              "      <td>15-1132.00</td>\n",
              "      <td>Software Developers, Applications</td>\n",
              "      <td>Y</td>\n",
              "      <td>2020-01-10</td>\n",
              "      <td>2023-01-09</td>\n",
              "      <td>1</td>\n",
              "      <td>0</td>\n",
              "      <td>0</td>\n",
              "      <td>0</td>\n",
              "      <td>0</td>\n",
              "      <td>1</td>\n",
              "      <td>0</td>\n",
              "      <td>Populus Group LLC</td>\n",
              "      <td>48084</td>\n",
              "      <td>UNITED STATES OF AMERICA</td>\n",
              "      <td>561320</td>\n",
              "      <td>Y</td>\n",
              "      <td>1.0</td>\n",
              "      <td>Y</td>\n",
              "      <td>94089</td>\n",
              "      <td>86.54</td>\n",
              "      <td>74.36</td>\n",
              "      <td>IV</td>\n",
              "      <td>7/1/2019 - 6/30/2020</td>\n",
              "      <td>NaN</td>\n",
              "      <td>NaN</td>\n",
              "      <td>1.0</td>\n",
              "      <td>Y</td>\n",
              "      <td>N</td>\n",
              "      <td>N</td>\n",
              "      <td>Disclose Business</td>\n",
              "      <td>9 days</td>\n",
              "      <td>1095 days</td>\n",
              "      <td>15</td>\n",
              "      <td>1132</td>\n",
              "      <td>00</td>\n",
              "      <td>Y</td>\n",
              "      <td>N</td>\n",
              "    </tr>\n",
              "  </tbody>\n",
              "</table>\n",
              "</div>"
            ],
            "text/plain": [
              "  CASE_STATUS RECEIVED_DATE  ... USA_YN EMPLOYER_WORKSITE_YN\n",
              "0   Certified    2019-12-23  ...      Y                    N\n",
              "1   Certified    2019-12-23  ...      Y                    Y\n",
              "2   Certified    2019-12-23  ...      Y                    N\n",
              "3   Certified    2019-12-23  ...      Y                    N\n",
              "4   Certified    2019-12-23  ...      Y                    N\n",
              "\n",
              "[5 rows x 42 columns]"
            ]
          },
          "metadata": {
            "tags": []
          },
          "execution_count": 72
        }
      ]
    },
    {
      "cell_type": "code",
      "metadata": {
        "id": "8uGqY15egXjh"
      },
      "source": [
        "#separate target column and convert to binary"
      ],
      "execution_count": null,
      "outputs": []
    },
    {
      "cell_type": "code",
      "metadata": {
        "id": "3SFLFMZggfv4"
      },
      "source": [
        "#embed categorical features"
      ],
      "execution_count": null,
      "outputs": []
    },
    {
      "cell_type": "code",
      "metadata": {
        "id": "88D5pk9bgkSy"
      },
      "source": [
        "#scale numerical features"
      ],
      "execution_count": null,
      "outputs": []
    }
  ]
}