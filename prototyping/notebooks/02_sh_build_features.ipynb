{
  "nbformat": 4,
  "nbformat_minor": 0,
  "metadata": {
    "colab": {
      "name": "02_sh_build_features.ipynb",
      "provenance": [],
      "collapsed_sections": [],
      "toc_visible": true,
      "authorship_tag": "ABX9TyNBGHtsPwJB5dSc4mgopmvH",
      "include_colab_link": true
    },
    "kernelspec": {
      "name": "python3",
      "display_name": "Python 3"
    }
  },
  "cells": [
    {
      "cell_type": "markdown",
      "metadata": {
        "id": "view-in-github",
        "colab_type": "text"
      },
      "source": [
        "<a href=\"https://colab.research.google.com/github/sharsulkar/H1B_LCA_outcome_prediction/blob/main/prototyping/notebooks/02_sh_build_features.ipynb\" target=\"_parent\"><img src=\"https://colab.research.google.com/assets/colab-badge.svg\" alt=\"Open In Colab\"/></a>"
      ]
    },
    {
      "cell_type": "code",
      "metadata": {
        "id": "2cOZ1xe4_1GR"
      },
      "source": [
        "import numpy as np\n",
        "import pandas as pd"
      ],
      "execution_count": 1,
      "outputs": []
    },
    {
      "cell_type": "code",
      "metadata": {
        "id": "2oc7VwalEeAp"
      },
      "source": [
        "observations_df=pd.read_csv('https://raw.githubusercontent.com/sharsulkar/H1B_LCA_outcome_prediction/main/reports/preprocessing_steps_observations.csv',sep='$',index_col=0,error_bad_lines=False)"
      ],
      "execution_count": 2,
      "outputs": []
    },
    {
      "cell_type": "code",
      "metadata": {
        "id": "r9ZIBsc3QUNL"
      },
      "source": [
        "#only pull columns that are required\n",
        "required_features=list(observations_df[observations_df.preprocess_comment.isin([np.NaN,'Feature engineering','Target feature'])].index)"
      ],
      "execution_count": 3,
      "outputs": []
    },
    {
      "cell_type": "code",
      "metadata": {
        "id": "XXuJaEciDs2E"
      },
      "source": [
        "LCA_df=pd.read_excel('https://www.dol.gov/sites/dolgov/files/ETA/oflc/pdfs/LCA_Disclosure_Data_FY2020_Q2.xlsx',usecols=required_features)"
      ],
      "execution_count": 4,
      "outputs": []
    },
    {
      "cell_type": "code",
      "metadata": {
        "id": "05tKGanwTYCB"
      },
      "source": [
        "#Drop rows where CASE_STATUS not in ('Certified','Denied')\n",
        "LCA_df.drop(index=LCA_df[~LCA_df.CASE_STATUS.isin(['Certified','Denied'])].index,inplace=True)\n",
        "LCA_df.reset_index(inplace=True)"
      ],
      "execution_count": 5,
      "outputs": []
    },
    {
      "cell_type": "code",
      "metadata": {
        "id": "kok4nu_MEXlx"
      },
      "source": [
        "def modify_observations(df,index,columns,values,modify_action='update_values'):\r\n",
        "  #assert - index, columns and values are string list type, \r\n",
        "  #columns and values are same size, for single column - value should be scalar\r\n",
        "  #columns that have modification exist in observation_df\r\n",
        "  #\r\n",
        "  if modify_action=='add_row':\r\n",
        "    df.loc[index]=values\r\n",
        "\r\n",
        "  elif modify_action=='update_values':\r\n",
        "    df.loc[index,columns]=values\r\n",
        "  \r\n",
        "  return df"
      ],
      "execution_count": 114,
      "outputs": []
    },
    {
      "cell_type": "code",
      "metadata": {
        "id": "C6hY9s1VHFCS"
      },
      "source": [
        "def missing_statistics(df,column):\r\n",
        "  return (df.shape[0]-df[column].count())*100/df.shape[0]"
      ],
      "execution_count": 25,
      "outputs": []
    },
    {
      "cell_type": "code",
      "metadata": {
        "id": "9J3ONjilIAAi"
      },
      "source": [
        "def cardinality_statistics(df,column):\r\n",
        "  return (df.shape[0]-len(df[column].unique()))*100/df.shape[0]"
      ],
      "execution_count": 26,
      "outputs": []
    },
    {
      "cell_type": "markdown",
      "metadata": {
        "id": "JwZ6TJameB6C"
      },
      "source": [
        "### Feature engineering"
      ]
    },
    {
      "cell_type": "code",
      "metadata": {
        "id": "uUwtHjKqZYjc"
      },
      "source": [
        "#feature engineering steps\n",
        "def date_diff(date1,date2):\n",
        "  #error handling - \n",
        "    #validate input datatype is datetime\n",
        "    #handle empty inputs\n",
        "  return date1-date2"
      ],
      "execution_count": 6,
      "outputs": []
    },
    {
      "cell_type": "markdown",
      "metadata": {
        "id": "ldtA-MExdmTj"
      },
      "source": [
        "#### Processing_Days and Validity_days"
      ]
    },
    {
      "cell_type": "code",
      "metadata": {
        "id": "Hms3winQOEqn"
      },
      "source": [
        "#Compute feature\n",
        "LCA_df['PROCESSING_DAYS']=date_diff(LCA_df.DECISION_DATE, LCA_df.RECEIVED_DATE)\n",
        "LCA_df['VALIDITY_DAYS']=date_diff(LCA_df.END_DATE, LCA_df.BEGIN_DATE)"
      ],
      "execution_count": 7,
      "outputs": []
    },
    {
      "cell_type": "code",
      "metadata": {
        "id": "mx6nf3kPGsFE"
      },
      "source": [
        "#update observations_df with new feature details\r\n",
        "observations_df.loc['PROCESSING_DAYS']=[LCA_df.PROCESSING_DAYS.dtype,missing_statistics(LCA_df,'PROCESSING_DAYS'),cardinality_statistics(LCA_df,'PROCESSING_DAYS'),'New feature','Feature engineering','','','Ordinal','Ordered standardized random']\r\n",
        "observations_df.loc['VALIDITY_DAYS']=[LCA_df.VALIDITY_DAYS.dtype,missing_statistics(LCA_df,'VALIDITY_DAYS'),cardinality_statistics(LCA_df,'VALIDITY_DAYS'),'New feature','Feature engineering','','','Ordinal','Ordered standardized random']"
      ],
      "execution_count": 31,
      "outputs": []
    },
    {
      "cell_type": "code",
      "metadata": {
        "id": "Tvhv-FqgJoBZ"
      },
      "source": [
        ""
      ],
      "execution_count": 34,
      "outputs": []
    },
    {
      "cell_type": "markdown",
      "metadata": {
        "id": "cRPNnSc6dtec"
      },
      "source": [
        "#### SOC_Codes"
      ]
    },
    {
      "cell_type": "code",
      "metadata": {
        "id": "6w_sE4wtPvJU"
      },
      "source": [
        "#Compute feature\r\n",
        "LCA_df['SOC_CD2']=LCA_df.SOC_CODE.str.split(pat='-',n=1,expand=True)[0]\r\n",
        "LCA_df['SOC_CD4']=LCA_df.SOC_CODE.str.split(pat='-',n=1,expand=True)[1].str.split(pat='.',n=1,expand=True)[0]\r\n",
        "LCA_df['SOC_CD_ONET']=LCA_df.SOC_CODE.str.split(pat='-',n=1,expand=True)[1].str.split(pat='.',n=1,expand=True)[1]"
      ],
      "execution_count": 8,
      "outputs": []
    },
    {
      "cell_type": "code",
      "metadata": {
        "id": "KEHGVv3HJtrz"
      },
      "source": [
        "#update observations_df with new feature details\r\n",
        "observations_df.loc['SOC_CD2']=[LCA_df.SOC_CD2.dtype,missing_statistics(LCA_df,'SOC_CD2'),cardinality_statistics(LCA_df,'SOC_CD2'),'New feature','Feature engineering','','','Categorical','Standardized random']\r\n",
        "observations_df.loc['SOC_CD4']=[LCA_df.SOC_CD4.dtype,missing_statistics(LCA_df,'SOC_CD4'),cardinality_statistics(LCA_df,'SOC_CD4'),'New feature','Feature engineering','','','Categorical','Standardized random']\r\n",
        "observations_df.loc['SOC_CD_ONET']=[LCA_df.SOC_CD_ONET.dtype,missing_statistics(LCA_df,'SOC_CD_ONET'),cardinality_statistics(LCA_df,'SOC_CD_ONET'),'New feature','Feature engineering','','','Categorical','Standardized random']"
      ],
      "execution_count": 35,
      "outputs": []
    },
    {
      "cell_type": "markdown",
      "metadata": {
        "id": "X2Y9777Fd-l9"
      },
      "source": [
        "#### USA_YN"
      ]
    },
    {
      "cell_type": "code",
      "metadata": {
        "id": "xTitVFwzigw3"
      },
      "source": [
        "def is_USA(country):\n",
        "  if country=='UNITED STATES OF AMERICA':\n",
        "    USA_YN='Y' \n",
        "  else:\n",
        "    USA_YN='N'\n",
        "  return USA_YN"
      ],
      "execution_count": 9,
      "outputs": []
    },
    {
      "cell_type": "code",
      "metadata": {
        "id": "zSdG-Za6dlmC"
      },
      "source": [
        "#Compute feature\r\n",
        "LCA_df['USA_YN']=LCA_df.EMPLOYER_COUNTRY.apply(is_USA)"
      ],
      "execution_count": 10,
      "outputs": []
    },
    {
      "cell_type": "code",
      "metadata": {
        "id": "cFdoUHYdKIiA"
      },
      "source": [
        "#update observations_df with new feature details\r\n",
        "observations_df.loc['USA_YN']=[LCA_df.USA_YN.dtype,missing_statistics(LCA_df,'USA_YN'),cardinality_statistics(LCA_df,'USA_YN'),'New feature','Feature engineering','','','Binary','Standardized random']"
      ],
      "execution_count": 39,
      "outputs": []
    },
    {
      "cell_type": "markdown",
      "metadata": {
        "id": "bslE7AwUjLSv"
      },
      "source": [
        "#### Employer_Worksite_YN"
      ]
    },
    {
      "cell_type": "code",
      "metadata": {
        "id": "bbmwa0NrmjoI"
      },
      "source": [
        "#Compute feature\n",
        "LCA_df['EMPLOYER_WORKSITE_YN']='Y'\n",
        "LCA_df.loc[LCA_df.EMPLOYER_POSTAL_CODE.ne(LCA_df.WORKSITE_POSTAL_CODE),'EMPLOYER_WORKSITE_YN']='N'"
      ],
      "execution_count": 11,
      "outputs": []
    },
    {
      "cell_type": "code",
      "metadata": {
        "id": "eWi98yKcKQ_g"
      },
      "source": [
        "#update observations_df with new feature details\r\n",
        "observations_df.loc['USA_YN']=[LCA_df.USA_YN.dtype,missing_statistics(LCA_df,'USA_YN'),cardinality_statistics(LCA_df,'USA_YN'),'New feature','Feature engineering','','','Binary','Standardized random']"
      ],
      "execution_count": 40,
      "outputs": []
    },
    {
      "cell_type": "markdown",
      "metadata": {
        "id": "CFPN2ujZtxAX"
      },
      "source": [
        "#### OES_YN"
      ]
    },
    {
      "cell_type": "code",
      "metadata": {
        "id": "QMkN48uptzmW"
      },
      "source": [
        "#Compute feature\n",
        "LCA_df['OES_YN']='Y'\n",
        "LCA_df.iloc[LCA_df[~LCA_df.PW_OTHER_SOURCE.isna()].index,LCA_df.columns.get_loc('OES_YN')]='N'"
      ],
      "execution_count": 12,
      "outputs": []
    },
    {
      "cell_type": "code",
      "metadata": {
        "id": "R2gWvXmuKolJ"
      },
      "source": [
        "#update observations_df with new feature details\r\n",
        "observations_df.loc['OES_YN']=[LCA_df.OES_YN.dtype,missing_statistics(LCA_df,'OES_YN'),cardinality_statistics(LCA_df,'OES_YN'),'New feature','Feature engineering','','','Binary','Standardized random']"
      ],
      "execution_count": 41,
      "outputs": []
    },
    {
      "cell_type": "markdown",
      "metadata": {
        "id": "W0IS-_wUvjZD"
      },
      "source": [
        "#### SURVEY_YEAR"
      ]
    },
    {
      "cell_type": "code",
      "metadata": {
        "id": "VE2jg1Okt5FU"
      },
      "source": [
        "#Compute feature\r\n",
        "#reference https://www.interviewqs.com/ddi-code-snippets/extract-month-year-pandas\r\n",
        "#Compute and move all 'Year' values from PW_OES_YEAR field into SURVEY_YEAR\r\n",
        "LCA_df['SURVEY_YEAR']=pd.to_datetime(LCA_df.PW_OES_YEAR.str.split(pat='-',n=1,expand=True)[0]).dt.to_period('Y')\r\n",
        "#Then create a series object to store only the 'YEAR' values from PW_OTHER_YEAR when OES_YN==N\r\n",
        "PW_other_year=LCA_df[LCA_df.OES_YN=='N'].PW_OTHER_YEAR\r\n",
        "#Rename the series and update dataframe with series object\r\n",
        "#https://pandas.pydata.org/pandas-docs/stable/reference/api/pandas.DataFrame.update.html\r\n",
        "PW_other_year.rename(\"SURVEY_YEAR\",inplace=True)\r\n",
        "LCA_df.update(PW_other_year)"
      ],
      "execution_count": 13,
      "outputs": []
    },
    {
      "cell_type": "code",
      "metadata": {
        "id": "3t_TEK8gKta4"
      },
      "source": [
        "#update observations_df with new feature details\r\n",
        "observations_df.loc['SURVEY_YEAR']=[LCA_df.SURVEY_YEAR.dtype,missing_statistics(LCA_df,'SURVEY_YEAR'),cardinality_statistics(LCA_df,'SURVEY_YEAR'),'New feature','Feature engineering','','','Ordinal','Standardized random']"
      ],
      "execution_count": 50,
      "outputs": []
    },
    {
      "cell_type": "markdown",
      "metadata": {
        "id": "etAjVhVv0tPM"
      },
      "source": [
        "#### WAGE_ABOVE_PREVAILING_HR"
      ]
    },
    {
      "cell_type": "code",
      "metadata": {
        "id": "vXLnBwlSHSzO"
      },
      "source": [
        "#Compute feature\r\n",
        "#initialize with WAGE_RATE_OF_PAY_FROM\r\n",
        "LCA_df['WAGE_PER_HR']=LCA_df.WAGE_RATE_OF_PAY_FROM\r\n",
        "#compute for Year\r\n",
        "LCA_df.iloc[LCA_df[LCA_df.WAGE_UNIT_OF_PAY=='Year'].index,LCA_df.columns.get_loc('WAGE_PER_HR')]=LCA_df[LCA_df.WAGE_UNIT_OF_PAY=='Year'].WAGE_RATE_OF_PAY_FROM/2067\r\n",
        "#compute for Month\r\n",
        "LCA_df.iloc[LCA_df[LCA_df.WAGE_UNIT_OF_PAY=='Month'].index,LCA_df.columns.get_loc('WAGE_PER_HR')]=LCA_df[LCA_df.WAGE_UNIT_OF_PAY=='Month'].WAGE_RATE_OF_PAY_FROM/172"
      ],
      "execution_count": 14,
      "outputs": []
    },
    {
      "cell_type": "code",
      "metadata": {
        "id": "4lJnBQJ4JRRn"
      },
      "source": [
        "#Compute feature\r\n",
        "#initialize with WAGE_RATE_OF_PAY_FROM\r\n",
        "LCA_df['PW_WAGE_PER_HR']=LCA_df.PREVAILING_WAGE\r\n",
        "#compute for Year\r\n",
        "LCA_df.iloc[LCA_df[LCA_df.PW_UNIT_OF_PAY=='Year'].index,LCA_df.columns.get_loc('PW_WAGE_PER_HR')]=LCA_df[LCA_df.PW_UNIT_OF_PAY=='Year'].PREVAILING_WAGE/2067\r\n",
        "#compute for Month\r\n",
        "LCA_df.iloc[LCA_df[LCA_df.PW_UNIT_OF_PAY=='Month'].index,LCA_df.columns.get_loc('PW_WAGE_PER_HR')]=LCA_df[LCA_df.PW_UNIT_OF_PAY=='Month'].PREVAILING_WAGE/172"
      ],
      "execution_count": 15,
      "outputs": []
    },
    {
      "cell_type": "code",
      "metadata": {
        "id": "e9c53GgxJj71"
      },
      "source": [
        "LCA_df['WAGE_ABOVE_PW_HR']=LCA_df.WAGE_PER_HR-LCA_df.PW_WAGE_PER_HR"
      ],
      "execution_count": 16,
      "outputs": []
    },
    {
      "cell_type": "code",
      "metadata": {
        "id": "e3lWtcI-LVFh"
      },
      "source": [
        "#update observations_df with new feature details\r\n",
        "observations_df.loc['WAGE_ABOVE_PW_HR']=[LCA_df.WAGE_ABOVE_PW_HR.dtype,missing_statistics(LCA_df,'WAGE_ABOVE_PW_HR'),cardinality_statistics(LCA_df,'WAGE_ABOVE_PW_HR'),'New feature','Feature engineering','','','Numerical','Standard scaling']"
      ],
      "execution_count": 51,
      "outputs": []
    },
    {
      "cell_type": "markdown",
      "metadata": {
        "id": "6Up3JcWEd0fo"
      },
      "source": [
        "#### Drop columns after feature engineering"
      ]
    },
    {
      "cell_type": "code",
      "metadata": {
        "id": "VxV4hpTOO5mp"
      },
      "source": [
        "drop_columns=['DECISION_DATE','RECEIVED_DATE','END_DATE','BEGIN_DATE','SOC_CODE','EMPLOYER_COUNTRY','EMPLOYER_POSTAL_CODE','WORKSITE_POSTAL_CODE','PW_OTHER_SOURCE','PW_OES_YEAR','PW_OTHER_YEAR','WAGE_RATE_OF_PAY_FROM','WAGE_UNIT_OF_PAY','WAGE_PER_HR','PW_WAGE_PER_HR','PREVAILING_WAGE','PW_UNIT_OF_PAY','index']\r\n",
        "LCA_df.drop(columns=drop_columns,inplace=True)"
      ],
      "execution_count": 17,
      "outputs": []
    },
    {
      "cell_type": "markdown",
      "metadata": {
        "id": "tgR_yTuhaEsX"
      },
      "source": [
        "### Encode finalized features"
      ]
    },
    {
      "cell_type": "markdown",
      "metadata": {
        "id": "s7Wa3znsa3nt"
      },
      "source": [
        "#### Update preprocess action for any features that will be used as is (pre encoding)"
      ]
    },
    {
      "cell_type": "code",
      "metadata": {
        "id": "GxBpIj0EaVWc"
      },
      "source": [
        "observations_df[observations_df.preprocess_action.isna()]"
      ],
      "execution_count": null,
      "outputs": []
    },
    {
      "cell_type": "code",
      "metadata": {
        "id": "MfVBQIj-Vi_8"
      },
      "source": [
        "index=['VISA_CLASS', 'SOC_TITLE', 'FULL_TIME_POSITION','TOTAL_WORKER_POSITIONS', 'NEW_EMPLOYMENT', 'CONTINUED_EMPLOYMENT','CHANGE_PREVIOUS_EMPLOYMENT', 'NEW_CONCURRENT_EMPLOYMENT','CHANGE_EMPLOYER', 'AMENDED_PETITION', 'EMPLOYER_NAME', 'NAICS_CODE','AGENT_REPRESENTING_EMPLOYER', 'WORKSITE_WORKERS', 'SECONDARY_ENTITY','PW_WAGE_LEVEL', 'TOTAL_WORKSITE_LOCATIONS', 'AGREE_TO_LC_STATEMENT','H-1B_DEPENDENT', 'WILLFUL_VIOLATOR', 'PUBLIC_DISCLOSURE']\r\n",
        "columns=['preprocess_action']\r\n",
        "values='Use feature as is'\r\n",
        "observations_df=modify_observations(observations_df,index,columns,values,modify_action='update_values')"
      ],
      "execution_count": 94,
      "outputs": []
    },
    {
      "cell_type": "markdown",
      "metadata": {
        "id": "rWIa5xbDZlqF"
      },
      "source": [
        "#### Update Observations_df with Categorical class and encoding plan for any features that might have been missed earlier"
      ]
    },
    {
      "cell_type": "code",
      "metadata": {
        "id": "Ne6TiPFaafNs"
      },
      "source": [
        "observations_df[(observations_df['Categorical class'].isna()) & (observations_df.preprocess_action!='Drop column')]"
      ],
      "execution_count": null,
      "outputs": []
    },
    {
      "cell_type": "code",
      "metadata": {
        "id": "-tKr6_I0Xlvu"
      },
      "source": [
        "index=['TOTAL_WORKER_POSITIONS', 'NEW_EMPLOYMENT', 'CONTINUED_EMPLOYMENT','CHANGE_PREVIOUS_EMPLOYMENT', 'NEW_CONCURRENT_EMPLOYMENT','CHANGE_EMPLOYER', 'AMENDED_PETITION', 'WORKSITE_WORKERS','TOTAL_WORKSITE_LOCATIONS']\r\n",
        "columns=['Categorical class','embedding']\r\n",
        "values=['Numerical','Standard scaling']\r\n",
        "observations_df=modify_observations(observations_df,index,columns,values,modify_action='update_values')"
      ],
      "execution_count": 104,
      "outputs": []
    },
    {
      "cell_type": "code",
      "metadata": {
        "id": "3SFLFMZggfv4"
      },
      "source": [
        "#embed categorical features\r\n"
      ],
      "execution_count": 18,
      "outputs": []
    },
    {
      "cell_type": "code",
      "metadata": {
        "id": "88D5pk9bgkSy"
      },
      "source": [
        "#scale numerical features\r\n"
      ],
      "execution_count": null,
      "outputs": []
    },
    {
      "cell_type": "code",
      "metadata": {
        "id": "8uGqY15egXjh"
      },
      "source": [
        "#separate target column and convert to binary\r\n"
      ],
      "execution_count": null,
      "outputs": []
    }
  ]
}