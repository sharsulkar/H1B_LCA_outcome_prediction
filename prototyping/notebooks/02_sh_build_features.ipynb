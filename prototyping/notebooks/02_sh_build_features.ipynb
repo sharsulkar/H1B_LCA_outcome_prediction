{
  "nbformat": 4,
  "nbformat_minor": 0,
  "metadata": {
    "colab": {
      "name": "02_sh_build_features.ipynb",
      "provenance": [],
      "collapsed_sections": [],
      "authorship_tag": "ABX9TyOUfBrle4SqKdMn4/QFG+Pc",
      "include_colab_link": true
    },
    "kernelspec": {
      "name": "python3",
      "display_name": "Python 3"
    }
  },
  "cells": [
    {
      "cell_type": "markdown",
      "metadata": {
        "id": "view-in-github",
        "colab_type": "text"
      },
      "source": [
        "<a href=\"https://colab.research.google.com/github/sharsulkar/H1B_LCA_outcome_prediction/blob/main/prototyping/notebooks/02_sh_build_features.ipynb\" target=\"_parent\"><img src=\"https://colab.research.google.com/assets/colab-badge.svg\" alt=\"Open In Colab\"/></a>"
      ]
    },
    {
      "cell_type": "code",
      "metadata": {
        "id": "2cOZ1xe4_1GR"
      },
      "source": [
        "import numpy as np\n",
        "import pandas as pd"
      ],
      "execution_count": 1,
      "outputs": []
    },
    {
      "cell_type": "code",
      "metadata": {
        "id": "2oc7VwalEeAp"
      },
      "source": [
        "observations_df=pd.read_csv('https://raw.githubusercontent.com/sharsulkar/H1B_LCA_outcome_prediction/main/reports/preprocessing_steps_observations.csv',sep='$',index_col=0,error_bad_lines=False)"
      ],
      "execution_count": 2,
      "outputs": []
    },
    {
      "cell_type": "code",
      "metadata": {
        "id": "r9ZIBsc3QUNL"
      },
      "source": [
        "#only pull columns that are required\n",
        "required_features=list(observations_df[observations_df.preprocess_comment.isin([np.NaN,'Feature engineering','Target feature'])].index)"
      ],
      "execution_count": 3,
      "outputs": []
    },
    {
      "cell_type": "code",
      "metadata": {
        "id": "XXuJaEciDs2E"
      },
      "source": [
        "LCA_df=pd.read_excel('https://www.dol.gov/sites/dolgov/files/ETA/oflc/pdfs/LCA_Disclosure_Data_FY2020_Q2.xlsx',usecols=required_features)"
      ],
      "execution_count": 4,
      "outputs": []
    },
    {
      "cell_type": "code",
      "metadata": {
        "id": "05tKGanwTYCB"
      },
      "source": [
        "#Drop rows where CASE_STATUS not in ('Certified','Denied')\n",
        "LCA_df.drop(index=LCA_df[~LCA_df.CASE_STATUS.isin(['Certified','Denied'])].index,inplace=True)"
      ],
      "execution_count": 5,
      "outputs": []
    },
    {
      "cell_type": "code",
      "metadata": {
        "id": "uUwtHjKqZYjc"
      },
      "source": [
        "#feature engineering steps\n",
        "def date_diff(date1,date2):\n",
        "  #error handling - \n",
        "    #validate input datatype is datetime\n",
        "    #handle empty inputs\n",
        "  return date1-date2"
      ],
      "execution_count": 6,
      "outputs": []
    },
    {
      "cell_type": "code",
      "metadata": {
        "id": "Hms3winQOEqn"
      },
      "source": [
        "LCA_df['PROCESSING_DAYS']=date_diff(LCA_df.DECISION_DATE, LCA_df.RECEIVED_DATE)\n",
        "LCA_df['VALIDITY_DAYS']=date_diff(LCA_df.END_DATE, LCA_df.BEGIN_DATE)"
      ],
      "execution_count": 15,
      "outputs": []
    },
    {
      "cell_type": "code",
      "metadata": {
        "id": "6w_sE4wtPvJU"
      },
      "source": [
        ""
      ],
      "execution_count": null,
      "outputs": []
    },
    {
      "cell_type": "code",
      "metadata": {
        "id": "VxV4hpTOO5mp"
      },
      "source": [
        "LCA_df.drop(columns=['DECISION_DATE','RECEIVED_DATE','END_DATE','BEGIN_DATE'],inplace=True)"
      ],
      "execution_count": 19,
      "outputs": []
    },
    {
      "cell_type": "code",
      "metadata": {
        "id": "kAQsRNY2Orlx",
        "outputId": "371ae732-253b-4ffa-9a85-e54b53432aba",
        "colab": {
          "base_uri": "https://localhost:8080/",
          "height": 469
        }
      },
      "source": [
        "LCA_df.head()"
      ],
      "execution_count": 20,
      "outputs": [
        {
          "output_type": "execute_result",
          "data": {
            "text/html": [
              "<div>\n",
              "<style scoped>\n",
              "    .dataframe tbody tr th:only-of-type {\n",
              "        vertical-align: middle;\n",
              "    }\n",
              "\n",
              "    .dataframe tbody tr th {\n",
              "        vertical-align: top;\n",
              "    }\n",
              "\n",
              "    .dataframe thead th {\n",
              "        text-align: right;\n",
              "    }\n",
              "</style>\n",
              "<table border=\"1\" class=\"dataframe\">\n",
              "  <thead>\n",
              "    <tr style=\"text-align: right;\">\n",
              "      <th></th>\n",
              "      <th>CASE_STATUS</th>\n",
              "      <th>VISA_CLASS</th>\n",
              "      <th>SOC_CODE</th>\n",
              "      <th>SOC_TITLE</th>\n",
              "      <th>FULL_TIME_POSITION</th>\n",
              "      <th>TOTAL_WORKER_POSITIONS</th>\n",
              "      <th>NEW_EMPLOYMENT</th>\n",
              "      <th>CONTINUED_EMPLOYMENT</th>\n",
              "      <th>CHANGE_PREVIOUS_EMPLOYMENT</th>\n",
              "      <th>NEW_CONCURRENT_EMPLOYMENT</th>\n",
              "      <th>CHANGE_EMPLOYER</th>\n",
              "      <th>AMENDED_PETITION</th>\n",
              "      <th>EMPLOYER_NAME</th>\n",
              "      <th>EMPLOYER_POSTAL_CODE</th>\n",
              "      <th>NAICS_CODE</th>\n",
              "      <th>AGENT_REPRESENTING_EMPLOYER</th>\n",
              "      <th>WORKSITE_WORKERS</th>\n",
              "      <th>SECONDARY_ENTITY</th>\n",
              "      <th>WORKSITE_POSTAL_CODE</th>\n",
              "      <th>WAGE_RATE_OF_PAY_FROM</th>\n",
              "      <th>PREVAILING_WAGE</th>\n",
              "      <th>PW_WAGE_LEVEL</th>\n",
              "      <th>PW_OES_YEAR</th>\n",
              "      <th>PW_OTHER_SOURCE</th>\n",
              "      <th>PW_OTHER_YEAR</th>\n",
              "      <th>TOTAL_WORKSITE_LOCATIONS</th>\n",
              "      <th>AGREE_TO_LC_STATEMENT</th>\n",
              "      <th>H-1B_DEPENDENT</th>\n",
              "      <th>WILLFUL_VIOLATOR</th>\n",
              "      <th>PUBLIC_DISCLOSURE</th>\n",
              "      <th>PROCESSING_DAYS</th>\n",
              "      <th>VALIDITY_DAYS</th>\n",
              "    </tr>\n",
              "  </thead>\n",
              "  <tbody>\n",
              "    <tr>\n",
              "      <th>0</th>\n",
              "      <td>Certified</td>\n",
              "      <td>H-1B</td>\n",
              "      <td>15-1121.00</td>\n",
              "      <td>Computer Systems Analysts</td>\n",
              "      <td>Y</td>\n",
              "      <td>1</td>\n",
              "      <td>0</td>\n",
              "      <td>1</td>\n",
              "      <td>0</td>\n",
              "      <td>0</td>\n",
              "      <td>0</td>\n",
              "      <td>0</td>\n",
              "      <td>COGNIZANT TECHNOLOGY SOLUTIONS US CORP</td>\n",
              "      <td>77845</td>\n",
              "      <td>541512</td>\n",
              "      <td>N</td>\n",
              "      <td>1.0</td>\n",
              "      <td>Y</td>\n",
              "      <td>7310</td>\n",
              "      <td>92435.00</td>\n",
              "      <td>92435.00</td>\n",
              "      <td>II</td>\n",
              "      <td>7/1/2019 - 6/30/2020</td>\n",
              "      <td>NaN</td>\n",
              "      <td>NaN</td>\n",
              "      <td>1.0</td>\n",
              "      <td>Y</td>\n",
              "      <td>Y</td>\n",
              "      <td>N</td>\n",
              "      <td>Disclose Business</td>\n",
              "      <td>9 days</td>\n",
              "      <td>1095 days</td>\n",
              "    </tr>\n",
              "    <tr>\n",
              "      <th>1</th>\n",
              "      <td>Certified</td>\n",
              "      <td>H-1B</td>\n",
              "      <td>17-2072.00</td>\n",
              "      <td>Electronics Engineers, Except Computer</td>\n",
              "      <td>Y</td>\n",
              "      <td>30</td>\n",
              "      <td>5</td>\n",
              "      <td>5</td>\n",
              "      <td>5</td>\n",
              "      <td>5</td>\n",
              "      <td>5</td>\n",
              "      <td>5</td>\n",
              "      <td>SYNOPSYS, INC.</td>\n",
              "      <td>94043</td>\n",
              "      <td>541512</td>\n",
              "      <td>Y</td>\n",
              "      <td>30.0</td>\n",
              "      <td>N</td>\n",
              "      <td>94043</td>\n",
              "      <td>113684.00</td>\n",
              "      <td>113684.00</td>\n",
              "      <td>NaN</td>\n",
              "      <td>NaN</td>\n",
              "      <td>Survey</td>\n",
              "      <td>2019.0</td>\n",
              "      <td>1.0</td>\n",
              "      <td>Y</td>\n",
              "      <td>N</td>\n",
              "      <td>N</td>\n",
              "      <td>Disclose Business</td>\n",
              "      <td>9 days</td>\n",
              "      <td>1094 days</td>\n",
              "    </tr>\n",
              "    <tr>\n",
              "      <th>2</th>\n",
              "      <td>Certified</td>\n",
              "      <td>H-1B</td>\n",
              "      <td>15-1121.00</td>\n",
              "      <td>Computer Systems Analysts</td>\n",
              "      <td>Y</td>\n",
              "      <td>1</td>\n",
              "      <td>0</td>\n",
              "      <td>1</td>\n",
              "      <td>0</td>\n",
              "      <td>0</td>\n",
              "      <td>0</td>\n",
              "      <td>0</td>\n",
              "      <td>COGNIZANT TECHNOLOGY SOLUTIONS US CORP</td>\n",
              "      <td>77845</td>\n",
              "      <td>541512</td>\n",
              "      <td>N</td>\n",
              "      <td>1.0</td>\n",
              "      <td>Y</td>\n",
              "      <td>30342</td>\n",
              "      <td>77771.00</td>\n",
              "      <td>77771.00</td>\n",
              "      <td>II</td>\n",
              "      <td>7/1/2019 - 6/30/2020</td>\n",
              "      <td>NaN</td>\n",
              "      <td>NaN</td>\n",
              "      <td>1.0</td>\n",
              "      <td>Y</td>\n",
              "      <td>Y</td>\n",
              "      <td>N</td>\n",
              "      <td>Disclose Business</td>\n",
              "      <td>9 days</td>\n",
              "      <td>1095 days</td>\n",
              "    </tr>\n",
              "    <tr>\n",
              "      <th>3</th>\n",
              "      <td>Certified</td>\n",
              "      <td>H-1B</td>\n",
              "      <td>15-1121.00</td>\n",
              "      <td>Computer Systems Analysts</td>\n",
              "      <td>Y</td>\n",
              "      <td>1</td>\n",
              "      <td>0</td>\n",
              "      <td>1</td>\n",
              "      <td>0</td>\n",
              "      <td>0</td>\n",
              "      <td>0</td>\n",
              "      <td>0</td>\n",
              "      <td>COGNIZANT TECHNOLOGY SOLUTIONS US CORP</td>\n",
              "      <td>77845</td>\n",
              "      <td>541512</td>\n",
              "      <td>N</td>\n",
              "      <td>1.0</td>\n",
              "      <td>Y</td>\n",
              "      <td>68106</td>\n",
              "      <td>65624.00</td>\n",
              "      <td>65624.00</td>\n",
              "      <td>II</td>\n",
              "      <td>7/1/2019 - 6/30/2020</td>\n",
              "      <td>NaN</td>\n",
              "      <td>NaN</td>\n",
              "      <td>1.0</td>\n",
              "      <td>Y</td>\n",
              "      <td>Y</td>\n",
              "      <td>N</td>\n",
              "      <td>Disclose Business</td>\n",
              "      <td>9 days</td>\n",
              "      <td>1095 days</td>\n",
              "    </tr>\n",
              "    <tr>\n",
              "      <th>4</th>\n",
              "      <td>Certified</td>\n",
              "      <td>H-1B</td>\n",
              "      <td>15-1132.00</td>\n",
              "      <td>Software Developers, Applications</td>\n",
              "      <td>Y</td>\n",
              "      <td>1</td>\n",
              "      <td>0</td>\n",
              "      <td>0</td>\n",
              "      <td>0</td>\n",
              "      <td>0</td>\n",
              "      <td>1</td>\n",
              "      <td>0</td>\n",
              "      <td>Populus Group LLC</td>\n",
              "      <td>48084</td>\n",
              "      <td>561320</td>\n",
              "      <td>Y</td>\n",
              "      <td>1.0</td>\n",
              "      <td>Y</td>\n",
              "      <td>94089</td>\n",
              "      <td>86.54</td>\n",
              "      <td>74.36</td>\n",
              "      <td>IV</td>\n",
              "      <td>7/1/2019 - 6/30/2020</td>\n",
              "      <td>NaN</td>\n",
              "      <td>NaN</td>\n",
              "      <td>1.0</td>\n",
              "      <td>Y</td>\n",
              "      <td>N</td>\n",
              "      <td>N</td>\n",
              "      <td>Disclose Business</td>\n",
              "      <td>9 days</td>\n",
              "      <td>1095 days</td>\n",
              "    </tr>\n",
              "  </tbody>\n",
              "</table>\n",
              "</div>"
            ],
            "text/plain": [
              "  CASE_STATUS VISA_CLASS  ... PROCESSING_DAYS VALIDITY_DAYS\n",
              "0   Certified       H-1B  ...          9 days     1095 days\n",
              "1   Certified       H-1B  ...          9 days     1094 days\n",
              "2   Certified       H-1B  ...          9 days     1095 days\n",
              "3   Certified       H-1B  ...          9 days     1095 days\n",
              "4   Certified       H-1B  ...          9 days     1095 days\n",
              "\n",
              "[5 rows x 32 columns]"
            ]
          },
          "metadata": {
            "tags": []
          },
          "execution_count": 20
        }
      ]
    },
    {
      "cell_type": "code",
      "metadata": {
        "id": "8uGqY15egXjh"
      },
      "source": [
        "#separate target column and convert to binary"
      ],
      "execution_count": null,
      "outputs": []
    },
    {
      "cell_type": "code",
      "metadata": {
        "id": "3SFLFMZggfv4"
      },
      "source": [
        "#embed categorical features"
      ],
      "execution_count": null,
      "outputs": []
    },
    {
      "cell_type": "code",
      "metadata": {
        "id": "88D5pk9bgkSy"
      },
      "source": [
        "#scale numerical features"
      ],
      "execution_count": null,
      "outputs": []
    }
  ]
}