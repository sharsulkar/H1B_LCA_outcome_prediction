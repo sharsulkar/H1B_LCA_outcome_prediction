{
  "nbformat": 4,
  "nbformat_minor": 0,
  "metadata": {
    "colab": {
      "name": "02_sh_build_features.ipynb",
      "provenance": [],
      "collapsed_sections": [],
      "toc_visible": true,
      "authorship_tag": "ABX9TyNizX8X/aAKtmjhY1U12zNX",
      "include_colab_link": true
    },
    "kernelspec": {
      "name": "python3",
      "display_name": "Python 3"
    }
  },
  "cells": [
    {
      "cell_type": "markdown",
      "metadata": {
        "id": "view-in-github",
        "colab_type": "text"
      },
      "source": [
        "<a href=\"https://colab.research.google.com/github/sharsulkar/H1B_LCA_outcome_prediction/blob/main/prototyping/notebooks/02_sh_build_features.ipynb\" target=\"_parent\"><img src=\"https://colab.research.google.com/assets/colab-badge.svg\" alt=\"Open In Colab\"/></a>"
      ]
    },
    {
      "cell_type": "code",
      "metadata": {
        "id": "2cOZ1xe4_1GR"
      },
      "source": [
        "import numpy as np\n",
        "import pandas as pd"
      ],
      "execution_count": 115,
      "outputs": []
    },
    {
      "cell_type": "code",
      "metadata": {
        "id": "YsaXNFGd8Bhq"
      },
      "source": [
        "from sklearn.preprocessing import StandardScaler, LabelEncoder"
      ],
      "execution_count": 182,
      "outputs": []
    },
    {
      "cell_type": "code",
      "metadata": {
        "id": "2oc7VwalEeAp"
      },
      "source": [
        "observations_df=pd.read_csv('https://raw.githubusercontent.com/sharsulkar/H1B_LCA_outcome_prediction/main/reports/preprocessing_steps_observations.csv',sep='$',index_col=0,error_bad_lines=False)"
      ],
      "execution_count": 116,
      "outputs": []
    },
    {
      "cell_type": "code",
      "metadata": {
        "id": "r9ZIBsc3QUNL"
      },
      "source": [
        "#only pull columns that are required\n",
        "required_features=list(observations_df[observations_df.preprocess_comment.isin([np.NaN,'Feature engineering','Target feature','Use feature as is'])].index)"
      ],
      "execution_count": 117,
      "outputs": []
    },
    {
      "cell_type": "code",
      "metadata": {
        "id": "XXuJaEciDs2E"
      },
      "source": [
        "LCA_df=pd.read_excel('https://www.dol.gov/sites/dolgov/files/ETA/oflc/pdfs/LCA_Disclosure_Data_FY2020_Q2.xlsx',usecols=required_features)"
      ],
      "execution_count": 118,
      "outputs": []
    },
    {
      "cell_type": "code",
      "metadata": {
        "id": "05tKGanwTYCB"
      },
      "source": [
        "#Drop rows where CASE_STATUS not in ('Certified','Denied')\n",
        "LCA_df.drop(index=LCA_df[~LCA_df.CASE_STATUS.isin(['Certified','Denied'])].index,inplace=True)\n",
        "LCA_df.reset_index(inplace=True)"
      ],
      "execution_count": 119,
      "outputs": []
    },
    {
      "cell_type": "code",
      "metadata": {
        "id": "kok4nu_MEXlx"
      },
      "source": [
        "def modify_observations(df,index,columns,values,modify_action='update_values'):\r\n",
        "  #assert - index, columns and values are string list type, \r\n",
        "  #columns and values are same size, for single column - value should be scalar\r\n",
        "  #columns that have modification exist in observation_df\r\n",
        "  #\r\n",
        "  if modify_action=='add_row':\r\n",
        "    df.loc[index]=values\r\n",
        "\r\n",
        "  elif modify_action=='update_values':\r\n",
        "    df.loc[index,columns]=values\r\n",
        "  \r\n",
        "  return df"
      ],
      "execution_count": 120,
      "outputs": []
    },
    {
      "cell_type": "code",
      "metadata": {
        "id": "C6hY9s1VHFCS"
      },
      "source": [
        "def missing_statistics(df,column):\r\n",
        "  return (df.shape[0]-df[column].count())*100/df.shape[0]"
      ],
      "execution_count": 121,
      "outputs": []
    },
    {
      "cell_type": "code",
      "metadata": {
        "id": "9J3ONjilIAAi"
      },
      "source": [
        "def cardinality_statistics(df,column):\r\n",
        "  return (df.shape[0]-len(df[column].unique()))*100/df.shape[0]"
      ],
      "execution_count": 122,
      "outputs": []
    },
    {
      "cell_type": "markdown",
      "metadata": {
        "id": "JwZ6TJameB6C"
      },
      "source": [
        "### Feature engineering"
      ]
    },
    {
      "cell_type": "code",
      "metadata": {
        "id": "uUwtHjKqZYjc"
      },
      "source": [
        "#feature engineering steps\n",
        "def date_diff(date1,date2):\n",
        "  #error handling - \n",
        "    #validate input datatype is datetime\n",
        "    #handle empty inputs\n",
        "  return date1-date2"
      ],
      "execution_count": 123,
      "outputs": []
    },
    {
      "cell_type": "markdown",
      "metadata": {
        "id": "ldtA-MExdmTj"
      },
      "source": [
        "#### Processing_Days and Validity_days"
      ]
    },
    {
      "cell_type": "code",
      "metadata": {
        "id": "Hms3winQOEqn"
      },
      "source": [
        "#Compute feature\n",
        "LCA_df['PROCESSING_DAYS']=date_diff(LCA_df.DECISION_DATE, LCA_df.RECEIVED_DATE)\n",
        "LCA_df['VALIDITY_DAYS']=date_diff(LCA_df.END_DATE, LCA_df.BEGIN_DATE)"
      ],
      "execution_count": 124,
      "outputs": []
    },
    {
      "cell_type": "code",
      "metadata": {
        "id": "mx6nf3kPGsFE"
      },
      "source": [
        "#update observations_df with new feature details\r\n",
        "observations_df=modify_observations(observations_df,index='PROCESSING_DAYS',columns=[],values=[LCA_df.PROCESSING_DAYS.dtype,missing_statistics(LCA_df,'PROCESSING_DAYS'),cardinality_statistics(LCA_df,'PROCESSING_DAYS'),'New feature','Feature engineering','','','Ordinal','Ordered standardized random'],modify_action='add_row')\r\n",
        "observations_df=modify_observations(observations_df,index='VALIDITY_DAYS',columns=[],values=[LCA_df.VALIDITY_DAYS.dtype,missing_statistics(LCA_df,'VALIDITY_DAYS'),cardinality_statistics(LCA_df,'VALIDITY_DAYS'),'New feature','Feature engineering','','','Ordinal','Ordered standardized random'],modify_action='add_row')"
      ],
      "execution_count": 128,
      "outputs": []
    },
    {
      "cell_type": "markdown",
      "metadata": {
        "id": "cRPNnSc6dtec"
      },
      "source": [
        "#### SOC_Codes"
      ]
    },
    {
      "cell_type": "code",
      "metadata": {
        "id": "6w_sE4wtPvJU"
      },
      "source": [
        "#Compute feature\r\n",
        "LCA_df['SOC_CD2']=LCA_df.SOC_CODE.str.split(pat='-',n=1,expand=True)[0]\r\n",
        "LCA_df['SOC_CD4']=LCA_df.SOC_CODE.str.split(pat='-',n=1,expand=True)[1].str.split(pat='.',n=1,expand=True)[0]\r\n",
        "LCA_df['SOC_CD_ONET']=LCA_df.SOC_CODE.str.split(pat='-',n=1,expand=True)[1].str.split(pat='.',n=1,expand=True)[1]"
      ],
      "execution_count": 130,
      "outputs": []
    },
    {
      "cell_type": "code",
      "metadata": {
        "id": "KEHGVv3HJtrz"
      },
      "source": [
        "#update observations_df with new feature details\r\n",
        "observations_df=modify_observations(observations_df,index='SOC_CD2',columns=[],values=[LCA_df.SOC_CD2.dtype,missing_statistics(LCA_df,'SOC_CD2'),cardinality_statistics(LCA_df,'SOC_CD2'),'New feature','Feature engineering','','','Categorical','Standardized random'],modify_action='add_row')\r\n",
        "observations_df=modify_observations(observations_df,index='SOC_CD4',columns=[],values=[LCA_df.SOC_CD4.dtype,missing_statistics(LCA_df,'SOC_CD4'),cardinality_statistics(LCA_df,'SOC_CD4'),'New feature','Feature engineering','','','Categorical','Standardized random'],modify_action='add_row')\r\n",
        "observations_df=modify_observations(observations_df,index='SOC_CD_ONET',columns=[],values=[LCA_df.SOC_CD_ONET.dtype,missing_statistics(LCA_df,'SOC_CD_ONET'),cardinality_statistics(LCA_df,'SOC_CD_ONET'),'New feature','Feature engineering','','','Categorical','Standardized random'],modify_action='add_row')"
      ],
      "execution_count": 131,
      "outputs": []
    },
    {
      "cell_type": "markdown",
      "metadata": {
        "id": "X2Y9777Fd-l9"
      },
      "source": [
        "#### USA_YN"
      ]
    },
    {
      "cell_type": "code",
      "metadata": {
        "id": "xTitVFwzigw3"
      },
      "source": [
        "def is_USA(country):\n",
        "  if country=='UNITED STATES OF AMERICA':\n",
        "    USA_YN='Y' \n",
        "  else:\n",
        "    USA_YN='N'\n",
        "  return USA_YN"
      ],
      "execution_count": 132,
      "outputs": []
    },
    {
      "cell_type": "code",
      "metadata": {
        "id": "zSdG-Za6dlmC"
      },
      "source": [
        "#Compute feature\r\n",
        "LCA_df['USA_YN']=LCA_df.EMPLOYER_COUNTRY.apply(is_USA)"
      ],
      "execution_count": 133,
      "outputs": []
    },
    {
      "cell_type": "code",
      "metadata": {
        "id": "cFdoUHYdKIiA"
      },
      "source": [
        "#update observations_df with new feature details\r\n",
        "observations_df=modify_observations(observations_df,index='USA_YN',columns=[],values=[LCA_df.USA_YN.dtype,missing_statistics(LCA_df,'USA_YN'),cardinality_statistics(LCA_df,'USA_YN'),'New feature','Feature engineering','','','Binary','Standardized random'],modify_action='add_row')"
      ],
      "execution_count": 135,
      "outputs": []
    },
    {
      "cell_type": "markdown",
      "metadata": {
        "id": "bslE7AwUjLSv"
      },
      "source": [
        "#### Employer_Worksite_YN"
      ]
    },
    {
      "cell_type": "code",
      "metadata": {
        "id": "bbmwa0NrmjoI"
      },
      "source": [
        "#Compute feature\n",
        "LCA_df['EMPLOYER_WORKSITE_YN']='Y'\n",
        "LCA_df.loc[LCA_df.EMPLOYER_POSTAL_CODE.ne(LCA_df.WORKSITE_POSTAL_CODE),'EMPLOYER_WORKSITE_YN']='N'"
      ],
      "execution_count": 136,
      "outputs": []
    },
    {
      "cell_type": "code",
      "metadata": {
        "id": "eWi98yKcKQ_g"
      },
      "source": [
        "#update observations_df with new feature details\r\n",
        "observations_df=modify_observations(observations_df,index='EMPLOYER_WORKSITE_YN',columns=[],values=[LCA_df.EMPLOYER_WORKSITE_YN.dtype,missing_statistics(LCA_df,'EMPLOYER_WORKSITE_YN'),cardinality_statistics(LCA_df,'EMPLOYER_WORKSITE_YN'),'New feature','Feature engineering','','','Binary','Standardized random'],modify_action='add_row')"
      ],
      "execution_count": 138,
      "outputs": []
    },
    {
      "cell_type": "markdown",
      "metadata": {
        "id": "CFPN2ujZtxAX"
      },
      "source": [
        "#### OES_YN"
      ]
    },
    {
      "cell_type": "code",
      "metadata": {
        "id": "QMkN48uptzmW"
      },
      "source": [
        "#Compute feature\n",
        "LCA_df['OES_YN']='Y'\n",
        "LCA_df.iloc[LCA_df[~LCA_df.PW_OTHER_SOURCE.isna()].index,LCA_df.columns.get_loc('OES_YN')]='N'"
      ],
      "execution_count": 139,
      "outputs": []
    },
    {
      "cell_type": "code",
      "metadata": {
        "id": "R2gWvXmuKolJ"
      },
      "source": [
        "#update observations_df with new feature details\r\n",
        "observations_df=modify_observations(observations_df,index='OES_YN',columns=[],values=[LCA_df.OES_YN.dtype,missing_statistics(LCA_df,'OES_YN'),cardinality_statistics(LCA_df,'OES_YN'),'New feature','Feature engineering','','','Binary','Standardized random'],modify_action='add_row')"
      ],
      "execution_count": 140,
      "outputs": []
    },
    {
      "cell_type": "markdown",
      "metadata": {
        "id": "W0IS-_wUvjZD"
      },
      "source": [
        "#### SURVEY_YEAR"
      ]
    },
    {
      "cell_type": "code",
      "metadata": {
        "id": "VE2jg1Okt5FU"
      },
      "source": [
        "#Compute feature\r\n",
        "#reference https://www.interviewqs.com/ddi-code-snippets/extract-month-year-pandas\r\n",
        "#Compute and move all 'Year' values from PW_OES_YEAR field into SURVEY_YEAR\r\n",
        "LCA_df['SURVEY_YEAR']=pd.to_datetime(LCA_df.PW_OES_YEAR.str.split(pat='-',n=1,expand=True)[0]).dt.to_period('Y')\r\n",
        "#Then create a series object to store only the 'YEAR' values from PW_OTHER_YEAR when OES_YN==N\r\n",
        "PW_other_year=LCA_df[LCA_df.OES_YN=='N'].PW_OTHER_YEAR\r\n",
        "#Rename the series and update dataframe with series object\r\n",
        "#https://pandas.pydata.org/pandas-docs/stable/reference/api/pandas.DataFrame.update.html\r\n",
        "PW_other_year.rename(\"SURVEY_YEAR\",inplace=True)\r\n",
        "LCA_df.update(PW_other_year)"
      ],
      "execution_count": 141,
      "outputs": []
    },
    {
      "cell_type": "code",
      "metadata": {
        "id": "3t_TEK8gKta4"
      },
      "source": [
        "#update observations_df with new feature details\r\n",
        "observations_df=modify_observations(observations_df,index='SURVEY_YEAR',columns=[],values=[LCA_df.SURVEY_YEAR.dtype,missing_statistics(LCA_df,'SURVEY_YEAR'),cardinality_statistics(LCA_df,'SURVEY_YEAR'),'New feature','Feature engineering','','','Ordinal','Standardized random'],modify_action='add_row')"
      ],
      "execution_count": 142,
      "outputs": []
    },
    {
      "cell_type": "markdown",
      "metadata": {
        "id": "etAjVhVv0tPM"
      },
      "source": [
        "#### WAGE_ABOVE_PREVAILING_HR"
      ]
    },
    {
      "cell_type": "code",
      "metadata": {
        "id": "vXLnBwlSHSzO"
      },
      "source": [
        "#Compute feature\r\n",
        "#initialize with WAGE_RATE_OF_PAY_FROM\r\n",
        "LCA_df['WAGE_PER_HR']=LCA_df.WAGE_RATE_OF_PAY_FROM\r\n",
        "#compute for Year\r\n",
        "LCA_df.iloc[LCA_df[LCA_df.WAGE_UNIT_OF_PAY=='Year'].index,LCA_df.columns.get_loc('WAGE_PER_HR')]=LCA_df[LCA_df.WAGE_UNIT_OF_PAY=='Year'].WAGE_RATE_OF_PAY_FROM/2067\r\n",
        "#compute for Month\r\n",
        "LCA_df.iloc[LCA_df[LCA_df.WAGE_UNIT_OF_PAY=='Month'].index,LCA_df.columns.get_loc('WAGE_PER_HR')]=LCA_df[LCA_df.WAGE_UNIT_OF_PAY=='Month'].WAGE_RATE_OF_PAY_FROM/172"
      ],
      "execution_count": 143,
      "outputs": []
    },
    {
      "cell_type": "code",
      "metadata": {
        "id": "4lJnBQJ4JRRn"
      },
      "source": [
        "#Compute feature\r\n",
        "#initialize with WAGE_RATE_OF_PAY_FROM\r\n",
        "LCA_df['PW_WAGE_PER_HR']=LCA_df.PREVAILING_WAGE\r\n",
        "#compute for Year\r\n",
        "LCA_df.iloc[LCA_df[LCA_df.PW_UNIT_OF_PAY=='Year'].index,LCA_df.columns.get_loc('PW_WAGE_PER_HR')]=LCA_df[LCA_df.PW_UNIT_OF_PAY=='Year'].PREVAILING_WAGE/2067\r\n",
        "#compute for Month\r\n",
        "LCA_df.iloc[LCA_df[LCA_df.PW_UNIT_OF_PAY=='Month'].index,LCA_df.columns.get_loc('PW_WAGE_PER_HR')]=LCA_df[LCA_df.PW_UNIT_OF_PAY=='Month'].PREVAILING_WAGE/172"
      ],
      "execution_count": 144,
      "outputs": []
    },
    {
      "cell_type": "code",
      "metadata": {
        "id": "e9c53GgxJj71"
      },
      "source": [
        "LCA_df['WAGE_ABOVE_PW_HR']=LCA_df.WAGE_PER_HR-LCA_df.PW_WAGE_PER_HR"
      ],
      "execution_count": 145,
      "outputs": []
    },
    {
      "cell_type": "code",
      "metadata": {
        "id": "e3lWtcI-LVFh"
      },
      "source": [
        "#update observations_df with new feature details\r\n",
        "observations_df=modify_observations(observations_df,index='WAGE_ABOVE_PW_HR',columns=[],values=[LCA_df.WAGE_ABOVE_PW_HR.dtype,missing_statistics(LCA_df,'WAGE_ABOVE_PW_HR'),cardinality_statistics(LCA_df,'WAGE_ABOVE_PW_HR'),'New feature','Feature engineering','','','Numerical','Standard scaling'],modify_action='add_row')"
      ],
      "execution_count": 146,
      "outputs": []
    },
    {
      "cell_type": "markdown",
      "metadata": {
        "id": "6Up3JcWEd0fo"
      },
      "source": [
        "#### Drop columns after feature engineering"
      ]
    },
    {
      "cell_type": "code",
      "metadata": {
        "id": "VxV4hpTOO5mp"
      },
      "source": [
        "drop_columns=['DECISION_DATE','RECEIVED_DATE','END_DATE','BEGIN_DATE','SOC_CODE','EMPLOYER_COUNTRY','EMPLOYER_POSTAL_CODE','WORKSITE_POSTAL_CODE','PW_OTHER_SOURCE','PW_OES_YEAR','PW_OTHER_YEAR','WAGE_RATE_OF_PAY_FROM','WAGE_UNIT_OF_PAY','WAGE_PER_HR','PW_WAGE_PER_HR','PREVAILING_WAGE','PW_UNIT_OF_PAY','index']\r\n",
        "LCA_df.drop(columns=drop_columns,inplace=True)"
      ],
      "execution_count": 147,
      "outputs": []
    },
    {
      "cell_type": "markdown",
      "metadata": {
        "id": "tgR_yTuhaEsX"
      },
      "source": [
        "### Encode finalized features"
      ]
    },
    {
      "cell_type": "markdown",
      "metadata": {
        "id": "s7Wa3znsa3nt"
      },
      "source": [
        "#### Update preprocess action for any features that will be used as is (pre encoding)"
      ]
    },
    {
      "cell_type": "code",
      "metadata": {
        "id": "GxBpIj0EaVWc"
      },
      "source": [
        "observations_df[observations_df.preprocess_action.isna()]"
      ],
      "execution_count": null,
      "outputs": []
    },
    {
      "cell_type": "code",
      "metadata": {
        "id": "MfVBQIj-Vi_8"
      },
      "source": [
        "index=['VISA_CLASS', 'SOC_TITLE', 'FULL_TIME_POSITION','TOTAL_WORKER_POSITIONS', 'NEW_EMPLOYMENT', 'CONTINUED_EMPLOYMENT','CHANGE_PREVIOUS_EMPLOYMENT', 'NEW_CONCURRENT_EMPLOYMENT','CHANGE_EMPLOYER', 'AMENDED_PETITION', 'EMPLOYER_NAME', 'NAICS_CODE','AGENT_REPRESENTING_EMPLOYER', 'WORKSITE_WORKERS', 'SECONDARY_ENTITY','PW_WAGE_LEVEL', 'TOTAL_WORKSITE_LOCATIONS', 'AGREE_TO_LC_STATEMENT','H-1B_DEPENDENT', 'WILLFUL_VIOLATOR', 'PUBLIC_DISCLOSURE']\r\n",
        "columns=['preprocess_action']\r\n",
        "values='Use feature as is'\r\n",
        "observations_df=modify_observations(observations_df,index,columns,values,modify_action='update_values')"
      ],
      "execution_count": 149,
      "outputs": []
    },
    {
      "cell_type": "markdown",
      "metadata": {
        "id": "rWIa5xbDZlqF"
      },
      "source": [
        "#### Update Observations_df with Categorical class and encoding plan for any features that might have been missed earlier"
      ]
    },
    {
      "cell_type": "code",
      "metadata": {
        "id": "Ne6TiPFaafNs"
      },
      "source": [
        "observations_df[(observations_df['Categorical class'].isna()) & (observations_df.preprocess_action!='Drop column')]"
      ],
      "execution_count": null,
      "outputs": []
    },
    {
      "cell_type": "code",
      "metadata": {
        "id": "-tKr6_I0Xlvu"
      },
      "source": [
        "index=['TOTAL_WORKER_POSITIONS', 'NEW_EMPLOYMENT', 'CONTINUED_EMPLOYMENT','CHANGE_PREVIOUS_EMPLOYMENT', 'NEW_CONCURRENT_EMPLOYMENT','CHANGE_EMPLOYER', 'AMENDED_PETITION', 'WORKSITE_WORKERS','TOTAL_WORKSITE_LOCATIONS']\r\n",
        "columns=['Categorical class','embedding']\r\n",
        "values=['Numerical','Standard scaling']\r\n",
        "observations_df=modify_observations(observations_df,index,columns,values,modify_action='update_values')"
      ],
      "execution_count": 151,
      "outputs": []
    },
    {
      "cell_type": "code",
      "metadata": {
        "id": "V4s0R_3hGMaV"
      },
      "source": [
        "from sklearn.impute import SimpleImputer"
      ],
      "execution_count": 207,
      "outputs": []
    },
    {
      "cell_type": "code",
      "metadata": {
        "id": "fPE9l69tGQVU"
      },
      "source": [
        ""
      ],
      "execution_count": null,
      "outputs": []
    },
    {
      "cell_type": "code",
      "metadata": {
        "id": "eVaGkIk9Edyg"
      },
      "source": [
        "from sklearn.base import BaseEstimator, TransformerMixin"
      ],
      "execution_count": 193,
      "outputs": []
    },
    {
      "cell_type": "code",
      "metadata": {
        "id": "ByTmgDjNEZCM"
      },
      "source": [
        "#Custom transformer to compute Random Standard encoding\n",
        "class RSE_Transformer(BaseEstimator, TransformerMixin):\n",
        "    #Class Constructor\n",
        "    def __init__( self, cat_cols ):\n",
        "        self.cat_cols = cat_cols # list of categorical columns in input Dataframe\n",
        "        self.categories = None # Array of unique non-numeric values in each categorical column\n",
        "        self.RSE = None # Array of Random Standard encoding for each row in categories\n",
        "        \n",
        "    #Return self, nothing else to do here\n",
        "    def fit( self, X, y=None ):\n",
        "      #identify categorical columns\n",
        "      #self.cat_cols=list(X.select_dtypes('O').columns)\n",
        "      #Get a list of all unique categorical values for each column\n",
        "      self.categories = [X[column].unique() for column in X[self.cat_cols]]\n",
        "      #replace missing values and append missing value label to each column to handle missing values in test dataset that might not be empty in train dataset\n",
        "      for i in range(len(self.categories)):\n",
        "        if np.array(self.categories[i].astype(str)!=str(np.nan)).all():\n",
        "          self.categories[i]=np.append(self.categories[i],np.nan)\n",
        "      #compute RandomStandardEncoding \n",
        "      self.RSE=[np.random.normal(0,1,len(self.categories[i])) for i in range(len(self.cat_cols))]\n",
        "      return self \n",
        "    \n",
        "    #Custom transform method we wrote that creates aformentioned features and drops redundant ones \n",
        "    def transform(self, X, y=None):\n",
        "      for i in range(len(self.cat_cols)):\n",
        "        #X[str(self.cat_cols[i])].replace(dict(zip(self.categories[i], self.RSE[i])),inplace=True)\n",
        "        X.loc[:,(str(self.cat_cols[i]))].replace(dict(zip(self.categories[i], self.RSE[i])),inplace=True)\n",
        "      return X    "
      ],
      "execution_count": 194,
      "outputs": []
    },
    {
      "cell_type": "code",
      "metadata": {
        "id": "3SFLFMZggfv4",
        "outputId": "2a0a26fe-9bda-4d93-e241-49559c393974",
        "colab": {
          "base_uri": "https://localhost:8080/"
        }
      },
      "source": [
        "#embed categorical features\r\n",
        "cat_cols=observations_df[(observations_df['Categorical class'].isin(['Categorical','Ordinal','Binary'])) & (observations_df.preprocess_action!='Drop column')].index.values\r\n",
        "col_imputer=SimpleImputer(strategy='constant',fill_value='missing')\r\n",
        "rse=RSE_Transformer(cat_cols[0:4])\r\n",
        "rse.fit(LCA_df[cat_cols[0:4]])"
      ],
      "execution_count": 199,
      "outputs": [
        {
          "output_type": "execute_result",
          "data": {
            "text/plain": [
              "RSE_Transformer(cat_cols=array(['CASE_STATUS', 'VISA_CLASS', 'SOC_TITLE', 'FULL_TIME_POSITION'],\n",
              "      dtype=object))"
            ]
          },
          "metadata": {
            "tags": []
          },
          "execution_count": 199
        }
      ]
    },
    {
      "cell_type": "code",
      "metadata": {
        "id": "W2tG_8Mz-9FM",
        "outputId": "5d1d85da-5018-44cb-a903-9aff970772ff",
        "colab": {
          "base_uri": "https://localhost:8080/"
        }
      },
      "source": [
        "rse.categories"
      ],
      "execution_count": 209,
      "outputs": [
        {
          "output_type": "execute_result",
          "data": {
            "text/plain": [
              "[array(['Certified', 'Denied', nan], dtype=object),\n",
              " array(['H-1B', 'H-1B1 Chile', 'E-3 Australian', 'H-1B1 Singapore', nan],\n",
              "       dtype=object),\n",
              " array(['Computer Systems Analysts',\n",
              "        'Electronics Engineers, Except Computer',\n",
              "        'Software Developers, Applications', 'Logistics Managers',\n",
              "        'Network and Computer Systems Administrators',\n",
              "        'Information Technology Project Managers',\n",
              "        'Operations Research Analysts', 'Pharmacists',\n",
              "        'Software Developers, Systems Software',\n",
              "        'Computer Occupations, All Other', 'Physical Therapists',\n",
              "        'Computer Systems Engineers/Architects',\n",
              "        'Accountants and Auditors', 'Database Administrators',\n",
              "        'Computer Programmers', 'Computer Hardware Engineers',\n",
              "        'Computer and Information Systems Managers',\n",
              "        'Computer and Information Research Scientists',\n",
              "        'Software Quality Assurance Engineers and Testers',\n",
              "        'Computer Network Architects', 'Statisticians',\n",
              "        'Financial Analysts', 'Management Analysts',\n",
              "        '15-1121.00ComputerSystemsAnalysts',\n",
              "        '15-1131.00ComputerProgrammers', 'Sales Managers',\n",
              "        '13-1111.00ManagementAnalysts',\n",
              "        '15-1199.00ComputerOccupations,AllOther',\n",
              "        'Commercial and Industrial Designers',\n",
              "        'Mining and Geological Engineers, Including Mining Safety Engineers',\n",
              "        'Economists', 'Financial Managers',\n",
              "        'Financial Quantitative Analysts',\n",
              "        'Food Scientists and Technologists',\n",
              "        'Molecular and Cellular Biologists',\n",
              "        'Architects, Except Landscape and Naval',\n",
              "        'Insurance Adjusters, Examiners, and Investigators',\n",
              "        'Physicians and Surgeons, All Other', 'Materials Engineers',\n",
              "        'Auditors', 'Electrical Engineers',\n",
              "        'Business Intelligence Analysts', 'Mechanical Engineers',\n",
              "        'Environmental Engineers', 'Financial Examiners',\n",
              "        'Geospatial Information Scientists and Technologists',\n",
              "        'Chemical Engineers', 'Architectural and Engineering Managers',\n",
              "        'General and Operations Managers', 'Risk Management Specialists',\n",
              "        'Middle School Teachers, Except Special and Career/Technical Education',\n",
              "        'Regulatory Affairs Specialists', 'Database Architects',\n",
              "        'Civil Engineers', 'Graphic Designers',\n",
              "        'Educational, Guidance, School, and Vocational Counselors',\n",
              "        'Accountants', 'Medical Scientists, Except Epidemiologists',\n",
              "        'Marine Architects', 'Information Security Analysts',\n",
              "        'Compliance Officers', 'Manufacturing Engineers',\n",
              "        'Industrial Engineers', 'Web Developers',\n",
              "        'Health Diagnosing and Treating Practitioners, All Other',\n",
              "        'Market Research Analysts and Marketing Specialists',\n",
              "        'Social Science Research Assistants', 'Marketing Managers',\n",
              "        'Sales Engineers', 'Occupational Therapists',\n",
              "        'Industrial Safety and Health Engineers', 'Producers',\n",
              "        'Technical Directors/Managers', 'Credit Analysts',\n",
              "        'Securities, Commodities, and Financial Services Sales Agents',\n",
              "        'Public Relations Specialists', 'Reporters and Correspondents',\n",
              "        'Business Operations Specialists, All Other',\n",
              "        'Medical and Clinical Laboratory Technologists', 'Logisticians',\n",
              "        'Biostatisticians', 'Biochemists and Biophysicists',\n",
              "        'Engineers, All Other', 'Biological Scientists, All Other',\n",
              "        'Materials Scientists', 'Lawyers', 'Survey Researchers',\n",
              "        'Natural Sciences Managers', 'Purchasing Managers', 'Librarians',\n",
              "        'Clinical Data Managers', 'Construction Managers',\n",
              "        'Elementary School Teachers, Except Special Education',\n",
              "        'Philosophy and Religion Teachers, Postsecondary',\n",
              "        'Judicial Law Clerks', 'Biomedical Engineers',\n",
              "        'Health Specialties Teachers, Postsecondary', 'Acupuncturists',\n",
              "        'Chemists', 'Physicians and Surgeons',\n",
              "        'Systems Developers, Systems Software',\n",
              "        'Atmospheric and Space Scientists', 'Data Warehousing Specialists',\n",
              "        'Dentists, General', 'Validation Engineers',\n",
              "        'SOFTWARE DEVELOPERS, APPLICATIONS', 'Biological Technicians',\n",
              "        'Physicists', 'Bioinformatics Scientists',\n",
              "        'Social and Community Service Managers', 'Robotics Engineers',\n",
              "        'Pediatricians, General', 'Computer Network Support Specialists',\n",
              "        'Speech-Language Pathologists',\n",
              "        'Self-Enrichment Education Teachers', 'Chief Executives',\n",
              "        'Coaches and Scouts',\n",
              "        'Agents and Business Managers of Artists, Performers, and Athletes',\n",
              "        'First-Line Supervisors of Office and Administrative Support Workers',\n",
              "        'Health Educators', 'Photographers', 'Fashion Designers',\n",
              "        'Human Resources Managers', 'Exercise Physiologists',\n",
              "        'Supply Chain Managers', 'Regulatory Affairs Managers',\n",
              "        'Logistics Analysts', 'Computer Science Teachers, Postsecondary',\n",
              "        'Surgeons', 'Human Resources Specialists',\n",
              "        'Secondary School Teachers, Except Special and Career/Technical Education',\n",
              "        'Special Education Teachers, Secondary School',\n",
              "        'Animal Scientists', 'Dietitians and Nutritionists',\n",
              "        'Mental Health Counselors',\n",
              "        'Financial Managers, Branch or Department',\n",
              "        'Rehabilitation Counselors',\n",
              "        'Entertainers and Performers, Sports and Related Workers, All Other',\n",
              "        'Nanotechnology Engineering Technologists',\n",
              "        'Training and Development Specialists', 'Transportation Engineers',\n",
              "        'Health Technologists and Technicians, All Other',\n",
              "        'Ophthalmologists', 'Aircraft Mechanics and Service Technicians',\n",
              "        'Legal Support Workers, All Other',\n",
              "        'Administrative Services Managers', 'Veterinarians',\n",
              "        'Paralegals and Legal Assistants', 'ComputerSystemsAnalysts',\n",
              "        'Managers, All Other',\n",
              "        'Environmental Scientists and Specialists, Including Health',\n",
              "        'School Psychologists', 'Anesthesiologists',\n",
              "        'Industrial Engineering Technologists',\n",
              "        'Mental Health and Substance Abuse Social Workers',\n",
              "        'Internists, General', 'Software Developer, Applications',\n",
              "        'Mathematical Science Teachers, Postsecondary', 'Lodging Managers',\n",
              "        'Quality Control Systems Managers', 'Healthcare Social Workers',\n",
              "        'Mechatronics Engineers', 'Actuaries',\n",
              "        'Purchasing Agents, Except Wholesale, Retail, and Farm Products',\n",
              "        'Energy Engineers', 'Physician Assistants',\n",
              "        'Maintenance and Repair Workers, General',\n",
              "        'Public Relations and Fundraising Managers',\n",
              "        'Airline Pilots, Copilots, and Flight Engineers',\n",
              "        'Landscape Architects', 'Chefs and Head Cooks',\n",
              "        'Architectural Drafters', 'Healthcare Support Workers, All Other',\n",
              "        'Computer User Support Specialists',\n",
              "        'ComputerOccupations,AllOther', 'ComputerProgrammers',\n",
              "        'Hospitalists', 'ManagementAnalysts',\n",
              "        'Dental Laboratory Technicians', 'Industrial Production Managers',\n",
              "        'Financial Specialists, All Other',\n",
              "        'Adult Basic and Secondary Education and Literacy Teachers and Instructors',\n",
              "        'Editors',\n",
              "        'Special Education Teachers, Kindergarten and Elementary School',\n",
              "        'Nurse Practitioners', 'Aerospace Engineers',\n",
              "        'Compensation, Benefits, and Job Analysis Specialists',\n",
              "        'Office Clerks, General', 'Naturopathic Physicians',\n",
              "        'Education Teachers, Post secondary', 'Art Directors',\n",
              "        'Online Merchants', 'Advertising and Promotions Managers',\n",
              "        'Producers and Directors', 'Nuclear Engineers',\n",
              "        'Telecommunications Engineering Specialists',\n",
              "        'Chemistry Teachers, Postsecondary', 'Technical Writers',\n",
              "        'Search Marketing Strategists',\n",
              "        'Medical and Health Services Managers', 'Epidemiologists',\n",
              "        'Cost Estimators', 'Compliance Managers',\n",
              "        'Engineering Teachers, Postsecondary',\n",
              "        'Urban and Regional Planners', 'Business Teachers, Postsecondary',\n",
              "        'Treasurers and Controllers',\n",
              "        'Art, Drama, and Music Teachers, Postsecondary',\n",
              "        'Geoscientists, Except Hydrologists and Geographers',\n",
              "        'Family and General Practitioners',\n",
              "        'Teachers and Instructors, All Other',\n",
              "        'Customer Service Representatives',\n",
              "        'Physical Scientists, All Other', 'Psychiatrists', 'Astronomers',\n",
              "        'Transportation Managers',\n",
              "        'Property, Real Estate, and Community Association Managers',\n",
              "        'Transportation, Storage, and Distribution Managers',\n",
              "        'Community Health Workers', 'MECHANICAL ENGINEERS',\n",
              "        'Vocational Education Teachers, Postsecondary', 'Geographers',\n",
              "        'COMPUTER SYSTEMS ANALYSTS',\n",
              "        'Foreign Language and Literature Teachers, Postsecondary',\n",
              "        'English Language and Literature Teachers, Postsecondary',\n",
              "        'Environmental Engineering Technicians',\n",
              "        'Human Factors Engineers and Ergonomists',\n",
              "        'Secretaries and Administrative Assistants, Except Legal, Medical, and Executive',\n",
              "        'Kindergarten Teachers, Except Special Education',\n",
              "        'Credit Counselors', 'Architectural and Civil Drafters',\n",
              "        'Personal Financial Advisors', 'Retail Salespersons',\n",
              "        'Meeting, Convention, and Event Planners', 'Legal Secretaries',\n",
              "        'Music Directors and Composers',\n",
              "        'Electromechanical Engineering Technologists',\n",
              "        'Sound Engineering Technicians', 'Mechanical Drafters',\n",
              "        'Computer Occupations, AllOther',\n",
              "        'Molecular and Cellular Biologist',\n",
              "        'Psychology Teachers, Postsecondary',\n",
              "        'Multimedia Artists and Animators',\n",
              "        'Bookkeeping, Accounting, and Auditing Clerks', 'Budget Analysts',\n",
              "        'Web Administrators', 'Dental Hygienists', 'Neurologists',\n",
              "        'Securities and Commodities Traders', 'Microbiologists',\n",
              "        'Biological Science Teachers, Postsecondary',\n",
              "        'Political Science Teachers, Postsecondary', 'Archivists',\n",
              "        'Construction and Building Inspectors',\n",
              "        'SOFTWARE DEVELOPERS, SYSTEMS SOFTWARE', 'Tutors',\n",
              "        'Agricultural Engineers', 'Recreation Workers',\n",
              "        'Interior Designers', 'Writers and Authors', 'Copy Writers',\n",
              "        'Education, Training, and Library Workers, All Other',\n",
              "        'Production, Planning, and Expediting Clerks',\n",
              "        'Film and Video Editors',\n",
              "        'Healthcare Practitioners and Technical Workers, All Other',\n",
              "        'Sales Representatives, Wholesale and Manufacturing, Technical and Scientific Products',\n",
              "        'Instructional Coordinators', 'Economics Teachers, Postsecondary',\n",
              "        'Bioinformatics Technicians',\n",
              "        'Architecture Teachers, Postsecondary', 'Marine Engineers',\n",
              "        'Mathematicians',\n",
              "        'Area, Ethnic, and Cultural Studies Teachers, Postsecondary',\n",
              "        'Preschool Teachers, Except Special Education', 'Dermatologists',\n",
              "        'Environmental Economists', 'Photonics Engineers',\n",
              "        'Clinical Research Coordinators', 'Hydrologists',\n",
              "        'Environmental Compliance Inspectors',\n",
              "        'Education Administrators, Postsecondary',\n",
              "        'Solar Energy Systems Engineers', 'Petroleum Engineers',\n",
              "        'Medical Records and Health Information Technicians', 'Curators',\n",
              "        'Clergy', 'Demonstrators and Product Promoters',\n",
              "        'Sales Representatives, Services, All Other',\n",
              "        'Water/Wastewater Engineers',\n",
              "        'Clinical, Counseling, and School Psychologists',\n",
              "        'Athletic Trainers', 'Orthotists and Prosthetists',\n",
              "        'Database_Achitect', 'Loan Counselors', 'Pathologists',\n",
              "        'Quality Control Analysts',\n",
              "        'Instructional Designers and Technologists',\n",
              "        'Child, Family, and School Social Workers',\n",
              "        'Financial Clerks, All Other', 'History Teachers, Postsecondary',\n",
              "        'Mathematical Science Occupations, All Other',\n",
              "        'Teacher Assistants', 'Marine Engineers and Naval Architects',\n",
              "        'First-Line Supervisors of Retail Sales Workers',\n",
              "        'Obstetricians and Gynecologists', 'Law Teachers, Postsecondary',\n",
              "        'Oral and Maxillofacial Surgeons',\n",
              "        'Criminal Justice and Law Enforcement Teachers, Postsecondary',\n",
              "        'Social Workers, All Other', 'Zoologists and Wildlife Biologists',\n",
              "        'Mechanical Engineers R&D', 'Geography Teachers, Postsecondary',\n",
              "        'Urologists', 'Transportation Planners',\n",
              "        'Home Economics Teachers, Postsecondary',\n",
              "        'Soil and Plant Scientists', 'Political Scientists',\n",
              "        'Interpreters and Translators', 'Informatics Nurse Specialists',\n",
              "        'Fine Artists, Including Painters, Sculptors, and Illustrators',\n",
              "        'Nanosystems Engineers', 'Physics Teachers, Postsecondary',\n",
              "        'Microsystems Engineers', 'Training and Development Managers',\n",
              "        'First-Line Supervisors of Agricultural Crop and Horticultural Workers',\n",
              "        'Software Developers', 'Radiologists',\n",
              "        'Electrical and Electronic Engineering Technicians',\n",
              "        'Nursing Instructors and Teachers, Postsecondary',\n",
              "        'Occupational Health and Safety Specialists', 'Registered Nurses',\n",
              "        'Geneticists', 'Information Security Analyst',\n",
              "        'Life Scientists, All Other',\n",
              "        'Musical Instrument Repairers and Tuners',\n",
              "        'Radio Frequency Identification Device Specialists',\n",
              "        'Special Education Teachers, All Other',\n",
              "        'Social Work Teachers, Postsecondary',\n",
              "        'Social Scientists and Related Workers, All Other',\n",
              "        'Engineering Technicians, Except Drafters, All Other',\n",
              "        'Atmospheric, Earth, Marine, and Space Sciences Teachers, Postsecondary',\n",
              "        'Recreation and Fitness Studies Teachers, Postsecondary',\n",
              "        'Mechanical Engineering Technologists', 'Food Service Managers',\n",
              "        'Forensic Science Technicians',\n",
              "        'Sales Agents, Securities and Commodities',\n",
              "        'Advertising Sales Agents', 'Chemical Technicians',\n",
              "        'Special Education Teachers, Preschool',\n",
              "        'Agricultural Sciences Teachers, Postsecondary',\n",
              "        'Special Education Teachers, Middle School',\n",
              "        'Computer Occupations, All Other(1199.01)',\n",
              "        'Dentists, All Other Specialists',\n",
              "        'Business Statistician Analysts',\n",
              "        'Software Developers, Applications.', 'Investment Fund Managers',\n",
              "        'Cartographers and Photogrammetrists', 'Fundraisers',\n",
              "        'Document Management Specialists',\n",
              "        'Anthropology and Archeology Teachers, Postsecondary',\n",
              "        'Nursery and Greenhouse Managers', 'Clinical Psychologists',\n",
              "        'Communications Teachers, Postsecondary',\n",
              "        'Computer Systems Analyst',\n",
              "        'Remote Sensing Scientists and Technologists',\n",
              "        'Automotive Engineers', 'Software Developers, Application',\n",
              "        'Education Teachers, Postsecondary',\n",
              "        'Sociology Teachers, Postsecondary', 'Childcare Workers',\n",
              "        'Recreational Therapists',\n",
              "        'Aerospace Engineering and Operations Technicians',\n",
              "        'Designers, All Other', 'Arbitrators, Mediators, and Conciliators',\n",
              "        'Media and Communication Workers, All Other',\n",
              "        'Refuse and Recyclable Material Collectors',\n",
              "        'Product Safety Engineers', 'Sociologists',\n",
              "        'Psychologists, All Other',\n",
              "        'Audio-Visual and Multimedia Collections Specialists',\n",
              "        'Electrical Engineering Technologists', 'Intelligence Analysts',\n",
              "        'Education Administrators, Preschool and Childcare Center/Program',\n",
              "        'Mathematical Technicians',\n",
              "        'Social Sciences Teachers, Postsecondary, All Other',\n",
              "        'Genetic Counselors', 'Cytogenetic Technologists',\n",
              "        'Energy Auditors',\n",
              "        'Substance Abuse and Behavioral Disorder Counselors',\n",
              "        'Manufacturing Engineering Technologists',\n",
              "        'Agricultural Inspectors', 'Chiropractors',\n",
              "        'ACCOUNTANTS AND AUDITORS', 'Statistical Assistants',\n",
              "        'Museum Technicians and Conservators',\n",
              "        'Software Developers, Applications, Non R&D', 'Optometrists',\n",
              "        'Sustainability Specialists', 'Postsecondary Teachers, All Other',\n",
              "        'Sales Representatives, Wholesale and Manufacturing, Except Technical and Scientific Products',\n",
              "        'OPERATIONS RESEARCH ANALYSTS',\n",
              "        'Physical Medicine and Rehabilitation Physicians',\n",
              "        'Buyers and Purchasing Agents, Farm Products',\n",
              "        'Biochemical Engineers', 'Precision Agriculture Technicians',\n",
              "        'Separating, Filtering, Clarifying, Precipitating, and Still Machine Setters, Operators, and Tenders',\n",
              "        'Environmental Science Teachers, Postsecondary',\n",
              "        'Software Developers, Applications, R&D', 'AUDITORS',\n",
              "        'Mechanical Engineers, R&D', 'Program Directors',\n",
              "        'Geographic Information Systems Technicians',\n",
              "        'Electronics Engineering Technologists',\n",
              "        'Electrical Engineers, R&D',\n",
              "        'Software Developers, Systems Software, R&D',\n",
              "        'Industrial Engineering Technicians',\n",
              "        'Computer Programmers, Non R&D',\n",
              "        'Mechanical Engineering Technicians', 'Surveyors',\n",
              "        'Software Developerss',\n",
              "        'Tax Examiners and Collectors, and Revenue Agents',\n",
              "        'Poets, Lyricists and Creative Writers', 'Insurance Underwriters',\n",
              "        'Computer Network Architects, R&D', 'Biofuels Production Managers',\n",
              "        'Software Developer Systems Programmer Non R&D',\n",
              "        'Anesthesiologist Assistants', 'Agricultural Technicians',\n",
              "        'Multimedia Artist and Animators', 'Video Game Designers',\n",
              "        'Cardiovascular Technologists and Technicians',\n",
              "        'Directors, Religious Activities and Education',\n",
              "        'DATABASE ADMINISTRATORS', 'Computer Systems Analysts, Non R&D',\n",
              "        'Broadcast News Analysts', 'Logistics Engineers',\n",
              "        'Compensation and Benefits Managers',\n",
              "        'Industrial-Organizational Psychologists',\n",
              "        'Marriage and Family Therapists',\n",
              "        'Appraisers and Assessors of Real Estate', 'Security Managers',\n",
              "        'Education Administrators, All Other',\n",
              "        'Computer Systems Engineers/Architect', 'Climate Change Analysts',\n",
              "        'Business Intelligence Analyst', 'Database Administrator',\n",
              "        'Computer Applications, All Other',\n",
              "        'Computer Systems Analysts, R&D', 'Fuel Cell Engineers',\n",
              "        'Library Science Teachers, Postsecondary', 'Podiatrists',\n",
              "        'Civil Engineers, R&D', 'Software Developers Application Non R&D',\n",
              "        'INTERNISTS, GENERAL', 'Counseling Psychologists',\n",
              "        'Medical and Clinical Laboratory Technicians',\n",
              "        'Adapted Physical Education Specialists', 'Orthodontists',\n",
              "        'Education Administrators, Elementary and Secondary School',\n",
              "        'Residential Advisors', 'Electrical Engineers, Non R&D',\n",
              "        'Engineering Teachers, Post Secondary', 'Prosthodontists',\n",
              "        'Software Developers, Systems Software, Non R&D',\n",
              "        'Sales Agents, Financial Services', 'Reporters and Correspondants',\n",
              "        'Water Resource Specialists', 'FAMILY AND GENERAL PRACTITIONERS',\n",
              "        'Security Management Specialists', 'Farm and Ranch Managers',\n",
              "        'Market Research Analysts and Marketing',\n",
              "        'Appraisers, Real Estate',\n",
              "        'Occupational Health and Safety Technicians',\n",
              "        'Tree Trimmers and Pruners',\n",
              "        'First-Line Supervisors of Landscaping, Lawn Service, and Groundskeeping Workers',\n",
              "        'Wholesale and Retail Buyers, Except Farm Products',\n",
              "        'Software Developers, Applications\\\\', 'Models',\n",
              "        'First-Line Supervisors of Construction Trades and Extraction Workers',\n",
              "        'Counselors, All Other', 'Software QA Engineers and Testers',\n",
              "        'Slaughterers and Meat Packers',\n",
              "        'Environmental Science and Protection Technicians, Including Health',\n",
              "        'Automotive Service Technicians and Mechanics',\n",
              "        'Manicurists and Pedicurists', 'Aquacultural Managers',\n",
              "        'Computer Occupations', 'Loan Officers',\n",
              "        'Computer Network Architects, Non R&D',\n",
              "        'Fraud Examiners, Investigators and Analysts',\n",
              "        'Patient Representatives',\n",
              "        'Life, Physical, and Social Science Technicians, All Other',\n",
              "        'Electronics Engineers, Except Computer, R&D',\n",
              "        'Fitness Trainers and Aerobics Instructors', 'Massage Therapists',\n",
              "        'STATISTICIANS',\n",
              "        'Health and Safety Engineers, Except Mining Safety Engineers and Inspectors',\n",
              "        'Biologists', 'Civil Engineering Technician',\n",
              "        \"Software Developers, Applications'\",\n",
              "        'Library Assistants, Clerical',\n",
              "        'Executive Secretaries and Executive Administrative Assistants',\n",
              "        'Claims Examiners, Property and Casualty Insurance',\n",
              "        'Geological and Petroleum Technicians',\n",
              "        'Clinical Nurse Specialists', 'Investment Underwriters',\n",
              "        'Automotive Master Mechanics',\n",
              "        'Office and Administrative Support Workers, All Other',\n",
              "        'Energy Brokers', 'Hospitalist', 'Foresters',\n",
              "        'Computer Systems Engineers/ Architects', 'Microbiologist',\n",
              "        'Computer Systems analysts', 'Neurodiagnostic Technologists',\n",
              "        'Agricultural and Food Science Technicians',\n",
              "        'Farmers, Ranchers, and Other Agricultural Managers',\n",
              "        'Forest and Conservation Technicians',\n",
              "        'Software Developers, Applicaitons', 'Instuctional Coordinators',\n",
              "        'Management Analyst', 'Financial Analyst',\n",
              "        'Software Applications, Developers', 'Statistician',\n",
              "        'Business Continuity Planners', 'Geophysical Data Technicians',\n",
              "        'Technical Writer', 'City and Regional Planning Aides',\n",
              "        'Environmental Restoration Planners', 'Computer Programmers, R&D',\n",
              "        'Operations Research Analyst',\n",
              "        'Fire-Prevention and Protection Engineers',\n",
              "        'Sales and Related Workers, All Other', 'Internist, General',\n",
              "        'Software Developers, Systems Software.',\n",
              "        'Wind Energy Project Managers', 'Proofreaders and Copy Markers',\n",
              "        'PUBLIC RELATIONS SPECIALISTS',\n",
              "        'Medical and Health Service Managers',\n",
              "        'Civil Engineering Technicians',\n",
              "        'Storage and Distribution Managers',\n",
              "        'Family and General Practicioners', 'Architects',\n",
              "        'Operation Research Analysts', 'Insurance Sales Agents',\n",
              "        'Freight Forwarders', 'Critical Care Nurses',\n",
              "        'Community and Social Service Specialists, All Other',\n",
              "        'Hotel, Motel, and Resort Desk Clerks',\n",
              "        'First-Line Supervisors of Protective Service Workers, All Other',\n",
              "        'Cytotechnologists', 'Computer and Information Systems Manager',\n",
              "        'Electrical Engineer', 'Acute Care Nurses',\n",
              "        'Food Processing Workers, All Other', 'Civil Drafters',\n",
              "        'Airfield Operations Specialists',\n",
              "        'Software Developers, Applications,  Non R&D', 'Archeologists',\n",
              "        'Emergency Management Directors',\n",
              "        'Financial Specialists, All Others',\n",
              "        'Operations Research Analsysts', 'Commercial Pilots',\n",
              "        'Directors- Stage, Motion Pictures, Television, and Radio',\n",
              "        'Landscaping and Groundskeeping Workers',\n",
              "        'Computer Systems Engineeers/Architects',\n",
              "        'Computer Occupations, All Other (Software Quality Assurance Engineers and Testers)',\n",
              "        'Surgeon', 'Network and Computer Systems Adminstrators',\n",
              "        'Claims Adjusters, Examiners, and Investigators',\n",
              "        'TECHNICAL WRITERS', 'Mechanical Engineer',\n",
              "        'Multimedia Artists and Animators.',\n",
              "        'Network and Computer Systems Administrator',\n",
              "        'INFORMATION SECURITY ANALYSTS',\n",
              "        'Social and Human Service Assistants',\n",
              "        'Veterinary Technologists and Technicians',\n",
              "        'Music Composers and Arrangers',\n",
              "        'Career/Technical Education Teachers, Middle School',\n",
              "        'Bioinformatics Scientist', 'Wind Energy Engineers',\n",
              "        'Wind Energy Operations Managers', 'Cashiers',\n",
              "        'Physics teacher, post secondary',\n",
              "        'ARCHITECTURAL AND ENGINEERING MANAGERS', 'Electrical Engineering',\n",
              "        'Career/Technical Education Teachers, Secondary School',\n",
              "        'Talent Directors', 'Assistant Professor', 'Music Therapists',\n",
              "        'Software Quality Engineers and Testers',\n",
              "        'Mechanical Engineers, Non R&D', 'Team Assemblers', 'Dancers',\n",
              "        'Actors', 'Receptionists and Information Clerks',\n",
              "        'Forestry and Conservation Science Teachers, Postsecondary',\n",
              "        'Freight and Cargo Inspectors', 'Set and Exhibit Designers',\n",
              "        'Farm and Home Management Advisors',\n",
              "        'HISTORY TEACHERS, POSTSECONDARY', 'Transportation Inspectors',\n",
              "        'Accounting Specialist', 'Chemist', 'Nurse Anesthetists',\n",
              "        'Physical Therapist',\n",
              "        'Mining and Geological Engineers, Including Mining Safety',\n",
              "        'Labor Relations Specialists', 'Agricultural Workers, All Other',\n",
              "        'Agricultural Sciences Teacher, Postsecondary', 'Audiologists',\n",
              "        'Real Estate Brokers', 'BIOCHEMISTS AND BIOPHYSICISTS',\n",
              "        'Phyiscal Therapists', 'Electronic Drafters', 'Electricians',\n",
              "        'Nuclear Medicine Physicians',\n",
              "        'PHYSICIANS AND SURGEONS, ALL OTHER',\n",
              "        'Physics Teacher, Postsecondary',\n",
              "        'Refrigeration Mechanics and Installers',\n",
              "        'Histotechnologists and Histologic Technicians',\n",
              "        'Helpers--Installation, Maintenance, and Repair Workers',\n",
              "        'Musicians, Instrumental', 'Distance Learning Coordinators',\n",
              "        'Surveying and Mapping Technicians',\n",
              "        'Captains, Mates, and Pilots of Water Vessels', 'Biostatistician',\n",
              "        'Softwarre Developers', 'Computer Operators', nan], dtype=object),\n",
              " array(['Y', 'N', nan], dtype=object)]"
            ]
          },
          "metadata": {
            "tags": []
          },
          "execution_count": 209
        }
      ]
    },
    {
      "cell_type": "code",
      "metadata": {
        "id": "88D5pk9bgkSy",
        "outputId": "482e961b-f9a9-4290-c278-aec2e0645685",
        "colab": {
          "base_uri": "https://localhost:8080/"
        }
      },
      "source": [
        "#scale numerical features\r\n",
        "numeric_cols=observations_df[(observations_df['Categorical class']=='Numerical') & (observations_df.preprocess_action!='Drop column')].index.values\r\n",
        "num_imputer=SimpleImputer(strategy='mean')\r\n",
        "std=StandardScaler()\r\n",
        "std.fit(LCA_df[numeric_cols])"
      ],
      "execution_count": 179,
      "outputs": [
        {
          "output_type": "execute_result",
          "data": {
            "text/plain": [
              "StandardScaler(copy=True, with_mean=True, with_std=True)"
            ]
          },
          "metadata": {
            "tags": []
          },
          "execution_count": 179
        }
      ]
    },
    {
      "cell_type": "code",
      "metadata": {
        "id": "8uGqY15egXjh"
      },
      "source": [
        "#separate target column and convert to binary\r\n"
      ],
      "execution_count": null,
      "outputs": []
    }
  ]
}