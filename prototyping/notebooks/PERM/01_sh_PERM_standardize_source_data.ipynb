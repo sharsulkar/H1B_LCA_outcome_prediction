{
  "nbformat": 4,
  "nbformat_minor": 0,
  "metadata": {
    "colab": {
      "name": "01_sh_PERM_standardize_source_data.ipynb",
      "provenance": [],
      "collapsed_sections": [],
      "mount_file_id": "1S2f0jf4gk4kYE9AlNEIQV2CTsto40Tt7",
      "authorship_tag": "ABX9TyNGHqYzjmQbPoRsHtUTdG2I",
      "include_colab_link": true
    },
    "kernelspec": {
      "name": "python3",
      "display_name": "Python 3"
    }
  },
  "cells": [
    {
      "cell_type": "markdown",
      "metadata": {
        "id": "view-in-github",
        "colab_type": "text"
      },
      "source": [
        "<a href=\"https://colab.research.google.com/github/sharsulkar/H1B_LCA_outcome_prediction/blob/main/prototyping/notebooks/PERM/01_sh_PERM_standardize_source_data.ipynb\" target=\"_parent\"><img src=\"https://colab.research.google.com/assets/colab-badge.svg\" alt=\"Open In Colab\"/></a>"
      ]
    },
    {
      "cell_type": "markdown",
      "metadata": {
        "id": "bwo2Wg7j5uyu"
      },
      "source": [
        "The feature names do not match between FY20 file and FY19, FY18 files. In order to have additional training data for PERM outcome prediction, we first need to standardize the source data files so that the feature names match, they are in same order and any missing features are taken care of.  \r\n",
        "This notebook will implement these changes.  \r\n",
        "This is a one-time step as standardized datasets are stored in separate files which will be sourced for training later.  "
      ]
    },
    {
      "cell_type": "code",
      "metadata": {
        "id": "7ZQ_cBbR5FzU"
      },
      "source": [
        "import numpy as np\r\n",
        "import pandas as pd\r\n"
      ],
      "execution_count": null,
      "outputs": []
    },
    {
      "cell_type": "code",
      "metadata": {
        "id": "v1ssr4D26bn7"
      },
      "source": [
        "def read_csv_to_list(filepath,header=None,squeeze=True):\r\n",
        "  return list(pd.read_csv(filepath,header=None,squeeze=True))"
      ],
      "execution_count": null,
      "outputs": []
    },
    {
      "cell_type": "code",
      "metadata": {
        "id": "dwGcRugf1nL_"
      },
      "source": [
        "required_features=read_csv_to_list('https://raw.githubusercontent.com/sharsulkar/H1B_LCA_outcome_prediction/main/data/processed/required_features_PERM.csv',header=None,squeeze=True)"
      ],
      "execution_count": null,
      "outputs": []
    },
    {
      "cell_type": "code",
      "metadata": {
        "id": "muQNlnac6jv0"
      },
      "source": [
        "#One time processing for FY19 source data - \r\n",
        "#the features names in FY19 file are different than FY20 hence will need to be renamed to match FY20. Also few features are missing\r\n",
        "\r\n",
        "required_features_fy19=read_csv_to_list('https://raw.githubusercontent.com/sharsulkar/H1B_LCA_outcome_prediction/main/data/interim/required_features_PERM_FY19.csv',header=None,squeeze=True)\r\n",
        "fy19_df=pd.read_excel('/content/drive/MyDrive/Datasets/PERM_prediction/PERM_Disclosure_Data_FY2019.xlsx',usecols=required_features_fy19)\r\n",
        "fy19_df_copy=fy19_df.copy()\r\n",
        "\r\n",
        "#pop the last column so the missing columns are in the same order as FY20 dataset\r\n",
        "preparer=fy19_df.pop('PREPARER_INFO_EMP_COMPLETED')\r\n",
        "#Add in missing features as blank\r\n",
        "#FOREIGN_WORKER_ED_INST_COUNTRY  \r\n",
        "fy19_df['FOREIGN_WORKER_ED_INST_COUNTRY']=np.NaN\r\n",
        "#FOREIGN_WORKER_ALT_OCC_EXP \r\n",
        "fy19_df['FOREIGN_WORKER_ALT_OCC_EXP']=np.NaN\r\n",
        "#FOREIGN_WORKER_EXP_WITH_EMPL\r\n",
        "fy19_df['FOREIGN_WORKER_EXP_WITH_EMPL']=np.NaN\r\n",
        "#FOREIGN_WORKER_EMPL_PAY_FOR_ED\r\n",
        "fy19_df['FOREIGN_WORKER_EMPL_PAY_FOR_ED']=np.NaN\r\n",
        "#FOREIGN_WORKER_CURR_EMPLOYED\r\n",
        "fy19_df['FOREIGN_WORKER_CURR_EMPLOYED']=np.NaN\r\n",
        "\r\n",
        "#add the popped column back in the dataset\r\n",
        "fy19_df['PREPARER_INFO_EMP_COMPLETED']=preparer\r\n",
        "\r\n",
        "#fix WAGE_OFFERED_FROM_9089\r\n",
        "fy19_df.loc[fy19_df[fy19_df.WAGE_OFFERED_FROM_9089=='#############'].index,'WAGE_OFFERED_FROM_9089']=np.NaN\r\n",
        "fy19_df.WAGE_OFFERED_FROM_9089=fy19_df.WAGE_OFFERED_FROM_9089.astype(str).apply(lambda x: x.replace(',','')).astype(float)\r\n",
        "\r\n",
        "#fix PW_AMOUNT_9089\r\n",
        "fy19_df.loc[fy19_df[fy19_df.PW_AMOUNT_9089=='#############'].index,'PW_AMOUNT_9089']=np.NaN\r\n",
        "fy19_df.PW_AMOUNT_9089=fy19_df.PW_AMOUNT_9089.astype(str).apply(lambda x: x.replace(',','')).astype(float)\r\n",
        "\r\n",
        "#Add missing column names to required features list\r\n",
        "for missing_col in ['FOREIGN_WORKER_ED_INST_COUNTRY','FOREIGN_WORKER_ALT_OCC_EXP','FOREIGN_WORKER_EXP_WITH_EMPL','FOREIGN_WORKER_EMPL_PAY_FOR_ED','FOREIGN_WORKER_CURR_EMPLOYED']:\r\n",
        "  required_features_fy19.insert(-1,missing_col)\r\n",
        "\r\n",
        "#replace the column names to match FY20\r\n",
        "fy19_df.rename(columns=dict(zip(list(fy19_df[required_features_fy19].columns.values),required_features)),inplace=True)\r\n",
        "\r\n",
        "#check if it worked\r\n",
        "#fy19_df[required_features].head()\r\n",
        "\r\n",
        "#save the processed file for future use\r\n",
        "fy19_df.to_excel('/content/drive/MyDrive/Datasets/PERM_prediction/PERM_Disclosure_Data_FY2019_processed.xlsx',index=False)"
      ],
      "execution_count": null,
      "outputs": []
    },
    {
      "cell_type": "code",
      "metadata": {
        "id": "dA4cVjBy6wsN"
      },
      "source": [
        "#One time processing for FY18 source data by piggybacking on the steps taken for FY19 above- \r\n",
        "#the features names in fy 18 file are different than FY20 hence will need to be renamed to match FY20. Also few features are missing\r\n",
        "\r\n",
        "required_features_fy19=read_csv_to_list('https://raw.githubusercontent.com/sharsulkar/H1B_LCA_outcome_prediction/main/data/interim/required_features_PERM_FY19.csv',header=None,squeeze=True)\r\n",
        "#Fix the difference in feature names between FY18 and FY19 files\r\n",
        "required_features_fy19[11]='WAGE_OFFER_FROM_9089'\r\n",
        "fy18_df=pd.read_excel('/content/drive/MyDrive/Datasets/PERM_prediction/PERM_Disclosure_Data_FY2018.xlsx',usecols=required_features_fy19)\r\n",
        "fy18_df_copy=fy18_df.copy()\r\n",
        "\r\n",
        "\r\n",
        "#pop the last column so the missing columns are in the same order as FY20 dataset\r\n",
        "preparer=fy18_df.pop('PREPARER_INFO_EMP_COMPLETED')\r\n",
        "#Add in missing features as blank\r\n",
        "#FOREIGN_WORKER_ED_INST_COUNTRY  \r\n",
        "fy18_df['FOREIGN_WORKER_ED_INST_COUNTRY']=np.NaN\r\n",
        "#FOREIGN_WORKER_ALT_OCC_EXP \r\n",
        "fy18_df['FOREIGN_WORKER_ALT_OCC_EXP']=np.NaN\r\n",
        "#FOREIGN_WORKER_EXP_WITH_EMPL\r\n",
        "fy18_df['FOREIGN_WORKER_EXP_WITH_EMPL']=np.NaN\r\n",
        "#FOREIGN_WORKER_EMPL_PAY_FOR_ED\r\n",
        "fy18_df['FOREIGN_WORKER_EMPL_PAY_FOR_ED']=np.NaN\r\n",
        "#FOREIGN_WORKER_CURR_EMPLOYED\r\n",
        "fy18_df['FOREIGN_WORKER_CURR_EMPLOYED']=np.NaN\r\n",
        "\r\n",
        "#add the popped column back in the dataset\r\n",
        "fy18_df['PREPARER_INFO_EMP_COMPLETED']=preparer\r\n",
        "\r\n",
        "#JOB_INFO_ALT_OCC value should be in [Y,N], fix that\r\n",
        "fy18_df.loc[fy18_df[~fy18_df.JOB_INFO_ALT_OCC.isna()].index,'JOB_INFO_ALT_OCC']='Y'\r\n",
        "fy18_df.loc[fy18_df[fy18_df.JOB_INFO_ALT_OCC.isna()].index,'JOB_INFO_ALT_OCC']='N'\r\n",
        "\r\n",
        "#fix WAGE_OFFER_FROM_9089\r\n",
        "fy18_df.loc[fy18_df[fy18_df.WAGE_OFFER_FROM_9089=='#############'].index,'WAGE_OFFER_FROM_9089']=np.NaN\r\n",
        "fy18_df.WAGE_OFFER_FROM_9089=fy18_df.WAGE_OFFER_FROM_9089.astype(str).apply(lambda x: x.replace(',','')).astype(float)\r\n",
        "\r\n",
        "#fix PW_AMOUNT_9089\r\n",
        "fy18_df.loc[fy18_df[fy18_df.PW_AMOUNT_9089=='#############'].index,'PW_AMOUNT_9089']=np.NaN\r\n",
        "fy18_df.PW_AMOUNT_9089=fy18_df.PW_AMOUNT_9089.astype(str).apply(lambda x: x.replace(',','')).astype(float)\r\n",
        "\r\n",
        "#Add missing column names to required features list\r\n",
        "for missing_col in ['FOREIGN_WORKER_ED_INST_COUNTRY','FOREIGN_WORKER_ALT_OCC_EXP','FOREIGN_WORKER_EXP_WITH_EMPL','FOREIGN_WORKER_EMPL_PAY_FOR_ED','FOREIGN_WORKER_CURR_EMPLOYED']:\r\n",
        "  required_features_fy19.insert(-1,missing_col)\r\n",
        "\r\n",
        "#replace the column names to match FY20\r\n",
        "fy18_df.rename(columns=dict(zip(list(fy18_df[required_features_fy19].columns.values),required_features)),inplace=True)\r\n",
        "\r\n",
        "#check if it worked\r\n",
        "#fy18_df[required_features].head()\r\n",
        "\r\n",
        "#save the processed file for future use - there is some dataerror saving to excel so saving to csv\r\n",
        "fy18_df.to_csv('/content/drive/MyDrive/Datasets/PERM_prediction/PERM_Disclosure_Data_FY2018_processed.csv',index=False)"
      ],
      "execution_count": null,
      "outputs": []
    },
    {
      "cell_type": "code",
      "metadata": {
        "id": "TuqofOo06y-N"
      },
      "source": [
        "#check if \r\n",
        "#temp_df=pd.read_excel('/content/drive/MyDrive/Datasets/PERM_prediction/PERM_Disclosure_Data_FY2019_processed.xlsx',usecols=required_features)\r\n",
        "#temp_df=pd.read_csv('/content/drive/MyDrive/Datasets/PERM_prediction/PERM_Disclosure_Data_FY2018_processed.csv')"
      ],
      "execution_count": null,
      "outputs": []
    },
    {
      "cell_type": "code",
      "metadata": {
        "id": "uSwxoR7NPhzp"
      },
      "source": [
        "#Concat all sources into a single dataframe and save\r\n",
        "fy21_df=pd.read_excel('/content/drive/MyDrive/Datasets/PERM_prediction/PERM_Disclosure_Data_FY2021_Q1.xlsx',usecols=required_features)\r\n",
        "#fy21_dfcopy=fy21_df.copy()\r\n",
        "\r\n",
        "fy20_df=pd.read_excel('/content/drive/MyDrive/Datasets/PERM_prediction/PERM_Disclosure_Data_FY2020.xlsx',usecols=required_features)\r\n",
        "#fy20_dfcopy=fy20_df.copy()\r\n",
        "\r\n",
        "fy19_df=pd.read_excel('/content/drive/MyDrive/Datasets/PERM_prediction/PERM_Disclosure_Data_FY2019_processed.xlsx')\r\n",
        "#fy19_dfcopy=fy19_df.copy()\r\n",
        "\r\n",
        "fy18_df=pd.read_csv('/content/drive/MyDrive/Datasets/PERM_prediction/PERM_Disclosure_Data_FY2018_processed.csv')\r\n",
        "#fy18_dfcopy=fy18_df.copy()\r\n",
        "\r\n",
        "#concat dataframes into a single dataset\r\n",
        "frames=[fy21_df,fy20_df,fy19_df,fy18_df]\r\n",
        "data_df=pd.concat(frames,ignore_index=True)\r\n",
        "data_dfcopy=data_df.copy()\r\n",
        "\r\n",
        "#one time operations - save the concat df to file for future use\r\n",
        "data_df.to_csv('/content/drive/MyDrive/Datasets/PERM_prediction/PERM_Disclosure_Data_FY18_to_20.csv',index=False)"
      ],
      "execution_count": null,
      "outputs": []
    }
  ]
}