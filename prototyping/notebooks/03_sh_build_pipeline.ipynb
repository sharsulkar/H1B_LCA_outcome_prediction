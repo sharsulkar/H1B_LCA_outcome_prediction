{
  "nbformat": 4,
  "nbformat_minor": 0,
  "metadata": {
    "colab": {
      "name": "03_sh_build_pipeline.ipynb",
      "provenance": [],
      "mount_file_id": "1VnILJEOtXRVeI8l0wMO-zpd8v61UVD5c",
      "authorship_tag": "ABX9TyOMxS9OTLtLMdu/cURfLasc",
      "include_colab_link": true
    },
    "kernelspec": {
      "name": "python3",
      "display_name": "Python 3"
    }
  },
  "cells": [
    {
      "cell_type": "markdown",
      "metadata": {
        "id": "view-in-github",
        "colab_type": "text"
      },
      "source": [
        "<a href=\"https://colab.research.google.com/github/sharsulkar/H1B_LCA_outcome_prediction/blob/main/prototyping/notebooks/03_sh_build_pipeline.ipynb\" target=\"_parent\"><img src=\"https://colab.research.google.com/assets/colab-badge.svg\" alt=\"Open In Colab\"/></a>"
      ]
    },
    {
      "cell_type": "code",
      "metadata": {
        "id": "2YrgVUbr6K4E"
      },
      "source": [
        "import numpy as np\r\n",
        "np.random.seed(42)\r\n",
        "import pandas as pd\r\n",
        "from sklearn.impute import SimpleImputer\r\n",
        "from sklearn.base import BaseEstimator, TransformerMixin\r\n",
        "from sklearn.preprocessing import StandardScaler\r\n",
        "from sklearn.pipeline import Pipeline, make_pipeline\r\n",
        "from sklearn.compose import make_column_transformer"
      ],
      "execution_count": 2,
      "outputs": []
    },
    {
      "cell_type": "code",
      "metadata": {
        "id": "Rsw_aFax6iNW"
      },
      "source": [
        "observations_df=pd.read_csv('https://raw.githubusercontent.com/sharsulkar/H1B_LCA_outcome_prediction/main/reports/final_observations.csv',sep='$',index_col=0,error_bad_lines=False)"
      ],
      "execution_count": 3,
      "outputs": []
    },
    {
      "cell_type": "code",
      "metadata": {
        "id": "I-NkH9Sg7HJU"
      },
      "source": [
        "def read_csv_to_list(filepath,header=None,squeeze=True):\n",
        "  return list(pd.read_csv(filepath,header=None,squeeze=True))"
      ],
      "execution_count": null,
      "outputs": []
    },
    {
      "cell_type": "code",
      "metadata": {
        "id": "AfNo2_-X7IZS"
      },
      "source": [
        "#required_features=list(observations_df[(observations_df.preprocess_comment.isin([np.NaN,'Feature engineering','Target feature','Use feature as is'])) & (~observations_df.preprocess_action.isin(['New feature']))].index)\n",
        "required_features=read_csv_to_list('https://raw.githubusercontent.com/sharsulkar/H1B_LCA_outcome_prediction/main/data/processed/required_features.csv',header=None,squeeze=True)"
      ],
      "execution_count": 59,
      "outputs": []
    },
    {
      "cell_type": "code",
      "metadata": {
        "id": "3eI3vf7UL6UG"
      },
      "source": [
        "\r\n",
        "LCA_df=pd.read_excel('https://www.dol.gov/sites/dolgov/files/ETA/oflc/pdfs/LCA_Disclosure_Data_FY2020_Q2.xlsx',usecols=required_features)"
      ],
      "execution_count": 60,
      "outputs": []
    },
    {
      "cell_type": "code",
      "metadata": {
        "id": "cYmwF1gIbLbS"
      },
      "source": [
        "LCA_dfcopy=LCA_df.copy()"
      ],
      "execution_count": 61,
      "outputs": []
    },
    {
      "cell_type": "code",
      "metadata": {
        "id": "WxxjTn_dTj9q"
      },
      "source": [
        "#Custom transformer to drop rows based on filter\r\n",
        "class droprows_Transformer(BaseEstimator, TransformerMixin):\r\n",
        "    def __init__(self, row_index, inplace, reset_index):\r\n",
        "      self.row_index = row_index # row index to drop\r\n",
        "      self.inplace=True\r\n",
        "      self.reset_index=True\r\n",
        "\r\n",
        "    def fit( self, X, y=None):\r\n",
        "      return self \r\n",
        "    \r\n",
        "    def transform(self, X, y=None):\r\n",
        "      X.drop(index=self.row_index,inplace=self.inplace)\r\n",
        "      if self.reset_index:\r\n",
        "        X.reset_index(inplace=True)\r\n",
        "      return X"
      ],
      "execution_count": 62,
      "outputs": []
    },
    {
      "cell_type": "code",
      "metadata": {
        "id": "n2x-ShLhVB_D"
      },
      "source": [
        "drop_row_index=LCA_df[~LCA_df.CASE_STATUS.isin(['Certified','Denied'])].index\r\n",
        "dr=droprows_Transformer(row_index=drop_row_index,inplace=True,reset_index=True)\r\n",
        "dr.transform(LCA_df)"
      ],
      "execution_count": null,
      "outputs": []
    },
    {
      "cell_type": "code",
      "metadata": {
        "id": "gim2Nt4WClDL"
      },
      "source": [
        "#Separate target column\r\n",
        "y=LCA_df.pop('CASE_STATUS')"
      ],
      "execution_count": 64,
      "outputs": []
    },
    {
      "cell_type": "code",
      "metadata": {
        "id": "x3ThgmRAHxDh"
      },
      "source": [
        "class buildfeatures_Transformer(BaseEstimator, TransformerMixin):\r\n",
        "  def __init__(self, input_columns):\r\n",
        "    self.input_columns=input_columns\r\n",
        "\r\n",
        "  def date_diff(self,date1,date2):\r\n",
        "    return date1-date2\r\n",
        "\r\n",
        "  def is_USA(self,country):\r\n",
        "    if country=='UNITED STATES OF AMERICA':\r\n",
        "      USA_YN='Y' \r\n",
        "    else:\r\n",
        "      USA_YN='N'\r\n",
        "    return USA_YN\r\n",
        "\r\n",
        "  def fit(self, X, y=None):\r\n",
        "    return self\r\n",
        "\r\n",
        "  def transform(self, X, y=None):\r\n",
        "    # Processing_Days and Validity_days\r\n",
        "    X['PROCESSING_DAYS']=self.date_diff(X.DECISION_DATE, X.RECEIVED_DATE).dt.days\r\n",
        "    X['VALIDITY_DAYS']=self.date_diff(X.END_DATE, X.BEGIN_DATE).dt.days\r\n",
        "\r\n",
        "    # SOC_Codes\r\n",
        "    X['SOC_CD2']=X.SOC_CODE.str.split(pat='-',n=1,expand=True)[0]\r\n",
        "    X['SOC_CD4']=X.SOC_CODE.str.split(pat='-',n=1,expand=True)[1].str.split(pat='.',n=1,expand=True)[0]\r\n",
        "    X['SOC_CD_ONET']=X.SOC_CODE.str.split(pat='-',n=1,expand=True)[1].str.split(pat='.',n=1,expand=True)[1]\r\n",
        "\r\n",
        "    # USA_YN\r\n",
        "    X['USA_YN']=X.EMPLOYER_COUNTRY.apply(self.is_USA)\r\n",
        "\r\n",
        "    # Employer_Worksite_YN\r\n",
        "    X['EMPLOYER_WORKSITE_YN']='Y'\r\n",
        "    X.loc[X.EMPLOYER_POSTAL_CODE.ne(X.WORKSITE_POSTAL_CODE),'EMPLOYER_WORKSITE_YN']='N'\r\n",
        "\r\n",
        "    # OES_YN\r\n",
        "    X['OES_YN']='Y'\r\n",
        "    X.iloc[LCA_df[~X.PW_OTHER_SOURCE.isna()].index,X.columns.get_loc('OES_YN')]='N'\r\n",
        "\r\n",
        "    # SURVEY_YEAR\r\n",
        "    X['SURVEY_YEAR']=pd.to_datetime(X.PW_OES_YEAR.str.split(pat='-',n=1,expand=True)[0]).dt.to_period('Y')\r\n",
        "    PW_other_year=X[X.OES_YN=='N'].PW_OTHER_YEAR\r\n",
        "    #Rename the series and update dataframe with series object\r\n",
        "    PW_other_year.rename(\"SURVEY_YEAR\",inplace=True)\r\n",
        "    X.update(PW_other_year)\r\n",
        "\r\n",
        "    # WAGE_ABOVE_PREVAILING_HR\r\n",
        "    X['WAGE_PER_HR']=X.WAGE_RATE_OF_PAY_FROM\r\n",
        "    #compute for Year\r\n",
        "    X.iloc[X[X.WAGE_UNIT_OF_PAY=='Year'].index,X.columns.get_loc('WAGE_PER_HR')]=X[X.WAGE_UNIT_OF_PAY=='Year'].WAGE_RATE_OF_PAY_FROM/2067\r\n",
        "    #compute for Month\r\n",
        "    X.iloc[X[X.WAGE_UNIT_OF_PAY=='Month'].index,X.columns.get_loc('WAGE_PER_HR')]=X[X.WAGE_UNIT_OF_PAY=='Month'].WAGE_RATE_OF_PAY_FROM/172\r\n",
        "\r\n",
        "    #initialize with WAGE_RATE_OF_PAY_FROM\r\n",
        "    X['PW_WAGE_PER_HR']=X.PREVAILING_WAGE\r\n",
        "    #compute for Year\r\n",
        "    X.iloc[X[X.PW_UNIT_OF_PAY=='Year'].index,X.columns.get_loc('PW_WAGE_PER_HR')]=X[X.PW_UNIT_OF_PAY=='Year'].PREVAILING_WAGE/2067\r\n",
        "    #compute for Month\r\n",
        "    X.iloc[X[X.PW_UNIT_OF_PAY=='Month'].index,X.columns.get_loc('PW_WAGE_PER_HR')]=X[X.PW_UNIT_OF_PAY=='Month'].PREVAILING_WAGE/172\r\n",
        "\r\n",
        "    X['WAGE_ABOVE_PW_HR']=X.WAGE_PER_HR-X.PW_WAGE_PER_HR\r\n",
        "\r\n",
        "    return X"
      ],
      "execution_count": 65,
      "outputs": []
    },
    {
      "cell_type": "code",
      "metadata": {
        "id": "10I2s5AX7PqM"
      },
      "source": [
        "#fe_cols=list(observations_df[(observations_df.preprocess_comment.isin(['Feature engineering'])) & (~observations_df.preprocess_action.isin(['New feature']))].index)\n",
        "fe_cols=read_csv_to_list('https://raw.githubusercontent.com/sharsulkar/H1B_LCA_outcome_prediction/main/data/processed/feature_engineering_columns.csv',header=None,squeeze=True)"
      ],
      "execution_count": 66,
      "outputs": []
    },
    {
      "cell_type": "code",
      "metadata": {
        "id": "gZwXVkfCLs-q"
      },
      "source": [
        "\r\n",
        "bf=buildfeatures_Transformer(fe_cols)\r\n",
        "fe_df=bf.transform(LCA_df)"
      ],
      "execution_count": 67,
      "outputs": []
    },
    {
      "cell_type": "code",
      "metadata": {
        "id": "DQJbgtICTF50"
      },
      "source": [
        "#Custom transformer to drop features for input feature list\r\n",
        "class dropfeatures_Transformer(BaseEstimator, TransformerMixin):\r\n",
        "    def __init__(self, columns, inplace):\r\n",
        "      self.columns = columns # list of categorical columns in input Dataframe\r\n",
        "      self.inplace=True\r\n",
        "\r\n",
        "    def fit( self, X, y=None):\r\n",
        "      return self \r\n",
        "    \r\n",
        "    def transform(self, X, y=None):\r\n",
        "      X.drop(columns=self.columns,inplace=self.inplace)\r\n",
        "      return X"
      ],
      "execution_count": 68,
      "outputs": []
    },
    {
      "cell_type": "code",
      "metadata": {
        "id": "MrkfCXM-7WmY"
      },
      "source": [
        "#drop_cols=set(LCA_df.columns.values)-set(observations_df[observations_df.preprocess_action.isin(['New feature','Use feature as is'])].index.values)\n",
        "drop_cols=read_csv_to_list('https://github.com/sharsulkar/H1B_LCA_outcome_prediction/raw/main/data/processed/drop_columns.csv',header=None,squeeze=True)"
      ],
      "execution_count": 83,
      "outputs": []
    },
    {
      "cell_type": "code",
      "metadata": {
        "id": "yYANjxv0U38l"
      },
      "source": [
        "\r\n",
        "df=dropfeatures_Transformer(columns=list(drop_cols),inplace=True)\r\n",
        "df.transform(fe_df)"
      ],
      "execution_count": null,
      "outputs": []
    },
    {
      "cell_type": "code",
      "metadata": {
        "id": "yf6YKkdz6hbN"
      },
      "source": [
        "#Custom transformer to compute Random Standard encoding\r\n",
        "#add option to return ordered encoding, whether to include encoding for missing value or not\r\n",
        "class RSE_Transformer(BaseEstimator, TransformerMixin):\r\n",
        "    #Class Constructor\r\n",
        "    def __init__( self, cat_cols, categories=None, RSE=None ):\r\n",
        "        self.cat_cols = cat_cols # list of categorical columns in input Dataframe\r\n",
        "        self.categories = categories # Array of unique non-numeric values in each categorical column\r\n",
        "        self.RSE = RSE # Array of Random Standard encoding for each row in categories\r\n",
        "        \r\n",
        "    #Return self, nothing else to do here\r\n",
        "    def fit( self, X, y=None ):\r\n",
        "      #identify categorical columns\r\n",
        "      #self.cat_cols=list(X.select_dtypes('O').columns)\r\n",
        "      #Get a list of all unique categorical values for each column\r\n",
        "      self.categories = [X[column].unique() for column in X[self.cat_cols]]\r\n",
        "      #replace missing values and append missing value label to each column to handle missing values in test dataset that might not be empty in train dataset\r\n",
        "      for i in range(len(self.categories)):\r\n",
        "        if np.array(self.categories[i].astype(str)!=str(np.nan)).all():\r\n",
        "          self.categories[i]=np.append(self.categories[i],np.nan)\r\n",
        "      #compute RandomStandardEncoding \r\n",
        "      self.RSE=[np.random.normal(0,1,len(self.categories[i])) for i in range(len(self.cat_cols))]\r\n",
        "      return self \r\n",
        "    \r\n",
        "    #Custom transform method we wrote that creates aformentioned features and drops redundant ones \r\n",
        "    def transform(self, X, y=None):\r\n",
        "      for i in range(len(self.cat_cols)):\r\n",
        "        #X[str(self.cat_cols[i])].replace(dict(zip(self.categories[i], self.RSE[i])),inplace=True)\r\n",
        "        X.loc[:,(str(self.cat_cols[i]))].replace(dict(zip(self.categories[i], self.RSE[i])),inplace=True)\r\n",
        "      return X    "
      ],
      "execution_count": 88,
      "outputs": []
    },
    {
      "cell_type": "code",
      "metadata": {
        "id": "R8MFtlbq7Zm9"
      },
      "source": [
        "#cat_cols=observations_df[(observations_df['Categorical class'].isin(['Categorical','Ordinal','Binary'])) & (observations_df.preprocess_action!='Drop column') & (observations_df.preprocess_comment!='Target feature')].index.values\n",
        "cat_cols=read_csv_to_list('https://raw.githubusercontent.com/sharsulkar/H1B_LCA_outcome_prediction/main/data/processed/categorical_columns.csv',header=None,squeeze=True)"
      ],
      "execution_count": 89,
      "outputs": []
    },
    {
      "cell_type": "code",
      "metadata": {
        "id": "4noKmFDk6k4Y",
        "colab": {
          "base_uri": "https://localhost:8080/",
          "height": 531
        },
        "outputId": "bf650703-18f6-4fba-9cbd-1612ff9d0ca0"
      },
      "source": [
        "#embed categorical features\r\n",
        "\r\n",
        "#col_imputer=SimpleImputer(strategy='constant',fill_value='missing')\r\n",
        "rse=RSE_Transformer(cat_cols)\r\n",
        "rse.fit_transform(fe_df[cat_cols])"
      ],
      "execution_count": 90,
      "outputs": [
        {
          "output_type": "stream",
          "text": [
            "/usr/local/lib/python3.6/dist-packages/pandas/core/series.py:4582: SettingWithCopyWarning: \n",
            "A value is trying to be set on a copy of a slice from a DataFrame\n",
            "\n",
            "See the caveats in the documentation: https://pandas.pydata.org/pandas-docs/stable/user_guide/indexing.html#returning-a-view-versus-a-copy\n",
            "  method=method,\n"
          ],
          "name": "stderr"
        },
        {
          "output_type": "execute_result",
          "data": {
            "text/html": [
              "<div>\n",
              "<style scoped>\n",
              "    .dataframe tbody tr th:only-of-type {\n",
              "        vertical-align: middle;\n",
              "    }\n",
              "\n",
              "    .dataframe tbody tr th {\n",
              "        vertical-align: top;\n",
              "    }\n",
              "\n",
              "    .dataframe thead th {\n",
              "        text-align: right;\n",
              "    }\n",
              "</style>\n",
              "<table border=\"1\" class=\"dataframe\">\n",
              "  <thead>\n",
              "    <tr style=\"text-align: right;\">\n",
              "      <th></th>\n",
              "      <th>VISA_CLASS</th>\n",
              "      <th>SOC_TITLE</th>\n",
              "      <th>FULL_TIME_POSITION</th>\n",
              "      <th>EMPLOYER_NAME</th>\n",
              "      <th>NAICS_CODE</th>\n",
              "      <th>AGENT_REPRESENTING_EMPLOYER</th>\n",
              "      <th>SECONDARY_ENTITY</th>\n",
              "      <th>PW_WAGE_LEVEL</th>\n",
              "      <th>AGREE_TO_LC_STATEMENT</th>\n",
              "      <th>H-1B_DEPENDENT</th>\n",
              "      <th>WILLFUL_VIOLATOR</th>\n",
              "      <th>PUBLIC_DISCLOSURE</th>\n",
              "      <th>SOC_CD2</th>\n",
              "      <th>SOC_CD4</th>\n",
              "      <th>SOC_CD_ONET</th>\n",
              "      <th>USA_YN</th>\n",
              "      <th>EMPLOYER_WORKSITE_YN</th>\n",
              "      <th>OES_YN</th>\n",
              "      <th>SURVEY_YEAR</th>\n",
              "    </tr>\n",
              "  </thead>\n",
              "  <tbody>\n",
              "    <tr>\n",
              "      <th>0</th>\n",
              "      <td>0.496714</td>\n",
              "      <td>-0.234137</td>\n",
              "      <td>-1.654857</td>\n",
              "      <td>-1.289961</td>\n",
              "      <td>-0.435474</td>\n",
              "      <td>-1.680779</td>\n",
              "      <td>1.006235</td>\n",
              "      <td>-0.064766</td>\n",
              "      <td>1.210252</td>\n",
              "      <td>-0.980279</td>\n",
              "      <td>-0.082030</td>\n",
              "      <td>-1.430941</td>\n",
              "      <td>-0.287306</td>\n",
              "      <td>-1.221575</td>\n",
              "      <td>0.888044</td>\n",
              "      <td>-1.636841</td>\n",
              "      <td>-0.905419</td>\n",
              "      <td>1.113014</td>\n",
              "      <td>0.767372</td>\n",
              "    </tr>\n",
              "    <tr>\n",
              "      <th>1</th>\n",
              "      <td>0.496714</td>\n",
              "      <td>1.579213</td>\n",
              "      <td>-1.654857</td>\n",
              "      <td>-1.295079</td>\n",
              "      <td>-0.435474</td>\n",
              "      <td>-1.241483</td>\n",
              "      <td>0.684904</td>\n",
              "      <td>-0.406707</td>\n",
              "      <td>1.210252</td>\n",
              "      <td>-0.010362</td>\n",
              "      <td>-0.082030</td>\n",
              "      <td>-1.430941</td>\n",
              "      <td>-0.189568</td>\n",
              "      <td>2.206012</td>\n",
              "      <td>0.888044</td>\n",
              "      <td>-1.636841</td>\n",
              "      <td>-1.520694</td>\n",
              "      <td>2.120143</td>\n",
              "      <td>0.833171</td>\n",
              "    </tr>\n",
              "    <tr>\n",
              "      <th>2</th>\n",
              "      <td>0.496714</td>\n",
              "      <td>-0.234137</td>\n",
              "      <td>-1.654857</td>\n",
              "      <td>-1.289961</td>\n",
              "      <td>-0.435474</td>\n",
              "      <td>-1.680779</td>\n",
              "      <td>1.006235</td>\n",
              "      <td>-0.064766</td>\n",
              "      <td>1.210252</td>\n",
              "      <td>-0.980279</td>\n",
              "      <td>-0.082030</td>\n",
              "      <td>-1.430941</td>\n",
              "      <td>-0.287306</td>\n",
              "      <td>-1.221575</td>\n",
              "      <td>0.888044</td>\n",
              "      <td>-1.636841</td>\n",
              "      <td>-0.905419</td>\n",
              "      <td>1.113014</td>\n",
              "      <td>0.767372</td>\n",
              "    </tr>\n",
              "    <tr>\n",
              "      <th>3</th>\n",
              "      <td>0.496714</td>\n",
              "      <td>-0.234137</td>\n",
              "      <td>-1.654857</td>\n",
              "      <td>-1.289961</td>\n",
              "      <td>-0.435474</td>\n",
              "      <td>-1.680779</td>\n",
              "      <td>1.006235</td>\n",
              "      <td>-0.064766</td>\n",
              "      <td>1.210252</td>\n",
              "      <td>-0.980279</td>\n",
              "      <td>-0.082030</td>\n",
              "      <td>-1.430941</td>\n",
              "      <td>-0.287306</td>\n",
              "      <td>-1.221575</td>\n",
              "      <td>0.888044</td>\n",
              "      <td>-1.636841</td>\n",
              "      <td>-0.905419</td>\n",
              "      <td>1.113014</td>\n",
              "      <td>0.767372</td>\n",
              "    </tr>\n",
              "    <tr>\n",
              "      <th>4</th>\n",
              "      <td>0.496714</td>\n",
              "      <td>0.767435</td>\n",
              "      <td>-1.654857</td>\n",
              "      <td>-0.335785</td>\n",
              "      <td>-1.174054</td>\n",
              "      <td>-1.241483</td>\n",
              "      <td>1.006235</td>\n",
              "      <td>0.288895</td>\n",
              "      <td>1.210252</td>\n",
              "      <td>-0.010362</td>\n",
              "      <td>-0.082030</td>\n",
              "      <td>-1.430941</td>\n",
              "      <td>-0.287306</td>\n",
              "      <td>-1.053173</td>\n",
              "      <td>0.888044</td>\n",
              "      <td>-1.636841</td>\n",
              "      <td>-0.905419</td>\n",
              "      <td>1.113014</td>\n",
              "      <td>0.767372</td>\n",
              "    </tr>\n",
              "    <tr>\n",
              "      <th>...</th>\n",
              "      <td>...</td>\n",
              "      <td>...</td>\n",
              "      <td>...</td>\n",
              "      <td>...</td>\n",
              "      <td>...</td>\n",
              "      <td>...</td>\n",
              "      <td>...</td>\n",
              "      <td>...</td>\n",
              "      <td>...</td>\n",
              "      <td>...</td>\n",
              "      <td>...</td>\n",
              "      <td>...</td>\n",
              "      <td>...</td>\n",
              "      <td>...</td>\n",
              "      <td>...</td>\n",
              "      <td>...</td>\n",
              "      <td>...</td>\n",
              "      <td>...</td>\n",
              "      <td>...</td>\n",
              "    </tr>\n",
              "    <tr>\n",
              "      <th>151192</th>\n",
              "      <td>0.647689</td>\n",
              "      <td>-0.115648</td>\n",
              "      <td>-1.654857</td>\n",
              "      <td>-1.535572</td>\n",
              "      <td>1.139629</td>\n",
              "      <td>-1.680779</td>\n",
              "      <td>0.684904</td>\n",
              "      <td>0.004862</td>\n",
              "      <td>1.210252</td>\n",
              "      <td>0.105972</td>\n",
              "      <td>0.805302</td>\n",
              "      <td>-1.430941</td>\n",
              "      <td>0.385205</td>\n",
              "      <td>0.674299</td>\n",
              "      <td>0.888044</td>\n",
              "      <td>-1.636841</td>\n",
              "      <td>-0.905419</td>\n",
              "      <td>1.113014</td>\n",
              "      <td>0.767372</td>\n",
              "    </tr>\n",
              "    <tr>\n",
              "      <th>151193</th>\n",
              "      <td>0.647689</td>\n",
              "      <td>-1.913280</td>\n",
              "      <td>-1.654857</td>\n",
              "      <td>-0.460187</td>\n",
              "      <td>2.642910</td>\n",
              "      <td>-1.241483</td>\n",
              "      <td>0.684904</td>\n",
              "      <td>0.288895</td>\n",
              "      <td>1.210252</td>\n",
              "      <td>0.105972</td>\n",
              "      <td>0.805302</td>\n",
              "      <td>-1.430941</td>\n",
              "      <td>-0.287306</td>\n",
              "      <td>0.522203</td>\n",
              "      <td>0.888044</td>\n",
              "      <td>-1.636841</td>\n",
              "      <td>-0.905419</td>\n",
              "      <td>1.113014</td>\n",
              "      <td>0.767372</td>\n",
              "    </tr>\n",
              "    <tr>\n",
              "      <th>151194</th>\n",
              "      <td>0.647689</td>\n",
              "      <td>1.909417</td>\n",
              "      <td>0.823171</td>\n",
              "      <td>-1.935430</td>\n",
              "      <td>-0.501129</td>\n",
              "      <td>-1.680779</td>\n",
              "      <td>0.684904</td>\n",
              "      <td>0.288895</td>\n",
              "      <td>1.210252</td>\n",
              "      <td>0.105972</td>\n",
              "      <td>0.805302</td>\n",
              "      <td>-1.430941</td>\n",
              "      <td>-0.189568</td>\n",
              "      <td>-0.569792</td>\n",
              "      <td>0.888044</td>\n",
              "      <td>-1.636841</td>\n",
              "      <td>-1.520694</td>\n",
              "      <td>1.113014</td>\n",
              "      <td>0.767372</td>\n",
              "    </tr>\n",
              "    <tr>\n",
              "      <th>151195</th>\n",
              "      <td>0.647689</td>\n",
              "      <td>-0.601707</td>\n",
              "      <td>0.823171</td>\n",
              "      <td>-1.935430</td>\n",
              "      <td>-0.501129</td>\n",
              "      <td>-1.680779</td>\n",
              "      <td>0.684904</td>\n",
              "      <td>0.004862</td>\n",
              "      <td>1.210252</td>\n",
              "      <td>0.105972</td>\n",
              "      <td>0.805302</td>\n",
              "      <td>-1.430941</td>\n",
              "      <td>-0.060016</td>\n",
              "      <td>0.187683</td>\n",
              "      <td>0.888044</td>\n",
              "      <td>-1.636841</td>\n",
              "      <td>-1.520694</td>\n",
              "      <td>1.113014</td>\n",
              "      <td>0.767372</td>\n",
              "    </tr>\n",
              "    <tr>\n",
              "      <th>151196</th>\n",
              "      <td>0.647689</td>\n",
              "      <td>-0.719844</td>\n",
              "      <td>-1.654857</td>\n",
              "      <td>-2.502609</td>\n",
              "      <td>1.933194</td>\n",
              "      <td>-1.241483</td>\n",
              "      <td>0.684904</td>\n",
              "      <td>-0.406707</td>\n",
              "      <td>1.210252</td>\n",
              "      <td>0.105972</td>\n",
              "      <td>0.805302</td>\n",
              "      <td>-1.430941</td>\n",
              "      <td>-0.189568</td>\n",
              "      <td>1.769062</td>\n",
              "      <td>0.888044</td>\n",
              "      <td>-1.636841</td>\n",
              "      <td>-1.520694</td>\n",
              "      <td>2.120143</td>\n",
              "      <td>0.202622</td>\n",
              "    </tr>\n",
              "  </tbody>\n",
              "</table>\n",
              "<p>151197 rows × 19 columns</p>\n",
              "</div>"
            ],
            "text/plain": [
              "        VISA_CLASS  SOC_TITLE  ...    OES_YN  SURVEY_YEAR\n",
              "0         0.496714  -0.234137  ...  1.113014     0.767372\n",
              "1         0.496714   1.579213  ...  2.120143     0.833171\n",
              "2         0.496714  -0.234137  ...  1.113014     0.767372\n",
              "3         0.496714  -0.234137  ...  1.113014     0.767372\n",
              "4         0.496714   0.767435  ...  1.113014     0.767372\n",
              "...            ...        ...  ...       ...          ...\n",
              "151192    0.647689  -0.115648  ...  1.113014     0.767372\n",
              "151193    0.647689  -1.913280  ...  1.113014     0.767372\n",
              "151194    0.647689   1.909417  ...  1.113014     0.767372\n",
              "151195    0.647689  -0.601707  ...  1.113014     0.767372\n",
              "151196    0.647689  -0.719844  ...  2.120143     0.202622\n",
              "\n",
              "[151197 rows x 19 columns]"
            ]
          },
          "metadata": {
            "tags": []
          },
          "execution_count": 90
        }
      ]
    },
    {
      "cell_type": "code",
      "metadata": {
        "id": "b2yBkPb87aVc"
      },
      "source": [
        "#num_cols=observations_df[(observations_df['Categorical class']=='Numerical') & (observations_df.preprocess_action!='Drop column')].index.values\n",
        "num_cols=read_csv_to_list('https://raw.githubusercontent.com/sharsulkar/H1B_LCA_outcome_prediction/main/data/processed/numeric_columns.csv',header=None,squeeze=True)"
      ],
      "execution_count": 91,
      "outputs": []
    },
    {
      "cell_type": "code",
      "metadata": {
        "id": "dqQFtVGV6lcE"
      },
      "source": [
        "#scale numerical features\r\n",
        "\r\n",
        "num_imputer=SimpleImputer(strategy='mean')\r\n",
        "std=StandardScaler()\r\n",
        "X=std.fit_transform(fe_df[num_cols])"
      ],
      "execution_count": 92,
      "outputs": []
    },
    {
      "cell_type": "code",
      "metadata": {
        "id": "wjc_8_BB_8pS"
      },
      "source": [
        "LCA_df=LCA_dfcopy.copy()"
      ],
      "execution_count": 93,
      "outputs": []
    },
    {
      "cell_type": "code",
      "metadata": {
        "id": "HCKzp4f2pYD4"
      },
      "source": [
        "#Build preprocessing pipeline\r\n",
        "build_feature_pipe=make_pipeline(\r\n",
        "    droprows_Transformer(row_index=drop_row_index,inplace=True,reset_index=True),\r\n",
        "    buildfeatures_Transformer(fe_cols)\r\n",
        "    )\r\n",
        "\r\n",
        "numerical_preprocess=make_pipeline(\r\n",
        "    SimpleImputer(strategy='mean'),\r\n",
        "    StandardScaler()\r\n",
        ")\r\n",
        "preprocess_pipe=make_column_transformer(\r\n",
        "    (dropfeatures_Transformer(columns=drop_cols,inplace=True),drop_cols),\r\n",
        "    (RSE_Transformer(cat_cols),cat_cols),\r\n",
        "    (numerical_preprocess,num_cols),\r\n",
        "    remainder='passthrough'\r\n",
        ")\r\n",
        "all_preprocess=make_pipeline(\r\n",
        "    preprocess_pipe\r\n",
        ")"
      ],
      "execution_count": 94,
      "outputs": []
    },
    {
      "cell_type": "code",
      "metadata": {
        "id": "wOHgZRlVd_LU"
      },
      "source": [
        "#apply pipeline\r\n",
        "#feature engineering + drop rows\r\n",
        "fe_df=build_feature_pipe.fit_transform(LCA_df)\r\n",
        "#Separate target column - add conditions to apply only on training dataset\r\n",
        "y=fe_df.pop('CASE_STATUS')\r\n",
        "#drop columns + encoding\r\n",
        "X=all_preprocess.fit_transform(fe_df)"
      ],
      "execution_count": 95,
      "outputs": []
    },
    {
      "cell_type": "code",
      "metadata": {
        "id": "ycqo8PYXpcyI"
      },
      "source": [
        "#save transformed dataset and target\r\n",
        "pd.DataFrame(X,columns=fe_df.columns.values).to_csv('/content/drive/MyDrive/Datasets/processed.csv')"
      ],
      "execution_count": null,
      "outputs": []
    },
    {
      "cell_type": "code",
      "metadata": {
        "id": "1abWSPwamx5e"
      },
      "source": [
        "from pickle import dump, load"
      ],
      "execution_count": null,
      "outputs": []
    },
    {
      "cell_type": "code",
      "metadata": {
        "id": "83m194LNpml7"
      },
      "source": [
        "#save pipeline\r\n",
        "#reference - https://machinelearningmastery.com/how-to-save-and-load-models-and-data-preparation-in-scikit-learn-for-later-use/\r\n",
        "dump(all_preprocess,open('/content/drive/MyDrive/preprocess_pipe.pkl','wb'))\r\n",
        "#all_preprocess=load(open('/content/drive/MyDrive/preprocess_pipe.pkl','rb'))"
      ],
      "execution_count": null,
      "outputs": []
    }
  ]
}