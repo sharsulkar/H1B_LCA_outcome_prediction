{
  "nbformat": 4,
  "nbformat_minor": 0,
  "metadata": {
    "colab": {
      "name": "03_sh_build_pipeline.ipynb",
      "provenance": [],
      "mount_file_id": "https://github.com/sharsulkar/H1B_LCA_outcome_prediction/blob/main/prototyping/notebooks/03_sh_build_pipeline.ipynb",
      "authorship_tag": "ABX9TyNVcG49oqxX5GiAVni0LtY2",
      "include_colab_link": true
    },
    "kernelspec": {
      "name": "python3",
      "display_name": "Python 3"
    }
  },
  "cells": [
    {
      "cell_type": "markdown",
      "metadata": {
        "id": "view-in-github",
        "colab_type": "text"
      },
      "source": [
        "<a href=\"https://colab.research.google.com/github/sharsulkar/H1B_LCA_outcome_prediction/blob/main/prototyping/notebooks/03_sh_build_pipeline.ipynb\" target=\"_parent\"><img src=\"https://colab.research.google.com/assets/colab-badge.svg\" alt=\"Open In Colab\"/></a>"
      ]
    },
    {
      "cell_type": "code",
      "metadata": {
        "id": "2YrgVUbr6K4E"
      },
      "source": [
        "import numpy as np\r\n",
        "np.random.seed(42)\r\n",
        "import pandas as pd\r\n",
        "from sklearn.impute import SimpleImputer\r\n",
        "from sklearn.base import BaseEstimator, TransformerMixin\r\n",
        "from sklearn.preprocessing import StandardScaler\r\n",
        "from sklearn.pipeline import Pipeline, make_pipeline\r\n",
        "from sklearn.compose import make_column_transformer"
      ],
      "execution_count": 1,
      "outputs": []
    },
    {
      "cell_type": "code",
      "metadata": {
        "id": "Rsw_aFax6iNW"
      },
      "source": [
        "observations_df=pd.read_csv('https://raw.githubusercontent.com/sharsulkar/H1B_LCA_outcome_prediction/main/reports/final_observations.csv',sep='$',index_col=0,error_bad_lines=False)"
      ],
      "execution_count": 2,
      "outputs": []
    },
    {
      "cell_type": "code",
      "metadata": {
        "id": "I-NkH9Sg7HJU"
      },
      "source": [
        "def read_csv_to_list(filepath,header=None,squeeze=True):\n",
        "  return list(pd.read_csv(filepath,header=None,squeeze=True))"
      ],
      "execution_count": 3,
      "outputs": []
    },
    {
      "cell_type": "code",
      "metadata": {
        "id": "3eI3vf7UL6UG"
      },
      "source": [
        "#required_features=list(observations_df[(observations_df.preprocess_comment.isin([np.NaN,'Feature engineering','Target feature','Use feature as is'])) & (~observations_df.preprocess_action.isin(['New feature']))].index)\r\n",
        "required_features=read_csv_to_list('https://raw.githubusercontent.com/sharsulkar/H1B_LCA_outcome_prediction/main/data/processed/required_features.csv',header=None,squeeze=True)\r\n",
        "LCA_df=pd.read_excel('https://www.dol.gov/sites/dolgov/files/ETA/oflc/pdfs/LCA_Disclosure_Data_FY2020_Q1.xlsx',usecols=required_features)\r\n",
        "LCA_dfcopy=LCA_df.copy()"
      ],
      "execution_count": null,
      "outputs": []
    },
    {
      "cell_type": "code",
      "metadata": {
        "colab": {
          "base_uri": "https://localhost:8080/"
        },
        "id": "TSZVfpHjEjIo",
        "outputId": "ee3f0cba-f5c3-42da-ec11-4d9190499177"
      },
      "source": [
        "required_features=read_csv_to_list('https://raw.githubusercontent.com/sharsulkar/H1B_LCA_outcome_prediction/main/data/processed/required_features.csv',header=None,squeeze=True)\r\n",
        "data_files_list_path='/content/drive/MyDrive/Datasets/LCA_files_list.txt'\r\n",
        "#create an empty dataframe to hold the final concatenated result\r\n",
        "input_df=pd.DataFrame(columns=required_features)\r\n",
        "\r\n",
        "#define the file object \r\n",
        "file_itr=open(file=data_files_list_path,mode='r')\r\n",
        "\r\n",
        "#iterate through the file and append the data to input_df\r\n",
        "for path in file_itr:\r\n",
        "  data_df=pd.read_excel(path,usecols=required_features)\r\n",
        "  input_df=input_df.append(data_df,ignore_index=True)    \r\n",
        "\r\n",
        "file_itr.close"
      ],
      "execution_count": 4,
      "outputs": [
        {
          "output_type": "execute_result",
          "data": {
            "text/plain": [
              "<function TextIOWrapper.close>"
            ]
          },
          "metadata": {
            "tags": []
          },
          "execution_count": 4
        }
      ]
    },
    {
      "cell_type": "code",
      "metadata": {
        "colab": {
          "base_uri": "https://localhost:8080/"
        },
        "id": "qA7k1tgtG7CH",
        "outputId": "141e432a-ab2b-4d98-9d42-2c6f43149d2b"
      },
      "source": [
        "LCA_df=input_df.copy()\r\n",
        "LCA_df.shape"
      ],
      "execution_count": 5,
      "outputs": [
        {
          "output_type": "execute_result",
          "data": {
            "text/plain": [
              "(269190, 37)"
            ]
          },
          "metadata": {
            "tags": []
          },
          "execution_count": 5
        }
      ]
    },
    {
      "cell_type": "code",
      "metadata": {
        "id": "WxxjTn_dTj9q"
      },
      "source": [
        "#Custom transformer to drop rows based on filter\r\n",
        "class droprows_Transformer(BaseEstimator, TransformerMixin):\r\n",
        "    def __init__(self):\r\n",
        "      self.row_index = None # row index to drop\r\n",
        "      self.inplace=True\r\n",
        "      self.reset_index=True\r\n",
        "\r\n",
        "    def fit( self, X, y=None):\r\n",
        "      return self \r\n",
        "    \r\n",
        "    def transform(self, X, y=None):\r\n",
        "      self.row_index=X[~X.CASE_STATUS.isin(['Certified','Denied'])].index\r\n",
        "      X.drop(index=self.row_index,inplace=self.inplace)\r\n",
        "      if self.reset_index:\r\n",
        "        X.reset_index(inplace=True)#,drop=True\r\n",
        "      return X"
      ],
      "execution_count": 125,
      "outputs": []
    },
    {
      "cell_type": "code",
      "metadata": {
        "id": "n2x-ShLhVB_D"
      },
      "source": [
        "drop_row_index=LCA_df[~LCA_df.CASE_STATUS.isin(['Certified','Denied'])].index"
      ],
      "execution_count": 7,
      "outputs": []
    },
    {
      "cell_type": "code",
      "metadata": {
        "id": "YlvuavyEI3X2"
      },
      "source": [
        "dr=droprows_Transformer(row_index=drop_row_index,inplace=True,reset_index=True)\r\n",
        "dr.transform(LCA_df)"
      ],
      "execution_count": null,
      "outputs": []
    },
    {
      "cell_type": "code",
      "metadata": {
        "id": "gim2Nt4WClDL"
      },
      "source": [
        "#Separate target column\r\n",
        "y=LCA_df.pop('CASE_STATUS')"
      ],
      "execution_count": 9,
      "outputs": []
    },
    {
      "cell_type": "code",
      "metadata": {
        "id": "x3ThgmRAHxDh"
      },
      "source": [
        "class buildfeatures_Transformer(BaseEstimator, TransformerMixin):\r\n",
        "  def __init__(self, input_columns):\r\n",
        "    self.input_columns=input_columns\r\n",
        "\r\n",
        "  def date_diff(self,date1,date2):\r\n",
        "    return date1-date2\r\n",
        "\r\n",
        "  def is_USA(self,country):\r\n",
        "    if country=='UNITED STATES OF AMERICA':\r\n",
        "      USA_YN='Y' \r\n",
        "    else:\r\n",
        "      USA_YN='N'\r\n",
        "    return USA_YN\r\n",
        "\r\n",
        "  def fit(self, X, y=None):\r\n",
        "    return self\r\n",
        "\r\n",
        "  def transform(self, X, y=None):\r\n",
        "    # Processing_Days and Validity_days\r\n",
        "    X['PROCESSING_DAYS']=self.date_diff(X.DECISION_DATE, X.RECEIVED_DATE).dt.days\r\n",
        "    X['VALIDITY_DAYS']=self.date_diff(X.END_DATE, X.BEGIN_DATE).dt.days\r\n",
        "\r\n",
        "    # SOC_Codes\r\n",
        "    X['SOC_CD2']=X.SOC_CODE.str.split(pat='-',n=1,expand=True)[0]\r\n",
        "    X['SOC_CD4']=X.SOC_CODE.str.split(pat='-',n=1,expand=True)[1].str.split(pat='.',n=1,expand=True)[0]\r\n",
        "    X['SOC_CD_ONET']=X.SOC_CODE.str.split(pat='-',n=1,expand=True)[1].str.split(pat='.',n=1,expand=True)[1]\r\n",
        "\r\n",
        "    # USA_YN\r\n",
        "    X['USA_YN']=X.EMPLOYER_COUNTRY.apply(self.is_USA)\r\n",
        "\r\n",
        "    # Employer_Worksite_YN\r\n",
        "    X['EMPLOYER_WORKSITE_YN']='Y'\r\n",
        "    X.loc[X.EMPLOYER_POSTAL_CODE.ne(X.WORKSITE_POSTAL_CODE),'EMPLOYER_WORKSITE_YN']='N'\r\n",
        "\r\n",
        "    # OES_YN\r\n",
        "    X['OES_YN']='Y'\r\n",
        "    X.iloc[X[~X.PW_OTHER_SOURCE.isna()].index,X.columns.get_loc('OES_YN')]='N'\r\n",
        "\r\n",
        "    # SURVEY_YEAR\r\n",
        "    X['SURVEY_YEAR']=pd.to_datetime(X.PW_OES_YEAR.str.split(pat='-',n=1,expand=True)[0]).dt.to_period('Y')\r\n",
        "    PW_other_year=X[X.OES_YN=='N'].PW_OTHER_YEAR\r\n",
        "    #Rename the series and update dataframe with series object\r\n",
        "    PW_other_year.rename(\"SURVEY_YEAR\",inplace=True)\r\n",
        "    X.update(PW_other_year)\r\n",
        "\r\n",
        "    # WAGE_ABOVE_PREVAILING_HR\r\n",
        "    X['WAGE_PER_HR']=X.WAGE_RATE_OF_PAY_FROM\r\n",
        "    #compute for Year\r\n",
        "    X.iloc[X[X.WAGE_UNIT_OF_PAY=='Year'].index,X.columns.get_loc('WAGE_PER_HR')]=X[X.WAGE_UNIT_OF_PAY=='Year'].WAGE_RATE_OF_PAY_FROM/2067\r\n",
        "    #compute for Month\r\n",
        "    X.iloc[X[X.WAGE_UNIT_OF_PAY=='Month'].index,X.columns.get_loc('WAGE_PER_HR')]=X[X.WAGE_UNIT_OF_PAY=='Month'].WAGE_RATE_OF_PAY_FROM/172\r\n",
        "\r\n",
        "    #initialize with WAGE_RATE_OF_PAY_FROM\r\n",
        "    X['PW_WAGE_PER_HR']=X.PREVAILING_WAGE\r\n",
        "    #compute for Year\r\n",
        "    X.iloc[X[X.PW_UNIT_OF_PAY=='Year'].index,X.columns.get_loc('PW_WAGE_PER_HR')]=X[X.PW_UNIT_OF_PAY=='Year'].PREVAILING_WAGE/2067\r\n",
        "    #compute for Month\r\n",
        "    X.iloc[X[X.PW_UNIT_OF_PAY=='Month'].index,X.columns.get_loc('PW_WAGE_PER_HR')]=X[X.PW_UNIT_OF_PAY=='Month'].PREVAILING_WAGE/172\r\n",
        "\r\n",
        "    X['WAGE_ABOVE_PW_HR']=X.WAGE_PER_HR-X.PW_WAGE_PER_HR\r\n",
        "\r\n",
        "    return X"
      ],
      "execution_count": 136,
      "outputs": []
    },
    {
      "cell_type": "code",
      "metadata": {
        "id": "10I2s5AX7PqM"
      },
      "source": [
        "#fe_cols=list(observations_df[(observations_df.preprocess_comment.isin(['Feature engineering'])) & (~observations_df.preprocess_action.isin(['New feature']))].index)\n",
        "fe_cols=read_csv_to_list('https://raw.githubusercontent.com/sharsulkar/H1B_LCA_outcome_prediction/main/data/processed/feature_engineering_columns.csv',header=None,squeeze=True)"
      ],
      "execution_count": 10,
      "outputs": []
    },
    {
      "cell_type": "code",
      "metadata": {
        "id": "gZwXVkfCLs-q"
      },
      "source": [
        "bf=buildfeatures_Transformer(fe_cols)\r\n",
        "fe_df=bf.transform(LCA_df)"
      ],
      "execution_count": null,
      "outputs": []
    },
    {
      "cell_type": "code",
      "metadata": {
        "id": "DQJbgtICTF50"
      },
      "source": [
        "#Custom transformer to drop features for input feature list\r\n",
        "class dropfeatures_Transformer(BaseEstimator, TransformerMixin):\r\n",
        "    def __init__(self, columns, inplace):\r\n",
        "      self.columns = columns # list of categorical columns in input Dataframe\r\n",
        "      self.inplace=True\r\n",
        "\r\n",
        "    def fit( self, X, y=None):\r\n",
        "      return self \r\n",
        "    \r\n",
        "    def transform(self, X, y=None):\r\n",
        "      X.drop(columns=self.columns,inplace=self.inplace)\r\n",
        "      return X"
      ],
      "execution_count": 11,
      "outputs": []
    },
    {
      "cell_type": "code",
      "metadata": {
        "id": "MrkfCXM-7WmY"
      },
      "source": [
        "#drop_cols=set(LCA_df.columns.values)-set(observations_df[observations_df.preprocess_action.isin(['New feature','Use feature as is'])].index.values)\n",
        "drop_cols=read_csv_to_list('https://github.com/sharsulkar/H1B_LCA_outcome_prediction/raw/main/data/processed/drop_columns.csv',header=None,squeeze=True)"
      ],
      "execution_count": 63,
      "outputs": []
    },
    {
      "cell_type": "code",
      "metadata": {
        "id": "yYANjxv0U38l"
      },
      "source": [
        "df=dropfeatures_Transformer(columns=list(drop_cols),inplace=True)\r\n",
        "df.transform(fe_df)"
      ],
      "execution_count": null,
      "outputs": []
    },
    {
      "cell_type": "code",
      "metadata": {
        "id": "yf6YKkdz6hbN"
      },
      "source": [
        "#Custom transformer to compute Random Standard encoding\r\n",
        "#add option to return ordered encoding, whether to include encoding for missing value or not\r\n",
        "class RSE_Transformer(BaseEstimator, TransformerMixin):\r\n",
        "    #Class Constructor\r\n",
        "    def __init__( self, cat_cols, categories=None, RSE=None ):\r\n",
        "        self.cat_cols = cat_cols # list of categorical columns in input Dataframe\r\n",
        "        self.categories = categories # Array of unique non-numeric values in each categorical column\r\n",
        "        self.RSE = RSE # Array of Random Standard encoding for each row in categories\r\n",
        "        \r\n",
        "    #Return self, nothing else to do here\r\n",
        "    def fit( self, X, y=None ):\r\n",
        "      #identify categorical columns\r\n",
        "      #self.cat_cols=list(X.select_dtypes('O').columns)\r\n",
        "      #Get a list of all unique categorical values for each column\r\n",
        "      self.categories = [X[column].unique() for column in X[self.cat_cols]]\r\n",
        "      #replace missing values and append missing value label to each column to handle missing values in test dataset that might not be empty in train dataset\r\n",
        "      for i in range(len(self.categories)):\r\n",
        "        if np.array(self.categories[i].astype(str)!=str(np.nan)).all():\r\n",
        "          self.categories[i]=np.append(self.categories[i],np.nan)\r\n",
        "      #compute RandomStandardEncoding \r\n",
        "      self.RSE=[np.random.normal(0,1,len(self.categories[i])) for i in range(len(self.cat_cols))]\r\n",
        "      return self \r\n",
        "    \r\n",
        "    #Custom transform method we wrote that creates aformentioned features and drops redundant ones \r\n",
        "    def transform(self, X, y=None):\r\n",
        "      for i in range(len(self.cat_cols)):\r\n",
        "        #Temporary measure to handle previously unseen values\r\n",
        "        #replace unseen values with NaN\r\n",
        "        X.loc[X[~X[(str(self.cat_cols[i]))].isin(self.categories[i])].index,(str(self.cat_cols[i]))]=np.NaN\r\n",
        "\r\n",
        "        #replace seen values with encoding\r\n",
        "        X.loc[:,(str(self.cat_cols[i]))].replace(dict(zip(self.categories[i], self.RSE[i])),inplace=True)\r\n",
        "      return X    "
      ],
      "execution_count": 106,
      "outputs": []
    },
    {
      "cell_type": "code",
      "metadata": {
        "id": "R8MFtlbq7Zm9"
      },
      "source": [
        "#cat_cols=observations_df[(observations_df['Categorical class'].isin(['Categorical','Ordinal','Binary'])) & (observations_df.preprocess_action!='Drop column') & (observations_df.preprocess_comment!='Target feature')].index.values\n",
        "cat_cols=read_csv_to_list('https://raw.githubusercontent.com/sharsulkar/H1B_LCA_outcome_prediction/main/data/processed/categorical_columns.csv',header=None,squeeze=True)"
      ],
      "execution_count": 14,
      "outputs": []
    },
    {
      "cell_type": "code",
      "metadata": {
        "id": "4noKmFDk6k4Y"
      },
      "source": [
        "#embed categorical features\r\n",
        "rse=RSE_Transformer(cat_cols)\r\n",
        "rse.fit_transform(fe_df[cat_cols])"
      ],
      "execution_count": null,
      "outputs": []
    },
    {
      "cell_type": "code",
      "metadata": {
        "id": "b2yBkPb87aVc"
      },
      "source": [
        "#num_cols=observations_df[(observations_df['Categorical class']=='Numerical') & (observations_df.preprocess_action!='Drop column')].index.values\n",
        "num_cols=read_csv_to_list('https://raw.githubusercontent.com/sharsulkar/H1B_LCA_outcome_prediction/main/data/processed/numeric_columns.csv',header=None,squeeze=True)"
      ],
      "execution_count": 15,
      "outputs": []
    },
    {
      "cell_type": "code",
      "metadata": {
        "id": "dqQFtVGV6lcE"
      },
      "source": [
        "#scale numerical features\r\n",
        "num_imputer=SimpleImputer(strategy='mean')\r\n",
        "std=StandardScaler()\r\n",
        "X=std.fit_transform(fe_df[num_cols])"
      ],
      "execution_count": null,
      "outputs": []
    },
    {
      "cell_type": "code",
      "metadata": {
        "id": "wjc_8_BB_8pS"
      },
      "source": [
        "LCA_df=LCA_dfcopy.copy()"
      ],
      "execution_count": null,
      "outputs": []
    },
    {
      "cell_type": "code",
      "metadata": {
        "id": "HCKzp4f2pYD4"
      },
      "source": [
        "#Build preprocessing pipeline\r\n",
        "build_feature_pipe=make_pipeline(\r\n",
        "    droprows_Transformer(),\r\n",
        "    buildfeatures_Transformer(fe_cols)\r\n",
        "    )\r\n",
        "\r\n",
        "numerical_preprocess=make_pipeline(\r\n",
        "    SimpleImputer(strategy='mean'),\r\n",
        "    StandardScaler()\r\n",
        ")\r\n",
        "preprocess_pipe=make_column_transformer(\r\n",
        "    (dropfeatures_Transformer(columns=drop_cols,inplace=True),drop_cols),\r\n",
        "    (RSE_Transformer(cat_cols),cat_cols),\r\n",
        "    (numerical_preprocess,num_cols),\r\n",
        "    remainder='passthrough'\r\n",
        ")\r\n",
        "all_preprocess=make_pipeline(\r\n",
        "    preprocess_pipe\r\n",
        ")"
      ],
      "execution_count": 137,
      "outputs": []
    },
    {
      "cell_type": "code",
      "metadata": {
        "id": "wOHgZRlVd_LU"
      },
      "source": [
        "#apply pipeline\r\n",
        "#feature engineering + drop rows\r\n",
        "fe_df=build_feature_pipe.fit_transform(LCA_df)\r\n",
        "#Separate target column - add conditions to apply only on training dataset\r\n",
        "y=fe_df.pop('CASE_STATUS')\r\n",
        "#drop columns + encoding\r\n",
        "X=all_preprocess.fit_transform(fe_df)"
      ],
      "execution_count": 17,
      "outputs": []
    },
    {
      "cell_type": "code",
      "metadata": {
        "id": "GatR8VhbM4E_"
      },
      "source": [
        "fe_df_test.head()"
      ],
      "execution_count": null,
      "outputs": []
    },
    {
      "cell_type": "code",
      "metadata": {
        "id": "ycqo8PYXpcyI"
      },
      "source": [
        "#save transformed dataset and target\r\n",
        "final_cols=['VISA_CLASS', 'SOC_TITLE', 'FULL_TIME_POSITION',\r\n",
        "       'TOTAL_WORKER_POSITIONS', 'NEW_EMPLOYMENT', 'CONTINUED_EMPLOYMENT',\r\n",
        "       'CHANGE_PREVIOUS_EMPLOYMENT', 'NEW_CONCURRENT_EMPLOYMENT',\r\n",
        "       'CHANGE_EMPLOYER', 'AMENDED_PETITION', 'EMPLOYER_NAME', 'NAICS_CODE',\r\n",
        "       'AGENT_REPRESENTING_EMPLOYER', 'WORKSITE_WORKERS', 'SECONDARY_ENTITY',\r\n",
        "       'PW_WAGE_LEVEL', 'TOTAL_WORKSITE_LOCATIONS', 'AGREE_TO_LC_STATEMENT',\r\n",
        "       'H-1B_DEPENDENT', 'WILLFUL_VIOLATOR', 'PUBLIC_DISCLOSURE',\r\n",
        "       'PROCESSING_DAYS', 'VALIDITY_DAYS', 'SOC_CD2', 'SOC_CD4', 'SOC_CD_ONET',\r\n",
        "       'USA_YN', 'EMPLOYER_WORKSITE_YN', 'OES_YN', 'SURVEY_YEAR',\r\n",
        "       'WAGE_ABOVE_PW_HR']\r\n",
        "pd.DataFrame(X,columns=final_cols).to_csv('/content/drive/MyDrive/Datasets/LCA_train_q1q2processed.csv')\r\n",
        "pd.DataFrame(y,columns=['CASE_STATUS']).to_csv('/content/drive/MyDrive/Datasets/LCA_train_q1q2_expected.csv')"
      ],
      "execution_count": 22,
      "outputs": []
    },
    {
      "cell_type": "code",
      "metadata": {
        "id": "1abWSPwamx5e"
      },
      "source": [
        "from pickle import dump, load"
      ],
      "execution_count": 23,
      "outputs": []
    },
    {
      "cell_type": "code",
      "metadata": {
        "id": "83m194LNpml7"
      },
      "source": [
        "#save pipeline\r\n",
        "#reference - https://machinelearningmastery.com/how-to-save-and-load-models-and-data-preparation-in-scikit-learn-for-later-use/\r\n",
        "dump(all_preprocess,open('/content/drive/MyDrive/preprocess_pipe.pkl','wb'))\r\n",
        "#all_preprocess=load(open('/content/drive/MyDrive/preprocess_pipe.pkl','rb'))"
      ],
      "execution_count": 24,
      "outputs": []
    },
    {
      "cell_type": "code",
      "metadata": {
        "id": "sFnuEPLshQHZ"
      },
      "source": [
        "test_df=pd.read_excel('/content/drive/MyDrive/Datasets/H1B_LCA_prediction/LCA_Disclosure_Data_FY2020_Q3.xlsx',usecols=required_features)"
      ],
      "execution_count": 44,
      "outputs": []
    },
    {
      "cell_type": "code",
      "metadata": {
        "id": "IDFdOGfHk7uA"
      },
      "source": [
        "test_df_copy=test_df.copy()"
      ],
      "execution_count": 45,
      "outputs": []
    },
    {
      "cell_type": "code",
      "metadata": {
        "id": "VbPW6WD1lNOB"
      },
      "source": [
        "test_df=test_df_copy.copy()"
      ],
      "execution_count": 138,
      "outputs": []
    },
    {
      "cell_type": "code",
      "metadata": {
        "id": "u2Cq8H61oLJZ"
      },
      "source": [
        "#If the training pipeline needs to be reloaded\r\n",
        "#all_preprocess=load(open('/content/drive/MyDrive/preprocess_pipe.pkl','rb'))"
      ],
      "execution_count": 143,
      "outputs": []
    },
    {
      "cell_type": "code",
      "metadata": {
        "id": "LRxs70ug5npR"
      },
      "source": [
        "fe_df_test=build_feature_pipe.transform(test_df)\r\n",
        "y_test=fe_df_test.pop('CASE_STATUS')\r\n",
        "X_test=all_preprocess.transform(fe_df_test)"
      ],
      "execution_count": 139,
      "outputs": []
    },
    {
      "cell_type": "code",
      "metadata": {
        "id": "QuvA_hCSrvC1"
      },
      "source": [
        "#save transformed dataset and target\r\n",
        "final_cols=['VISA_CLASS', 'SOC_TITLE', 'FULL_TIME_POSITION',\r\n",
        "       'TOTAL_WORKER_POSITIONS', 'NEW_EMPLOYMENT', 'CONTINUED_EMPLOYMENT',\r\n",
        "       'CHANGE_PREVIOUS_EMPLOYMENT', 'NEW_CONCURRENT_EMPLOYMENT',\r\n",
        "       'CHANGE_EMPLOYER', 'AMENDED_PETITION', 'EMPLOYER_NAME', 'NAICS_CODE',\r\n",
        "       'AGENT_REPRESENTING_EMPLOYER', 'WORKSITE_WORKERS', 'SECONDARY_ENTITY',\r\n",
        "       'PW_WAGE_LEVEL', 'TOTAL_WORKSITE_LOCATIONS', 'AGREE_TO_LC_STATEMENT',\r\n",
        "       'H-1B_DEPENDENT', 'WILLFUL_VIOLATOR', 'PUBLIC_DISCLOSURE',\r\n",
        "       'PROCESSING_DAYS', 'VALIDITY_DAYS', 'SOC_CD2', 'SOC_CD4', 'SOC_CD_ONET',\r\n",
        "       'USA_YN', 'EMPLOYER_WORKSITE_YN', 'OES_YN', 'SURVEY_YEAR',\r\n",
        "       'WAGE_ABOVE_PW_HR']\r\n",
        "pd.DataFrame(X_test,columns=final_cols).to_csv('/content/drive/MyDrive/Datasets/LCA_test_q3processed.csv')\r\n",
        "pd.DataFrame(y_test,columns=['CASE_STATUS']).to_csv('/content/drive/MyDrive/Datasets/LCA_test_q3_expected.csv')"
      ],
      "execution_count": 148,
      "outputs": []
    }
  ]
}