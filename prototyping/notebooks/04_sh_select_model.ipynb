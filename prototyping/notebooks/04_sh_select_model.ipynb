{
  "nbformat": 4,
  "nbformat_minor": 0,
  "metadata": {
    "colab": {
      "name": "04_sh_select_model.ipynb",
      "provenance": [],
      "collapsed_sections": [],
      "mount_file_id": "1Xfe-WqHhAQMKotkcEVrkedkt0UaRQaTt",
      "authorship_tag": "ABX9TyNaC1ZxTEvlQmgEvlohL786",
      "include_colab_link": true
    },
    "kernelspec": {
      "name": "python3",
      "display_name": "Python 3"
    }
  },
  "cells": [
    {
      "cell_type": "markdown",
      "metadata": {
        "id": "view-in-github",
        "colab_type": "text"
      },
      "source": [
        "<a href=\"https://colab.research.google.com/github/sharsulkar/H1B_LCA_outcome_prediction/blob/main/prototyping/notebooks/04_sh_select_model.ipynb\" target=\"_parent\"><img src=\"https://colab.research.google.com/assets/colab-badge.svg\" alt=\"Open In Colab\"/></a>"
      ]
    },
    {
      "cell_type": "markdown",
      "metadata": {
        "id": "PibDVxcD8RoL"
      },
      "source": [
        "## Model selection and HyperParameter tuning  \n",
        "In this notebook, a ML model will be selected based on its performance on validation and test dataset and it will be tuned further to get the best performance.  \n"
      ]
    },
    {
      "cell_type": "code",
      "metadata": {
        "id": "0mJ02Fc1dZxp"
      },
      "source": [
        "#import required libraries\r\n",
        "import pandas as pd\r\n",
        "import numpy as np\r\n",
        "np.random.seed(42)\r\n",
        "import random\r\n",
        "from sklearn.metrics import plot_confusion_matrix,confusion_matrix\r\n",
        "import matplotlib.pyplot as plt \r\n",
        "from sklearn.metrics import f1_score\r\n",
        "from sklearn.linear_model import SGDClassifier\r\n",
        "from sklearn.ensemble import AdaBoostClassifier, RandomForestClassifier, IsolationForest\r\n",
        "from sklearn.cluster import KMeans\r\n",
        "from sklearn.svm import OneClassSVM\r\n",
        "from sklearn.svm import SVC\r\n",
        "from sklearn.model_selection import train_test_split\r\n",
        "import time\r\n",
        "%matplotlib inline"
      ],
      "execution_count": 1,
      "outputs": []
    },
    {
      "cell_type": "markdown",
      "metadata": {
        "id": "6Sdu0dvO9CvL"
      },
      "source": [
        "### Source data\n",
        "The preprocessed data is stored in memory for ease of use during prototyping. Load the data into a dataframe."
      ]
    },
    {
      "cell_type": "code",
      "metadata": {
        "colab": {
          "base_uri": "https://localhost:8080/"
        },
        "id": "EFcnfm3JemS_",
        "outputId": "e248e492-0fd8-47b2-b624-115d82d6663f"
      },
      "source": [
        "#import features from saved file \r\n",
        "processed_df=pd.read_csv('/content/drive/MyDrive/Datasets/LCA_train_q1q2processed.csv',index_col=0)\r\n",
        "Y=pd.read_csv('/content/drive/MyDrive/Datasets/LCA_train_q1q2_expected.csv',index_col=0)\r\n",
        "processed_df.shape"
      ],
      "execution_count": 2,
      "outputs": [
        {
          "output_type": "execute_result",
          "data": {
            "text/plain": [
              "(256141, 31)"
            ]
          },
          "metadata": {
            "tags": []
          },
          "execution_count": 2
        }
      ]
    },
    {
      "cell_type": "code",
      "metadata": {
        "id": "lCJoFd4jnukv"
      },
      "source": [
        "#Add the target column back to processed_df as it will be used in generate_train_val_batches function\r\n",
        "Y.replace(['Certified','Denied'],[0,1],inplace=True)\r\n",
        "processed_df['CASE_STATUS']=Y"
      ],
      "execution_count": 3,
      "outputs": []
    },
    {
      "cell_type": "code",
      "metadata": {
        "colab": {
          "base_uri": "https://localhost:8080/"
        },
        "id": "IQtTMMwGThGw",
        "outputId": "05b69490-0101-42c3-c5d3-3a325564e39a"
      },
      "source": [
        "#check that the output class has expected value\n",
        "Y.groupby('CASE_STATUS').size()"
      ],
      "execution_count": 4,
      "outputs": [
        {
          "output_type": "execute_result",
          "data": {
            "text/plain": [
              "CASE_STATUS\n",
              "0    254227\n",
              "1      1914\n",
              "dtype: int64"
            ]
          },
          "metadata": {
            "tags": []
          },
          "execution_count": 4
        }
      ]
    },
    {
      "cell_type": "markdown",
      "metadata": {
        "id": "GrBLrO7S9rBk"
      },
      "source": [
        "### Model Training  \n",
        "This problem can be solved using mutiple approaches, each of which will be tested below. The approaches and the models used are as below -  \n",
        "1. As this is a binary classification problem for which linear classifiers like SVM and Logistic classifier can be used.  \n",
        "2. The dataset is highly unbalanced in favor of class 0 (Class='Confirmed') with less than 1% of data available for class 1 (Class='Denied'). So this can be solved as a Anomaly detection problem. Isolation forest and one class SVM models can be used.\n",
        "3. This can be considered as a clustering problem for which Kmeans can be used.\n",
        "4. Tree based algorithms work well for classification problems and to handle data with this complexity, Random Forest and AdaBoost Classifiers can be used.  \n",
        "5. Non-linear SVM classifiers with rbf, poly and sigmoid kernels.  \n",
        "\n",
        "In addition to this, below approaches as used for training these models -  \n",
        "1. Batch training with equal class distribution - All minority class samples (class 1) are available for training and an equal number of samples are chosen at random from the majority class (Class 0) for each iteration. The models are trained for multiple iterations using such dataset.  \n",
        "2. Training with full unbalanced dataset.  "
      ]
    },
    {
      "cell_type": "code",
      "metadata": {
        "id": "rFyORiyHj9WP"
      },
      "source": [
        "def generate_train_val_batches(df,class_0_index,class_1_index,class_count,batch_size,val_size):\r\n",
        "  #Generate batches to output training and val data \r\n",
        "  #randomly select indexes of batch size/class_count from the index collection for the entire dataset\r\n",
        "  idx_0=random.sample(set(class_0_index.values),int(batch_size/class_count)) \r\n",
        "  idx_1=random.sample(set(class_1_index.values),int(batch_size/class_count))\r\n",
        "\r\n",
        "  #split the indexes into train and val datasets within the selected batch\r\n",
        "  split_value=int((batch_size*val_size)/class_count)\r\n",
        "  idx_train=idx_0[split_value:]+idx_1[split_value:]\r\n",
        "  idx_val=idx_0[:split_value]+idx_1[:split_value]\r\n",
        "\r\n",
        "  #Generate the train and val datasets using the indexes selected in previous step\r\n",
        "  X_train=df.loc[idx_train]\r\n",
        "  X_val=df.loc[idx_val].reset_index(drop=True)\r\n",
        "  y_val=X_val.pop('CASE_STATUS').astype(int)\r\n",
        "  #https://stackoverflow.com/questions/29576430/shuffle-dataframe-rows\r\n",
        "  X_train=X_train.sample(frac=1).reset_index(drop=True)\r\n",
        "  y_train=X_train.pop('CASE_STATUS').astype(int)\r\n",
        "\r\n",
        "  return X_train, y_train, X_val, y_val"
      ],
      "execution_count": 5,
      "outputs": []
    },
    {
      "cell_type": "markdown",
      "metadata": {
        "id": "k0K0KaOcAwc0"
      },
      "source": [
        "Split the preprocessed data into training and validation set to prevent data leakage during batch training. This will also ensure that all approaches that are being tested for model selection are validated against the same validation dataset."
      ]
    },
    {
      "cell_type": "code",
      "metadata": {
        "id": "SHMFnsQdYlrj"
      },
      "source": [
        "#create train and validation set\n",
        "train_df,val_df=train_test_split(processed_df,test_size=0.1,stratify=processed_df['CASE_STATUS'])\n",
        "train_df.reset_index(inplace=True, drop=True)\n",
        "val_df.reset_index(inplace=True, drop=True)\n",
        "y_val=val_df.pop('CASE_STATUS')\n",
        "#y_val.shape"
      ],
      "execution_count": 6,
      "outputs": []
    },
    {
      "cell_type": "code",
      "metadata": {
        "id": "dDGTO4eyirIQ",
        "colab": {
          "base_uri": "https://localhost:8080/"
        },
        "outputId": "5af29316-7a84-4fda-ee27-eed2d4dca81b"
      },
      "source": [
        "#collection of indexes for both classes from the entire training dataset\r\n",
        "class_0_index=train_df[train_df.CASE_STATUS==0].index \r\n",
        "class_1_index=train_df[train_df.CASE_STATUS==1].index\r\n",
        "#skewness between classes - class 1 is only 0.7% of total\r\n",
        "print('Class skew:',class_1_index.shape[0]*100/(class_0_index.shape[0]+class_1_index.shape[0]))"
      ],
      "execution_count": null,
      "outputs": [
        {
          "output_type": "stream",
          "text": [
            "Class skew: 0.7474211151887422\n"
          ],
          "name": "stdout"
        }
      ]
    },
    {
      "cell_type": "markdown",
      "metadata": {
        "id": "eaioIBPSBSXo"
      },
      "source": [
        "#### Initialize models"
      ]
    },
    {
      "cell_type": "code",
      "metadata": {
        "id": "4Deh7S1vAfdx"
      },
      "source": [
        "#linear classifiers\r\n",
        "svc=SGDClassifier(loss='hinge')\r\n",
        "logistic=SGDClassifier(loss='log')\r\n",
        "#tree based\r\n",
        "adaboost=AdaBoostClassifier()\r\n",
        "rfc=RandomForestClassifier()\r\n",
        "#clustering\r\n",
        "kmeans=KMeans(n_clusters=2)\r\n",
        "#anomaly detection\r\n",
        "iforest=IsolationForest(contamination=0.01)\r\n",
        "ocsvm=OneClassSVM(kernel = 'rbf', gamma = 0.001, nu = 0.001)\r\n",
        "#non-linear SVC\r\n",
        "svc_rbf=SVC(kernel='rbf')\r\n",
        "svc_poly=SVC(kernel='poly')\r\n",
        "svc_sigm=SVC(kernel='sigmoid')"
      ],
      "execution_count": null,
      "outputs": []
    },
    {
      "cell_type": "code",
      "metadata": {
        "id": "UgJMU-gSTr_B"
      },
      "source": [
        "model_performance_df=pd.DataFrame(columns=['model_name','training_approach','class0_score','class1_score','processing_time(s)'])"
      ],
      "execution_count": null,
      "outputs": []
    },
    {
      "cell_type": "markdown",
      "metadata": {
        "id": "YZB6mG3RBaSJ"
      },
      "source": [
        "#### Batch training and validation"
      ]
    },
    {
      "cell_type": "code",
      "metadata": {
        "id": "MKEkqS_Oqsdl"
      },
      "source": [
        "#algorithm to create mini batches where each batch has a equal distribution of both classes\r\n",
        "class_count=2 #number of classes to predict\r\n",
        "batch_size=3400 #batch size of train+val dataset\r\n",
        "val_size=0 #validation data % within batch\r\n",
        "\r\n",
        "#loop over \r\n",
        "for model in [svc,logistic,adaboost,rfc,kmeans,iforest,ocsvm,svc_rbf,svc_poly,svc_sigm]:\r\n",
        "  start = time.time()\r\n",
        "  for _ in range(100):\r\n",
        "    X_train, y_train,_,_ = generate_train_val_batches(train_df,class_0_index,class_1_index,class_count,batch_size,val_size)\r\n",
        "  \r\n",
        "    #train classifiers on batches\r\n",
        "    model.fit(X_train,y_train)\r\n",
        "  model_score=f1_score(y_true=y_val,y_pred=model.predict(val_df),average=None)\r\n",
        "  elapsed_time = (time.time() - start)\r\n",
        "  model_performance_df.loc[model_performance_df.shape[0]]=[str(model).split('(')[0],'Batch training, equal class distribution',model_score[0],model_score[1],elapsed_time]\r\n"
      ],
      "execution_count": null,
      "outputs": []
    },
    {
      "cell_type": "markdown",
      "metadata": {
        "id": "d1cN5ZaUBeM7"
      },
      "source": [
        "#### Training and validation on full dataset"
      ]
    },
    {
      "cell_type": "code",
      "metadata": {
        "id": "iSPmYIEO2oCL"
      },
      "source": [
        "#full training dataset\n",
        "X_train=train_df.copy()\n",
        "y_train=X_train.pop('CASE_STATUS')\n",
        "for model in [svc,logistic,adaboost,rfc,kmeans,iforest,ocsvm,svc_rbf,svc_poly,svc_sigm]:\n",
        "  start = time.time()\n",
        "  model.fit(X_train,y_train)\n",
        "  model_score=f1_score(y_true=y_val,y_pred=model.predict(val_df),average=None)\n",
        "  elapsed_time = (time.time() - start)\n",
        "  model_performance_df.loc[model_performance_df.shape[0]]=[str(model).split('(')[0],'Full training, biased class distribution',model_score[0],model_score[1],elapsed_time]"
      ],
      "execution_count": null,
      "outputs": []
    },
    {
      "cell_type": "markdown",
      "metadata": {
        "id": "WP-tjnp2Bu6O"
      },
      "source": [
        "#### Validation on test dataset"
      ]
    },
    {
      "cell_type": "markdown",
      "metadata": {
        "id": "CMZeg78cBnXZ"
      },
      "source": [
        "Source the test dataset into a dataframe"
      ]
    },
    {
      "cell_type": "code",
      "metadata": {
        "id": "KEYvGsFREvjo",
        "colab": {
          "base_uri": "https://localhost:8080/"
        },
        "outputId": "3fc8cb39-6971-43b9-812b-acecdc966722"
      },
      "source": [
        "X_test=pd.read_csv('/content/drive/MyDrive/Datasets/LCA_test_q3processed.csv',index_col=0)\r\n",
        "y_test=pd.read_csv('/content/drive/MyDrive/Datasets/LCA_test_q3_expected.csv',index_col=0)\r\n",
        "y_test.replace(['Certified','Denied'],[0,1],inplace=True)\r\n",
        "y_test=y_test.astype(int)\r\n",
        "y_test.shape"
      ],
      "execution_count": 7,
      "outputs": [
        {
          "output_type": "execute_result",
          "data": {
            "text/plain": [
              "(182769, 1)"
            ]
          },
          "metadata": {
            "tags": []
          },
          "execution_count": 7
        }
      ]
    },
    {
      "cell_type": "code",
      "metadata": {
        "id": "z5Gkq1Ez5BZY"
      },
      "source": [
        "for model in [svc,logistic,adaboost,rfc,kmeans,iforest,ocsvm,svc_rbf,svc_poly,svc_sigm]:\n",
        "  start = time.time()\n",
        "  model_score=f1_score(y_true=y_test,y_pred=model.predict(X_test),average=None)\n",
        "  elapsed_time = (time.time() - start)\n",
        "  model_performance_df.loc[model_performance_df.shape[0]]=[str(model).split('(')[0],'test data',model_score[0],model_score[1],elapsed_time]"
      ],
      "execution_count": null,
      "outputs": []
    },
    {
      "cell_type": "markdown",
      "metadata": {
        "id": "DO-XvH4IB7zT"
      },
      "source": [
        "### Compare model performance "
      ]
    },
    {
      "cell_type": "code",
      "metadata": {
        "colab": {
          "base_uri": "https://localhost:8080/",
          "height": 990
        },
        "id": "qW0f8HiK4Phj",
        "outputId": "9a1d3c12-9206-48de-8e0c-3e4130416fbb"
      },
      "source": [
        "model_performance_df"
      ],
      "execution_count": null,
      "outputs": [
        {
          "output_type": "execute_result",
          "data": {
            "text/html": [
              "<div>\n",
              "<style scoped>\n",
              "    .dataframe tbody tr th:only-of-type {\n",
              "        vertical-align: middle;\n",
              "    }\n",
              "\n",
              "    .dataframe tbody tr th {\n",
              "        vertical-align: top;\n",
              "    }\n",
              "\n",
              "    .dataframe thead th {\n",
              "        text-align: right;\n",
              "    }\n",
              "</style>\n",
              "<table border=\"1\" class=\"dataframe\">\n",
              "  <thead>\n",
              "    <tr style=\"text-align: right;\">\n",
              "      <th></th>\n",
              "      <th>model_name</th>\n",
              "      <th>training_approach</th>\n",
              "      <th>class0_score</th>\n",
              "      <th>class1_score</th>\n",
              "      <th>processing_time(s)</th>\n",
              "    </tr>\n",
              "  </thead>\n",
              "  <tbody>\n",
              "    <tr>\n",
              "      <th>0</th>\n",
              "      <td>SGDClassifier</td>\n",
              "      <td>Batch training, equal class distribution</td>\n",
              "      <td>0.955332</td>\n",
              "      <td>0.142688</td>\n",
              "      <td>8.605592</td>\n",
              "    </tr>\n",
              "    <tr>\n",
              "      <th>1</th>\n",
              "      <td>SGDClassifier</td>\n",
              "      <td>Batch training, equal class distribution</td>\n",
              "      <td>0.959552</td>\n",
              "      <td>0.150344</td>\n",
              "      <td>10.070862</td>\n",
              "    </tr>\n",
              "    <tr>\n",
              "      <th>2</th>\n",
              "      <td>AdaBoostClassifier</td>\n",
              "      <td>Batch training, equal class distribution</td>\n",
              "      <td>0.977796</td>\n",
              "      <td>0.245734</td>\n",
              "      <td>32.521112</td>\n",
              "    </tr>\n",
              "    <tr>\n",
              "      <th>3</th>\n",
              "      <td>RandomForestClassifier</td>\n",
              "      <td>Batch training, equal class distribution</td>\n",
              "      <td>0.982620</td>\n",
              "      <td>0.292921</td>\n",
              "      <td>51.060857</td>\n",
              "    </tr>\n",
              "    <tr>\n",
              "      <th>4</th>\n",
              "      <td>KMeans</td>\n",
              "      <td>Batch training, equal class distribution</td>\n",
              "      <td>0.995608</td>\n",
              "      <td>0.017544</td>\n",
              "      <td>20.759548</td>\n",
              "    </tr>\n",
              "    <tr>\n",
              "      <th>5</th>\n",
              "      <td>IsolationForest</td>\n",
              "      <td>Batch training, equal class distribution</td>\n",
              "      <td>0.000000</td>\n",
              "      <td>0.000000</td>\n",
              "      <td>44.265065</td>\n",
              "    </tr>\n",
              "    <tr>\n",
              "      <th>6</th>\n",
              "      <td>OneClassSVM</td>\n",
              "      <td>Batch training, equal class distribution</td>\n",
              "      <td>0.000000</td>\n",
              "      <td>0.000000</td>\n",
              "      <td>8.535872</td>\n",
              "    </tr>\n",
              "    <tr>\n",
              "      <th>7</th>\n",
              "      <td>SVC</td>\n",
              "      <td>Batch training, equal class distribution</td>\n",
              "      <td>0.981563</td>\n",
              "      <td>0.278778</td>\n",
              "      <td>34.235397</td>\n",
              "    </tr>\n",
              "    <tr>\n",
              "      <th>8</th>\n",
              "      <td>SVC</td>\n",
              "      <td>Batch training, equal class distribution</td>\n",
              "      <td>0.986901</td>\n",
              "      <td>0.340681</td>\n",
              "      <td>29.194206</td>\n",
              "    </tr>\n",
              "    <tr>\n",
              "      <th>9</th>\n",
              "      <td>SVC</td>\n",
              "      <td>Batch training, equal class distribution</td>\n",
              "      <td>0.961233</td>\n",
              "      <td>0.154120</td>\n",
              "      <td>32.291124</td>\n",
              "    </tr>\n",
              "    <tr>\n",
              "      <th>10</th>\n",
              "      <td>SGDClassifier</td>\n",
              "      <td>Full training, biased class distribution</td>\n",
              "      <td>0.998212</td>\n",
              "      <td>0.725076</td>\n",
              "      <td>0.652795</td>\n",
              "    </tr>\n",
              "    <tr>\n",
              "      <th>11</th>\n",
              "      <td>SGDClassifier</td>\n",
              "      <td>Full training, biased class distribution</td>\n",
              "      <td>0.998212</td>\n",
              "      <td>0.718266</td>\n",
              "      <td>0.874532</td>\n",
              "    </tr>\n",
              "    <tr>\n",
              "      <th>12</th>\n",
              "      <td>AdaBoostClassifier</td>\n",
              "      <td>Full training, biased class distribution</td>\n",
              "      <td>0.998389</td>\n",
              "      <td>0.757396</td>\n",
              "      <td>13.220195</td>\n",
              "    </tr>\n",
              "    <tr>\n",
              "      <th>13</th>\n",
              "      <td>RandomForestClassifier</td>\n",
              "      <td>Full training, biased class distribution</td>\n",
              "      <td>0.998703</td>\n",
              "      <td>0.802395</td>\n",
              "      <td>34.860263</td>\n",
              "    </tr>\n",
              "    <tr>\n",
              "      <th>14</th>\n",
              "      <td>KMeans</td>\n",
              "      <td>Full training, biased class distribution</td>\n",
              "      <td>0.026774</td>\n",
              "      <td>0.014847</td>\n",
              "      <td>5.061739</td>\n",
              "    </tr>\n",
              "    <tr>\n",
              "      <th>15</th>\n",
              "      <td>IsolationForest</td>\n",
              "      <td>Full training, biased class distribution</td>\n",
              "      <td>0.000000</td>\n",
              "      <td>0.000000</td>\n",
              "      <td>14.462329</td>\n",
              "    </tr>\n",
              "    <tr>\n",
              "      <th>16</th>\n",
              "      <td>OneClassSVM</td>\n",
              "      <td>Full training, biased class distribution</td>\n",
              "      <td>0.000000</td>\n",
              "      <td>0.000000</td>\n",
              "      <td>12.121971</td>\n",
              "    </tr>\n",
              "    <tr>\n",
              "      <th>17</th>\n",
              "      <td>SVC</td>\n",
              "      <td>Full training, biased class distribution</td>\n",
              "      <td>0.998390</td>\n",
              "      <td>0.733766</td>\n",
              "      <td>122.014929</td>\n",
              "    </tr>\n",
              "    <tr>\n",
              "      <th>18</th>\n",
              "      <td>SVC</td>\n",
              "      <td>Full training, biased class distribution</td>\n",
              "      <td>0.998291</td>\n",
              "      <td>0.727273</td>\n",
              "      <td>95.861244</td>\n",
              "    </tr>\n",
              "    <tr>\n",
              "      <th>19</th>\n",
              "      <td>SVC</td>\n",
              "      <td>Full training, biased class distribution</td>\n",
              "      <td>0.994573</td>\n",
              "      <td>0.262032</td>\n",
              "      <td>65.074692</td>\n",
              "    </tr>\n",
              "    <tr>\n",
              "      <th>20</th>\n",
              "      <td>SGDClassifier</td>\n",
              "      <td>test data</td>\n",
              "      <td>0.999390</td>\n",
              "      <td>0.931088</td>\n",
              "      <td>0.153093</td>\n",
              "    </tr>\n",
              "    <tr>\n",
              "      <th>21</th>\n",
              "      <td>SGDClassifier</td>\n",
              "      <td>test data</td>\n",
              "      <td>0.999429</td>\n",
              "      <td>0.934597</td>\n",
              "      <td>0.137401</td>\n",
              "    </tr>\n",
              "    <tr>\n",
              "      <th>22</th>\n",
              "      <td>AdaBoostClassifier</td>\n",
              "      <td>test data</td>\n",
              "      <td>0.999133</td>\n",
              "      <td>0.903325</td>\n",
              "      <td>1.971562</td>\n",
              "    </tr>\n",
              "    <tr>\n",
              "      <th>23</th>\n",
              "      <td>RandomForestClassifier</td>\n",
              "      <td>test data</td>\n",
              "      <td>0.999647</td>\n",
              "      <td>0.960025</td>\n",
              "      <td>2.652262</td>\n",
              "    </tr>\n",
              "    <tr>\n",
              "      <th>24</th>\n",
              "      <td>KMeans</td>\n",
              "      <td>test data</td>\n",
              "      <td>0.014608</td>\n",
              "      <td>0.017440</td>\n",
              "      <td>0.170126</td>\n",
              "    </tr>\n",
              "    <tr>\n",
              "      <th>25</th>\n",
              "      <td>IsolationForest</td>\n",
              "      <td>test data</td>\n",
              "      <td>0.000000</td>\n",
              "      <td>0.000000</td>\n",
              "      <td>7.501630</td>\n",
              "    </tr>\n",
              "    <tr>\n",
              "      <th>26</th>\n",
              "      <td>OneClassSVM</td>\n",
              "      <td>test data</td>\n",
              "      <td>0.000000</td>\n",
              "      <td>0.000000</td>\n",
              "      <td>2.882373</td>\n",
              "    </tr>\n",
              "    <tr>\n",
              "      <th>27</th>\n",
              "      <td>SVC</td>\n",
              "      <td>test data</td>\n",
              "      <td>0.999674</td>\n",
              "      <td>0.962252</td>\n",
              "      <td>32.805568</td>\n",
              "    </tr>\n",
              "    <tr>\n",
              "      <th>28</th>\n",
              "      <td>SVC</td>\n",
              "      <td>test data</td>\n",
              "      <td>0.999490</td>\n",
              "      <td>0.940572</td>\n",
              "      <td>16.295660</td>\n",
              "    </tr>\n",
              "    <tr>\n",
              "      <th>29</th>\n",
              "      <td>SVC</td>\n",
              "      <td>test data</td>\n",
              "      <td>0.991807</td>\n",
              "      <td>0.089012</td>\n",
              "      <td>34.474273</td>\n",
              "    </tr>\n",
              "  </tbody>\n",
              "</table>\n",
              "</div>"
            ],
            "text/plain": [
              "                model_name  ... processing_time(s)\n",
              "0            SGDClassifier  ...           8.605592\n",
              "1            SGDClassifier  ...          10.070862\n",
              "2       AdaBoostClassifier  ...          32.521112\n",
              "3   RandomForestClassifier  ...          51.060857\n",
              "4                   KMeans  ...          20.759548\n",
              "5          IsolationForest  ...          44.265065\n",
              "6              OneClassSVM  ...           8.535872\n",
              "7                      SVC  ...          34.235397\n",
              "8                      SVC  ...          29.194206\n",
              "9                      SVC  ...          32.291124\n",
              "10           SGDClassifier  ...           0.652795\n",
              "11           SGDClassifier  ...           0.874532\n",
              "12      AdaBoostClassifier  ...          13.220195\n",
              "13  RandomForestClassifier  ...          34.860263\n",
              "14                  KMeans  ...           5.061739\n",
              "15         IsolationForest  ...          14.462329\n",
              "16             OneClassSVM  ...          12.121971\n",
              "17                     SVC  ...         122.014929\n",
              "18                     SVC  ...          95.861244\n",
              "19                     SVC  ...          65.074692\n",
              "20           SGDClassifier  ...           0.153093\n",
              "21           SGDClassifier  ...           0.137401\n",
              "22      AdaBoostClassifier  ...           1.971562\n",
              "23  RandomForestClassifier  ...           2.652262\n",
              "24                  KMeans  ...           0.170126\n",
              "25         IsolationForest  ...           7.501630\n",
              "26             OneClassSVM  ...           2.882373\n",
              "27                     SVC  ...          32.805568\n",
              "28                     SVC  ...          16.295660\n",
              "29                     SVC  ...          34.474273\n",
              "\n",
              "[30 rows x 5 columns]"
            ]
          },
          "metadata": {
            "tags": []
          },
          "execution_count": 38
        }
      ]
    },
    {
      "cell_type": "code",
      "metadata": {
        "id": "uDmUrx45Mp-e"
      },
      "source": [
        "#save to html for use in documentation\n",
        "model_performance_df.to_html('/content/drive/MyDrive/model_performance_table.html')"
      ],
      "execution_count": null,
      "outputs": []
    },
    {
      "cell_type": "markdown",
      "metadata": {
        "id": "4FVfwkRwCJNr"
      },
      "source": [
        "### Identify and plot feature importance"
      ]
    },
    {
      "cell_type": "code",
      "metadata": {
        "id": "dEuw25aU-9dZ"
      },
      "source": [
        "def read_csv_to_list(filepath,header=None,squeeze=True):\n",
        "  return list(pd.read_csv(filepath,header=None,squeeze=True))"
      ],
      "execution_count": null,
      "outputs": []
    },
    {
      "cell_type": "code",
      "metadata": {
        "id": "l-dQFPcH-2Vt"
      },
      "source": [
        "cat_cols=read_csv_to_list('https://raw.githubusercontent.com/sharsulkar/H1B_LCA_outcome_prediction/main/data/processed/categorical_columns.csv',header=None,squeeze=True)\n",
        "num_cols=read_csv_to_list('https://raw.githubusercontent.com/sharsulkar/H1B_LCA_outcome_prediction/main/data/processed/numeric_columns.csv',header=None,squeeze=True)"
      ],
      "execution_count": null,
      "outputs": []
    },
    {
      "cell_type": "code",
      "metadata": {
        "id": "Uj3gen228J0G",
        "colab": {
          "base_uri": "https://localhost:8080/",
          "height": 1000
        },
        "outputId": "1106c36b-c4a2-44a1-bb7a-52e25e487769"
      },
      "source": [
        "#for model in [svc,logistic,rfc,adaboost]:\n",
        "j=0\n",
        "fig = plt.figure(figsize=(30,18))\n",
        "fig.suptitle('Feature Importance of trained models', fontsize=20, fontweight='bold')\n",
        "for model in [svc,logistic,rfc,adaboost,svc_rbf,svc_poly]:\n",
        "#for model in [svc_rbf,svc_poly]:\n",
        "  j+=1\n",
        "  feature_importance_df=pd.DataFrame(columns=['model','feature','metrics','baseline_diff'])\n",
        "  #print(str(model).split('(')[0])\n",
        "  baseline=f1_score(y_true=y_test,y_pred=model.predict(X_test),average=None)\n",
        "  #print('baseline: ',baseline)\n",
        "  for i in range(X_test.shape[1]):\n",
        "    hide_feature_map=np.ones((X_test.shape[1]))\n",
        "    hide_feature_map[i]=0\n",
        "    #print(hide_feature_map)\n",
        "    #print(X_test[0:3])\n",
        "    #print(hide_feature_map*X_test[0:3])\n",
        "    X_hide_map=hide_feature_map*X_test\n",
        "    y_pred=model.predict(X_hide_map)\n",
        "    feature_score=f1_score(y_true=y_test,y_pred=y_pred,average=None)\n",
        "    feature_importance_df.loc[feature_importance_df.shape[0]]=[str(model).split('(')[0],np.append(cat_cols,num_cols)[i],np.round(feature_score,3),np.round((feature_score-baseline),3)]\n",
        "    #print('Feature removed: ',np.append(cat_cols,num_cols)[i],', metrics ',f1_score(y_true=y_test,y_pred=y_pred,average=None))\n",
        "  \n",
        "  class1_diff=np.array([feature_importance_df.baseline_diff.values[i][1] for i in range(X_test.shape[1])])\n",
        "  class1_metric=np.array([feature_importance_df.metrics.values[i][1] for i in range(X_test.shape[1])])\n",
        "  #fig = plt.figure(figsize=(15,10))\n",
        "  ax = plt.subplot(2,3,j)\n",
        "  ax.set_title('Model-' + str(model).split('(')[0] + ', Feature importance - Class=\\'Denied\\'',fontweight='bold')\n",
        "  ax.grid(True,axis='y')\n",
        "  ax.set(xlim=(-1, 1))\n",
        "  ax.set_xticklabels(['0','','','',str(round(baseline[1],3))])\n",
        "  ax.set_xlabel('F1-score with annotated baseline for class=\\'Denied\\' ')\n",
        "  ax.axvline(x=0)\n",
        "  ax.barh(width=class1_diff,y=feature_importance_df.feature.values,color=['g' if class1_diff[i] > 0 else 'r' for i in range(len(class1_diff))])\n",
        "  if j%2==0:\n",
        "    plt.setp(ax, yticklabels=[])\n",
        "\n",
        "  #annotate only if metric value changes overthreshold\n",
        "  for i in range(len(class1_diff)) :\n",
        "    if np.abs(class1_diff[i])>0.2:\n",
        "      ax.annotate(str(class1_metric[i]), xy=(class1_diff[i], feature_importance_df.feature.values[i]),xytext=(class1_diff[i]-0.08, feature_importance_df.feature.values[i]))\n",
        "\n",
        "fig.savefig('/content/drive/MyDrive/H1B_model_importance_plot.png')"
      ],
      "execution_count": null,
      "outputs": [
        {
          "output_type": "display_data",
          "data": {
            "image/png": "[encoded data removed]",
            "text/plain": [
              "<Figure size 1800x1296 with 2 Axes>"
            ]
          },
          "metadata": {
            "tags": [],
            "needs_background": "light"
          }
        }
      ]
    },
    {
      "cell_type": "markdown",
      "metadata": {
        "id": "2pCy5jV0ExnS"
      },
      "source": [
        "### Model Selection\n",
        "Although model performance on test dataset is the key selection criterion, the complexity and processing time for training and prediction are also important when multiple models have similar performance. Accurately modelling the underlying process is also an important factor in model selection.  \n",
        "From the model performance table shown above, following conclusions can be drawn -  \n",
        "1. Training on the entire dataset works much better than training on equi-distributed batches.  \n",
        "2. Linear, non-linear classification models and tree based models have better class 1 F1-score compared to clustering and anomaly detection based models.  \n",
        "3. From the training and prediction time values, we observe that for similar performance, the linear models take less time than non-linear and tree based models.  \n",
        "\n",
        "From the feature importance charts, following conclusions can be drawn -  \n",
        "1. The tree based models, logistic classifier and all non-linear models base their prediction decision only on 1-3 important features, they ignore the information present in other features.  \n",
        "2. The SVC linear model has 6-8 features that it considers important that we actually expect to impact the decision in real life applications. It models the underlying process more accurately than others.  \n",
        "  \n",
        "Given these observations, **Liner SVM classifier implemented using SGDClassifier(loss='hinge') is selected as the predictor.**   "
      ]
    },
    {
      "cell_type": "markdown",
      "metadata": {
        "id": "E3_qaKQECRWH"
      },
      "source": [
        "### Model tuning"
      ]
    },
    {
      "cell_type": "code",
      "metadata": {
        "id": "vpfkls9wAJeR"
      },
      "source": [
        "from sklearn.model_selection import GridSearchCV"
      ],
      "execution_count": 18,
      "outputs": []
    },
    {
      "cell_type": "code",
      "metadata": {
        "id": "sEEUEds2_9D1"
      },
      "source": [
        "svc_hinge=SGDClassifier(loss='hinge',random_state=42,n_jobs=-1)\n",
        "param_grid={'penalty':['l1','l2','elasticnet'],\n",
        "            'alpha':[0.0001,0.001,0.01],\n",
        "            'average':[True,False]}"
      ],
      "execution_count": 13,
      "outputs": []
    },
    {
      "cell_type": "code",
      "metadata": {
        "colab": {
          "base_uri": "https://localhost:8080/"
        },
        "id": "T1Ytb2zr3yeJ",
        "outputId": "74821060-da0c-4774-9ecd-8e12c0f51b0b"
      },
      "source": [
        "#full training dataset\n",
        "X_train=train_df.copy()\n",
        "y_train=X_train.pop('CASE_STATUS')\n",
        "grid=GridSearchCV(estimator=svc_hinge,param_grid=param_grid,scoring='f1_weighted')\n",
        "grid.fit(X_train,y_train)\n",
        "print(f1_score(y_true=y_test,y_pred=grid.predict(X_test),average=None))"
      ],
      "execution_count": 22,
      "outputs": [
        {
          "output_type": "stream",
          "text": [
            "[0.99944539 0.93559756]\n"
          ],
          "name": "stdout"
        }
      ]
    },
    {
      "cell_type": "code",
      "metadata": {
        "colab": {
          "base_uri": "https://localhost:8080/"
        },
        "id": "Yme6LfQTCRfm",
        "outputId": "1837e2dc-e63a-491c-e270-93346c970827"
      },
      "source": [
        "print(pd.DataFrame(grid.cv_results_))\n",
        "print(grid.best_estimator_)"
      ],
      "execution_count": 25,
      "outputs": [
        {
          "output_type": "stream",
          "text": [
            "    mean_fit_time  std_fit_time  ...  std_test_score  rank_test_score\n",
            "0        1.567751      0.402162  ...        0.005858               12\n",
            "1        0.645491      0.096580  ...        0.000143                3\n",
            "2        0.748906      0.077368  ...        0.001664               14\n",
            "3        1.311537      0.172837  ...        0.000833                7\n",
            "4        0.538845      0.090341  ...        0.000118                1\n",
            "5        0.662531      0.084422  ...        0.000178                2\n",
            "6        0.799773      0.173639  ...        0.006721               15\n",
            "7        0.465181      0.005805  ...        0.000239                4\n",
            "8        0.630750      0.075317  ...        0.001540               17\n",
            "9        0.705776      0.105412  ...        0.001196               11\n",
            "10       0.408147      0.004050  ...        0.000256                5\n",
            "11       0.549249      0.061507  ...        0.000280                6\n",
            "12       0.595432      0.121455  ...        0.217481               18\n",
            "13       0.507186      0.093301  ...        0.000314                8\n",
            "14       0.643948      0.090235  ...        0.001667               16\n",
            "15       0.593360      0.117611  ...        0.000667               13\n",
            "16       0.414944      0.041612  ...        0.000247                9\n",
            "17       0.499159      0.052972  ...        0.000830               10\n",
            "\n",
            "[18 rows x 16 columns]\n",
            "SGDClassifier(alpha=0.0001, average=False, class_weight=None,\n",
            "              early_stopping=False, epsilon=0.1, eta0=0.0, fit_intercept=True,\n",
            "              l1_ratio=0.15, learning_rate='optimal', loss='hinge',\n",
            "              max_iter=1000, n_iter_no_change=5, n_jobs=-1, penalty='l2',\n",
            "              power_t=0.5, random_state=42, shuffle=True, tol=0.001,\n",
            "              validation_fraction=0.1, verbose=0, warm_start=False)\n"
          ],
          "name": "stdout"
        }
      ]
    },
    {
      "cell_type": "markdown",
      "metadata": {
        "id": "rNkIVwf1EO1S"
      },
      "source": [
        "To find the best hyperparameters for our selected linear SVM classifier, grid search is performed for hyperparamters - penalty, alpha and average. **The model with penalty='l2', alpha='0.0001' and average='False' gives the best score and this will be used for this application.**  "
      ]
    },
    {
      "cell_type": "markdown",
      "metadata": {
        "id": "Gzs1KxNsFqEq"
      },
      "source": [
        "### Other observations  \n",
        "From the feature importance chart for linear SVC model, it can be observed that only a handful of features are important for classification whihc means that non-important features can be removed from the input without adversly impacting the model performance. Working with a subset of features will help reduce model size, training and prediction time."
      ]
    }
  ]
}