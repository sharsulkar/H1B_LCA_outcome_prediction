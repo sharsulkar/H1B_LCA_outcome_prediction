{
  "nbformat": 4,
  "nbformat_minor": 0,
  "metadata": {
    "colab": {
      "name": "06_sh_evaluate_model.ipynb",
      "provenance": [],
      "collapsed_sections": [],
      "mount_file_id": "1cCrMUU879Oup4a598VTeu5gOkYye6RBT",
      "authorship_tag": "ABX9TyNfoaLNkaaLieCTNHb2I9Qo",
      "include_colab_link": true
    },
    "kernelspec": {
      "display_name": "Python 3",
      "name": "python3"
    }
  },
  "cells": [
    {
      "cell_type": "markdown",
      "metadata": {
        "id": "view-in-github",
        "colab_type": "text"
      },
      "source": [
        "<a href=\"https://colab.research.google.com/github/sharsulkar/H1B_LCA_outcome_prediction/blob/main/prototyping/notebooks/06_sh_evaluate_model.ipynb\" target=\"_parent\"><img src=\"https://colab.research.google.com/assets/colab-badge.svg\" alt=\"Open In Colab\"/></a>"
      ]
    },
    {
      "cell_type": "markdown",
      "metadata": {
        "id": "4khI9rigVBIE"
      },
      "source": [
        "## Evaluate model \n",
        "FY21 Q1 dataset will be used as a holdout test data to evaluate the performance of model trained on FY20Q1-Q4 data. The model has not seen this data so performance on this data will give an idea of the usability of this model in real-world application."
      ]
    },
    {
      "cell_type": "markdown",
      "metadata": {
        "id": "3xmbsTRIVe6I"
      },
      "source": [
        "### Import libraries, custom functions and define preprocessing transform classes"
      ]
    },
    {
      "cell_type": "code",
      "metadata": {
        "id": "xx0F9QDqMBDs"
      },
      "source": [
        "import numpy as np\r\n",
        "np.random.seed(42)\r\n",
        "import pandas as pd\r\n",
        "from pickle import dump, load\r\n",
        "from sklearn.metrics import f1_score, confusion_matrix\r\n",
        "from sklearn.base import BaseEstimator, TransformerMixin\r\n",
        "import matplotlib.pyplot as plt"
      ],
      "execution_count": 1,
      "outputs": []
    },
    {
      "cell_type": "code",
      "metadata": {
        "id": "Q2OHXhFZOKaX"
      },
      "source": [
        "#Custom transformer to drop rows based on filter\r\n",
        "class droprows_Transformer(BaseEstimator, TransformerMixin):\r\n",
        "    def __init__(self):\r\n",
        "      self.row_index = None # row index to drop\r\n",
        "      self.inplace=True\r\n",
        "      self.reset_index=True\r\n",
        "\r\n",
        "    def fit( self, X, y=None):\r\n",
        "      return self \r\n",
        "    \r\n",
        "    def transform(self, X, y=None):\r\n",
        "      self.row_index=X[~X.CASE_STATUS.isin(['Certified','Denied'])].index\r\n",
        "      X.drop(index=self.row_index,inplace=self.inplace)\r\n",
        "      if self.reset_index:\r\n",
        "        X.reset_index(inplace=True,drop=True)\r\n",
        "      return X"
      ],
      "execution_count": 2,
      "outputs": []
    },
    {
      "cell_type": "code",
      "metadata": {
        "id": "X7cA4CquOKQF"
      },
      "source": [
        "class buildfeatures_Transformer(BaseEstimator, TransformerMixin):\r\n",
        "  def __init__(self, input_columns):\r\n",
        "    self.input_columns=input_columns\r\n",
        "\r\n",
        "  def date_diff(self,date1,date2):\r\n",
        "    return date1-date2\r\n",
        "\r\n",
        "  def is_USA(self,country):\r\n",
        "    if country=='UNITED STATES OF AMERICA':\r\n",
        "      USA_YN='Y' \r\n",
        "    else:\r\n",
        "      USA_YN='N'\r\n",
        "    return USA_YN\r\n",
        "\r\n",
        "  def fit(self, X, y=None):\r\n",
        "    return self\r\n",
        "\r\n",
        "  def transform(self, X, y=None):\r\n",
        "    # Processing_Days and Validity_days\r\n",
        "    X['PROCESSING_DAYS']=self.date_diff(X.DECISION_DATE, X.RECEIVED_DATE).dt.days\r\n",
        "    X['VALIDITY_DAYS']=self.date_diff(X.END_DATE, X.BEGIN_DATE).dt.days\r\n",
        "\r\n",
        "    # SOC_Codes\r\n",
        "    '''\r\n",
        "    #Removed as it is not an important feature for the current model\r\n",
        "    X['SOC_CD2']=X.SOC_CODE.str.split(pat='-',n=1,expand=True)[0]\r\n",
        "    X['SOC_CD4']=X.SOC_CODE.str.split(pat='-',n=1,expand=True)[1].str.split(pat='.',n=1,expand=True)[0]\r\n",
        "    if X.SOC_CODE.str.split(pat='-',n=1,expand=True)[1].str.split(pat='.',n=1,expand=True).shape[1]==2:\r\n",
        "      X['SOC_CD_ONET']=X.SOC_CODE.str.split(pat='-',n=1,expand=True)[1].str.split(pat='.',n=1,expand=True)[1]\r\n",
        "    else:\r\n",
        "      X['SOC_CD_ONET']='00'\r\n",
        "      '''\r\n",
        "\r\n",
        "    # USA_YN\r\n",
        "    X['USA_YN']=X.EMPLOYER_COUNTRY.apply(self.is_USA)\r\n",
        "\r\n",
        "    # Employer_Worksite_YN\r\n",
        "    X['EMPLOYER_WORKSITE_YN']='Y'\r\n",
        "    X.loc[X.EMPLOYER_POSTAL_CODE.ne(X.WORKSITE_POSTAL_CODE),'EMPLOYER_WORKSITE_YN']='N'\r\n",
        "\r\n",
        "    # OES_YN\r\n",
        "    X['OES_YN']='Y'\r\n",
        "    X.iloc[X[~X.PW_OTHER_SOURCE.isna()].index,X.columns.get_loc('OES_YN')]='N'\r\n",
        "\r\n",
        "    # SURVEY_YEAR\r\n",
        "    X['SURVEY_YEAR']=pd.to_datetime(X.PW_OES_YEAR.str.split(pat='-',n=1,expand=True)[0]).dt.to_period('Y')\r\n",
        "    PW_other_year=X[X.OES_YN=='N'].PW_OTHER_YEAR\r\n",
        "    #Rename the series and update dataframe with series object\r\n",
        "    PW_other_year.rename(\"SURVEY_YEAR\",inplace=True)\r\n",
        "    X.update(PW_other_year)\r\n",
        "\r\n",
        "    # WAGE_ABOVE_PREVAILING_HR\r\n",
        "    X['WAGE_PER_HR']=X.WAGE_RATE_OF_PAY_FROM\r\n",
        "    #compute for Year\r\n",
        "    X.iloc[X[X.WAGE_UNIT_OF_PAY=='Year'].index,X.columns.get_loc('WAGE_PER_HR')]=X[X.WAGE_UNIT_OF_PAY=='Year'].WAGE_RATE_OF_PAY_FROM/2067\r\n",
        "    #compute for Month\r\n",
        "    X.iloc[X[X.WAGE_UNIT_OF_PAY=='Month'].index,X.columns.get_loc('WAGE_PER_HR')]=X[X.WAGE_UNIT_OF_PAY=='Month'].WAGE_RATE_OF_PAY_FROM/172\r\n",
        "\r\n",
        "    #initialize with WAGE_RATE_OF_PAY_FROM\r\n",
        "    X['PW_WAGE_PER_HR']=X.PREVAILING_WAGE\r\n",
        "    #compute for Year\r\n",
        "    X.iloc[X[X.PW_UNIT_OF_PAY=='Year'].index,X.columns.get_loc('PW_WAGE_PER_HR')]=X[X.PW_UNIT_OF_PAY=='Year'].PREVAILING_WAGE/2067\r\n",
        "    #compute for Month\r\n",
        "    X.iloc[X[X.PW_UNIT_OF_PAY=='Month'].index,X.columns.get_loc('PW_WAGE_PER_HR')]=X[X.PW_UNIT_OF_PAY=='Month'].PREVAILING_WAGE/172\r\n",
        "\r\n",
        "    X['WAGE_ABOVE_PW_HR']=X.WAGE_PER_HR-X.PW_WAGE_PER_HR\r\n",
        "\r\n",
        "    return X"
      ],
      "execution_count": 3,
      "outputs": []
    },
    {
      "cell_type": "code",
      "metadata": {
        "id": "ErwBdWIPOAAe"
      },
      "source": [
        "#Custom transformer to drop features for input feature list\r\n",
        "class dropfeatures_Transformer(BaseEstimator, TransformerMixin):\r\n",
        "    def __init__(self, columns, inplace):\r\n",
        "      self.columns = columns # list of categorical columns in input Dataframe\r\n",
        "      self.inplace=True\r\n",
        "\r\n",
        "    def fit( self, X, y=None):\r\n",
        "      return self \r\n",
        "    \r\n",
        "    def transform(self, X, y=None):\r\n",
        "      X.drop(columns=self.columns,inplace=self.inplace)\r\n",
        "      return X"
      ],
      "execution_count": 4,
      "outputs": []
    },
    {
      "cell_type": "code",
      "metadata": {
        "id": "RovSTIjQDH05"
      },
      "source": [
        "#Custom transformer to compute Random Standard encoding for categorical features for incrementaly encoding data\r\n",
        "class RSE_Transformer(BaseEstimator, TransformerMixin):\r\n",
        "    #Class Constructor\r\n",
        "    def __init__( self, cat_cols, categories=None, RSE=None ):\r\n",
        "        self.cat_cols = cat_cols # list of categorical columns in input Dataframe\r\n",
        "        self.categories = None # Array of unique non-numeric values in each categorical column\r\n",
        "        self.RSE = None # Array of Random Standard encoding for each row in categories\r\n",
        "        \r\n",
        "    def fit( self, X, y=None ):\r\n",
        "      #Get a list of all unique categorical values for each column\r\n",
        "      if self.categories is None:\r\n",
        "        self.categories = [X[column].unique() for column in cat_cols]\r\n",
        "\r\n",
        "        #replace missing values and append missing value label to each column to handle missing values in test dataset that might not be empty in train dataset\r\n",
        "        for i in range(len(self.categories)):\r\n",
        "          if np.array(self.categories[i].astype(str)!=str(np.nan)).all():\r\n",
        "            self.categories[i]=np.append(self.categories[i],np.nan)\r\n",
        "\r\n",
        "        #compute RandomStandardEncoding \r\n",
        "        self.RSE=[np.random.normal(0,1,len(self.categories[i])) for i in range(len(self.cat_cols))]\r\n",
        "\r\n",
        "      else:\r\n",
        "        for i in range(len(self.cat_cols)):\r\n",
        "          #append new unique categories to self.categories\r\n",
        "          new_categories=list(set(X[self.cat_cols[i]].unique()).difference(set(self.categories[i])))\r\n",
        "          if new_categories!=[]:\r\n",
        "            #print('not empty') #replace with logging call\r\n",
        "            #print('categories before append',len(categories[i])) #logging call\r\n",
        "            self.categories[i]=np.append(self.categories[i],new_categories) #append new categories to the end\r\n",
        "            new_RSE=np.random.normal(0,1,len(new_categories)) #generate new RSE values\r\n",
        "            #regenrate if overlap found with existing encodings\r\n",
        "            if set(new_RSE).issubset(set(self.RSE[i])): \r\n",
        "              #print('yes') #loggin call\r\n",
        "              new_RSE=np.random.normal(0,1,len(new_categories))\r\n",
        "            \r\n",
        "            self.RSE[i]=np.append(self.RSE[i],new_RSE) #append new RSE values\r\n",
        "          #print('new categories',len(new_categories)) #logging call\r\n",
        "          #print('categories after append',len(categories[i]))\r\n",
        "     \r\n",
        "      return self \r\n",
        "    \r\n",
        "    def transform(self, X, y=None):\r\n",
        "      for i in range(len(self.cat_cols)):\r\n",
        "        #Temporary measure to handle previously unseen values\r\n",
        "        #replace unseen values with NaN\r\n",
        "        X.loc[X[~X[(str(self.cat_cols[i]))].isin(self.categories[i])].index,(str(self.cat_cols[i]))]=np.NaN\r\n",
        "\r\n",
        "        #replace seen values with encoding\r\n",
        "        X.loc[:,(str(self.cat_cols[i]))].replace(dict(zip(self.categories[i], self.RSE[i])),inplace=True)\r\n",
        "      return X    \r\n",
        "\r\n",
        "    def inverse_transform(self,X):\r\n",
        "      for i in range(len(self.cat_cols)):\r\n",
        "        X.loc[:,(str(self.cat_cols[i]))].replace(dict(zip(self.RSE[i], self.categories[i])),inplace=True)\r\n",
        "      return X"
      ],
      "execution_count": 5,
      "outputs": []
    },
    {
      "cell_type": "code",
      "metadata": {
        "id": "Tx7OsDXbDKSZ"
      },
      "source": [
        "#custom transformer for incrementally scaling to standard scale using pooled mean and variance\r\n",
        "class CustomStandardScaler(BaseEstimator, TransformerMixin):\r\n",
        "  def __init__(self,mean=None,var=None,n_samples_seen=None,scale=None):\r\n",
        "    self.mean=None #mean\r\n",
        "    self.var=None\r\n",
        "    self.n_samples_seen=None\r\n",
        "    self.scale=None\r\n",
        "\r\n",
        "  def compute_sample_mean(self,X):\r\n",
        "    return np.mean(X,axis=0)\r\n",
        "\r\n",
        "  def compute_sample_var(self,X):\r\n",
        "    return np.var(X,axis=0)\r\n",
        "\r\n",
        "  def compute_sample_size(self,X):\r\n",
        "    #assuming X is imputed, if there are null values, throw error aksing that X be imputed first\r\n",
        "    return len(X)\r\n",
        "\r\n",
        "  def compute_pooled_mean(self,X):\r\n",
        "    #compute the sample mean and size\r\n",
        "    sample_mean=self.compute_sample_mean(X)\r\n",
        "    sample_count=self.compute_sample_size(X) \r\n",
        "    #compute pool mean\r\n",
        "    pool_mean=(self.mean*self.n_samples_seen + sample_mean*sample_count)/(self.n_samples_seen + sample_count)\r\n",
        "\r\n",
        "    return pool_mean\r\n",
        "\r\n",
        "  def compute_pooled_var(self,X):\r\n",
        "    #compute the sample var and size\r\n",
        "    sample_var=self.compute_sample_var(X)\r\n",
        "    sample_count=self.compute_sample_size(X) \r\n",
        "    #compute pool variance\r\n",
        "    pool_var=(self.var*(self.n_samples_seen - 1) + sample_var*(sample_count - 1))/(self.n_samples_seen + sample_count - 2)\r\n",
        "\r\n",
        "    return pool_var\r\n",
        "\r\n",
        "  def fit(self,X):\r\n",
        "    if self.mean is None:\r\n",
        "      self.mean=self.compute_sample_mean(X)\r\n",
        "    else: \r\n",
        "      self.mean=self.compute_pooled_mean(X)\r\n",
        "    \r\n",
        "    if self.var is None:\r\n",
        "      self.var=self.compute_sample_var(X)\r\n",
        "    else: \r\n",
        "      self.var=self.compute_pooled_var(X)\r\n",
        "\r\n",
        "    if self.n_samples_seen is None:\r\n",
        "      self.n_samples_seen=self.compute_sample_size(X) \r\n",
        "    else: \r\n",
        "      self.n_samples_seen+=self.compute_sample_size(X)\r\n",
        "    return self\r\n",
        "\r\n",
        "  def transform(self,X):\r\n",
        "    return (X-self.mean)/np.sqrt(self.var)\r\n",
        "\r\n",
        "  def inverse_transform(self,X):\r\n",
        "    return X*np.sqrt(self.var) + self.mean\r\n",
        "\r\n"
      ],
      "execution_count": 6,
      "outputs": []
    },
    {
      "cell_type": "code",
      "metadata": {
        "id": "hUjRJf2LOlCm"
      },
      "source": [
        "def read_csv_to_list(filepath,header=None,squeeze=True):\r\n",
        "  return list(pd.read_csv(filepath,header=None,squeeze=True))"
      ],
      "execution_count": 7,
      "outputs": []
    },
    {
      "cell_type": "markdown",
      "metadata": {
        "id": "hFzt5fmoVyGP"
      },
      "source": [
        "### Load the saved pipeline objects and trained model"
      ]
    },
    {
      "cell_type": "code",
      "metadata": {
        "id": "VxB-wUjeM0g_"
      },
      "source": [
        "model=load(open('/content/drive/MyDrive/saved_models/H1B_LCA_prediction/final_batch_train.pkl','rb'))\r\n",
        "all_preprocess=load(open('/content/drive/MyDrive/saved_models/H1B_LCA_prediction/pipeline_batch_train.pkl','rb'))\r\n",
        "build_feature_pipe=load(open('/content/drive/MyDrive/saved_models/H1B_LCA_prediction/build_feature_pipe_batch_train.pkl','rb'))"
      ],
      "execution_count": 8,
      "outputs": []
    },
    {
      "cell_type": "code",
      "metadata": {
        "id": "0y6AgRngYpwy"
      },
      "source": [
        "## Do not execute - this is a one time change that was needed becayse one of the required field name changed from 'H-1B_DEPENDENT' to 'H1B_DEPENDENT' in FY21 Q1 dataset\n",
        "'''\n",
        "required_features=read_csv_to_list('https://raw.githubusercontent.com/sharsulkar/H1B_LCA_outcome_prediction/main/data/processed/required_features.csv',header=None,squeeze=True)\n",
        "required_features_test=required_features\n",
        "required_features_test[-3]='H1B_DEPENDENT'\n",
        "required_features_test\n",
        "\n",
        "data_df=pd.read_excel('/content/drive/MyDrive/Datasets/H1B_LCA_prediction/LCA_Disclosure_Data_FY2021_Q1.xlsx',usecols=required_features_test)\n",
        "\n",
        "#one of the required field name changed from 'H-1B_DEPENDENT' to 'H1B_DEPENDENT'\n",
        "data_df.rename(columns={\"H1B_DEPENDENT\": \"H-1B_DEPENDENT\"},inplace=True)\n",
        "\n",
        "data_df.to_excel('/content/drive/MyDrive/Datasets/H1B_LCA_prediction/LCA_Disclosure_Data_FY2021_Q1_updated.xlsx')\n",
        "'''"
      ],
      "execution_count": null,
      "outputs": []
    },
    {
      "cell_type": "markdown",
      "metadata": {
        "id": "KmWhlUc0WW5h"
      },
      "source": [
        "### Load test data into a DataFrame"
      ]
    },
    {
      "cell_type": "code",
      "metadata": {
        "id": "WRfLWByTpY9t"
      },
      "source": [
        "data_df=pd.read_excel('/content/drive/MyDrive/Datasets/H1B_LCA_prediction/LCA_Disclosure_Data_FY2021_Q1_updated.xlsx')\n",
        "data_dfcopy=data_df.copy()"
      ],
      "execution_count": 9,
      "outputs": []
    },
    {
      "cell_type": "code",
      "metadata": {
        "id": "-D4PxFpD2Sud"
      },
      "source": [
        "data_df=data_dfcopy.copy()"
      ],
      "execution_count": null,
      "outputs": []
    },
    {
      "cell_type": "markdown",
      "metadata": {
        "id": "bRRZKYE3WdN2"
      },
      "source": [
        "### Apply preprocessing pipeline"
      ]
    },
    {
      "cell_type": "code",
      "metadata": {
        "id": "Ua-3iP9k1W0u"
      },
      "source": [
        "fe_df=build_feature_pipe.transform(data_df)"
      ],
      "execution_count": 10,
      "outputs": []
    },
    {
      "cell_type": "code",
      "metadata": {
        "colab": {
          "base_uri": "https://localhost:8080/"
        },
        "id": "OxwKtTeVE4zy",
        "outputId": "b6d70e6b-3b73-4d16-c97b-30dc1ee76a3c"
      },
      "source": [
        "#separate the target variable and encode\r\n",
        "y_test=fe_df.pop('CASE_STATUS')\r\n",
        "y_test.replace(['Certified','Denied'],[0,1],inplace=True)\r\n",
        "np.unique(y_test)"
      ],
      "execution_count": 11,
      "outputs": [
        {
          "output_type": "execute_result",
          "data": {
            "text/plain": [
              "array([0, 1])"
            ]
          },
          "metadata": {
            "tags": []
          },
          "execution_count": 11
        }
      ]
    },
    {
      "cell_type": "code",
      "metadata": {
        "colab": {
          "base_uri": "https://localhost:8080/"
        },
        "id": "aRklH-N8FM8i",
        "outputId": "f4d8f858-8ad5-4e3c-a442-4f8978983e26"
      },
      "source": [
        "#apply remaining preprocess pipeline to the semi processed dataframe\r\n",
        "X_test=all_preprocess.transform(fe_df)\r\n",
        "print(X_test.shape)"
      ],
      "execution_count": 12,
      "outputs": [
        {
          "output_type": "stream",
          "text": [
            "/usr/local/lib/python3.7/dist-packages/sklearn/compose/_column_transformer.py:430: FutureWarning: Given feature/column names or counts do not match the ones for the data given during fit. This will fail from v0.24.\n",
            "  FutureWarning)\n"
          ],
          "name": "stderr"
        },
        {
          "output_type": "stream",
          "text": [
            "(75566, 25)\n"
          ],
          "name": "stdout"
        }
      ]
    },
    {
      "cell_type": "markdown",
      "metadata": {
        "id": "LnTV2tztZ4MK"
      },
      "source": [
        "### Predict outcome and compute model performance metrics"
      ]
    },
    {
      "cell_type": "code",
      "metadata": {
        "colab": {
          "base_uri": "https://localhost:8080/"
        },
        "id": "MV5p3HMIO3fu",
        "outputId": "a5267301-3c0a-4485-c87b-e510dc8a956b"
      },
      "source": [
        "#Predict model on test data and display f1-score and confusion matrix\r\n",
        "y_pred=model.predict(X_test)\r\n",
        "print(f1_score(y_true=y_test,y_pred=y_pred,average=None))\r\n",
        "confusion_matrix(y_true=y_test,y_pred=y_pred)"
      ],
      "execution_count": 13,
      "outputs": [
        {
          "output_type": "stream",
          "text": [
            "[0.99914119 0.86054054]\n"
          ],
          "name": "stdout"
        },
        {
          "output_type": "execute_result",
          "data": {
            "text/plain": [
              "array([[75039,    25],\n",
              "       [  104,   398]])"
            ]
          },
          "metadata": {
            "tags": []
          },
          "execution_count": 13
        }
      ]
    },
    {
      "cell_type": "markdown",
      "metadata": {
        "id": "ovJz3uC_auym"
      },
      "source": [
        "### Plot feature importance and compare with training plot"
      ]
    },
    {
      "cell_type": "code",
      "metadata": {
        "id": "AiqlBkjJfnKl"
      },
      "source": [
        "cat_cols=read_csv_to_list('https://raw.githubusercontent.com/sharsulkar/H1B_LCA_outcome_prediction/main/data/processed/categorical_columns.csv',header=None,squeeze=True)\n",
        "num_cols=read_csv_to_list('https://raw.githubusercontent.com/sharsulkar/H1B_LCA_outcome_prediction/main/data/processed/numeric_columns.csv',header=None,squeeze=True)"
      ],
      "execution_count": 14,
      "outputs": []
    },
    {
      "cell_type": "code",
      "metadata": {
        "id": "aDb4HONRTuQl",
        "colab": {
          "base_uri": "https://localhost:8080/",
          "height": 985
        },
        "outputId": "efd45d0b-7fc6-4bc3-8bdd-1e73d52c2d24"
      },
      "source": [
        "#for model in [svc,logistic,rfc,adaboost]:\n",
        "j=0\n",
        "fig = plt.figure(figsize=(18,15))\n",
        "fig.suptitle('Feature Importance of trained model', fontsize=20, fontweight='bold')\n",
        "model_name=['SVC_linear']\n",
        "for model in [model]:\n",
        "#for model in [svc_rbf,svc_poly]:\n",
        "  j+=1\n",
        "  feature_importance_df=pd.DataFrame(columns=['model','feature','metrics','baseline_diff'])\n",
        "\n",
        "  baseline=f1_score(y_true=y_test,y_pred=model.predict(X_test),average=None)\n",
        "  #print('baseline: ',baseline)\n",
        "  for i in range(X_test.shape[1]):\n",
        "    hide_feature_map=np.ones((X_test.shape[1]))\n",
        "    hide_feature_map[i]=0\n",
        "    X_hide_map=hide_feature_map*X_test\n",
        "    y_pred=model.predict(X_hide_map)\n",
        "    feature_score=f1_score(y_true=y_test,y_pred=y_pred,average=None)\n",
        "    feature_importance_df.loc[feature_importance_df.shape[0]]=[model_name[j-1],np.append(cat_cols,num_cols)[i],np.round(feature_score,3),np.round((feature_score-baseline),3)]\n",
        "    #print('Feature removed: ',np.append(cat_cols,num_cols)[i],', metrics ',f1_score(y_true=y_test,y_pred=y_pred,average=None))\n",
        "  \n",
        "  class1_diff=np.array([feature_importance_df.baseline_diff.values[i][1] for i in range(X_test.shape[1])])\n",
        "  class1_metric=np.array([feature_importance_df.metrics.values[i][1] for i in range(X_test.shape[1])])\n",
        "  #fig = plt.figure(figsize=(15,10))\n",
        "  ax = plt.subplot(1,1,j)\n",
        "  ax.set_title('Model-' + model_name[j-1] + ', Feature importance - Class=\\'Denied\\'',fontweight='bold')\n",
        "  ax.grid(True,axis='y')\n",
        "  ax.set(xlim=(-1, 1))\n",
        "  ax.set_xticklabels(['0','','','',str(round(baseline[1],3))])\n",
        "  ax.set_xlabel('F1-score with annotated baseline for class=\\'Denied\\' ')\n",
        "  ax.axvline(x=0)\n",
        "  ax.barh(width=class1_diff,y=feature_importance_df.feature.values,color=['g' if class1_diff[i] > 0 else 'r' for i in range(len(class1_diff))])\n",
        "  \n",
        "  if j%3==0:\n",
        "    plt.setp(ax, yticklabels=[])\n",
        "\n",
        "  #annotate only if metric value changes overthreshold\n",
        "  for i in range(len(class1_diff)) :\n",
        "    if np.abs(class1_diff[i])>0.2:\n",
        "      ax.annotate(str(class1_metric[i]), xy=(class1_diff[i], feature_importance_df.feature.values[i]),xytext=(class1_diff[i]-0.08, feature_importance_df.feature.values[i]))\n",
        "\n",
        "fig.savefig('/content/drive/MyDrive/feature_importance_testdata.png')"
      ],
      "execution_count": 15,
      "outputs": [
        {
          "output_type": "display_data",
          "data": {
            "image/png": "[encoded data removed]",
            "text/plain": [
              "<Figure size 1296x1080 with 1 Axes>"
            ]
          },
          "metadata": {
            "tags": [],
            "needs_background": "light"
          }
        }
      ]
    }
  ]
}